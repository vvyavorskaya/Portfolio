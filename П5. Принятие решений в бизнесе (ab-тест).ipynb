{
 "cells": [
  {
   "cell_type": "markdown",
   "metadata": {},
   "source": [
    "<div style=\"border:solid Chocolate 2px; padding: 40px\">\n",
    "\n",
    "Валерия, привет, меня зовут Станислав, и я буду проверять твой проект. Предлагаю общаться на «ты», но если это неудобно - дай знать, и мы перейдем на «вы».\n",
    "Это учебный проект и здесь не стоит бояться делать ошибки, я хочу поделиться своим опытом и помочь тебе стать аналитиком данных.\n",
    "Уже выполнена большая работа над проектом, давай сделаем его еще лучше. Ниже ты найдешь мои комментарии - пожалуйста, не перемещай, не изменяй и не удаляй их. Я буду использовать цветовую разметку:\n",
    "\n",
    "<div class=\"alert alert-danger\">\n",
    "<b>Комментарий с замечанием ревьюера:</b> Так выделены самые важные замечания. Как только ты их исправишь проект будет принят. </div>\n",
    "\n",
    "<div class=\"alert alert-warning\">\n",
    "<b>Комментарий с небольшим замечанием или советом ревьюера:</b> Так выделены небольшие замечания или советы. \n",
    "</div>\n",
    "\n",
    "<div class=\"alert alert-success\">\n",
    "<b>Комментарий с комплиментом ревьюера:</b> Так я выделяю все остальные комментарии.</div>\n",
    "\n",
    "Давай работать над проектом в диалоге: если ты что-то меняешь в проекте или отвечаешь на мои комментарии — пиши об этом.\n",
    "Мне будет легче отследить изменения, если ты выделишь свои комментарии:\n",
    "<div class=\"alert alert-info\"> <b>Комментарий студента:</b> Например, вот так.</div>\n",
    "\n",
    "Всё это поможет выполнить повторную проверку твоего проекта оперативнее.\n",
    "</div>\n"
   ]
  },
  {
   "cell_type": "markdown",
   "metadata": {},
   "source": [
    "<div style=\"border:solid Chocolate 2px; padding: 40px\">\n",
    "\n",
    "# Общий вывод ревьюера\n",
    "\n",
    "<div class=\"alert alert-success\">\n",
    "\n",
    "Проделана хорошая аналитическая работа. Код написан чисто, соблюдена структура проекта, графики оформлены корректно и написаны логичные и обоснованные выводы. Есть несколько замечаний, исправь их и проект будет принят.\n",
    "\n",
    "- по ссылкам ниже интересные материалы по А/В тестам\n",
    "  \n",
    "    \n",
    "https://habr.com/ru/company/avito/blog/571094/\n",
    "\n",
    "https://habr.com/ru/company/yandex/blog/476826/\n",
    "\n",
    "https://academy.yandex.ru/journal/kak-provesti-a-b-testirovanie-6-prostykh-shagov\n",
    "\n",
    "https://habr.com/ru/company/yandex/blog/342704/\n",
    "\n",
    "https://r-analytics.blogspot.com/2013/10/blog-post_13.html \n",
    "\n",
    "</div>\n",
    "\n",
    "<div class=\"alert alert-danger\">\n",
    "\n",
    "- добавь, пожалуйста, формулировки гипотез\n",
    "</div>\n"
   ]
  },
  {
   "cell_type": "markdown",
   "metadata": {},
   "source": [
    "<div class=\"alert alert-info\"> <b>Комментарий студента:</b> Привет! Большое спасибо за проверку :) </div>"
   ]
  },
  {
   "cell_type": "markdown",
   "metadata": {},
   "source": [
    "# A/B-тест (аналитик интернет-магазина)"
   ]
  },
  {
   "cell_type": "markdown",
   "metadata": {},
   "source": [
    "**Задачи:**\n",
    "\n",
    "* приоритизировать подготовленные гипотезы;\n",
    "\n",
    "* запустить A/B-тест;\n",
    "\n",
    "* проанализируйте результаты. \n"
   ]
  },
  {
   "cell_type": "markdown",
   "metadata": {},
   "source": [
    "# Часть 1. Приоритизация гипотез\n",
    "\n",
    "* 9 гипотез по увеличению выручки интернет-магазина с указанными параметрами Reach, Impact, Confidence, Effort.\n",
    "\n",
    "**Этапы:**\n",
    "\n",
    "* приоритизация гипотез по ICE (по убыванию приоритета);\n",
    "* приоритизация гипотез по RICE (по убыванию приоритета);\n",
    "* отследить и объяснить изменения.\n",
    "\n",
    "**Данные:**\n",
    "\n",
    "Hypothesis — краткое описание гипотезы;\n",
    "\n",
    "Reach — охват пользователей по 10-балльной шкале;\n",
    "\n",
    "Impact — влияние на пользователей по 10-балльной шкале;\n",
    "\n",
    "Confidence — уверенность в гипотезе по 10-балльной шкале;\n",
    "\n",
    "Efforts — затраты ресурсов на проверку гипотезы по 10-балльной шкале (чем больше значение, тем дороже проверка).\n",
    "\n",
    "# Часть 2. Анализ A/B-теста\n",
    "\n",
    "**Этапы:**\n",
    "\n",
    "* график кумулятивной выручки;\n",
    "* график кумулятивного среднего чека по группам;\n",
    "* график относительного изменения кумулятивного среднего чека группы B к группе A;\n",
    "* график кумулятивного среднего количества заказов на посетителя по группам;\n",
    "* график относительного изменения кумулятивного среднего количества заказов на посетителя группы B к группе A;\n",
    "* точечный график количества заказов по пользователям;\n",
    "* 95-й и 99-й перцентили количества заказов на пользователя;\n",
    "* точечный график стоимостей заказов;\n",
    "* 95-й и 99-й перцентили стоимости заказов;\n",
    "* статистическая значимость различий в среднем количестве заказов на посетителя между группами по «сырым» данным;\n",
    "* статистическая значимость различий в среднем чеке заказа между группами по «сырым» данным;\n",
    "* статистическая значимость различий в среднем количестве заказов на посетителя между группами по «очищенным» данным;\n",
    "* статистическая значимость различий в среднем чеке заказа между группами по «очищенным» данным;\n",
    "* принять решение по результатам теста.\n",
    "\n",
    "**Данные:**\n",
    "\n",
    "* Файл orders:\n",
    "\n",
    "transactionId — идентификатор заказа;\n",
    "\n",
    "visitorId — идентификатор пользователя, совершившего заказ;\n",
    "\n",
    "date — дата, когда был совершён заказ;\n",
    "\n",
    "revenue — выручка заказа;\n",
    "\n",
    "group — группа A/B-теста, в которую попал заказ.\n",
    "_______________________________________________________________________________________________________________\n",
    "\n",
    "* Файл visitors:\n",
    "\n",
    "date — дата;\n",
    "\n",
    "group — группа A/B-теста;\n",
    "\n",
    "visitors — количество пользователей в указанную дату в указанной группе A/B-теста"
   ]
  },
  {
   "cell_type": "markdown",
   "metadata": {},
   "source": [
    "\n",
    "<div class=\"alert alert-success\">\n",
    "<b>Комментарий с комплиментом ревьюера:</b> \n",
    "    \n",
    "Здорово, что описана цель проекта, описаны данные и выделено содержание.\n"
   ]
  },
  {
   "cell_type": "markdown",
   "metadata": {},
   "source": [
    "# Часть 1. Приоритизация гипотез\n",
    "# Загрузка и подготовка данных"
   ]
  },
  {
   "cell_type": "code",
   "execution_count": 1,
   "metadata": {},
   "outputs": [],
   "source": [
    "import pandas as pd\n",
    "import datetime as dt\n",
    "import numpy as np\n",
    "import matplotlib.pyplot as plt\n",
    "import scipy.stats as stats"
   ]
  },
  {
   "cell_type": "code",
   "execution_count": 2,
   "metadata": {
    "scrolled": true
   },
   "outputs": [
    {
     "name": "stdout",
     "output_type": "stream",
     "text": [
      "<class 'pandas.core.frame.DataFrame'>\n",
      "RangeIndex: 9 entries, 0 to 8\n",
      "Data columns (total 5 columns):\n",
      " #   Column      Non-Null Count  Dtype \n",
      "---  ------      --------------  ----- \n",
      " 0   Hypothesis  9 non-null      object\n",
      " 1   Reach       9 non-null      int64 \n",
      " 2   Impact      9 non-null      int64 \n",
      " 3   Confidence  9 non-null      int64 \n",
      " 4   Efforts     9 non-null      int64 \n",
      "dtypes: int64(4), object(1)\n",
      "memory usage: 488.0+ bytes\n"
     ]
    }
   ],
   "source": [
    "# загрузка файла \n",
    "data = pd.read_csv('/datasets/hypothesis.csv', sep=',')\n",
    "data.info()"
   ]
  },
  {
   "cell_type": "code",
   "execution_count": 3,
   "metadata": {},
   "outputs": [],
   "source": [
    "pd.set_option('display.max_colwidth', False)"
   ]
  },
  {
   "cell_type": "markdown",
   "metadata": {},
   "source": [
    "Таблица состоит из 5 колонок и 9 строк, пропусков в данных нет. Формат данных не нарушен."
   ]
  },
  {
   "cell_type": "code",
   "execution_count": 4,
   "metadata": {
    "scrolled": true
   },
   "outputs": [
    {
     "data": {
      "text/html": [
       "<div>\n",
       "<style scoped>\n",
       "    .dataframe tbody tr th:only-of-type {\n",
       "        vertical-align: middle;\n",
       "    }\n",
       "\n",
       "    .dataframe tbody tr th {\n",
       "        vertical-align: top;\n",
       "    }\n",
       "\n",
       "    .dataframe thead th {\n",
       "        text-align: right;\n",
       "    }\n",
       "</style>\n",
       "<table border=\"1\" class=\"dataframe\">\n",
       "  <thead>\n",
       "    <tr style=\"text-align: right;\">\n",
       "      <th></th>\n",
       "      <th>Hypothesis</th>\n",
       "      <th>Reach</th>\n",
       "      <th>Impact</th>\n",
       "      <th>Confidence</th>\n",
       "      <th>Efforts</th>\n",
       "    </tr>\n",
       "  </thead>\n",
       "  <tbody>\n",
       "    <tr>\n",
       "      <th>0</th>\n",
       "      <td>Добавить два новых канала привлечения трафика, что позволит привлекать на 30% больше пользователей</td>\n",
       "      <td>3</td>\n",
       "      <td>10</td>\n",
       "      <td>8</td>\n",
       "      <td>6</td>\n",
       "    </tr>\n",
       "    <tr>\n",
       "      <th>1</th>\n",
       "      <td>Запустить собственную службу доставки, что сократит срок доставки заказов</td>\n",
       "      <td>2</td>\n",
       "      <td>5</td>\n",
       "      <td>4</td>\n",
       "      <td>10</td>\n",
       "    </tr>\n",
       "    <tr>\n",
       "      <th>2</th>\n",
       "      <td>Добавить блоки рекомендаций товаров на сайт интернет магазина, чтобы повысить конверсию и средний чек заказа</td>\n",
       "      <td>8</td>\n",
       "      <td>3</td>\n",
       "      <td>7</td>\n",
       "      <td>3</td>\n",
       "    </tr>\n",
       "    <tr>\n",
       "      <th>3</th>\n",
       "      <td>Изменить структура категорий, что увеличит конверсию, т.к. пользователи быстрее найдут нужный товар</td>\n",
       "      <td>8</td>\n",
       "      <td>3</td>\n",
       "      <td>3</td>\n",
       "      <td>8</td>\n",
       "    </tr>\n",
       "    <tr>\n",
       "      <th>4</th>\n",
       "      <td>Изменить цвет фона главной страницы, чтобы увеличить вовлеченность пользователей</td>\n",
       "      <td>3</td>\n",
       "      <td>1</td>\n",
       "      <td>1</td>\n",
       "      <td>1</td>\n",
       "    </tr>\n",
       "    <tr>\n",
       "      <th>5</th>\n",
       "      <td>Добавить страницу отзывов клиентов о магазине, что позволит увеличить количество заказов</td>\n",
       "      <td>3</td>\n",
       "      <td>2</td>\n",
       "      <td>2</td>\n",
       "      <td>3</td>\n",
       "    </tr>\n",
       "    <tr>\n",
       "      <th>6</th>\n",
       "      <td>Показать на главной странице баннеры с актуальными акциями и распродажами, чтобы увеличить конверсию</td>\n",
       "      <td>5</td>\n",
       "      <td>3</td>\n",
       "      <td>8</td>\n",
       "      <td>3</td>\n",
       "    </tr>\n",
       "    <tr>\n",
       "      <th>7</th>\n",
       "      <td>Добавить форму подписки на все основные страницы, чтобы собрать базу клиентов для email-рассылок</td>\n",
       "      <td>10</td>\n",
       "      <td>7</td>\n",
       "      <td>8</td>\n",
       "      <td>5</td>\n",
       "    </tr>\n",
       "    <tr>\n",
       "      <th>8</th>\n",
       "      <td>Запустить акцию, дающую скидку на товар в день рождения</td>\n",
       "      <td>1</td>\n",
       "      <td>9</td>\n",
       "      <td>9</td>\n",
       "      <td>5</td>\n",
       "    </tr>\n",
       "  </tbody>\n",
       "</table>\n",
       "</div>"
      ],
      "text/plain": [
       "                                                                                                     Hypothesis  \\\n",
       "0  Добавить два новых канала привлечения трафика, что позволит привлекать на 30% больше пользователей             \n",
       "1  Запустить собственную службу доставки, что сократит срок доставки заказов                                      \n",
       "2  Добавить блоки рекомендаций товаров на сайт интернет магазина, чтобы повысить конверсию и средний чек заказа   \n",
       "3  Изменить структура категорий, что увеличит конверсию, т.к. пользователи быстрее найдут нужный товар            \n",
       "4  Изменить цвет фона главной страницы, чтобы увеличить вовлеченность пользователей                               \n",
       "5  Добавить страницу отзывов клиентов о магазине, что позволит увеличить количество заказов                       \n",
       "6  Показать на главной странице баннеры с актуальными акциями и распродажами, чтобы увеличить конверсию           \n",
       "7  Добавить форму подписки на все основные страницы, чтобы собрать базу клиентов для email-рассылок               \n",
       "8  Запустить акцию, дающую скидку на товар в день рождения                                                        \n",
       "\n",
       "   Reach  Impact  Confidence  Efforts  \n",
       "0  3      10      8           6        \n",
       "1  2      5       4           10       \n",
       "2  8      3       7           3        \n",
       "3  8      3       3           8        \n",
       "4  3      1       1           1        \n",
       "5  3      2       2           3        \n",
       "6  5      3       8           3        \n",
       "7  10     7       8           5        \n",
       "8  1      9       9           5        "
      ]
     },
     "execution_count": 4,
     "metadata": {},
     "output_type": "execute_result"
    }
   ],
   "source": [
    "# посмотрим на данные\n",
    "\n",
    "data.head(9)\n"
   ]
  },
  {
   "cell_type": "markdown",
   "metadata": {},
   "source": [
    "<div class=\"alert alert-warning\">\n",
    "<b>Комментарий с советом ревьюера:</b> \n",
    "    \n",
    "Чтобы названия гипотез выводились целиком, используй настройку pd.set_option('display.max_colwidth', False)\n",
    " </div>\n"
   ]
  },
  {
   "cell_type": "markdown",
   "metadata": {},
   "source": [
    "<div class=\"alert alert-info\"> <b>Комментарий студента:</b> сделала </div>\n"
   ]
  },
  {
   "cell_type": "markdown",
   "metadata": {},
   "source": [
    "<div class=\"alert alert-success\">\n",
    "<b>Комментарий с комплиментом ревьюера в2:</b> \n",
    "    \n",
    "Отлично"
   ]
  },
  {
   "cell_type": "code",
   "execution_count": 5,
   "metadata": {},
   "outputs": [],
   "source": [
    "# перевод в нижний регистр\n",
    "data.columns = map(str.lower, data.columns) "
   ]
  },
  {
   "cell_type": "markdown",
   "metadata": {},
   "source": [
    "# Приоритизация по ICE "
   ]
  },
  {
   "cell_type": "code",
   "execution_count": 6,
   "metadata": {
    "scrolled": true
   },
   "outputs": [
    {
     "name": "stdout",
     "output_type": "stream",
     "text": [
      "                                                                                                     hypothesis  \\\n",
      "8  Запустить акцию, дающую скидку на товар в день рождения                                                        \n",
      "0  Добавить два новых канала привлечения трафика, что позволит привлекать на 30% больше пользователей             \n",
      "7  Добавить форму подписки на все основные страницы, чтобы собрать базу клиентов для email-рассылок               \n",
      "6  Показать на главной странице баннеры с актуальными акциями и распродажами, чтобы увеличить конверсию           \n",
      "2  Добавить блоки рекомендаций товаров на сайт интернет магазина, чтобы повысить конверсию и средний чек заказа   \n",
      "1  Запустить собственную службу доставки, что сократит срок доставки заказов                                      \n",
      "5  Добавить страницу отзывов клиентов о магазине, что позволит увеличить количество заказов                       \n",
      "3  Изменить структура категорий, что увеличит конверсию, т.к. пользователи быстрее найдут нужный товар            \n",
      "4  Изменить цвет фона главной страницы, чтобы увеличить вовлеченность пользователей                               \n",
      "\n",
      "    ICE  \n",
      "8  16.2  \n",
      "0  13.3  \n",
      "7  11.2  \n",
      "6  8.0   \n",
      "2  7.0   \n",
      "1  2.0   \n",
      "5  1.3   \n",
      "3  1.1   \n",
      "4  1.0   \n"
     ]
    }
   ],
   "source": [
    "# создаем новый столбец с расчетами для ICE\n",
    "data['ICE'] = round((data['impact'] * data['confidence']) / data['efforts'], 1)\n",
    "\n",
    "print(data[['hypothesis', 'ICE']].sort_values(by='ICE', ascending=False))"
   ]
  },
  {
   "cell_type": "markdown",
   "metadata": {},
   "source": [
    "Наиболее приоритетные гипотезы по ICE **8, 0, 7**. В пятерке также гипотезы **6, 2**."
   ]
  },
  {
   "cell_type": "markdown",
   "metadata": {},
   "source": [
    "# Приоритизация по RICE "
   ]
  },
  {
   "cell_type": "code",
   "execution_count": 7,
   "metadata": {
    "scrolled": true
   },
   "outputs": [
    {
     "name": "stdout",
     "output_type": "stream",
     "text": [
      "                                                                                                     hypothesis  \\\n",
      "7  Добавить форму подписки на все основные страницы, чтобы собрать базу клиентов для email-рассылок               \n",
      "2  Добавить блоки рекомендаций товаров на сайт интернет магазина, чтобы повысить конверсию и средний чек заказа   \n",
      "0  Добавить два новых канала привлечения трафика, что позволит привлекать на 30% больше пользователей             \n",
      "6  Показать на главной странице баннеры с актуальными акциями и распродажами, чтобы увеличить конверсию           \n",
      "8  Запустить акцию, дающую скидку на товар в день рождения                                                        \n",
      "3  Изменить структура категорий, что увеличит конверсию, т.к. пользователи быстрее найдут нужный товар            \n",
      "1  Запустить собственную службу доставки, что сократит срок доставки заказов                                      \n",
      "5  Добавить страницу отзывов клиентов о магазине, что позволит увеличить количество заказов                       \n",
      "4  Изменить цвет фона главной страницы, чтобы увеличить вовлеченность пользователей                               \n",
      "\n",
      "    RICE  \n",
      "7  112.0  \n",
      "2  56.0   \n",
      "0  40.0   \n",
      "6  40.0   \n",
      "8  16.2   \n",
      "3  9.0    \n",
      "1  4.0    \n",
      "5  4.0    \n",
      "4  3.0    \n"
     ]
    }
   ],
   "source": [
    "# создаем новый столбец с расчетами для RICE\n",
    "data['RICE'] = (data['reach'] * data['impact'] * data['confidence']) / data['efforts']\n",
    "\n",
    "print(data[['hypothesis', 'RICE']].sort_values(by='RICE', ascending=False))"
   ]
  },
  {
   "cell_type": "markdown",
   "metadata": {},
   "source": [
    "Наиболее перспективные гипотезы по RICE **7, 2, 0, 6**. В пятерке также гипотеза **8**. \n"
   ]
  },
  {
   "cell_type": "markdown",
   "metadata": {},
   "source": [
    "# Вывод"
   ]
  },
  {
   "cell_type": "markdown",
   "metadata": {},
   "source": [
    "Пятерка наиболее приоритетных гипотез осталась той же, однако на первом месте здесь гипотеза под номером 7. Так получилось, потому что данный фреймворк учитывает охват пользователей, в отличие от ICE, а параметр Reach гипотезы под номером 7 равен 10, в то время как у других гипотез он значительно меньше. \n",
    "\n",
    "Положение гипотез изменилось относительно этого параметра. \n",
    "\n",
    "Гипотеза 8 упала с 1 места на 5. \n",
    "\n",
    "Гипотезы 7, 0 сохранили свои позиции в тройке => их надо исследовать в первую очередь."
   ]
  },
  {
   "cell_type": "markdown",
   "metadata": {},
   "source": [
    "<div class=\"alert alert-success\">\n",
    "<b>Комментарий с комплиментом ревьюера:</b>\n",
    "    \n",
    "Гипотезы проанализированы верно, молодец.\n",
    "\n",
    "Здорово, что указано на изменение приоритетов при учете охвата.\n",
    "</div>\n"
   ]
  },
  {
   "cell_type": "markdown",
   "metadata": {},
   "source": [
    "# Часть 2. Анализ A/B-теста\n"
   ]
  },
  {
   "cell_type": "markdown",
   "metadata": {},
   "source": [
    "# Загрузка и подготовка данных\n"
   ]
  },
  {
   "cell_type": "markdown",
   "metadata": {},
   "source": [
    "### Orders"
   ]
  },
  {
   "cell_type": "code",
   "execution_count": 8,
   "metadata": {
    "scrolled": false
   },
   "outputs": [
    {
     "name": "stdout",
     "output_type": "stream",
     "text": [
      "<class 'pandas.core.frame.DataFrame'>\n",
      "RangeIndex: 1197 entries, 0 to 1196\n",
      "Data columns (total 5 columns):\n",
      " #   Column         Non-Null Count  Dtype \n",
      "---  ------         --------------  ----- \n",
      " 0   transactionId  1197 non-null   int64 \n",
      " 1   visitorId      1197 non-null   int64 \n",
      " 2   date           1197 non-null   object\n",
      " 3   revenue        1197 non-null   int64 \n",
      " 4   group          1197 non-null   object\n",
      "dtypes: int64(3), object(2)\n",
      "memory usage: 46.9+ KB\n"
     ]
    }
   ],
   "source": [
    "orders = pd.read_csv('/datasets/orders.csv') #читаем файл\n",
    "orders.info()"
   ]
  },
  {
   "cell_type": "code",
   "execution_count": 9,
   "metadata": {},
   "outputs": [
    {
     "data": {
      "text/html": [
       "<div>\n",
       "<style scoped>\n",
       "    .dataframe tbody tr th:only-of-type {\n",
       "        vertical-align: middle;\n",
       "    }\n",
       "\n",
       "    .dataframe tbody tr th {\n",
       "        vertical-align: top;\n",
       "    }\n",
       "\n",
       "    .dataframe thead th {\n",
       "        text-align: right;\n",
       "    }\n",
       "</style>\n",
       "<table border=\"1\" class=\"dataframe\">\n",
       "  <thead>\n",
       "    <tr style=\"text-align: right;\">\n",
       "      <th></th>\n",
       "      <th>transactionId</th>\n",
       "      <th>visitorId</th>\n",
       "      <th>date</th>\n",
       "      <th>revenue</th>\n",
       "      <th>group</th>\n",
       "    </tr>\n",
       "  </thead>\n",
       "  <tbody>\n",
       "    <tr>\n",
       "      <th>0</th>\n",
       "      <td>3667963787</td>\n",
       "      <td>3312258926</td>\n",
       "      <td>2019-08-15</td>\n",
       "      <td>1650</td>\n",
       "      <td>B</td>\n",
       "    </tr>\n",
       "    <tr>\n",
       "      <th>1</th>\n",
       "      <td>2804400009</td>\n",
       "      <td>3642806036</td>\n",
       "      <td>2019-08-15</td>\n",
       "      <td>730</td>\n",
       "      <td>B</td>\n",
       "    </tr>\n",
       "    <tr>\n",
       "      <th>2</th>\n",
       "      <td>2961555356</td>\n",
       "      <td>4069496402</td>\n",
       "      <td>2019-08-15</td>\n",
       "      <td>400</td>\n",
       "      <td>A</td>\n",
       "    </tr>\n",
       "    <tr>\n",
       "      <th>3</th>\n",
       "      <td>3797467345</td>\n",
       "      <td>1196621759</td>\n",
       "      <td>2019-08-15</td>\n",
       "      <td>9759</td>\n",
       "      <td>B</td>\n",
       "    </tr>\n",
       "    <tr>\n",
       "      <th>4</th>\n",
       "      <td>2282983706</td>\n",
       "      <td>2322279887</td>\n",
       "      <td>2019-08-15</td>\n",
       "      <td>2308</td>\n",
       "      <td>B</td>\n",
       "    </tr>\n",
       "  </tbody>\n",
       "</table>\n",
       "</div>"
      ],
      "text/plain": [
       "   transactionId   visitorId        date  revenue group\n",
       "0  3667963787     3312258926  2019-08-15  1650     B   \n",
       "1  2804400009     3642806036  2019-08-15  730      B   \n",
       "2  2961555356     4069496402  2019-08-15  400      A   \n",
       "3  3797467345     1196621759  2019-08-15  9759     B   \n",
       "4  2282983706     2322279887  2019-08-15  2308     B   "
      ]
     },
     "execution_count": 9,
     "metadata": {},
     "output_type": "execute_result"
    }
   ],
   "source": [
    "orders.head(5)"
   ]
  },
  {
   "cell_type": "markdown",
   "metadata": {},
   "source": [
    "Таблица состоит из 5 колонок и 1197 строк, пропусков в данных нет. Нарушен формат данных столбца date. Нарушен регистр."
   ]
  },
  {
   "cell_type": "code",
   "execution_count": 10,
   "metadata": {},
   "outputs": [],
   "source": [
    "# приводим столбец date к формату datetime\n",
    "orders['date'] = pd.to_datetime(orders['date'])\n",
    "\n",
    "# перевод в нижний регистр\n",
    "orders.columns = map(str.lower, orders.columns) \n",
    "\n",
    "# переименуем столбцы\n",
    "orders.columns = ['transaction_id', 'visitor_id', 'date', 'revenue', 'group']\n"
   ]
  },
  {
   "cell_type": "code",
   "execution_count": 11,
   "metadata": {},
   "outputs": [
    {
     "data": {
      "text/plain": [
       "transaction_id    0\n",
       "visitor_id        0\n",
       "date              0\n",
       "revenue           0\n",
       "group             0\n",
       "dtype: int64"
      ]
     },
     "execution_count": 11,
     "metadata": {},
     "output_type": "execute_result"
    }
   ],
   "source": [
    "# перепроверим пропуски \n",
    "orders.isna().sum()"
   ]
  },
  {
   "cell_type": "code",
   "execution_count": 12,
   "metadata": {},
   "outputs": [
    {
     "data": {
      "text/plain": [
       "0"
      ]
     },
     "execution_count": 12,
     "metadata": {},
     "output_type": "execute_result"
    }
   ],
   "source": [
    "# проверим на дубликаты\n",
    "orders.duplicated().sum()"
   ]
  },
  {
   "cell_type": "markdown",
   "metadata": {},
   "source": [
    "### Visitors"
   ]
  },
  {
   "cell_type": "code",
   "execution_count": 13,
   "metadata": {
    "scrolled": true
   },
   "outputs": [
    {
     "name": "stdout",
     "output_type": "stream",
     "text": [
      "<class 'pandas.core.frame.DataFrame'>\n",
      "RangeIndex: 62 entries, 0 to 61\n",
      "Data columns (total 3 columns):\n",
      " #   Column    Non-Null Count  Dtype \n",
      "---  ------    --------------  ----- \n",
      " 0   date      62 non-null     object\n",
      " 1   group     62 non-null     object\n",
      " 2   visitors  62 non-null     int64 \n",
      "dtypes: int64(1), object(2)\n",
      "memory usage: 1.6+ KB\n"
     ]
    }
   ],
   "source": [
    "visitors = pd.read_csv('/datasets/visitors.csv') #читаем файл\n",
    "visitors.info()"
   ]
  },
  {
   "cell_type": "code",
   "execution_count": 14,
   "metadata": {
    "scrolled": true
   },
   "outputs": [
    {
     "data": {
      "text/html": [
       "<div>\n",
       "<style scoped>\n",
       "    .dataframe tbody tr th:only-of-type {\n",
       "        vertical-align: middle;\n",
       "    }\n",
       "\n",
       "    .dataframe tbody tr th {\n",
       "        vertical-align: top;\n",
       "    }\n",
       "\n",
       "    .dataframe thead th {\n",
       "        text-align: right;\n",
       "    }\n",
       "</style>\n",
       "<table border=\"1\" class=\"dataframe\">\n",
       "  <thead>\n",
       "    <tr style=\"text-align: right;\">\n",
       "      <th></th>\n",
       "      <th>date</th>\n",
       "      <th>group</th>\n",
       "      <th>visitors</th>\n",
       "    </tr>\n",
       "  </thead>\n",
       "  <tbody>\n",
       "    <tr>\n",
       "      <th>0</th>\n",
       "      <td>2019-08-01</td>\n",
       "      <td>A</td>\n",
       "      <td>719</td>\n",
       "    </tr>\n",
       "    <tr>\n",
       "      <th>1</th>\n",
       "      <td>2019-08-02</td>\n",
       "      <td>A</td>\n",
       "      <td>619</td>\n",
       "    </tr>\n",
       "    <tr>\n",
       "      <th>2</th>\n",
       "      <td>2019-08-03</td>\n",
       "      <td>A</td>\n",
       "      <td>507</td>\n",
       "    </tr>\n",
       "    <tr>\n",
       "      <th>3</th>\n",
       "      <td>2019-08-04</td>\n",
       "      <td>A</td>\n",
       "      <td>717</td>\n",
       "    </tr>\n",
       "    <tr>\n",
       "      <th>4</th>\n",
       "      <td>2019-08-05</td>\n",
       "      <td>A</td>\n",
       "      <td>756</td>\n",
       "    </tr>\n",
       "  </tbody>\n",
       "</table>\n",
       "</div>"
      ],
      "text/plain": [
       "         date group  visitors\n",
       "0  2019-08-01  A     719     \n",
       "1  2019-08-02  A     619     \n",
       "2  2019-08-03  A     507     \n",
       "3  2019-08-04  A     717     \n",
       "4  2019-08-05  A     756     "
      ]
     },
     "execution_count": 14,
     "metadata": {},
     "output_type": "execute_result"
    }
   ],
   "source": [
    "visitors.head(5)"
   ]
  },
  {
   "cell_type": "markdown",
   "metadata": {},
   "source": [
    "Таблица состоит из 3 колонок и 62 строк, пропусков в данных нет. Нарушен формат данных столбца date. "
   ]
  },
  {
   "cell_type": "code",
   "execution_count": 15,
   "metadata": {},
   "outputs": [],
   "source": [
    "# приводим столбец date к формату datetime\n",
    "visitors['date'] = pd.to_datetime(visitors['date'])\n"
   ]
  },
  {
   "cell_type": "code",
   "execution_count": 16,
   "metadata": {
    "scrolled": true
   },
   "outputs": [
    {
     "data": {
      "text/plain": [
       "date        0\n",
       "group       0\n",
       "visitors    0\n",
       "dtype: int64"
      ]
     },
     "execution_count": 16,
     "metadata": {},
     "output_type": "execute_result"
    }
   ],
   "source": [
    "# перепроверим пропуски \n",
    "visitors.isna().sum()"
   ]
  },
  {
   "cell_type": "code",
   "execution_count": 17,
   "metadata": {},
   "outputs": [
    {
     "data": {
      "text/plain": [
       "0"
      ]
     },
     "execution_count": 17,
     "metadata": {},
     "output_type": "execute_result"
    }
   ],
   "source": [
    "# проверим на дубликаты\n",
    "visitors.duplicated().sum()"
   ]
  },
  {
   "cell_type": "markdown",
   "metadata": {},
   "source": [
    "<div class=\"alert alert-warning\">\n",
    "<b>Комментарий с советом ревьюера:</b>\n",
    "\n",
    "Чтобы лучше изучить данные можешь посмотреть:\n",
    "\n",
    "-  сколько у нас групп в АВ-тесте;\n",
    "-  даты начала и окончания теста; \n",
    "-  не попадают ли какие-то пользователи в обе группы - по таблице с заказами. \n",
    " \n",
    "</div>\n",
    "\n",
    "\n",
    "<div class=\"alert alert-success\">\n",
    "<b>Комментарий с комплиментом ревьюера:</b>\n",
    "    \n",
    "Данные корректно подготовлены к работе.\n",
    "</div>\n"
   ]
  },
  {
   "cell_type": "markdown",
   "metadata": {},
   "source": [
    "# A/B тест"
   ]
  },
  {
   "cell_type": "markdown",
   "metadata": {},
   "source": [
    "## Кумулятивные метрики"
   ]
  },
  {
   "cell_type": "code",
   "execution_count": 18,
   "metadata": {
    "scrolled": true
   },
   "outputs": [
    {
     "name": "stdout",
     "output_type": "stream",
     "text": [
      "        date group  orders  buyers  revenue  visitors\n",
      "0 2019-08-01  A     24      20      148579   719     \n",
      "1 2019-08-01  B     21      20      101217   713     \n",
      "2 2019-08-02  A     44      38      242401   1338    \n",
      "3 2019-08-02  B     45      43      266748   1294    \n",
      "4 2019-08-03  A     68      62      354874   1845    \n"
     ]
    }
   ],
   "source": [
    "# создаем массив уникальных пар значений дат и групп теста\n",
    "datesGroups = orders[['date', 'group']].drop_duplicates().reset_index(drop=True)\n",
    "\n",
    "# получаем агрегированные кумулятивные по дням данные о заказах \n",
    "ordersAggregated = datesGroups.apply(lambda x: orders[np.logical_and(orders['date'] <= x['date'], \n",
    "                                                                     orders['group'] == x['group'])]\\\n",
    ".agg({'date' : 'max', 'group' : 'max', 'transaction_id' : 'nunique', 'visitor_id' : 'nunique', \n",
    "      'revenue' : 'sum'}), axis=1).sort_values(by=['date','group'])\n",
    "\n",
    "# получаем агрегированные кумулятивные по дням данные о посетителях интернет-магазина \n",
    "visitorsAggregated = datesGroups.apply(lambda x: visitors[np.logical_and(visitors['date'] <= x['date'], \n",
    "                                                                         visitors['group'] == x['group'])]\n",
    "                        .agg({'date' : 'max', 'group' : 'max', 'visitors' : 'sum'}), axis=1).sort_values(by=['date','group']) \n",
    "\n",
    "\n",
    "# объединяем кумулятивные данные в одной таблице и присваиваем ее столбцам понятные названия\n",
    "cumulativeData = ordersAggregated.merge(visitorsAggregated, left_on=['date', 'group'], right_on=['date', 'group'])\n",
    "cumulativeData.columns = ['date', 'group', 'orders', 'buyers', 'revenue', 'visitors']\n",
    "\n",
    "print(cumulativeData.head(5)) "
   ]
  },
  {
   "cell_type": "markdown",
   "metadata": {},
   "source": [
    "Построим графики кумулятивной выручки по дням и группам A/B-тестирования\n",
    "\n"
   ]
  },
  {
   "cell_type": "code",
   "execution_count": 19,
   "metadata": {
    "scrolled": true
   },
   "outputs": [
    {
     "data": {
      "image/png": "[encoded data removed]",
      "text/plain": [
       "<Figure size 864x360 with 1 Axes>"
      ]
     },
     "metadata": {
      "needs_background": "light"
     },
     "output_type": "display_data"
    }
   ],
   "source": [
    "# датафрейм с кумулятивным количеством заказов и кумулятивной выручкой по дням в группе А\n",
    "cumulativeRevenueA = cumulativeData[cumulativeData['group']=='A'][['date','revenue', 'orders']]\n",
    "\n",
    "# датафрейм с кумулятивным количеством заказов и кумулятивной выручкой по дням в группе B\n",
    "cumulativeRevenueB = cumulativeData[cumulativeData['group']=='B'][['date','revenue', 'orders']]\n",
    "\n",
    "plt.figure(figsize=(12,5)) # размер графика\n",
    "\n",
    "# Строим график выручки группы А\n",
    "plt.plot(cumulativeRevenueA['date'], cumulativeRevenueA['revenue'], label='A')\n",
    "\n",
    "# Строим график выручки группы B\n",
    "plt.plot(cumulativeRevenueB['date'], cumulativeRevenueB['revenue'], label='B')\n",
    "\n",
    "plt.title('Кумулятивная выручка по дням и группам')\n",
    "plt.ylabel('Кумулятивная выручка')\n",
    "plt.legend() \n",
    "plt.grid()"
   ]
  },
  {
   "cell_type": "markdown",
   "metadata": {},
   "source": [
    "Выручка увеличивается на протяжении всего теста, у группы В рост происходит быстрее. 13 августа сегмент В вырвался вперед и продолжал лидировать весь остаток теста. 18 августа также наблюдается резкий скачок, который скорее всего связан с аномально большими заказами. При заключительном анализе их нужно будет удалить."
   ]
  },
  {
   "cell_type": "markdown",
   "metadata": {},
   "source": [
    "\n",
    "<div class=\"alert alert-success\">\n",
    "<b>Комментарий с комплиментом ревьюера:</b>\n",
    "    \n",
    "График интерпретирован верно, здорово, что выдвинуто предположение природы появления всплеска.\n",
    "</div>\n"
   ]
  },
  {
   "cell_type": "markdown",
   "metadata": {},
   "source": [
    "Построим графики среднего чека по дням\n"
   ]
  },
  {
   "cell_type": "code",
   "execution_count": 20,
   "metadata": {},
   "outputs": [
    {
     "data": {
      "image/png": "[encoded data removed]",
      "text/plain": [
       "<Figure size 864x360 with 1 Axes>"
      ]
     },
     "metadata": {
      "needs_background": "light"
     },
     "output_type": "display_data"
    }
   ],
   "source": [
    "plt.figure(figsize=(12,5)) # размер графика\n",
    "\n",
    "plt.plot(cumulativeRevenueA['date'], cumulativeRevenueA['revenue']/cumulativeRevenueA['orders'], label='A')\n",
    "plt.plot(cumulativeRevenueB['date'], cumulativeRevenueB['revenue']/cumulativeRevenueB['orders'], label='B')\n",
    "\n",
    "plt.title('Кумулятивный средний чек по дням')\n",
    "plt.ylabel('Кумулятивный средний чек')\n",
    "plt.legend() \n",
    "plt.grid()"
   ]
  },
  {
   "cell_type": "markdown",
   "metadata": {},
   "source": [
    "Кумулятивный средний чек растет неравномерно. \n",
    "\n",
    "У группы А наблюдается резкое падение практически в начале теста, затем чек растет, достигает пикового значения 13 августа и становится практически равномерныи. На протяжении более половины теста средний чек не увеличивался. \n",
    "\n",
    "Группа В на протяжении половины теста имеет резкие взлеты и падения, но в тот же период, что на предыдущем графике происходит резкий всплеск. Скорее всего, это связано с крупным заказом. Затем средний чек снова начал падать, но стал равномернее. \n"
   ]
  },
  {
   "cell_type": "markdown",
   "metadata": {},
   "source": [
    "\n",
    "\n",
    "<div class=\"alert alert-success\">\n",
    "<b>Комментарий с комплиментом ревьюера:</b>\n",
    "    \n",
    "Согласен с выводом по графику.\n",
    "</div>\n"
   ]
  },
  {
   "cell_type": "markdown",
   "metadata": {},
   "source": [
    "Построим график относительно различия кумулятивного среднего чека группы B к группе A\n"
   ]
  },
  {
   "cell_type": "code",
   "execution_count": 21,
   "metadata": {
    "scrolled": true
   },
   "outputs": [
    {
     "data": {
      "image/png": "[encoded data removed]",
      "text/plain": [
       "<Figure size 864x360 with 1 Axes>"
      ]
     },
     "metadata": {
      "needs_background": "light"
     },
     "output_type": "display_data"
    }
   ],
   "source": [
    "# собираем данные в одном датафрейме\n",
    "mergedCumulativeRevenue = cumulativeRevenueA.merge(cumulativeRevenueB, left_on='date', \n",
    "                                                   right_on='date', how='left', suffixes=['A', 'B'])\n",
    "plt.figure(figsize=(12,5)) # размер графика\n",
    "\n",
    "# cтроим отношение средних чеков\n",
    "plt.plot(mergedCumulativeRevenue['date'], (mergedCumulativeRevenue['revenueB']/\n",
    "                                           mergedCumulativeRevenue['ordersB'])/\n",
    "         (mergedCumulativeRevenue['revenueA']/mergedCumulativeRevenue['ordersA'])-1)\n",
    "\n",
    "# добавляем ось X\n",
    "plt.axhline(y=0, color='black', linestyle='--')\n",
    "\n",
    "plt.title('Различие кумулятивного среднего чека группы В относительно группы А')\n",
    "plt.ylabel('Различие кумулятивного среднего чека')\n",
    "plt.grid()"
   ]
  },
  {
   "cell_type": "markdown",
   "metadata": {},
   "source": [
    "Результаты теста значительно и резко менялись в некоторые дни. Скорее всего, именно тогда были сделаны аномально большие заказы. "
   ]
  },
  {
   "cell_type": "markdown",
   "metadata": {},
   "source": [
    "<div class=\"alert alert-success\">\n",
    "<b>Комментарий с комплиментом ревьюера:</b>\n",
    "    \n",
    "Сначала средний чек группы B стабильно растет, потом резко падает и снова растет. Согласен, влияние крупных заказов.   \n",
    "</div>\n"
   ]
  },
  {
   "cell_type": "markdown",
   "metadata": {},
   "source": [
    "Построим графики кумулятивного среднего количества заказов на посетителя по группам и по дням"
   ]
  },
  {
   "cell_type": "code",
   "execution_count": 22,
   "metadata": {
    "scrolled": true
   },
   "outputs": [
    {
     "data": {
      "image/png": "[encoded data removed]",
      "text/plain": [
       "<Figure size 864x360 with 1 Axes>"
      ]
     },
     "metadata": {
      "needs_background": "light"
     },
     "output_type": "display_data"
    }
   ],
   "source": [
    "# считаем среднее количество заказов на посетителя, создадим столбец conversion \n",
    "cumulativeData['conversion'] = cumulativeData['orders']/cumulativeData['visitors']\n",
    "\n",
    "# отделяем данные по группе A\n",
    "cumulativeDataA = cumulativeData[cumulativeData['group']=='A']\n",
    "\n",
    "# отделяем данные по группе B\n",
    "cumulativeDataB = cumulativeData[cumulativeData['group']=='B']\n",
    "\n",
    "plt.figure(figsize=(12,5)) # размер графика\n",
    "\n",
    "# строим графики\n",
    "plt.plot(cumulativeDataA['date'], cumulativeDataA['conversion'], label='A')\n",
    "plt.plot(cumulativeDataB['date'], cumulativeDataB['conversion'], label='B')\n",
    "plt.legend()\n",
    "\n",
    "# задаем масштаб осей\n",
    "plt.axis([dt.datetime(2019, 8, 1), dt.datetime(2019, 9, 1), 0, 0.04])\n",
    "plt.ylabel('Конверсия')\n",
    "plt.title(\"Изменение кумулятивного среднего количества заказовов по группам и по дням\") \n",
    "plt.grid()"
   ]
  },
  {
   "cell_type": "markdown",
   "metadata": {},
   "source": [
    "В начале теста сегмент A имел большее кумулятивное среднее количество заказов, но постепенно сегмент B выровнялся и зафиксировался примерно около одного значения, больше значения сегмента A.\n",
    "Видно, что абсолютное значение колебания в начале и в конце теста не слишком большое: от 3% до 4%."
   ]
  },
  {
   "cell_type": "markdown",
   "metadata": {},
   "source": [
    "<div class=\"alert alert-success\">\n",
    "<b>Комментарий с комплиментом ревьюера:</b>\n",
    "    \n",
    "Все верно, среднее количество заказов группы В продолжает выигрывать до конца.  \n",
    "</div>\n"
   ]
  },
  {
   "cell_type": "markdown",
   "metadata": {},
   "source": [
    "Построим график относительного изменения кумулятивного среднего количества заказов на посетителя группы B к группе A"
   ]
  },
  {
   "cell_type": "code",
   "execution_count": 23,
   "metadata": {
    "scrolled": true
   },
   "outputs": [
    {
     "data": {
      "image/png": "[encoded data removed]",
      "text/plain": [
       "<Figure size 864x360 with 1 Axes>"
      ]
     },
     "metadata": {
      "needs_background": "light"
     },
     "output_type": "display_data"
    }
   ],
   "source": [
    "# оюъединяем таблицы\n",
    "mergedCumulativeConversions = cumulativeDataA[['date','conversion']].merge(cumulativeDataB[['date','conversion']], \n",
    "                                                                           left_on='date', right_on='date', how='left', \n",
    "                                                                           suffixes=['A', 'B'])\n",
    "plt.figure(figsize=(12,5)) # размер графика\n",
    "\n",
    "# строим график\n",
    "plt.plot(mergedCumulativeConversions['date'], mergedCumulativeConversions['conversionB']/\n",
    "         mergedCumulativeConversions['conversionA']-1, label=\"Относительный прирост конверсии группы B относительно группы A\")\n",
    "\n",
    "plt.axhline(y=0, color='black', linestyle='--')\n",
    "plt.axhline(y=0.15, color='grey', linestyle='--')\n",
    "plt.axis([pd.to_datetime('2019-08-01', format = '%Y-%m-%d'),\n",
    "             pd.to_datetime('2019-09-01', format = '%Y-%m-%d'), -0.2, 0.3])\n",
    "plt.xlabel('Дата')\n",
    "plt.ylabel('Конверсия')\n",
    "plt.title(\"Изменение кумулятивного среднего количества заказов на посетителя группы B относительно группы A\")\n",
    "plt.grid()\n",
    "plt.show()"
   ]
  },
  {
   "cell_type": "markdown",
   "metadata": {},
   "source": [
    "Почти с самого начала теста группа B лидирует по метрике: становится лучше и лучше, фиксируется примерно в 15% относительно группы A."
   ]
  },
  {
   "cell_type": "markdown",
   "metadata": {},
   "source": [
    "<div class=\"alert alert-success\">\n",
    "<b>Комментарий с комплиментом ревьюера:</b>\n",
    "    \n",
    "Все верно, здорово, что была использована axhline.\n"
   ]
  },
  {
   "cell_type": "markdown",
   "metadata": {},
   "source": [
    "## Анализ выбросов и всплесков"
   ]
  },
  {
   "cell_type": "markdown",
   "metadata": {},
   "source": [
    "Построим точечный график количества заказов по пользователям"
   ]
  },
  {
   "cell_type": "code",
   "execution_count": 24,
   "metadata": {},
   "outputs": [
    {
     "data": {
      "image/png": "[encoded data removed]",
      "text/plain": [
       "<Figure size 432x288 with 1 Axes>"
      ]
     },
     "metadata": {
      "needs_background": "light"
     },
     "output_type": "display_data"
    }
   ],
   "source": [
    "# создаем датафрейм с количеством заказов по пользователям \n",
    "ordersByUsers = (\n",
    "    orders.groupby('visitor_id', as_index=False)\n",
    "    .agg({'transaction_id': 'nunique'})\n",
    ")\n",
    "ordersByUsers.columns = ['visitor_id', 'transaction_id']\n",
    "\n",
    "# серия из чисел от 0 до количества наблюдений в ordersByUsers\n",
    "x_values = pd.Series(range(0, len(ordersByUsers)))\n",
    "plt.scatter(x_values, ordersByUsers['transaction_id']) \n",
    "plt.xlabel('Пользователи')\n",
    "plt.ylabel('Количество заказов')\n",
    "plt.title(\"Количество заказов по пользователям\")\n",
    "plt.grid()\n",
    "plt.show()\n"
   ]
  },
  {
   "cell_type": "markdown",
   "metadata": {},
   "source": [
    "Пользователей, заказавших более двух раз, совсем мало. Для того, чтобы узнать аномалия это или нет, посчитаем 95-й и 99-й перцентили количества заказов на пользователя."
   ]
  },
  {
   "cell_type": "code",
   "execution_count": 25,
   "metadata": {
    "scrolled": true
   },
   "outputs": [
    {
     "name": "stdout",
     "output_type": "stream",
     "text": [
      "[2. 4.]\n"
     ]
    }
   ],
   "source": [
    "print(np.percentile(ordersByUsers['transaction_id'], [ 95, 99]))\n"
   ]
  },
  {
   "cell_type": "markdown",
   "metadata": {},
   "source": [
    "Не более 5% пользователей совершали больше двух заказов. И не более 1% пользователей — больше четырех заказов."
   ]
  },
  {
   "cell_type": "markdown",
   "metadata": {},
   "source": [
    "\n",
    "<div class=\"alert alert-warning\">\n",
    "<b>Комментарий с небольшим замечанием ревьюера:</b>\n",
    "    \n",
    "Согласно заданию, здесь надо выбрать нижнюю границу числа заказов.\n",
    " \n",
    "</div>\n"
   ]
  },
  {
   "cell_type": "markdown",
   "metadata": {},
   "source": [
    "<div class=\"alert alert-info\"> <b>Комментарий студента:</b> Аномальным значением будем считать более четырех заказов.  </div>\n"
   ]
  },
  {
   "cell_type": "markdown",
   "metadata": {},
   "source": [
    "<div class=\"alert alert-success\">\n",
    "<b>Комментарий с комплиментом ревьюера в2:</b> \n",
    "    \n",
    "Отлично"
   ]
  },
  {
   "cell_type": "markdown",
   "metadata": {},
   "source": [
    "Построим точечный график стоимостей заказов"
   ]
  },
  {
   "cell_type": "code",
   "execution_count": 26,
   "metadata": {
    "scrolled": true
   },
   "outputs": [
    {
     "data": {
      "image/png": "[encoded data removed]",
      "text/plain": [
       "<Figure size 864x360 with 1 Axes>"
      ]
     },
     "metadata": {
      "needs_background": "light"
     },
     "output_type": "display_data"
    }
   ],
   "source": [
    "x_values = pd.Series(range(0, len(orders['revenue'])))\n",
    "\n",
    "plt.figure(figsize=(12,5)) # размер графика\n",
    "\n",
    "plt.scatter(x_values, orders['revenue']) \n",
    "plt.xlabel('Пользователи')\n",
    "plt.ylabel('Стоимость заказов')\n",
    "plt.title(\"Стоимости заказов\")\n",
    "plt.grid()\n",
    "plt.show()"
   ]
  },
  {
   "cell_type": "markdown",
   "metadata": {},
   "source": [
    "Есть 2 выброса в районе 1 250 000 и 200 000. Для того, чтобы узнать аномалия это или нет, посчитаем 95-й и 99-й перцентили."
   ]
  },
  {
   "cell_type": "code",
   "execution_count": 27,
   "metadata": {
    "scrolled": true
   },
   "outputs": [
    {
     "name": "stdout",
     "output_type": "stream",
     "text": [
      "[28000.  58233.2]\n"
     ]
    }
   ],
   "source": [
    "print(np.percentile(orders['revenue'] , [95, 99]))"
   ]
  },
  {
   "cell_type": "markdown",
   "metadata": {},
   "source": [
    "Не более 5% пользователей оформляли заказы на сумму более 28 000. И 1% пользователей заказывали на сумму более 58 233."
   ]
  },
  {
   "cell_type": "markdown",
   "metadata": {},
   "source": [
    "<div class=\"alert alert-warning\">\n",
    "<b>Комментарий с небольшим замечанием ревьюера:</b>\n",
    "    \n",
    "Согласно заданию, здесь надо выбрать нижнюю границу стоимости заказов.\n",
    " \n",
    "</div>\n"
   ]
  },
  {
   "cell_type": "markdown",
   "metadata": {},
   "source": [
    "<div class=\"alert alert-info\"> <b>Комментарий студента:</b> Аномальной стоимостью будет сумма более 28000 </div>\n"
   ]
  },
  {
   "cell_type": "markdown",
   "metadata": {},
   "source": [
    "Посчитаем статистическую значимость различий в среднем количестве заказов на посетителя между группами по «сырым» данным. \n",
    "\n",
    "<div class=\"alert alert-info\"> <b>Комментарий студента:</b> За Н0 примем то, что статистически значимых различий в среднем количестве заказов нет. За Н1 примем то, что среднее количество заказов в каждой группе различно. </div>\n"
   ]
  },
  {
   "cell_type": "markdown",
   "metadata": {},
   "source": [
    "<div class=\"alert alert-success\">\n",
    "<b>Комментарий с комплиментом ревьюера в2:</b> \n",
    "    \n",
    "Отлично"
   ]
  },
  {
   "cell_type": "code",
   "execution_count": 28,
   "metadata": {},
   "outputs": [],
   "source": [
    "# подготовим таблицу \n",
    "visitorsADaily = visitors[visitors['group'] == 'A'][['date', 'visitors']]\n",
    "visitorsADaily.columns = ['date', 'visitorsPerDateA']\n",
    "\n",
    "visitorsACummulative = visitorsADaily.apply(\n",
    "    lambda x: visitorsADaily[visitorsADaily['date'] <= x['date']].agg(\n",
    "        {'date': 'max', 'visitorsPerDateA': 'sum'}\n",
    "    ),\n",
    "    axis=1,\n",
    ")\n",
    "visitorsACummulative.columns = ['date', 'visitorsCummulativeA']\n",
    "\n",
    "visitorsBDaily = visitors[visitors['group'] == 'B'][['date', 'visitors']]\n",
    "visitorsBDaily.columns = ['date', 'visitorsPerDateB']\n",
    "\n",
    "visitorsBCummulative = visitorsBDaily.apply(\n",
    "    lambda x: visitorsBDaily[visitorsBDaily['date'] <= x['date']].agg(\n",
    "        {'date': 'max', 'visitorsPerDateB': 'sum'}\n",
    "    ),\n",
    "    axis=1,\n",
    ")\n",
    "visitorsBCummulative.columns = ['date', 'visitorsCummulativeB']\n",
    "\n",
    "ordersADaily = (\n",
    "    orders[orders['group'] == 'A'][['date', 'transaction_id', 'visitor_id', 'revenue']]\n",
    "    .groupby('date', as_index=False)\n",
    "    .agg({'transaction_id': pd.Series.nunique, 'revenue': 'sum'})\n",
    ")\n",
    "ordersADaily.columns = ['date', 'ordersPerDateA', 'revenuePerDateA']\n",
    "\n",
    "ordersACummulative = ordersADaily.apply(\n",
    "    lambda x: ordersADaily[ordersADaily['date'] <= x['date']].agg(\n",
    "        {'date': 'max', 'ordersPerDateA': 'sum', 'revenuePerDateA': 'sum'}\n",
    "    ),\n",
    "    axis=1,\n",
    ").sort_values(by=['date'])\n",
    "ordersACummulative.columns = [\n",
    "    'date',\n",
    "    'ordersCummulativeA',\n",
    "    'revenueCummulativeA',\n",
    "]\n",
    "\n",
    "ordersBDaily = (\n",
    "    orders[orders['group'] == 'B'][['date', 'transaction_id', 'visitor_id', 'revenue']]\n",
    "    .groupby('date', as_index=False)\n",
    "    .agg({'transaction_id': pd.Series.nunique, 'revenue': 'sum'})\n",
    ")\n",
    "ordersBDaily.columns = ['date', 'ordersPerDateB', 'revenuePerDateB']\n",
    "\n",
    "ordersBCummulative = ordersBDaily.apply(\n",
    "    lambda x: ordersBDaily[ordersBDaily['date'] <= x['date']].agg(\n",
    "        {'date': 'max', 'ordersPerDateB': 'sum', 'revenuePerDateB': 'sum'}\n",
    "    ),\n",
    "    axis=1,\n",
    ").sort_values(by=['date'])\n",
    "ordersBCummulative.columns = [\n",
    "    'date',\n",
    "    'ordersCummulativeB',\n",
    "    'revenueCummulativeB',\n",
    "]"
   ]
  },
  {
   "cell_type": "code",
   "execution_count": 29,
   "metadata": {},
   "outputs": [],
   "source": [
    "data = (\n",
    "    ordersADaily.merge(\n",
    "        ordersBDaily, left_on='date', right_on='date', how='left'\n",
    "    )\n",
    "    .merge(ordersACummulative, left_on='date', right_on='date', how='left')\n",
    "    .merge(ordersBCummulative, left_on='date', right_on='date', how='left')\n",
    "    .merge(visitorsADaily, left_on='date', right_on='date', how='left')\n",
    "    .merge(visitorsBDaily, left_on='date', right_on='date', how='left')\n",
    "    .merge(visitorsACummulative, left_on='date', right_on='date', how='left')\n",
    "    .merge(visitorsBCummulative, left_on='date', right_on='date', how='left')\n",
    ")"
   ]
  },
  {
   "cell_type": "code",
   "execution_count": 30,
   "metadata": {},
   "outputs": [],
   "source": [
    "# создадим переменные ordersByUsersA и ordersByUsersB со столбцами ['visitor_id', 'transaction_id'], \n",
    "#где для пользователей, совершивших хотя бы 1 заказ, будет указано число заказов\n",
    "\n",
    "ordersByUsersA = (\n",
    "    orders[orders['group'] == 'A']\n",
    "    .groupby('visitor_id', as_index=False)\n",
    "    .agg({'transaction_id': pd.Series.nunique})\n",
    ")\n",
    "ordersByUsersA.columns = ['visitor_id', 'transaction_id']\n",
    "\n",
    "ordersByUsersB = (\n",
    "    orders[orders['group'] == 'B']\n",
    "    .groupby('visitor_id', as_index=False)\n",
    "    .agg({'transaction_id': pd.Series.nunique})\n",
    ")\n",
    "ordersByUsersB.columns = ['visitor_id', 'transaction_id'] \n"
   ]
  },
  {
   "cell_type": "code",
   "execution_count": 31,
   "metadata": {},
   "outputs": [],
   "source": [
    "# создадим переменные, в которых пользователям с заказами будет соответствовать число заказов пользователя\n",
    "sampleA = pd.concat([ordersByUsersA['transaction_id'],\n",
    "                     pd.Series(0, index=np.arange(data['visitorsPerDateA'].sum() - len(ordersByUsersA['transaction_id'])), \n",
    "                               name='orders')],axis=0)\n",
    "\n",
    "sampleB = pd.concat([ordersByUsersB['transaction_id'],\n",
    "                     pd.Series(0, index=np.arange(data['visitorsPerDateB'].sum() - len(ordersByUsersB['transaction_id'])), \n",
    "                               name='orders')],axis=0)"
   ]
  },
  {
   "cell_type": "markdown",
   "metadata": {},
   "source": [
    "<div class=\"alert alert-danger\">\n",
    "<b>Комментарий с замечанием:</b> \n",
    "    \n",
    "Сформулируй, пожалуйста, нулевую и альтернативную гипотезы для каждой проверки.\n",
    " \n",
    "</div>\n"
   ]
  },
  {
   "cell_type": "markdown",
   "metadata": {},
   "source": [
    "<div class=\"alert alert-info\"> <b>Комментарий студента:</b> сделала как комментарий над рассчетами </div>"
   ]
  },
  {
   "cell_type": "code",
   "execution_count": 32,
   "metadata": {},
   "outputs": [
    {
     "name": "stdout",
     "output_type": "stream",
     "text": [
      "P-value: 0.017\n",
      "Относительные различия: 0.138\n"
     ]
    }
   ],
   "source": [
    "# посчитаем статистическую значимость различия среднего количества заказов по результатам теста, применив тест Манна-Уитни\n",
    "print('P-value:',\"{0:.3f}\".format(stats.mannwhitneyu(sampleA, sampleB)[1]))\n",
    "print('Относительные различия:',\"{0:.3f}\".format(sampleB.mean() / sampleA.mean() - 1))"
   ]
  },
  {
   "cell_type": "markdown",
   "metadata": {},
   "source": [
    "P-value значительно меньше 0.05, поэтому нулевую гипотезу отвергаем. Анализ \"сырых данных\" сообщает, что в среднем количестве заказов между группами есть статистически значимые различия. \n",
    "\n",
    "Относительный прирост среднего группы В к конверсии группы А равен 13.8%.\n",
    "\n"
   ]
  },
  {
   "cell_type": "markdown",
   "metadata": {},
   "source": [
    "<div class=\"alert alert-success\">\n",
    "<b>Комментарий с комплиментом ревьюера:</b> \n",
    "\n",
    "Гипотезы сформулированы верно, молодец.\n",
    "</div>\n"
   ]
  },
  {
   "cell_type": "markdown",
   "metadata": {},
   "source": [
    "Посчитаем статистическую значимость различий в среднем чеке заказа между группами по «сырым» данным. \n",
    "\n",
    "<div class=\"alert alert-info\"> <b>Комментарий студента:</b> За Н0 примем то, что статистически значимых различий в среднем чеке заказа нет. За Н1 примем то, что средний чек заказа у двух групп значительно различается. </div>\n"
   ]
  },
  {
   "cell_type": "code",
   "execution_count": 39,
   "metadata": {
    "scrolled": true
   },
   "outputs": [
    {
     "name": "stdout",
     "output_type": "stream",
     "text": [
      "P-value: 0.729\n",
      "Относительные различия: 0.259\n"
     ]
    }
   ],
   "source": [
    "print('P-value:','{0:.3f}'.format(stats.mannwhitneyu(orders[orders['group']=='A']['revenue'], \n",
    "                                                     orders[orders['group']=='B']['revenue'])[1]))\n",
    "print('Относительные различия:','{0:.3f}'.format(orders[orders['group']=='B']['revenue'].mean()/\n",
    "                                                 orders[orders['group']=='A']['revenue'].mean()-1)) "
   ]
  },
  {
   "cell_type": "markdown",
   "metadata": {},
   "source": [
    "P-value значительно больше 0.05, статистически значимых отличий в среднем чеке между группами нет. Относительное различие между чеками около 26%.\n",
    "\n"
   ]
  },
  {
   "cell_type": "markdown",
   "metadata": {},
   "source": [
    "<div class=\"alert alert-success\">\n",
    "<b>Комментарий с комплиментом ревьюера:</b> \n",
    "\n",
    "Все верно. \n",
    "\n",
    "Если p-value > alpha значит средний чек группы B **равен** среднему чеку группы A (или не отличается). Наблюдаемое различие не значимо, получено случайно из-за единичных выбросов.\n",
    "\n",
    "</div>\n"
   ]
  },
  {
   "cell_type": "markdown",
   "metadata": {},
   "source": [
    "Очистим данные и посчитаем статистическую значимость различий в среднем количестве заказов на посетителя между группами \n"
   ]
  },
  {
   "cell_type": "markdown",
   "metadata": {},
   "source": [
    "Подготовим данные. \n",
    "\n",
    "Учитываем, что:\n",
    "* 95-й и 99-й перцентили средних чеков равны 28 000 и 58 233 рублям. \n",
    "* 95-й и 99-й перцентили числа заказов на одного пользователя равны 2 и 4 заказам на пользователя. \n",
    "\n",
    "Примем за аномальных пользователей тех, кто совершил 4 заказа и более или совершил заказ на сумму свыше 30 000 рублей. Так мы уберём 1% пользователей с наибольшим числом заказов и от 1% до 5% заказов с наибольшей стоимостью. \n",
    "Сделаем срезы пользователей с числом заказов больше 4 — usersWithManyOrders и пользователей, совершивших заказы дороже 30 000 — usersWithExpensiveOrders. Объединим их в таблице abnormalUsers, удалим дубликаты, отсортируем по возрастанию."
   ]
  },
  {
   "cell_type": "code",
   "execution_count": 40,
   "metadata": {},
   "outputs": [],
   "source": [
    "# делаем срез пользователей\n",
    "\n",
    "usersWithManyOrders = pd.concat(\n",
    "    [\n",
    "        ordersByUsersA[ordersByUsersA['transaction_id'] > 4]['visitor_id'],\n",
    "        ordersByUsersB[ordersByUsersB['transaction_id'] > 4]['visitor_id'],\n",
    "    ],\n",
    "    axis=0,\n",
    ")\n",
    "usersWithExpensiveOrders = orders[orders['revenue'] > 28000]['visitor_id']\n",
    "abnormalUsers = (\n",
    "    pd.concat([usersWithManyOrders, usersWithExpensiveOrders], axis=0)\n",
    "    .drop_duplicates()\n",
    "    .sort_values()\n",
    ")"
   ]
  },
  {
   "cell_type": "markdown",
   "metadata": {},
   "source": [
    "<div class=\"alert alert-warning\">\n",
    "<b>Комментарий с небольшим замечанием ревьюера:</b>\n",
    "    \n",
    "Ты вычислила показатели 95 и 99 перцентилей – 28000 и 58233, а аномальными решила считать более 30 000. В этом случае, если тебя спросят - по какому перцентилю ты провела границу выбросов - ты не сможешь точно ответить. Лучше определять выбросы по тому перцентилю, показатели по которому были рассчитаны.\n",
    " \n",
    "</div>\n"
   ]
  },
  {
   "cell_type": "markdown",
   "metadata": {},
   "source": [
    "<div class=\"alert alert-info\"> <b>Комментарий студента:</b> так делали в тренажере, 7740 округляли до 10000 </div>"
   ]
  },
  {
   "cell_type": "markdown",
   "metadata": {},
   "source": [
    "<div class=\"alert alert-warning\">\n",
    "<b>Комментарий с советом ревьюера:</b> \n",
    "\n",
    "Лучше использовать код (расчет перцентиля) вместо ручного ввода аномальных значений. \n",
    "Это снизит возможные ошибки при повторном использовании кода.\n"
   ]
  },
  {
   "cell_type": "markdown",
   "metadata": {},
   "source": [
    "<div class=\"alert alert-info\"> <b>Комментарий студента:</b> как тогда должен выглядеть код? </div>"
   ]
  },
  {
   "cell_type": "markdown",
   "metadata": {},
   "source": [
    "<div class=\"alert alert-success\">\n",
    "<b>Комментарий с комплиментом ревьюера в2:</b> \n",
    "    \n",
    "к примеру np.percentile(ordersByUsers['orders'], 95)"
   ]
  },
  {
   "cell_type": "markdown",
   "metadata": {},
   "source": [
    "Выясним, есть ли существенные различия между группами с очищенными данными."
   ]
  },
  {
   "cell_type": "code",
   "execution_count": 42,
   "metadata": {},
   "outputs": [
    {
     "name": "stdout",
     "output_type": "stream",
     "text": [
      "P-value: 0.018\n",
      "Относительные различия: 0.145\n"
     ]
    }
   ],
   "source": [
    "# создадим переменные sampleAFiltered и sampleBFiltered, в которых сохраним очищенные данные о заказах \n",
    "sampleAFiltered = pd.concat(\n",
    "    [\n",
    "        ordersByUsersA[\n",
    "            np.logical_not(ordersByUsersA['visitor_id'].isin(abnormalUsers))\n",
    "        ]['transaction_id'],\n",
    "        pd.Series(\n",
    "            0,\n",
    "            index=np.arange(\n",
    "                data['visitorsPerDateA'].sum() - len(ordersByUsersA['transaction_id'])\n",
    "            ),\n",
    "            name='orders',\n",
    "        ),\n",
    "    ],\n",
    "    axis=0,\n",
    ")\n",
    "\n",
    "sampleBFiltered = pd.concat(\n",
    "    [\n",
    "        ordersByUsersB[\n",
    "            np.logical_not(ordersByUsersB['visitor_id'].isin(abnormalUsers))\n",
    "        ]['transaction_id'],\n",
    "        pd.Series(\n",
    "            0,\n",
    "            index=np.arange(\n",
    "                data['visitorsPerDateB'].sum() - len(ordersByUsersB['transaction_id'])\n",
    "            ),\n",
    "            name='orders',\n",
    "        ),\n",
    "    ],\n",
    "    axis=0,\n",
    ") \n",
    "print('P-value:','{0:.3f}'.format(stats.mannwhitneyu(sampleAFiltered, sampleBFiltered)[1]))\n",
    "print('Относительные различия:','{0:.3f}'.format(sampleBFiltered.mean()/sampleAFiltered.mean()-1)) \n"
   ]
  },
  {
   "cell_type": "markdown",
   "metadata": {},
   "source": [
    "Как и в случае с сырыми данными, статистическая значимость достигнута. Группа B значительно лучше группы A."
   ]
  },
  {
   "cell_type": "markdown",
   "metadata": {},
   "source": [
    "Посчитаем статистическую значимость различия средних чеков после удаления аномальных пользователей\n",
    "\n"
   ]
  },
  {
   "cell_type": "code",
   "execution_count": 44,
   "metadata": {},
   "outputs": [
    {
     "name": "stdout",
     "output_type": "stream",
     "text": [
      "P-value: 0.961\n",
      "Относительные различия: -0.014\n"
     ]
    }
   ],
   "source": [
    "print('P-value:',\n",
    "    '{0:.3f}'.format(\n",
    "        stats.mannwhitneyu(\n",
    "            orders[\n",
    "                np.logical_and(\n",
    "                    orders['group'] == 'A',\n",
    "                    np.logical_not(orders['visitor_id'].isin(abnormalUsers)),\n",
    "                )\n",
    "            ]['revenue'],\n",
    "            orders[\n",
    "                np.logical_and(\n",
    "                    orders['group'] == 'B',\n",
    "                    np.logical_not(orders['visitor_id'].isin(abnormalUsers)),\n",
    "                )\n",
    "            ]['revenue'],\n",
    "        )[1]\n",
    "    )\n",
    ")\n",
    "\n",
    "print('Относительные различия:',\n",
    "    \"{0:.3f}\".format(\n",
    "        orders[\n",
    "            np.logical_and(\n",
    "                orders['group'] == 'B',\n",
    "                np.logical_not(orders['visitor_id'].isin(abnormalUsers)),\n",
    "            )\n",
    "        ]['revenue'].mean()\n",
    "        / orders[\n",
    "            np.logical_and(\n",
    "                orders['group'] == 'A',\n",
    "                np.logical_not(orders['visitor_id'].isin(abnormalUsers)),\n",
    "            )\n",
    "        ]['revenue'].mean()\n",
    "        - 1\n",
    "    )\n",
    ") \n"
   ]
  },
  {
   "cell_type": "markdown",
   "metadata": {},
   "source": [
    "P-value 0.96 говорит о наличии статистической значимости различия среднего чека заказов между группами. После удаления выбросов в данных стало меньше шума. Разница между сегментами изменилась с 26% до -14%.\n",
    "\n"
   ]
  },
  {
   "cell_type": "markdown",
   "metadata": {},
   "source": [
    "\n",
    "<div class=\"alert alert-warning\">\n",
    "<b>Комментарий с советом ревьюера:</b> \n",
    "\n",
    "Когда мы сравниваем две величины в процентах, то о разнице надо говорить, что изменение произошло на … <b>процентных пункта</b>.\n"
   ]
  },
  {
   "cell_type": "markdown",
   "metadata": {},
   "source": [
    "<div class=\"alert alert-success\">\n",
    "<b>Комментарий с комплиментом ревьюера:</b> \n",
    " \n",
    "Верно, наблюдаем сильное влияние аномалий.\n"
   ]
  },
  {
   "cell_type": "markdown",
   "metadata": {},
   "source": [
    "# Вывод"
   ]
  },
  {
   "cell_type": "markdown",
   "metadata": {},
   "source": [
    "Есть статистически значимое различие по конверсии между группами как по сырым данным, так и после фильтрации аномалий. Прирост группы В выше прироста группы А на 14%.\n",
    "\n",
    "Сырые данные показывают, что кумулятивный средний чек растет неравномерно. На протяжении более половины теста средний чек группы А не увеличивался. Группа В на протяжении половины теста имеет резкие взлеты и падения, что позволило нам обнаружить аномалии. Фильтрация данных показала нам наличие статистической значимости различия средних чеков. \n",
    "\n",
    "График различия конверсии между группами сообщает, что результаты группы B лучше группы A: имеют тенденцию к росту, прирост около 15%.\n",
    "\n",
    "График различия среднего чека колеблется, что также свидетельтсвует об аномалиях. \n",
    "\n",
    "Тест можно остановить и признать его успешным.\n",
    "\n"
   ]
  },
  {
   "cell_type": "markdown",
   "metadata": {},
   "source": [
    "<div class=\"alert alert-success\">\n",
    "<b>Комментарий с комплиментом ревьюера:</b> \n",
    "    \n",
    "Решение верное.\n",
    "    \n",
    "Хороший аналитический вывод, вынесены основные показатели, которые получены в результате анализа.\n",
    "\n",
    "Действительно группы равны по среднему чеку, а по среднему количеству заказов группа В лучше группы А.  \n"
   ]
  },
  {
   "cell_type": "markdown",
   "metadata": {},
   "source": [
    "<div style=\"border:solid Chocolate 2px; padding: 40px\">\n",
    "\n",
    "# Общий вывод ревьюера\n",
    "\n",
    "<div class=\"alert alert-success\">\n",
    "\n",
    "Проделана хорошая аналитическая работа. Код написан чисто, соблюдена структура проекта, графики оформлены корректно и написаны логичные и обоснованные выводы. Есть несколько замечаний, исправь их и проект будет принят.\n",
    "\n",
    "- по ссылкам ниже интересные материалы по А/В тестам\n",
    "  \n",
    "    \n",
    "https://habr.com/ru/company/avito/blog/571094/\n",
    "\n",
    "https://habr.com/ru/company/yandex/blog/476826/\n",
    "\n",
    "https://academy.yandex.ru/journal/kak-provesti-a-b-testirovanie-6-prostykh-shagov\n",
    "\n",
    "https://habr.com/ru/company/yandex/blog/342704/\n",
    "\n",
    "https://r-analytics.blogspot.com/2013/10/blog-post_13.html \n",
    "\n",
    "</div>\n",
    "\n",
    "<div class=\"alert alert-danger\">\n",
    "\n",
    "- добавь, пожалуйста, формулировки гипотез\n",
    "</div>\n"
   ]
  },
  {
   "cell_type": "markdown",
   "metadata": {},
   "source": [
    "<div style=\"border:solid Chocolate 2px; padding: 40px\">\n",
    "\n",
    "# Общий вывод ревьюера в2\n",
    "\n",
    "<div class=\"alert alert-success\">\n",
    "\n",
    "Спасибо за проработку проекта, желаю успеха в следующих проектах"
   ]
  },
  {
   "cell_type": "code",
   "execution_count": null,
   "metadata": {},
   "outputs": [],
   "source": []
  }
 ],
 "metadata": {
  "ExecuteTimeLog": [
   {
    "duration": 372,
    "start_time": "2024-02-17T21:02:16.622Z"
   },
   {
    "duration": 58,
    "start_time": "2024-02-17T21:04:09.695Z"
   },
   {
    "duration": 10,
    "start_time": "2024-02-17T21:06:34.292Z"
   },
   {
    "duration": 6,
    "start_time": "2024-02-17T21:06:55.068Z"
   },
   {
    "duration": 2,
    "start_time": "2024-02-17T21:07:39.620Z"
   },
   {
    "duration": 25,
    "start_time": "2024-02-17T21:07:42.037Z"
   },
   {
    "duration": 9,
    "start_time": "2024-02-17T21:07:43.519Z"
   },
   {
    "duration": 5,
    "start_time": "2024-02-17T21:07:45.328Z"
   },
   {
    "duration": 856,
    "start_time": "2024-02-17T21:08:43.662Z"
   },
   {
    "duration": 27,
    "start_time": "2024-02-17T21:08:45.681Z"
   },
   {
    "duration": 10,
    "start_time": "2024-02-17T21:08:48.284Z"
   },
   {
    "duration": 5,
    "start_time": "2024-02-17T21:08:50.345Z"
   },
   {
    "duration": 11,
    "start_time": "2024-02-17T21:09:01.283Z"
   },
   {
    "duration": 9,
    "start_time": "2024-02-17T21:09:49.182Z"
   },
   {
    "duration": 3,
    "start_time": "2024-02-17T21:12:56.852Z"
   },
   {
    "duration": 7,
    "start_time": "2024-02-17T21:13:05.908Z"
   },
   {
    "duration": 3,
    "start_time": "2024-02-17T21:13:34.951Z"
   },
   {
    "duration": 3,
    "start_time": "2024-02-17T21:16:49.804Z"
   },
   {
    "duration": 11,
    "start_time": "2024-02-17T21:18:01.635Z"
   },
   {
    "duration": 7,
    "start_time": "2024-02-17T21:18:29.766Z"
   },
   {
    "duration": 7,
    "start_time": "2024-02-17T21:18:37.878Z"
   },
   {
    "duration": 9,
    "start_time": "2024-02-17T21:22:34.461Z"
   },
   {
    "duration": 6,
    "start_time": "2024-02-17T21:32:10.801Z"
   },
   {
    "duration": 14,
    "start_time": "2024-02-17T21:33:11.873Z"
   },
   {
    "duration": 94,
    "start_time": "2024-02-17T21:33:44.646Z"
   },
   {
    "duration": 108,
    "start_time": "2024-02-17T21:35:02.729Z"
   },
   {
    "duration": 14,
    "start_time": "2024-02-17T21:35:10.718Z"
   },
   {
    "duration": 2,
    "start_time": "2024-02-17T21:41:43.171Z"
   },
   {
    "duration": 3,
    "start_time": "2024-02-17T21:41:44.083Z"
   },
   {
    "duration": 33,
    "start_time": "2024-02-17T21:44:30.318Z"
   },
   {
    "duration": 8,
    "start_time": "2024-02-17T21:44:49.851Z"
   },
   {
    "duration": 1111,
    "start_time": "2024-02-17T21:45:23.860Z"
   },
   {
    "duration": 3,
    "start_time": "2024-02-17T21:45:38.421Z"
   },
   {
    "duration": 8,
    "start_time": "2024-02-17T21:45:40.935Z"
   },
   {
    "duration": 8,
    "start_time": "2024-02-17T21:45:51.521Z"
   },
   {
    "duration": 96,
    "start_time": "2024-02-17T21:46:31.124Z"
   },
   {
    "duration": 9,
    "start_time": "2024-02-17T21:49:38.884Z"
   },
   {
    "duration": 5,
    "start_time": "2024-02-17T21:49:44.752Z"
   },
   {
    "duration": 8,
    "start_time": "2024-02-17T21:50:13.006Z"
   },
   {
    "duration": 3,
    "start_time": "2024-02-17T21:50:45.962Z"
   },
   {
    "duration": 8,
    "start_time": "2024-02-17T21:51:04.526Z"
   },
   {
    "duration": 5,
    "start_time": "2024-02-17T21:51:12.993Z"
   },
   {
    "duration": 7,
    "start_time": "2024-02-17T21:51:23.527Z"
   },
   {
    "duration": 6,
    "start_time": "2024-02-17T21:52:34.847Z"
   },
   {
    "duration": 7,
    "start_time": "2024-02-17T21:52:50.394Z"
   },
   {
    "duration": 5,
    "start_time": "2024-02-17T21:52:58.145Z"
   },
   {
    "duration": 11,
    "start_time": "2024-02-17T21:53:09.495Z"
   },
   {
    "duration": 5,
    "start_time": "2024-02-17T21:53:16.375Z"
   },
   {
    "duration": 6,
    "start_time": "2024-02-17T21:53:34.287Z"
   },
   {
    "duration": 6,
    "start_time": "2024-02-17T21:53:40.854Z"
   },
   {
    "duration": 5,
    "start_time": "2024-02-17T21:53:56.764Z"
   },
   {
    "duration": 2,
    "start_time": "2024-02-17T21:56:22.179Z"
   },
   {
    "duration": 67,
    "start_time": "2024-02-17T21:57:17.983Z"
   },
   {
    "duration": 8,
    "start_time": "2024-02-17T21:57:38.463Z"
   },
   {
    "duration": 108,
    "start_time": "2024-02-17T21:58:07.765Z"
   },
   {
    "duration": 5,
    "start_time": "2024-02-17T21:58:17.849Z"
   },
   {
    "duration": 3,
    "start_time": "2024-02-17T21:58:32.470Z"
   },
   {
    "duration": 6,
    "start_time": "2024-02-17T21:59:05.414Z"
   },
   {
    "duration": 7,
    "start_time": "2024-02-17T21:59:25.762Z"
   },
   {
    "duration": 5,
    "start_time": "2024-02-17T22:09:30.395Z"
   },
   {
    "duration": 10,
    "start_time": "2024-02-17T22:11:47.220Z"
   },
   {
    "duration": 9,
    "start_time": "2024-02-17T22:11:53.185Z"
   },
   {
    "duration": 13,
    "start_time": "2024-02-17T22:12:12.379Z"
   },
   {
    "duration": 82,
    "start_time": "2024-02-17T22:20:16.422Z"
   },
   {
    "duration": 13,
    "start_time": "2024-02-17T22:20:30.495Z"
   },
   {
    "duration": 74,
    "start_time": "2024-02-17T22:21:59.137Z"
   },
   {
    "duration": 111,
    "start_time": "2024-02-17T22:22:13.181Z"
   },
   {
    "duration": 83,
    "start_time": "2024-02-17T22:22:18.539Z"
   },
   {
    "duration": 66,
    "start_time": "2024-02-17T22:22:25.817Z"
   },
   {
    "duration": 27,
    "start_time": "2024-02-17T22:22:31.425Z"
   },
   {
    "duration": 24,
    "start_time": "2024-02-17T22:22:49.480Z"
   },
   {
    "duration": 5,
    "start_time": "2024-02-17T22:23:27.438Z"
   },
   {
    "duration": 28,
    "start_time": "2024-02-17T22:23:31.229Z"
   },
   {
    "duration": 70,
    "start_time": "2024-02-17T22:24:46.856Z"
   },
   {
    "duration": 26,
    "start_time": "2024-02-17T22:25:08.361Z"
   },
   {
    "duration": 24,
    "start_time": "2024-02-17T22:25:35.922Z"
   },
   {
    "duration": 6,
    "start_time": "2024-02-17T22:26:37.140Z"
   },
   {
    "duration": 7,
    "start_time": "2024-02-17T22:26:58.999Z"
   },
   {
    "duration": 6,
    "start_time": "2024-02-17T22:27:01.848Z"
   },
   {
    "duration": 6,
    "start_time": "2024-02-17T22:27:04.775Z"
   },
   {
    "duration": 32,
    "start_time": "2024-02-17T22:27:07.904Z"
   },
   {
    "duration": 10,
    "start_time": "2024-02-17T22:27:11.648Z"
   },
   {
    "duration": 3,
    "start_time": "2024-02-17T22:27:16.511Z"
   },
   {
    "duration": 248,
    "start_time": "2024-02-17T22:27:20.392Z"
   },
   {
    "duration": 259,
    "start_time": "2024-02-17T22:27:42.498Z"
   },
   {
    "duration": 280,
    "start_time": "2024-02-17T22:27:47.163Z"
   },
   {
    "duration": 245,
    "start_time": "2024-02-17T22:31:10.332Z"
   },
   {
    "duration": 137,
    "start_time": "2024-02-17T22:31:40.977Z"
   },
   {
    "duration": 163,
    "start_time": "2024-02-17T22:31:52.857Z"
   },
   {
    "duration": 160,
    "start_time": "2024-02-17T22:32:04.800Z"
   },
   {
    "duration": 181,
    "start_time": "2024-02-17T22:32:25.699Z"
   },
   {
    "duration": 165,
    "start_time": "2024-02-17T22:32:32.166Z"
   },
   {
    "duration": 245,
    "start_time": "2024-02-17T22:34:12.244Z"
   },
   {
    "duration": 166,
    "start_time": "2024-02-17T22:34:19.015Z"
   },
   {
    "duration": 164,
    "start_time": "2024-02-17T22:34:24.417Z"
   },
   {
    "duration": 171,
    "start_time": "2024-02-17T22:34:31.994Z"
   },
   {
    "duration": 175,
    "start_time": "2024-02-17T22:34:40.104Z"
   },
   {
    "duration": 172,
    "start_time": "2024-02-17T22:34:48.664Z"
   },
   {
    "duration": 167,
    "start_time": "2024-02-17T22:34:59.533Z"
   },
   {
    "duration": 162,
    "start_time": "2024-02-17T22:35:05.978Z"
   },
   {
    "duration": 164,
    "start_time": "2024-02-17T22:35:12.748Z"
   },
   {
    "duration": 170,
    "start_time": "2024-02-17T22:35:20.924Z"
   },
   {
    "duration": 166,
    "start_time": "2024-02-17T22:35:28.314Z"
   },
   {
    "duration": 157,
    "start_time": "2024-02-17T22:35:34.007Z"
   },
   {
    "duration": 174,
    "start_time": "2024-02-17T22:36:29.329Z"
   },
   {
    "duration": 258,
    "start_time": "2024-02-17T22:36:37.430Z"
   },
   {
    "duration": 224,
    "start_time": "2024-02-17T22:36:42.478Z"
   },
   {
    "duration": 200,
    "start_time": "2024-02-17T22:36:51.800Z"
   },
   {
    "duration": 179,
    "start_time": "2024-02-17T22:36:57.057Z"
   },
   {
    "duration": 168,
    "start_time": "2024-02-17T22:37:03.346Z"
   },
   {
    "duration": 167,
    "start_time": "2024-02-17T22:37:42.592Z"
   },
   {
    "duration": 250,
    "start_time": "2024-02-17T22:37:49.842Z"
   },
   {
    "duration": 151,
    "start_time": "2024-02-17T22:45:32.582Z"
   },
   {
    "duration": 170,
    "start_time": "2024-02-17T22:45:47.963Z"
   },
   {
    "duration": 177,
    "start_time": "2024-02-17T22:45:58.372Z"
   },
   {
    "duration": 275,
    "start_time": "2024-02-17T22:47:55.154Z"
   },
   {
    "duration": 204,
    "start_time": "2024-02-17T22:48:18.886Z"
   },
   {
    "duration": 185,
    "start_time": "2024-02-17T22:48:32.985Z"
   },
   {
    "duration": 181,
    "start_time": "2024-02-17T22:49:19.105Z"
   },
   {
    "duration": 47,
    "start_time": "2024-02-18T09:43:34.923Z"
   },
   {
    "duration": 1216,
    "start_time": "2024-02-18T09:43:45.066Z"
   },
   {
    "duration": 73,
    "start_time": "2024-02-18T09:43:46.284Z"
   },
   {
    "duration": 10,
    "start_time": "2024-02-18T09:43:46.359Z"
   },
   {
    "duration": 3,
    "start_time": "2024-02-18T09:43:46.370Z"
   },
   {
    "duration": 16,
    "start_time": "2024-02-18T09:43:46.375Z"
   },
   {
    "duration": 8,
    "start_time": "2024-02-18T09:43:46.392Z"
   },
   {
    "duration": 90,
    "start_time": "2024-02-18T09:43:46.401Z"
   },
   {
    "duration": 6,
    "start_time": "2024-02-18T09:43:46.493Z"
   },
   {
    "duration": 5,
    "start_time": "2024-02-18T09:43:46.501Z"
   },
   {
    "duration": 8,
    "start_time": "2024-02-18T09:43:46.507Z"
   },
   {
    "duration": 6,
    "start_time": "2024-02-18T09:43:46.516Z"
   },
   {
    "duration": 64,
    "start_time": "2024-02-18T09:43:46.523Z"
   },
   {
    "duration": 6,
    "start_time": "2024-02-18T09:43:46.589Z"
   },
   {
    "duration": 3,
    "start_time": "2024-02-18T09:43:46.598Z"
   },
   {
    "duration": 8,
    "start_time": "2024-02-18T09:43:46.602Z"
   },
   {
    "duration": 8,
    "start_time": "2024-02-18T09:43:46.612Z"
   },
   {
    "duration": 271,
    "start_time": "2024-02-18T09:43:46.621Z"
   },
   {
    "duration": 272,
    "start_time": "2024-02-18T09:43:46.893Z"
   },
   {
    "duration": 196,
    "start_time": "2024-02-18T09:43:47.166Z"
   },
   {
    "duration": 198,
    "start_time": "2024-02-18T09:51:24.133Z"
   },
   {
    "duration": 6,
    "start_time": "2024-02-18T09:53:00.982Z"
   },
   {
    "duration": 149,
    "start_time": "2024-02-18T09:54:19.355Z"
   },
   {
    "duration": 326,
    "start_time": "2024-02-18T09:54:36.904Z"
   },
   {
    "duration": 295,
    "start_time": "2024-02-18T09:54:58.213Z"
   },
   {
    "duration": 269,
    "start_time": "2024-02-18T09:56:51.060Z"
   },
   {
    "duration": 316,
    "start_time": "2024-02-18T09:57:00.594Z"
   },
   {
    "duration": 230,
    "start_time": "2024-02-18T10:05:53.336Z"
   },
   {
    "duration": 294,
    "start_time": "2024-02-18T10:07:25.899Z"
   },
   {
    "duration": 306,
    "start_time": "2024-02-18T10:07:38.901Z"
   },
   {
    "duration": 295,
    "start_time": "2024-02-18T10:07:41.126Z"
   },
   {
    "duration": 179,
    "start_time": "2024-02-18T10:10:47.858Z"
   },
   {
    "duration": 190,
    "start_time": "2024-02-18T10:12:46.733Z"
   },
   {
    "duration": 199,
    "start_time": "2024-02-18T10:12:58.527Z"
   },
   {
    "duration": 88,
    "start_time": "2024-02-18T10:17:44.288Z"
   },
   {
    "duration": 294,
    "start_time": "2024-02-18T10:18:04.791Z"
   },
   {
    "duration": 264,
    "start_time": "2024-02-18T10:18:43.875Z"
   },
   {
    "duration": 251,
    "start_time": "2024-02-18T10:18:59.342Z"
   },
   {
    "duration": 233,
    "start_time": "2024-02-18T10:19:13.666Z"
   },
   {
    "duration": 386,
    "start_time": "2024-02-18T10:19:20.612Z"
   },
   {
    "duration": 309,
    "start_time": "2024-02-18T10:19:44.911Z"
   },
   {
    "duration": 265,
    "start_time": "2024-02-18T10:19:50.036Z"
   },
   {
    "duration": 266,
    "start_time": "2024-02-18T10:20:00.966Z"
   },
   {
    "duration": 291,
    "start_time": "2024-02-18T10:34:19.384Z"
   },
   {
    "duration": 303,
    "start_time": "2024-02-18T10:35:17.900Z"
   },
   {
    "duration": 205,
    "start_time": "2024-02-18T10:35:50.443Z"
   },
   {
    "duration": 9,
    "start_time": "2024-02-18T10:43:35.552Z"
   },
   {
    "duration": 125,
    "start_time": "2024-02-18T10:44:23.150Z"
   },
   {
    "duration": 219,
    "start_time": "2024-02-18T10:44:46.166Z"
   },
   {
    "duration": 122,
    "start_time": "2024-02-18T10:44:54.665Z"
   },
   {
    "duration": 5,
    "start_time": "2024-02-18T11:22:09.542Z"
   },
   {
    "duration": 149,
    "start_time": "2024-02-18T11:27:33.662Z"
   },
   {
    "duration": 4,
    "start_time": "2024-02-18T11:31:12.700Z"
   },
   {
    "duration": 266,
    "start_time": "2024-02-18T11:40:45.724Z"
   },
   {
    "duration": 20,
    "start_time": "2024-02-18T11:41:03.304Z"
   },
   {
    "duration": 130,
    "start_time": "2024-02-18T11:41:50.556Z"
   },
   {
    "duration": 7,
    "start_time": "2024-02-18T11:43:31.712Z"
   },
   {
    "duration": 26,
    "start_time": "2024-02-18T11:44:53.840Z"
   },
   {
    "duration": 30,
    "start_time": "2024-02-18T11:45:12.140Z"
   },
   {
    "duration": 25,
    "start_time": "2024-02-18T11:45:16.003Z"
   },
   {
    "duration": 12,
    "start_time": "2024-02-18T11:54:38.304Z"
   },
   {
    "duration": 8,
    "start_time": "2024-02-18T12:07:59.933Z"
   },
   {
    "duration": 28,
    "start_time": "2024-02-18T12:08:44.096Z"
   },
   {
    "duration": 28,
    "start_time": "2024-02-18T12:10:58.033Z"
   },
   {
    "duration": 14,
    "start_time": "2024-02-18T12:11:59.332Z"
   },
   {
    "duration": 86,
    "start_time": "2024-02-19T17:17:53.538Z"
   },
   {
    "duration": 1341,
    "start_time": "2024-02-19T17:28:12.157Z"
   },
   {
    "duration": 67,
    "start_time": "2024-02-19T17:28:13.501Z"
   },
   {
    "duration": 10,
    "start_time": "2024-02-19T17:28:13.570Z"
   },
   {
    "duration": 3,
    "start_time": "2024-02-19T17:28:13.582Z"
   },
   {
    "duration": 15,
    "start_time": "2024-02-19T17:28:13.586Z"
   },
   {
    "duration": 12,
    "start_time": "2024-02-19T17:28:13.603Z"
   },
   {
    "duration": 91,
    "start_time": "2024-02-19T17:28:13.616Z"
   },
   {
    "duration": 7,
    "start_time": "2024-02-19T17:28:13.709Z"
   },
   {
    "duration": 8,
    "start_time": "2024-02-19T17:28:13.718Z"
   },
   {
    "duration": 7,
    "start_time": "2024-02-19T17:28:13.730Z"
   },
   {
    "duration": 13,
    "start_time": "2024-02-19T17:28:13.739Z"
   },
   {
    "duration": 62,
    "start_time": "2024-02-19T17:28:13.755Z"
   },
   {
    "duration": 10,
    "start_time": "2024-02-19T17:28:13.819Z"
   },
   {
    "duration": 9,
    "start_time": "2024-02-19T17:28:13.831Z"
   },
   {
    "duration": 6,
    "start_time": "2024-02-19T17:28:13.842Z"
   },
   {
    "duration": 18,
    "start_time": "2024-02-19T17:28:13.850Z"
   },
   {
    "duration": 309,
    "start_time": "2024-02-19T17:28:13.870Z"
   },
   {
    "duration": 297,
    "start_time": "2024-02-19T17:28:14.181Z"
   },
   {
    "duration": 204,
    "start_time": "2024-02-19T17:28:14.480Z"
   },
   {
    "duration": 414,
    "start_time": "2024-02-19T17:28:14.685Z"
   },
   {
    "duration": 236,
    "start_time": "2024-02-19T17:28:15.101Z"
   },
   {
    "duration": 317,
    "start_time": "2024-02-19T17:28:15.339Z"
   },
   {
    "duration": 143,
    "start_time": "2024-02-19T17:28:15.658Z"
   },
   {
    "duration": 5,
    "start_time": "2024-02-19T17:28:15.803Z"
   },
   {
    "duration": 181,
    "start_time": "2024-02-19T17:28:15.810Z"
   },
   {
    "duration": 4,
    "start_time": "2024-02-19T17:28:15.993Z"
   },
   {
    "duration": 211,
    "start_time": "2024-02-19T17:28:15.999Z"
   },
   {
    "duration": 25,
    "start_time": "2024-02-19T17:28:16.215Z"
   },
   {
    "duration": 148,
    "start_time": "2024-02-19T17:28:16.242Z"
   },
   {
    "duration": 7,
    "start_time": "2024-02-19T17:28:16.392Z"
   },
   {
    "duration": 40,
    "start_time": "2024-02-19T17:28:16.400Z"
   },
   {
    "duration": 11,
    "start_time": "2024-02-19T17:28:16.442Z"
   },
   {
    "duration": 8,
    "start_time": "2024-02-19T17:28:16.455Z"
   },
   {
    "duration": 35,
    "start_time": "2024-02-19T17:28:16.464Z"
   },
   {
    "duration": 33,
    "start_time": "2024-02-19T17:28:16.501Z"
   },
   {
    "duration": 49,
    "start_time": "2024-02-21T09:36:37.484Z"
   },
   {
    "duration": 1233,
    "start_time": "2024-02-21T09:36:45.172Z"
   },
   {
    "duration": 66,
    "start_time": "2024-02-21T09:36:46.407Z"
   },
   {
    "duration": 3,
    "start_time": "2024-02-21T09:36:46.475Z"
   },
   {
    "duration": 18,
    "start_time": "2024-02-21T09:36:46.479Z"
   },
   {
    "duration": 49,
    "start_time": "2024-02-21T09:36:46.498Z"
   },
   {
    "duration": 21,
    "start_time": "2024-02-21T09:36:46.549Z"
   },
   {
    "duration": 98,
    "start_time": "2024-02-21T09:36:46.571Z"
   },
   {
    "duration": 10,
    "start_time": "2024-02-21T09:36:46.671Z"
   },
   {
    "duration": 8,
    "start_time": "2024-02-21T09:36:46.682Z"
   },
   {
    "duration": 9,
    "start_time": "2024-02-21T09:36:46.692Z"
   },
   {
    "duration": 17,
    "start_time": "2024-02-21T09:36:46.703Z"
   },
   {
    "duration": 55,
    "start_time": "2024-02-21T09:36:46.721Z"
   },
   {
    "duration": 6,
    "start_time": "2024-02-21T09:36:46.778Z"
   },
   {
    "duration": 8,
    "start_time": "2024-02-21T09:36:46.786Z"
   },
   {
    "duration": 9,
    "start_time": "2024-02-21T09:36:46.795Z"
   },
   {
    "duration": 8,
    "start_time": "2024-02-21T09:36:46.806Z"
   },
   {
    "duration": 287,
    "start_time": "2024-02-21T09:36:46.816Z"
   },
   {
    "duration": 275,
    "start_time": "2024-02-21T09:36:47.105Z"
   },
   {
    "duration": 190,
    "start_time": "2024-02-21T09:36:47.382Z"
   },
   {
    "duration": 359,
    "start_time": "2024-02-21T09:36:47.574Z"
   },
   {
    "duration": 201,
    "start_time": "2024-02-21T09:36:47.934Z"
   },
   {
    "duration": 303,
    "start_time": "2024-02-21T09:36:48.136Z"
   },
   {
    "duration": 124,
    "start_time": "2024-02-21T09:36:48.440Z"
   },
   {
    "duration": 4,
    "start_time": "2024-02-21T09:36:48.565Z"
   },
   {
    "duration": 193,
    "start_time": "2024-02-21T09:36:48.571Z"
   },
   {
    "duration": 4,
    "start_time": "2024-02-21T09:36:48.766Z"
   },
   {
    "duration": 214,
    "start_time": "2024-02-21T09:36:48.771Z"
   },
   {
    "duration": 21,
    "start_time": "2024-02-21T09:36:48.987Z"
   },
   {
    "duration": 167,
    "start_time": "2024-02-21T09:36:49.009Z"
   },
   {
    "duration": 6,
    "start_time": "2024-02-21T09:36:49.177Z"
   },
   {
    "duration": 61,
    "start_time": "2024-02-21T09:36:49.185Z"
   },
   {
    "duration": 32,
    "start_time": "2024-02-21T09:36:49.248Z"
   },
   {
    "duration": 34,
    "start_time": "2024-02-21T09:36:49.281Z"
   },
   {
    "duration": 46,
    "start_time": "2024-02-21T09:36:49.316Z"
   },
   {
    "duration": 52,
    "start_time": "2024-02-21T09:36:49.363Z"
   },
   {
    "duration": 3,
    "start_time": "2024-02-21T09:36:55.159Z"
   },
   {
    "duration": 11,
    "start_time": "2024-02-21T09:37:17.256Z"
   },
   {
    "duration": 10,
    "start_time": "2024-02-21T09:37:26.882Z"
   },
   {
    "duration": 2,
    "start_time": "2024-02-21T09:37:36.749Z"
   },
   {
    "duration": 10,
    "start_time": "2024-02-21T09:37:40.184Z"
   },
   {
    "duration": 30,
    "start_time": "2024-02-21T09:38:10.506Z"
   },
   {
    "duration": 8,
    "start_time": "2024-02-21T09:38:16.130Z"
   },
   {
    "duration": 31,
    "start_time": "2024-02-21T09:39:13.474Z"
   },
   {
    "duration": 7,
    "start_time": "2024-02-21T09:39:15.470Z"
   },
   {
    "duration": 3,
    "start_time": "2024-02-21T09:39:28.771Z"
   },
   {
    "duration": 8,
    "start_time": "2024-02-21T09:39:31.553Z"
   },
   {
    "duration": 10,
    "start_time": "2024-02-21T09:39:41.931Z"
   },
   {
    "duration": 3,
    "start_time": "2024-02-21T09:39:44.307Z"
   },
   {
    "duration": 3,
    "start_time": "2024-02-21T09:39:48.133Z"
   },
   {
    "duration": 9,
    "start_time": "2024-02-21T09:39:50.449Z"
   },
   {
    "duration": 8,
    "start_time": "2024-02-21T09:39:53.603Z"
   },
   {
    "duration": 1083,
    "start_time": "2024-02-21T09:40:18.286Z"
   },
   {
    "duration": 32,
    "start_time": "2024-02-21T09:40:19.371Z"
   },
   {
    "duration": 21,
    "start_time": "2024-02-21T09:40:19.405Z"
   },
   {
    "duration": 3,
    "start_time": "2024-02-21T09:40:19.428Z"
   },
   {
    "duration": 21,
    "start_time": "2024-02-21T09:40:19.432Z"
   },
   {
    "duration": 7,
    "start_time": "2024-02-21T09:40:19.455Z"
   },
   {
    "duration": 48,
    "start_time": "2024-02-21T09:40:19.463Z"
   },
   {
    "duration": 7,
    "start_time": "2024-02-21T09:40:19.512Z"
   },
   {
    "duration": 6,
    "start_time": "2024-02-21T09:40:19.521Z"
   },
   {
    "duration": 21,
    "start_time": "2024-02-21T09:40:19.530Z"
   },
   {
    "duration": 7,
    "start_time": "2024-02-21T09:40:19.554Z"
   },
   {
    "duration": 20,
    "start_time": "2024-02-21T09:40:19.562Z"
   },
   {
    "duration": 6,
    "start_time": "2024-02-21T09:40:19.584Z"
   },
   {
    "duration": 4,
    "start_time": "2024-02-21T09:40:19.592Z"
   },
   {
    "duration": 13,
    "start_time": "2024-02-21T09:40:19.597Z"
   },
   {
    "duration": 21,
    "start_time": "2024-02-21T09:40:19.611Z"
   },
   {
    "duration": 266,
    "start_time": "2024-02-21T09:40:19.634Z"
   },
   {
    "duration": 276,
    "start_time": "2024-02-21T09:40:19.902Z"
   },
   {
    "duration": 189,
    "start_time": "2024-02-21T09:40:20.180Z"
   },
   {
    "duration": 279,
    "start_time": "2024-02-21T09:40:20.371Z"
   },
   {
    "duration": 203,
    "start_time": "2024-02-21T09:40:20.652Z"
   },
   {
    "duration": 295,
    "start_time": "2024-02-21T09:40:20.857Z"
   },
   {
    "duration": 140,
    "start_time": "2024-02-21T09:40:21.154Z"
   },
   {
    "duration": 4,
    "start_time": "2024-02-21T09:40:21.295Z"
   },
   {
    "duration": 159,
    "start_time": "2024-02-21T09:40:21.300Z"
   },
   {
    "duration": 5,
    "start_time": "2024-02-21T09:40:21.461Z"
   },
   {
    "duration": 195,
    "start_time": "2024-02-21T09:40:21.467Z"
   },
   {
    "duration": 18,
    "start_time": "2024-02-21T09:40:21.664Z"
   },
   {
    "duration": 159,
    "start_time": "2024-02-21T09:40:21.683Z"
   },
   {
    "duration": 6,
    "start_time": "2024-02-21T09:40:21.843Z"
   },
   {
    "duration": 51,
    "start_time": "2024-02-21T09:40:21.851Z"
   },
   {
    "duration": 24,
    "start_time": "2024-02-21T09:40:21.904Z"
   },
   {
    "duration": 8,
    "start_time": "2024-02-21T09:40:21.930Z"
   },
   {
    "duration": 70,
    "start_time": "2024-02-21T09:40:21.940Z"
   },
   {
    "duration": 26,
    "start_time": "2024-02-21T09:40:22.012Z"
   },
   {
    "duration": 31,
    "start_time": "2024-02-21T09:40:28.801Z"
   },
   {
    "duration": 9,
    "start_time": "2024-02-21T09:40:32.955Z"
   },
   {
    "duration": 1349,
    "start_time": "2024-02-21T09:40:36.234Z"
   },
   {
    "duration": 2,
    "start_time": "2024-02-21T09:40:47.038Z"
   },
   {
    "duration": 7,
    "start_time": "2024-02-21T09:40:48.822Z"
   },
   {
    "duration": 30,
    "start_time": "2024-02-21T09:41:14.665Z"
   },
   {
    "duration": 36,
    "start_time": "2024-02-21T09:41:22.498Z"
   },
   {
    "duration": 7,
    "start_time": "2024-02-21T09:41:24.668Z"
   },
   {
    "duration": 3,
    "start_time": "2024-02-21T09:44:13.969Z"
   },
   {
    "duration": 30,
    "start_time": "2024-02-21T09:44:15.486Z"
   },
   {
    "duration": 8,
    "start_time": "2024-02-21T09:44:17.651Z"
   },
   {
    "duration": 3,
    "start_time": "2024-02-21T09:44:27.435Z"
   },
   {
    "duration": 7,
    "start_time": "2024-02-21T09:44:29.467Z"
   },
   {
    "duration": 30,
    "start_time": "2024-02-21T09:44:50.773Z"
   },
   {
    "duration": 4,
    "start_time": "2024-02-21T09:44:52.974Z"
   },
   {
    "duration": 7,
    "start_time": "2024-02-21T09:44:55.089Z"
   },
   {
    "duration": 2,
    "start_time": "2024-02-21T09:44:57.940Z"
   },
   {
    "duration": 9,
    "start_time": "2024-02-21T09:44:59.737Z"
   },
   {
    "duration": 1502,
    "start_time": "2024-02-22T18:34:11.954Z"
   },
   {
    "duration": 100,
    "start_time": "2024-02-22T18:34:13.459Z"
   },
   {
    "duration": 3,
    "start_time": "2024-02-22T18:34:13.560Z"
   },
   {
    "duration": 12,
    "start_time": "2024-02-22T18:34:13.565Z"
   },
   {
    "duration": 3,
    "start_time": "2024-02-22T18:34:13.580Z"
   },
   {
    "duration": 25,
    "start_time": "2024-02-22T18:34:13.584Z"
   },
   {
    "duration": 15,
    "start_time": "2024-02-22T18:34:13.611Z"
   },
   {
    "duration": 90,
    "start_time": "2024-02-22T18:34:13.628Z"
   },
   {
    "duration": 15,
    "start_time": "2024-02-22T18:34:13.719Z"
   },
   {
    "duration": 6,
    "start_time": "2024-02-22T18:34:13.740Z"
   },
   {
    "duration": 9,
    "start_time": "2024-02-22T18:34:13.748Z"
   },
   {
    "duration": 8,
    "start_time": "2024-02-22T18:34:13.759Z"
   },
   {
    "duration": 63,
    "start_time": "2024-02-22T18:34:13.768Z"
   },
   {
    "duration": 10,
    "start_time": "2024-02-22T18:34:13.834Z"
   },
   {
    "duration": 4,
    "start_time": "2024-02-22T18:34:13.845Z"
   },
   {
    "duration": 27,
    "start_time": "2024-02-22T18:34:13.850Z"
   },
   {
    "duration": 14,
    "start_time": "2024-02-22T18:34:13.879Z"
   },
   {
    "duration": 377,
    "start_time": "2024-02-22T18:34:13.895Z"
   },
   {
    "duration": 384,
    "start_time": "2024-02-22T18:34:14.274Z"
   },
   {
    "duration": 264,
    "start_time": "2024-02-22T18:34:14.660Z"
   },
   {
    "duration": 465,
    "start_time": "2024-02-22T18:34:14.926Z"
   },
   {
    "duration": 293,
    "start_time": "2024-02-22T18:34:15.393Z"
   },
   {
    "duration": 380,
    "start_time": "2024-02-22T18:34:15.688Z"
   },
   {
    "duration": 152,
    "start_time": "2024-02-22T18:34:16.070Z"
   },
   {
    "duration": 9,
    "start_time": "2024-02-22T18:34:16.225Z"
   },
   {
    "duration": 210,
    "start_time": "2024-02-22T18:34:16.235Z"
   },
   {
    "duration": 4,
    "start_time": "2024-02-22T18:34:16.447Z"
   },
   {
    "duration": 237,
    "start_time": "2024-02-22T18:34:16.452Z"
   },
   {
    "duration": 31,
    "start_time": "2024-02-22T18:34:16.691Z"
   },
   {
    "duration": 150,
    "start_time": "2024-02-22T18:34:16.723Z"
   },
   {
    "duration": 6,
    "start_time": "2024-02-22T18:34:16.874Z"
   },
   {
    "duration": 56,
    "start_time": "2024-02-22T18:34:16.881Z"
   },
   {
    "duration": 11,
    "start_time": "2024-02-22T18:34:16.939Z"
   },
   {
    "duration": 38,
    "start_time": "2024-02-22T18:34:16.952Z"
   },
   {
    "duration": 59,
    "start_time": "2024-02-22T18:34:16.991Z"
   },
   {
    "duration": 13,
    "start_time": "2024-02-22T18:34:17.052Z"
   },
   {
    "duration": 126,
    "start_time": "2024-02-22T19:02:48.875Z"
   },
   {
    "duration": 11,
    "start_time": "2024-02-22T19:19:59.800Z"
   },
   {
    "duration": 9,
    "start_time": "2024-02-22T19:22:48.462Z"
   },
   {
    "duration": 9,
    "start_time": "2024-02-22T19:22:56.926Z"
   },
   {
    "duration": 31,
    "start_time": "2024-02-22T19:22:59.724Z"
   },
   {
    "duration": 39,
    "start_time": "2024-02-22T19:23:09.473Z"
   },
   {
    "duration": 15,
    "start_time": "2024-02-22T19:23:12.718Z"
   },
   {
    "duration": 13,
    "start_time": "2024-02-22T19:24:08.412Z"
   }
  ],
  "kernelspec": {
   "display_name": "Python 3 (ipykernel)",
   "language": "python",
   "name": "python3"
  },
  "language_info": {
   "codemirror_mode": {
    "name": "ipython",
    "version": 3
   },
   "file_extension": ".py",
   "mimetype": "text/x-python",
   "name": "python",
   "nbconvert_exporter": "python",
   "pygments_lexer": "ipython3",
   "version": "3.9.5"
  },
  "toc": {
   "base_numbering": 1,
   "nav_menu": {},
   "number_sections": true,
   "sideBar": true,
   "skip_h1_title": true,
   "title_cell": "Table of Contents",
   "title_sidebar": "Contents",
   "toc_cell": false,
   "toc_position": {},
   "toc_section_display": true,
   "toc_window_display": false
  }
 },
 "nbformat": 4,
 "nbformat_minor": 2
}
