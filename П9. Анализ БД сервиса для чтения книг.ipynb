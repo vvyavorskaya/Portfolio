{
 "cells": [
  {
   "cell_type": "markdown",
   "metadata": {},
   "source": [
    "# Выпускной проект"
   ]
  },
  {
   "cell_type": "markdown",
   "metadata": {},
   "source": [
    "# Анализ базы данных сервиса для чтения книг"
   ]
  },
  {
   "cell_type": "markdown",
   "metadata": {},
   "source": [
    "Компания купила крупный сервис для чтения книг по подписке и нуждается в анализе базы данных, чтобы сформулировать ценностное предложение для нового продукта\n",
    "\n",
    "**Цель исследования:** проанализировать базы данных и дать представление компании о книгах, издательствах, авторах, а также пользовательских обзорах книг, которые помогут в развитии сервиса"
   ]
  },
  {
   "cell_type": "markdown",
   "metadata": {},
   "source": [
    "# Описание данных\n",
    "\n",
    "1) `Таблица books - данные о книгах`\n",
    "* book_id — идентификатор книги;\n",
    "* author_id — идентификатор автора;\n",
    "* title — название книги;\n",
    "* num_pages — количество страниц;\n",
    "* publication_date — дата публикации книги;\n",
    "* publisher_id — идентификатор издателя.\n",
    "\n",
    "2) `Таблица authors - данные об авторах`\n",
    "* author_id — идентификатор автора;\n",
    "* author — имя автора.\n",
    "\n",
    "3) `Таблица publishers - данные об издательствах`\n",
    "* publisher_id — идентификатор издательства;\n",
    "* publisher — название издательства.\n",
    "\n",
    "3) `Таблица ratings - данные о пользовательских оценках книг`\n",
    "* rating_id — идентификатор оценки;\n",
    "* book_id — идентификатор книги;\n",
    "* username — имя пользователя, оставившего оценку;\n",
    "* rating — оценка книги.\n",
    "\n",
    "4) `Таблица reviews - данные о пользовательских обзорах`\n",
    "* review_id — идентификатор обзора;\n",
    "* book_id — идентификатор книги;\n",
    "* username — имя автора обзора;\n",
    "* text — текст обзора.\n",
    "\n"
   ]
  },
  {
   "cell_type": "markdown",
   "metadata": {},
   "source": [
    "# Схема данных"
   ]
  },
  {
   "cell_type": "markdown",
   "metadata": {},
   "source": [
    "![Схема данных](https://pictures.s3.yandex.net/resources/scheme_1589269096.png)\n"
   ]
  },
  {
   "cell_type": "markdown",
   "metadata": {},
   "source": [
    "**Задания**\n",
    "\n",
    "1) Посчитайте, сколько книг вышло после 1 января 2000 года;\n",
    "\n",
    "2) Для каждой книги посчитайте количество обзоров и среднюю оценку;\n",
    "\n",
    "3) Определите издательство, которое выпустило наибольшее число книг толще 50 страниц — так вы исключите из анализа брошюры;\n",
    "\n",
    "4) Определите автора с самой высокой средней оценкой книг — учитывайте только книги с 50 и более оценками;\n",
    "\n",
    "5) Посчитайте среднее количество обзоров от пользователей, которые поставили больше 48 оценок."
   ]
  },
  {
   "cell_type": "markdown",
   "metadata": {},
   "source": [
    "# Загрузка и обзор данных"
   ]
  },
  {
   "cell_type": "code",
   "execution_count": 1,
   "metadata": {},
   "outputs": [],
   "source": [
    "# импортируем библиотеки\n",
    "import pandas as pd\n",
    "from sqlalchemy import text, create_engine\n"
   ]
  },
  {
   "cell_type": "markdown",
   "metadata": {},
   "source": [
    "Исследуем таблицы - выведем первые строки"
   ]
  },
  {
   "cell_type": "code",
   "execution_count": 3,
   "metadata": {},
   "outputs": [
    {
     "data": {
      "text/html": [
       "<div>\n",
       "<style scoped>\n",
       "    .dataframe tbody tr th:only-of-type {\n",
       "        vertical-align: middle;\n",
       "    }\n",
       "\n",
       "    .dataframe tbody tr th {\n",
       "        vertical-align: top;\n",
       "    }\n",
       "\n",
       "    .dataframe thead th {\n",
       "        text-align: right;\n",
       "    }\n",
       "</style>\n",
       "<table border=\"1\" class=\"dataframe\">\n",
       "  <thead>\n",
       "    <tr style=\"text-align: right;\">\n",
       "      <th></th>\n",
       "      <th>book_id</th>\n",
       "      <th>author_id</th>\n",
       "      <th>title</th>\n",
       "      <th>num_pages</th>\n",
       "      <th>publication_date</th>\n",
       "      <th>publisher_id</th>\n",
       "    </tr>\n",
       "  </thead>\n",
       "  <tbody>\n",
       "    <tr>\n",
       "      <th>0</th>\n",
       "      <td>1</td>\n",
       "      <td>546</td>\n",
       "      <td>'Salem's Lot</td>\n",
       "      <td>594</td>\n",
       "      <td>2005-11-01</td>\n",
       "      <td>93</td>\n",
       "    </tr>\n",
       "    <tr>\n",
       "      <th>1</th>\n",
       "      <td>2</td>\n",
       "      <td>465</td>\n",
       "      <td>1 000 Places to See Before You Die</td>\n",
       "      <td>992</td>\n",
       "      <td>2003-05-22</td>\n",
       "      <td>336</td>\n",
       "    </tr>\n",
       "    <tr>\n",
       "      <th>2</th>\n",
       "      <td>3</td>\n",
       "      <td>407</td>\n",
       "      <td>13 Little Blue Envelopes (Little Blue Envelope...</td>\n",
       "      <td>322</td>\n",
       "      <td>2010-12-21</td>\n",
       "      <td>135</td>\n",
       "    </tr>\n",
       "    <tr>\n",
       "      <th>3</th>\n",
       "      <td>4</td>\n",
       "      <td>82</td>\n",
       "      <td>1491: New Revelations of the Americas Before C...</td>\n",
       "      <td>541</td>\n",
       "      <td>2006-10-10</td>\n",
       "      <td>309</td>\n",
       "    </tr>\n",
       "    <tr>\n",
       "      <th>4</th>\n",
       "      <td>5</td>\n",
       "      <td>125</td>\n",
       "      <td>1776</td>\n",
       "      <td>386</td>\n",
       "      <td>2006-07-04</td>\n",
       "      <td>268</td>\n",
       "    </tr>\n",
       "  </tbody>\n",
       "</table>\n",
       "</div>"
      ],
      "text/plain": [
       "   book_id  author_id                                              title  \\\n",
       "0        1        546                                       'Salem's Lot   \n",
       "1        2        465                 1 000 Places to See Before You Die   \n",
       "2        3        407  13 Little Blue Envelopes (Little Blue Envelope...   \n",
       "3        4         82  1491: New Revelations of the Americas Before C...   \n",
       "4        5        125                                               1776   \n",
       "\n",
       "   num_pages publication_date  publisher_id  \n",
       "0        594       2005-11-01            93  \n",
       "1        992       2003-05-22           336  \n",
       "2        322       2010-12-21           135  \n",
       "3        541       2006-10-10           309  \n",
       "4        386       2006-07-04           268  "
      ]
     },
     "execution_count": 3,
     "metadata": {},
     "output_type": "execute_result"
    }
   ],
   "source": [
    "query = '''SELECT * FROM books LIMIT 5'''\n",
    "con=engine.connect()\n",
    "pd.io.sql.read_sql(sql=text(query), con = con)"
   ]
  },
  {
   "cell_type": "code",
   "execution_count": 4,
   "metadata": {
    "scrolled": true
   },
   "outputs": [
    {
     "data": {
      "text/html": [
       "<div>\n",
       "<style scoped>\n",
       "    .dataframe tbody tr th:only-of-type {\n",
       "        vertical-align: middle;\n",
       "    }\n",
       "\n",
       "    .dataframe tbody tr th {\n",
       "        vertical-align: top;\n",
       "    }\n",
       "\n",
       "    .dataframe thead th {\n",
       "        text-align: right;\n",
       "    }\n",
       "</style>\n",
       "<table border=\"1\" class=\"dataframe\">\n",
       "  <thead>\n",
       "    <tr style=\"text-align: right;\">\n",
       "      <th></th>\n",
       "      <th>author_id</th>\n",
       "      <th>author</th>\n",
       "    </tr>\n",
       "  </thead>\n",
       "  <tbody>\n",
       "    <tr>\n",
       "      <th>0</th>\n",
       "      <td>1</td>\n",
       "      <td>A.S. Byatt</td>\n",
       "    </tr>\n",
       "    <tr>\n",
       "      <th>1</th>\n",
       "      <td>2</td>\n",
       "      <td>Aesop/Laura Harris/Laura Gibbs</td>\n",
       "    </tr>\n",
       "    <tr>\n",
       "      <th>2</th>\n",
       "      <td>3</td>\n",
       "      <td>Agatha Christie</td>\n",
       "    </tr>\n",
       "    <tr>\n",
       "      <th>3</th>\n",
       "      <td>4</td>\n",
       "      <td>Alan Brennert</td>\n",
       "    </tr>\n",
       "    <tr>\n",
       "      <th>4</th>\n",
       "      <td>5</td>\n",
       "      <td>Alan Moore/David   Lloyd</td>\n",
       "    </tr>\n",
       "  </tbody>\n",
       "</table>\n",
       "</div>"
      ],
      "text/plain": [
       "   author_id                          author\n",
       "0          1                      A.S. Byatt\n",
       "1          2  Aesop/Laura Harris/Laura Gibbs\n",
       "2          3                 Agatha Christie\n",
       "3          4                   Alan Brennert\n",
       "4          5        Alan Moore/David   Lloyd"
      ]
     },
     "execution_count": 4,
     "metadata": {},
     "output_type": "execute_result"
    }
   ],
   "source": [
    "query = '''SELECT * FROM authors LIMIT 5'''\n",
    "con=engine.connect()\n",
    "pd.io.sql.read_sql(sql=text(query), con = con)"
   ]
  },
  {
   "cell_type": "code",
   "execution_count": 5,
   "metadata": {
    "scrolled": true
   },
   "outputs": [
    {
     "data": {
      "text/html": [
       "<div>\n",
       "<style scoped>\n",
       "    .dataframe tbody tr th:only-of-type {\n",
       "        vertical-align: middle;\n",
       "    }\n",
       "\n",
       "    .dataframe tbody tr th {\n",
       "        vertical-align: top;\n",
       "    }\n",
       "\n",
       "    .dataframe thead th {\n",
       "        text-align: right;\n",
       "    }\n",
       "</style>\n",
       "<table border=\"1\" class=\"dataframe\">\n",
       "  <thead>\n",
       "    <tr style=\"text-align: right;\">\n",
       "      <th></th>\n",
       "      <th>publisher_id</th>\n",
       "      <th>publisher</th>\n",
       "    </tr>\n",
       "  </thead>\n",
       "  <tbody>\n",
       "    <tr>\n",
       "      <th>0</th>\n",
       "      <td>1</td>\n",
       "      <td>Ace</td>\n",
       "    </tr>\n",
       "    <tr>\n",
       "      <th>1</th>\n",
       "      <td>2</td>\n",
       "      <td>Ace Book</td>\n",
       "    </tr>\n",
       "    <tr>\n",
       "      <th>2</th>\n",
       "      <td>3</td>\n",
       "      <td>Ace Books</td>\n",
       "    </tr>\n",
       "    <tr>\n",
       "      <th>3</th>\n",
       "      <td>4</td>\n",
       "      <td>Ace Hardcover</td>\n",
       "    </tr>\n",
       "    <tr>\n",
       "      <th>4</th>\n",
       "      <td>5</td>\n",
       "      <td>Addison Wesley Publishing Company</td>\n",
       "    </tr>\n",
       "  </tbody>\n",
       "</table>\n",
       "</div>"
      ],
      "text/plain": [
       "   publisher_id                          publisher\n",
       "0             1                                Ace\n",
       "1             2                           Ace Book\n",
       "2             3                          Ace Books\n",
       "3             4                      Ace Hardcover\n",
       "4             5  Addison Wesley Publishing Company"
      ]
     },
     "execution_count": 5,
     "metadata": {},
     "output_type": "execute_result"
    }
   ],
   "source": [
    "query = '''SELECT * FROM publishers LIMIT 5'''\n",
    "con=engine.connect()\n",
    "pd.io.sql.read_sql(sql=text(query), con = con)"
   ]
  },
  {
   "cell_type": "code",
   "execution_count": 6,
   "metadata": {
    "scrolled": true
   },
   "outputs": [
    {
     "data": {
      "text/html": [
       "<div>\n",
       "<style scoped>\n",
       "    .dataframe tbody tr th:only-of-type {\n",
       "        vertical-align: middle;\n",
       "    }\n",
       "\n",
       "    .dataframe tbody tr th {\n",
       "        vertical-align: top;\n",
       "    }\n",
       "\n",
       "    .dataframe thead th {\n",
       "        text-align: right;\n",
       "    }\n",
       "</style>\n",
       "<table border=\"1\" class=\"dataframe\">\n",
       "  <thead>\n",
       "    <tr style=\"text-align: right;\">\n",
       "      <th></th>\n",
       "      <th>rating_id</th>\n",
       "      <th>book_id</th>\n",
       "      <th>username</th>\n",
       "      <th>rating</th>\n",
       "    </tr>\n",
       "  </thead>\n",
       "  <tbody>\n",
       "    <tr>\n",
       "      <th>0</th>\n",
       "      <td>1</td>\n",
       "      <td>1</td>\n",
       "      <td>ryanfranco</td>\n",
       "      <td>4</td>\n",
       "    </tr>\n",
       "    <tr>\n",
       "      <th>1</th>\n",
       "      <td>2</td>\n",
       "      <td>1</td>\n",
       "      <td>grantpatricia</td>\n",
       "      <td>2</td>\n",
       "    </tr>\n",
       "    <tr>\n",
       "      <th>2</th>\n",
       "      <td>3</td>\n",
       "      <td>1</td>\n",
       "      <td>brandtandrea</td>\n",
       "      <td>5</td>\n",
       "    </tr>\n",
       "    <tr>\n",
       "      <th>3</th>\n",
       "      <td>4</td>\n",
       "      <td>2</td>\n",
       "      <td>lorichen</td>\n",
       "      <td>3</td>\n",
       "    </tr>\n",
       "    <tr>\n",
       "      <th>4</th>\n",
       "      <td>5</td>\n",
       "      <td>2</td>\n",
       "      <td>mariokeller</td>\n",
       "      <td>2</td>\n",
       "    </tr>\n",
       "  </tbody>\n",
       "</table>\n",
       "</div>"
      ],
      "text/plain": [
       "   rating_id  book_id       username  rating\n",
       "0          1        1     ryanfranco       4\n",
       "1          2        1  grantpatricia       2\n",
       "2          3        1   brandtandrea       5\n",
       "3          4        2       lorichen       3\n",
       "4          5        2    mariokeller       2"
      ]
     },
     "execution_count": 6,
     "metadata": {},
     "output_type": "execute_result"
    }
   ],
   "source": [
    "query = '''SELECT * FROM ratings LIMIT 5'''\n",
    "con=engine.connect()\n",
    "pd.io.sql.read_sql(sql=text(query), con = con)"
   ]
  },
  {
   "cell_type": "code",
   "execution_count": 7,
   "metadata": {
    "scrolled": false
   },
   "outputs": [
    {
     "data": {
      "text/html": [
       "<div>\n",
       "<style scoped>\n",
       "    .dataframe tbody tr th:only-of-type {\n",
       "        vertical-align: middle;\n",
       "    }\n",
       "\n",
       "    .dataframe tbody tr th {\n",
       "        vertical-align: top;\n",
       "    }\n",
       "\n",
       "    .dataframe thead th {\n",
       "        text-align: right;\n",
       "    }\n",
       "</style>\n",
       "<table border=\"1\" class=\"dataframe\">\n",
       "  <thead>\n",
       "    <tr style=\"text-align: right;\">\n",
       "      <th></th>\n",
       "      <th>review_id</th>\n",
       "      <th>book_id</th>\n",
       "      <th>username</th>\n",
       "      <th>text</th>\n",
       "    </tr>\n",
       "  </thead>\n",
       "  <tbody>\n",
       "    <tr>\n",
       "      <th>0</th>\n",
       "      <td>1</td>\n",
       "      <td>1</td>\n",
       "      <td>brandtandrea</td>\n",
       "      <td>Mention society tell send professor analysis. ...</td>\n",
       "    </tr>\n",
       "    <tr>\n",
       "      <th>1</th>\n",
       "      <td>2</td>\n",
       "      <td>1</td>\n",
       "      <td>ryanfranco</td>\n",
       "      <td>Foot glass pretty audience hit themselves. Amo...</td>\n",
       "    </tr>\n",
       "    <tr>\n",
       "      <th>2</th>\n",
       "      <td>3</td>\n",
       "      <td>2</td>\n",
       "      <td>lorichen</td>\n",
       "      <td>Listen treat keep worry. Miss husband tax but ...</td>\n",
       "    </tr>\n",
       "    <tr>\n",
       "      <th>3</th>\n",
       "      <td>4</td>\n",
       "      <td>3</td>\n",
       "      <td>johnsonamanda</td>\n",
       "      <td>Finally month interesting blue could nature cu...</td>\n",
       "    </tr>\n",
       "    <tr>\n",
       "      <th>4</th>\n",
       "      <td>5</td>\n",
       "      <td>3</td>\n",
       "      <td>scotttamara</td>\n",
       "      <td>Nation purpose heavy give wait song will. List...</td>\n",
       "    </tr>\n",
       "  </tbody>\n",
       "</table>\n",
       "</div>"
      ],
      "text/plain": [
       "   review_id  book_id       username  \\\n",
       "0          1        1   brandtandrea   \n",
       "1          2        1     ryanfranco   \n",
       "2          3        2       lorichen   \n",
       "3          4        3  johnsonamanda   \n",
       "4          5        3    scotttamara   \n",
       "\n",
       "                                                text  \n",
       "0  Mention society tell send professor analysis. ...  \n",
       "1  Foot glass pretty audience hit themselves. Amo...  \n",
       "2  Listen treat keep worry. Miss husband tax but ...  \n",
       "3  Finally month interesting blue could nature cu...  \n",
       "4  Nation purpose heavy give wait song will. List...  "
      ]
     },
     "execution_count": 7,
     "metadata": {},
     "output_type": "execute_result"
    }
   ],
   "source": [
    "query = '''SELECT * FROM reviews LIMIT 5'''\n",
    "con=engine.connect()\n",
    "pd.io.sql.read_sql(sql=text(query), con = con)"
   ]
  },
  {
   "cell_type": "markdown",
   "metadata": {},
   "source": [
    "**Задание 1:**\n",
    "\n",
    "Посчитайте, сколько книг вышло после 1 января 2000 года;\n"
   ]
  },
  {
   "cell_type": "code",
   "execution_count": 8,
   "metadata": {
    "scrolled": true
   },
   "outputs": [
    {
     "data": {
      "text/html": [
       "<div>\n",
       "<style scoped>\n",
       "    .dataframe tbody tr th:only-of-type {\n",
       "        vertical-align: middle;\n",
       "    }\n",
       "\n",
       "    .dataframe tbody tr th {\n",
       "        vertical-align: top;\n",
       "    }\n",
       "\n",
       "    .dataframe thead th {\n",
       "        text-align: right;\n",
       "    }\n",
       "</style>\n",
       "<table border=\"1\" class=\"dataframe\">\n",
       "  <thead>\n",
       "    <tr style=\"text-align: right;\">\n",
       "      <th></th>\n",
       "      <th>count</th>\n",
       "    </tr>\n",
       "  </thead>\n",
       "  <tbody>\n",
       "    <tr>\n",
       "      <th>0</th>\n",
       "      <td>819</td>\n",
       "    </tr>\n",
       "  </tbody>\n",
       "</table>\n",
       "</div>"
      ],
      "text/plain": [
       "   count\n",
       "0    819"
      ]
     },
     "execution_count": 8,
     "metadata": {},
     "output_type": "execute_result"
    }
   ],
   "source": [
    "task1 = ''' SELECT COUNT(*) FROM books WHERE publication_date > '2000-01-01' '''\n",
    "\n",
    "con=engine.connect()\n",
    "pd.io.sql.read_sql(sql=text(task1), con = con)"
   ]
  },
  {
   "cell_type": "markdown",
   "metadata": {},
   "source": [
    "* после 1 января 2000 года вышло 819 книг"
   ]
  },
  {
   "cell_type": "markdown",
   "metadata": {},
   "source": [
    "**Задание 2:**\n",
    "\n",
    "Для каждой книги посчитайте количество обзоров и среднюю оценку;"
   ]
  },
  {
   "cell_type": "code",
   "execution_count": 9,
   "metadata": {
    "scrolled": false
   },
   "outputs": [
    {
     "data": {
      "text/html": [
       "<div>\n",
       "<style scoped>\n",
       "    .dataframe tbody tr th:only-of-type {\n",
       "        vertical-align: middle;\n",
       "    }\n",
       "\n",
       "    .dataframe tbody tr th {\n",
       "        vertical-align: top;\n",
       "    }\n",
       "\n",
       "    .dataframe thead th {\n",
       "        text-align: right;\n",
       "    }\n",
       "</style>\n",
       "<table border=\"1\" class=\"dataframe\">\n",
       "  <thead>\n",
       "    <tr style=\"text-align: right;\">\n",
       "      <th></th>\n",
       "      <th>title</th>\n",
       "      <th>book_id</th>\n",
       "      <th>review_count</th>\n",
       "      <th>rating_avg</th>\n",
       "    </tr>\n",
       "  </thead>\n",
       "  <tbody>\n",
       "    <tr>\n",
       "      <th>0</th>\n",
       "      <td>The Body in the Library (Miss Marple  #3)</td>\n",
       "      <td>652</td>\n",
       "      <td>2.0</td>\n",
       "      <td>4.500000</td>\n",
       "    </tr>\n",
       "    <tr>\n",
       "      <th>1</th>\n",
       "      <td>Galápagos</td>\n",
       "      <td>273</td>\n",
       "      <td>2.0</td>\n",
       "      <td>4.500000</td>\n",
       "    </tr>\n",
       "    <tr>\n",
       "      <th>2</th>\n",
       "      <td>A Tree Grows in Brooklyn</td>\n",
       "      <td>51</td>\n",
       "      <td>5.0</td>\n",
       "      <td>4.250000</td>\n",
       "    </tr>\n",
       "    <tr>\n",
       "      <th>3</th>\n",
       "      <td>Undaunted Courage: The Pioneering First Missio...</td>\n",
       "      <td>951</td>\n",
       "      <td>2.0</td>\n",
       "      <td>4.000000</td>\n",
       "    </tr>\n",
       "    <tr>\n",
       "      <th>4</th>\n",
       "      <td>The Prophet</td>\n",
       "      <td>839</td>\n",
       "      <td>4.0</td>\n",
       "      <td>4.285714</td>\n",
       "    </tr>\n",
       "    <tr>\n",
       "      <th>...</th>\n",
       "      <td>...</td>\n",
       "      <td>...</td>\n",
       "      <td>...</td>\n",
       "      <td>...</td>\n",
       "    </tr>\n",
       "    <tr>\n",
       "      <th>995</th>\n",
       "      <td>Alice in Wonderland</td>\n",
       "      <td>64</td>\n",
       "      <td>4.0</td>\n",
       "      <td>4.230769</td>\n",
       "    </tr>\n",
       "    <tr>\n",
       "      <th>996</th>\n",
       "      <td>A Woman of Substance (Emma Harte Saga #1)</td>\n",
       "      <td>55</td>\n",
       "      <td>2.0</td>\n",
       "      <td>5.000000</td>\n",
       "    </tr>\n",
       "    <tr>\n",
       "      <th>997</th>\n",
       "      <td>Christine</td>\n",
       "      <td>148</td>\n",
       "      <td>3.0</td>\n",
       "      <td>3.428571</td>\n",
       "    </tr>\n",
       "    <tr>\n",
       "      <th>998</th>\n",
       "      <td>The Magicians' Guild (Black Magician Trilogy  #1)</td>\n",
       "      <td>790</td>\n",
       "      <td>2.0</td>\n",
       "      <td>3.500000</td>\n",
       "    </tr>\n",
       "    <tr>\n",
       "      <th>999</th>\n",
       "      <td>The Plot Against America</td>\n",
       "      <td>828</td>\n",
       "      <td>2.0</td>\n",
       "      <td>3.000000</td>\n",
       "    </tr>\n",
       "  </tbody>\n",
       "</table>\n",
       "<p>1000 rows × 4 columns</p>\n",
       "</div>"
      ],
      "text/plain": [
       "                                                 title  book_id  review_count  \\\n",
       "0            The Body in the Library (Miss Marple  #3)      652           2.0   \n",
       "1                                            Galápagos      273           2.0   \n",
       "2                             A Tree Grows in Brooklyn       51           5.0   \n",
       "3    Undaunted Courage: The Pioneering First Missio...      951           2.0   \n",
       "4                                          The Prophet      839           4.0   \n",
       "..                                                 ...      ...           ...   \n",
       "995                                Alice in Wonderland       64           4.0   \n",
       "996          A Woman of Substance (Emma Harte Saga #1)       55           2.0   \n",
       "997                                          Christine      148           3.0   \n",
       "998  The Magicians' Guild (Black Magician Trilogy  #1)      790           2.0   \n",
       "999                           The Plot Against America      828           2.0   \n",
       "\n",
       "     rating_avg  \n",
       "0      4.500000  \n",
       "1      4.500000  \n",
       "2      4.250000  \n",
       "3      4.000000  \n",
       "4      4.285714  \n",
       "..          ...  \n",
       "995    4.230769  \n",
       "996    5.000000  \n",
       "997    3.428571  \n",
       "998    3.500000  \n",
       "999    3.000000  \n",
       "\n",
       "[1000 rows x 4 columns]"
      ]
     },
     "execution_count": 9,
     "metadata": {},
     "output_type": "execute_result"
    }
   ],
   "source": [
    "task2 = ''' \n",
    "\n",
    "SELECT \n",
    "    books.title,\n",
    "    books.book_id,\n",
    "    rev.review_count,\n",
    "    rat.rating_avg\n",
    "FROM books LEFT JOIN \n",
    "                (SELECT\n",
    "                    book_id,\n",
    "                    AVG(rating) AS rating_avg\n",
    "                FROM\n",
    "                    ratings\n",
    "                GROUP BY \n",
    "                    book_id\n",
    "                ) AS rat ON rat.book_id = books.book_id\n",
    "        LEFT JOIN\n",
    "                (SELECT \n",
    "                    book_id,\n",
    "                    COUNT(review_id) AS review_count\n",
    "                FROM\n",
    "                    reviews\n",
    "                GROUP BY \n",
    "                    book_id\n",
    "                ) AS rev ON rev.book_id = books.book_id\n",
    "                \n",
    "; ''' \n",
    "\n",
    "con=engine.connect()\n",
    "task_2 = pd.io.sql.read_sql(sql=text(task2), con = con)\n",
    "task_2"
   ]
  },
  {
   "cell_type": "code",
   "execution_count": 10,
   "metadata": {},
   "outputs": [
    {
     "data": {
      "text/html": [
       "<div>\n",
       "<style scoped>\n",
       "    .dataframe tbody tr th:only-of-type {\n",
       "        vertical-align: middle;\n",
       "    }\n",
       "\n",
       "    .dataframe tbody tr th {\n",
       "        vertical-align: top;\n",
       "    }\n",
       "\n",
       "    .dataframe thead th {\n",
       "        text-align: right;\n",
       "    }\n",
       "</style>\n",
       "<table border=\"1\" class=\"dataframe\">\n",
       "  <thead>\n",
       "    <tr style=\"text-align: right;\">\n",
       "      <th></th>\n",
       "      <th>review_count</th>\n",
       "      <th>rating_avg</th>\n",
       "    </tr>\n",
       "  </thead>\n",
       "  <tbody>\n",
       "    <tr>\n",
       "      <th>count</th>\n",
       "      <td>994.0</td>\n",
       "      <td>1000.0</td>\n",
       "    </tr>\n",
       "    <tr>\n",
       "      <th>mean</th>\n",
       "      <td>2.8</td>\n",
       "      <td>3.9</td>\n",
       "    </tr>\n",
       "    <tr>\n",
       "      <th>std</th>\n",
       "      <td>1.1</td>\n",
       "      <td>0.6</td>\n",
       "    </tr>\n",
       "    <tr>\n",
       "      <th>min</th>\n",
       "      <td>1.0</td>\n",
       "      <td>1.5</td>\n",
       "    </tr>\n",
       "    <tr>\n",
       "      <th>25%</th>\n",
       "      <td>2.0</td>\n",
       "      <td>3.5</td>\n",
       "    </tr>\n",
       "    <tr>\n",
       "      <th>50%</th>\n",
       "      <td>3.0</td>\n",
       "      <td>4.0</td>\n",
       "    </tr>\n",
       "    <tr>\n",
       "      <th>75%</th>\n",
       "      <td>3.0</td>\n",
       "      <td>4.3</td>\n",
       "    </tr>\n",
       "    <tr>\n",
       "      <th>max</th>\n",
       "      <td>7.0</td>\n",
       "      <td>5.0</td>\n",
       "    </tr>\n",
       "  </tbody>\n",
       "</table>\n",
       "</div>"
      ],
      "text/plain": [
       "       review_count  rating_avg\n",
       "count         994.0      1000.0\n",
       "mean            2.8         3.9\n",
       "std             1.1         0.6\n",
       "min             1.0         1.5\n",
       "25%             2.0         3.5\n",
       "50%             3.0         4.0\n",
       "75%             3.0         4.3\n",
       "max             7.0         5.0"
      ]
     },
     "execution_count": 10,
     "metadata": {},
     "output_type": "execute_result"
    }
   ],
   "source": [
    "round(task_2.drop('book_id', axis=1).describe(),1)"
   ]
  },
  {
   "cell_type": "code",
   "execution_count": 11,
   "metadata": {
    "scrolled": true
   },
   "outputs": [
    {
     "data": {
      "image/png": "[encoded data removed]",
      "text/plain": [
       "<Figure size 432x288 with 1 Axes>"
      ]
     },
     "metadata": {
      "needs_background": "light"
     },
     "output_type": "display_data"
    }
   ],
   "source": [
    "task_2['review_count'].hist();"
   ]
  },
  {
   "cell_type": "code",
   "execution_count": 12,
   "metadata": {
    "scrolled": true
   },
   "outputs": [
    {
     "data": {
      "image/png": "[encoded data removed]",
      "text/plain": [
       "<Figure size 432x288 with 1 Axes>"
      ]
     },
     "metadata": {
      "needs_background": "light"
     },
     "output_type": "display_data"
    }
   ],
   "source": [
    "task_2['rating_avg'].hist();"
   ]
  },
  {
   "cell_type": "markdown",
   "metadata": {},
   "source": [
    "* мы получили информацию о 1000 книгах\n",
    "* книги получают от 1 до 7 отзывов, большая часть книг имеет 2-3 отзыва\n",
    "* рейтинг книг варьируется от 1.5 до 5, большая часть книг имеет рейтинг от 3.5 до 4.3"
   ]
  },
  {
   "cell_type": "markdown",
   "metadata": {},
   "source": [
    "**Задание 3:**\n",
    "\n",
    "Определите издательство, которое выпустило наибольшее число книг толще 50 страниц "
   ]
  },
  {
   "cell_type": "code",
   "execution_count": 13,
   "metadata": {
    "scrolled": false
   },
   "outputs": [
    {
     "data": {
      "text/html": [
       "<div>\n",
       "<style scoped>\n",
       "    .dataframe tbody tr th:only-of-type {\n",
       "        vertical-align: middle;\n",
       "    }\n",
       "\n",
       "    .dataframe tbody tr th {\n",
       "        vertical-align: top;\n",
       "    }\n",
       "\n",
       "    .dataframe thead th {\n",
       "        text-align: right;\n",
       "    }\n",
       "</style>\n",
       "<table border=\"1\" class=\"dataframe\">\n",
       "  <thead>\n",
       "    <tr style=\"text-align: right;\">\n",
       "      <th></th>\n",
       "      <th>pub_id</th>\n",
       "      <th>publisher</th>\n",
       "      <th>books_count</th>\n",
       "    </tr>\n",
       "  </thead>\n",
       "  <tbody>\n",
       "    <tr>\n",
       "      <th>0</th>\n",
       "      <td>212</td>\n",
       "      <td>Penguin Books</td>\n",
       "      <td>42</td>\n",
       "    </tr>\n",
       "  </tbody>\n",
       "</table>\n",
       "</div>"
      ],
      "text/plain": [
       "   pub_id      publisher  books_count\n",
       "0     212  Penguin Books           42"
      ]
     },
     "execution_count": 13,
     "metadata": {},
     "output_type": "execute_result"
    }
   ],
   "source": [
    "task3 = ''' \n",
    "SELECT\n",
    "    pub_info.pub_id,\n",
    "    pub_info.publisher,\n",
    "    pub_info.books_count\n",
    "FROM\n",
    "    (SELECT \n",
    "        books.publisher_id AS pub_id,\n",
    "        COUNT(books.book_id) AS books_count,\n",
    "        publishers.publisher AS publisher\n",
    "    FROM \n",
    "        books \n",
    "        LEFT JOIN publishers ON books.publisher_id=publishers.publisher_id\n",
    "\n",
    "    WHERE \n",
    "        num_pages>50\n",
    "    GROUP BY\n",
    "        books.publisher_id,\n",
    "        publishers.publisher\n",
    "    ORDER BY \n",
    "        books_count DESC) AS pub_info\n",
    "LIMIT 1\n",
    "; ''' \n",
    "\n",
    "con=engine.connect()\n",
    "pd.io.sql.read_sql(sql=text(task3), con = con)\n"
   ]
  },
  {
   "cell_type": "markdown",
   "metadata": {},
   "source": [
    "Наибольшее число книг толще 50 страниц выпустило издательство Penguin Books, количество: 42 книги"
   ]
  },
  {
   "cell_type": "markdown",
   "metadata": {},
   "source": [
    "**Задание 4:**\n",
    "\n",
    "Определите автора с самой высокой средней оценкой книг — учитывайте только книги с 50 и более оценками"
   ]
  },
  {
   "cell_type": "code",
   "execution_count": 14,
   "metadata": {
    "scrolled": true
   },
   "outputs": [
    {
     "data": {
      "text/html": [
       "<div>\n",
       "<style scoped>\n",
       "    .dataframe tbody tr th:only-of-type {\n",
       "        vertical-align: middle;\n",
       "    }\n",
       "\n",
       "    .dataframe tbody tr th {\n",
       "        vertical-align: top;\n",
       "    }\n",
       "\n",
       "    .dataframe thead th {\n",
       "        text-align: right;\n",
       "    }\n",
       "</style>\n",
       "<table border=\"1\" class=\"dataframe\">\n",
       "  <thead>\n",
       "    <tr style=\"text-align: right;\">\n",
       "      <th></th>\n",
       "      <th>author</th>\n",
       "      <th>avg_rat</th>\n",
       "    </tr>\n",
       "  </thead>\n",
       "  <tbody>\n",
       "    <tr>\n",
       "      <th>0</th>\n",
       "      <td>J.K. Rowling/Mary GrandPré</td>\n",
       "      <td>4.283844</td>\n",
       "    </tr>\n",
       "  </tbody>\n",
       "</table>\n",
       "</div>"
      ],
      "text/plain": [
       "                       author   avg_rat\n",
       "0  J.K. Rowling/Mary GrandPré  4.283844"
      ]
     },
     "execution_count": 14,
     "metadata": {},
     "output_type": "execute_result"
    }
   ],
   "source": [
    "task4 = ''' \n",
    "SELECT \n",
    "    author_avg.author,\n",
    "    AVG(author_avg.avg_rating) AS avg_rat\n",
    "FROM\n",
    "        (SELECT \n",
    "            authors.author AS author, \n",
    "            AVG(ratings.rating) AS avg_rating\n",
    "        FROM books\n",
    "            LEFT JOIN authors ON books.author_id = authors.author_id\n",
    "            LEFT JOIN ratings ON books.book_id = ratings.book_id\n",
    "        GROUP BY \n",
    "             books.book_id,\n",
    "             authors.author_id\n",
    "        HAVING\n",
    "            COUNT(ratings.rating_id) >=50 \n",
    "        ) AS author_avg \n",
    "GROUP BY    \n",
    "    author_avg.author\n",
    "ORDER BY\n",
    "    avg_rat DESC\n",
    "LIMIT 1\n",
    "    \n",
    "; ''' \n",
    "\n",
    "con=engine.connect()\n",
    "pd.io.sql.read_sql(sql=text(task4), con = con)"
   ]
  },
  {
   "cell_type": "markdown",
   "metadata": {},
   "source": [
    "Автор с самой высокой средней оценкой книг (книги с 50 и более оценками) - J.K. Rowling/Mary GrandPré\t"
   ]
  },
  {
   "cell_type": "markdown",
   "metadata": {},
   "source": [
    "**Задание 5:**\n",
    "\n",
    "Посчитайте среднее количество обзоров от пользователей, которые поставили больше 48 оценок."
   ]
  },
  {
   "cell_type": "code",
   "execution_count": 15,
   "metadata": {
    "scrolled": true
   },
   "outputs": [
    {
     "data": {
      "text/html": [
       "<div>\n",
       "<style scoped>\n",
       "    .dataframe tbody tr th:only-of-type {\n",
       "        vertical-align: middle;\n",
       "    }\n",
       "\n",
       "    .dataframe tbody tr th {\n",
       "        vertical-align: top;\n",
       "    }\n",
       "\n",
       "    .dataframe thead th {\n",
       "        text-align: right;\n",
       "    }\n",
       "</style>\n",
       "<table border=\"1\" class=\"dataframe\">\n",
       "  <thead>\n",
       "    <tr style=\"text-align: right;\">\n",
       "      <th></th>\n",
       "      <th>avg</th>\n",
       "    </tr>\n",
       "  </thead>\n",
       "  <tbody>\n",
       "    <tr>\n",
       "      <th>0</th>\n",
       "      <td>24.0</td>\n",
       "    </tr>\n",
       "  </tbody>\n",
       "</table>\n",
       "</div>"
      ],
      "text/plain": [
       "    avg\n",
       "0  24.0"
      ]
     },
     "execution_count": 15,
     "metadata": {},
     "output_type": "execute_result"
    }
   ],
   "source": [
    "task5 = ''' \n",
    "SELECT\n",
    "    AVG(users.review_count)\n",
    "FROM\n",
    "    (SELECT\n",
    "        username,\n",
    "        COUNT(review_id) AS review_count\n",
    "    FROM\n",
    "        reviews\n",
    "    WHERE \n",
    "        username IN (\n",
    "                SELECT \n",
    "                    username\n",
    "                FROM \n",
    "                    ratings\n",
    "                GROUP BY \n",
    "                    username\n",
    "                HAVING \n",
    "                    COUNT(rating_id) > 48\n",
    "                    )\n",
    "    GROUP BY \n",
    "        username) AS users\n",
    "; ''' \n",
    "\n",
    "con=engine.connect()\n",
    "pd.io.sql.read_sql(sql=text(task5), con = con)"
   ]
  },
  {
   "cell_type": "markdown",
   "metadata": {},
   "source": [
    " Cреднее количество обзоров от пользователей, которые поставили больше 48 оценок - 24"
   ]
  }
 ],
 "metadata": {
  "ExecuteTimeLog": [
   {
    "duration": 839,
    "start_time": "2024-05-03T16:47:02.977Z"
   },
   {
    "duration": 477,
    "start_time": "2024-05-03T16:51:22.313Z"
   },
   {
    "duration": 8363,
    "start_time": "2024-05-03T16:52:38.444Z"
   },
   {
    "duration": 3,
    "start_time": "2024-05-03T16:53:11.599Z"
   },
   {
    "duration": 50,
    "start_time": "2024-05-03T16:54:15.161Z"
   },
   {
    "duration": 36,
    "start_time": "2024-05-03T16:54:56.312Z"
   },
   {
    "duration": 12,
    "start_time": "2024-05-03T16:55:12.526Z"
   },
   {
    "duration": 13,
    "start_time": "2024-05-03T16:56:07.726Z"
   },
   {
    "duration": 12,
    "start_time": "2024-05-03T16:56:19.393Z"
   },
   {
    "duration": 14,
    "start_time": "2024-05-03T17:15:56.234Z"
   },
   {
    "duration": 3,
    "start_time": "2024-05-03T17:16:07.377Z"
   },
   {
    "duration": 11,
    "start_time": "2024-05-03T17:17:16.314Z"
   },
   {
    "duration": 2,
    "start_time": "2024-05-03T17:17:25.684Z"
   },
   {
    "duration": 10,
    "start_time": "2024-05-03T17:18:32.904Z"
   },
   {
    "duration": 25,
    "start_time": "2024-05-03T17:42:29.712Z"
   },
   {
    "duration": 68,
    "start_time": "2024-05-03T17:44:03.837Z"
   },
   {
    "duration": 69,
    "start_time": "2024-05-03T17:46:14.400Z"
   },
   {
    "duration": 25,
    "start_time": "2024-05-03T17:46:36.293Z"
   },
   {
    "duration": 558,
    "start_time": "2024-05-03T17:46:44.636Z"
   },
   {
    "duration": 117,
    "start_time": "2024-05-03T17:47:06.067Z"
   },
   {
    "duration": 135,
    "start_time": "2024-05-03T17:47:09.840Z"
   },
   {
    "duration": 143,
    "start_time": "2024-05-03T17:47:31.400Z"
   },
   {
    "duration": 128,
    "start_time": "2024-05-03T17:48:17.689Z"
   },
   {
    "duration": 125,
    "start_time": "2024-05-03T17:48:22.373Z"
   },
   {
    "duration": 129,
    "start_time": "2024-05-03T17:48:29.060Z"
   },
   {
    "duration": 128,
    "start_time": "2024-05-03T17:48:42.022Z"
   },
   {
    "duration": 112,
    "start_time": "2024-05-03T17:48:47.632Z"
   },
   {
    "duration": 133,
    "start_time": "2024-05-03T17:48:51.631Z"
   },
   {
    "duration": 11,
    "start_time": "2024-05-03T17:49:47.508Z"
   },
   {
    "duration": 18,
    "start_time": "2024-05-03T17:49:51.491Z"
   },
   {
    "duration": 16,
    "start_time": "2024-05-03T17:50:14.395Z"
   },
   {
    "duration": 15,
    "start_time": "2024-05-03T17:50:21.682Z"
   },
   {
    "duration": 18,
    "start_time": "2024-05-03T17:50:35.302Z"
   },
   {
    "duration": 16,
    "start_time": "2024-05-03T17:50:44.203Z"
   },
   {
    "duration": 17,
    "start_time": "2024-05-03T17:50:51.616Z"
   },
   {
    "duration": 3,
    "start_time": "2024-05-03T18:00:10.689Z"
   },
   {
    "duration": 26,
    "start_time": "2024-05-03T18:00:26.299Z"
   },
   {
    "duration": 21,
    "start_time": "2024-05-03T18:00:47.002Z"
   },
   {
    "duration": 34,
    "start_time": "2024-05-03T18:00:59.262Z"
   },
   {
    "duration": 21,
    "start_time": "2024-05-03T18:01:21.845Z"
   },
   {
    "duration": 12,
    "start_time": "2024-05-03T18:01:34.015Z"
   },
   {
    "duration": 60,
    "start_time": "2024-05-03T18:03:05.184Z"
   },
   {
    "duration": 3,
    "start_time": "2024-05-03T18:18:22.075Z"
   },
   {
    "duration": 14,
    "start_time": "2024-05-03T18:18:45.978Z"
   },
   {
    "duration": 12,
    "start_time": "2024-05-03T18:18:54.336Z"
   },
   {
    "duration": 17,
    "start_time": "2024-05-03T18:20:46.450Z"
   },
   {
    "duration": 3,
    "start_time": "2024-05-03T18:25:28.309Z"
   },
   {
    "duration": 26,
    "start_time": "2024-05-03T18:25:40.300Z"
   },
   {
    "duration": 20,
    "start_time": "2024-05-03T18:26:21.017Z"
   },
   {
    "duration": 49,
    "start_time": "2024-05-03T18:26:41.581Z"
   },
   {
    "duration": 43,
    "start_time": "2024-05-03T18:28:40.256Z"
   },
   {
    "duration": 500,
    "start_time": "2024-05-03T19:34:52.800Z"
   },
   {
    "duration": 7600,
    "start_time": "2024-05-03T19:34:53.302Z"
   },
   {
    "duration": 58,
    "start_time": "2024-05-03T19:35:00.904Z"
   },
   {
    "duration": 45,
    "start_time": "2024-05-03T19:35:00.964Z"
   },
   {
    "duration": 25,
    "start_time": "2024-05-03T19:35:01.011Z"
   },
   {
    "duration": 63,
    "start_time": "2024-05-03T19:35:01.038Z"
   },
   {
    "duration": 60,
    "start_time": "2024-05-03T19:35:01.103Z"
   },
   {
    "duration": 57,
    "start_time": "2024-05-03T19:35:01.165Z"
   },
   {
    "duration": 72,
    "start_time": "2024-05-03T19:35:01.224Z"
   },
   {
    "duration": 85,
    "start_time": "2024-05-03T19:35:01.297Z"
   },
   {
    "duration": 411,
    "start_time": "2024-05-03T19:35:01.384Z"
   },
   {
    "duration": 192,
    "start_time": "2024-05-03T19:35:01.796Z"
   },
   {
    "duration": 14,
    "start_time": "2024-05-03T19:35:01.989Z"
   },
   {
    "duration": 17,
    "start_time": "2024-05-03T19:35:02.007Z"
   },
   {
    "duration": 32,
    "start_time": "2024-05-03T19:35:02.026Z"
   }
  ],
  "kernelspec": {
   "display_name": "Python 3 (ipykernel)",
   "language": "python",
   "name": "python3"
  },
  "language_info": {
   "codemirror_mode": {
    "name": "ipython",
    "version": 3
   },
   "file_extension": ".py",
   "mimetype": "text/x-python",
   "name": "python",
   "nbconvert_exporter": "python",
   "pygments_lexer": "ipython3",
   "version": "3.9.5"
  },
  "toc": {
   "base_numbering": 1,
   "nav_menu": {},
   "number_sections": true,
   "sideBar": true,
   "skip_h1_title": true,
   "title_cell": "Table of Contents",
   "title_sidebar": "Contents",
   "toc_cell": false,
   "toc_position": {},
   "toc_section_display": true,
   "toc_window_display": true
  }
 },
 "nbformat": 4,
 "nbformat_minor": 2
}
