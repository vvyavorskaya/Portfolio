{
 "cells": [
  {
   "cell_type": "markdown",
   "id": "6668e237",
   "metadata": {},
   "source": [
    "# Статистический анализ для сервиса аренды самокатов GoFast"
   ]
  },
  {
   "cell_type": "markdown",
   "id": "13279ad9",
   "metadata": {},
   "source": [
    "### Цель исследования \n",
    "\n",
    " - проанализировать данные и проверить гипотезы, которые могут помочь бизнесу вырасти.  \n",
    "\n",
    "\n",
    "    - Чтобы совершать поездки по городу, пользователи сервиса GoFast пользуются мобильным приложением. \n",
    "    \n",
    "    \n",
    "        Сервисом можно пользоваться:\n",
    "        * без подписки\n",
    "        * абонентская плата отсутствует;\n",
    "        * стоимость одной минуты поездки — 8 рублей;\n",
    "        * стоимость старта (начала поездки) — 50 рублей;\n",
    "\n",
    "        С подпиской Ultra\n",
    "        * абонентская плата — 199 рублей в месяц;\n",
    "        * стоимость одной минуты поездки — 6 рублей;\n",
    "        * стоимость старта — бесплатно.\n",
    "     \n",
    "\n",
    "### Общий вывод\n",
    "- пользователи с платной подпиской не являются более выгодными для компании, потому что выручка будет сопоставима: пользователи без подписки ездят больше и дольше, их минута и стартовый взнос - дороже, соответственно, они принесут больше денег, но они больше влияют на износ самокатов, чем пользователи с подпиской. "
   ]
  },
  {
   "cell_type": "markdown",
   "id": "c539b97c",
   "metadata": {},
   "source": [
    "# Описание данных"
   ]
  },
  {
   "cell_type": "markdown",
   "id": "8f9ad177",
   "metadata": {},
   "source": [
    "**Пользователи — `/datasets/users_go.csv`**\n",
    "\n",
    "* user_id — уникальный идентификатор пользователя\n",
    "* name — имя пользователя\n",
    "* age — возраст\n",
    "* city — город\n",
    "* subscription_type — тип подписки (free, ultra)\n",
    "\n",
    "\n",
    "**Поeздки —  `/datasets/rides_go.csv`**\n",
    "\n",
    "* user_id — уникальный идентификатор пользователя\n",
    "* distance — расстояние, которое пользователь проехал в текущей сессии (в метрах)\n",
    "* duration — продолжительность сессии (в минутах) — время с того момента, как пользователь нажал кнопку «Начать поездку» до момента, как он нажал кнопку «Завершить поездку»\n",
    "* date — дата совершения поездки\n",
    "\n",
    "\n",
    "**Подписки — `/datasets/subscriptions_go.csv.csv`**\n",
    "* subscription_type — тип подписки\n",
    "* minute_price — стоимость одной минуты поездки по данной подписке\n",
    "* start_ride_price — стоимость начала поездки\n",
    "* subscription_fee — стоимость ежемесячного платежа"
   ]
  },
  {
   "cell_type": "markdown",
   "id": "5e644f8e",
   "metadata": {},
   "source": [
    "### Инструменты\n",
    "* pandas, matplotlib, numpy, scipy, seaborn"
   ]
  },
  {
   "cell_type": "markdown",
   "id": "089efca1",
   "metadata": {},
   "source": [
    "# Импорт библиотек и загрузка файлов с данными\n"
   ]
  },
  {
   "cell_type": "code",
   "execution_count": 1,
   "id": "72576667",
   "metadata": {},
   "outputs": [],
   "source": [
    "# загрузка библиотек\n",
    "import pandas as pd\n",
    "import matplotlib.pyplot as plt\n",
    "import numpy as np\n",
    "from scipy import stats as st\n",
    "import seaborn as sns\n",
    "\n",
    "pd.options.display.max_columns = 20"
   ]
  },
  {
   "cell_type": "markdown",
   "id": "c42cbe00",
   "metadata": {},
   "source": [
    "### Загрузка данных "
   ]
  },
  {
   "cell_type": "markdown",
   "id": "96870281",
   "metadata": {},
   "source": [
    "### Пользователи"
   ]
  },
  {
   "cell_type": "code",
   "execution_count": 2,
   "id": "eff9f206",
   "metadata": {
    "scrolled": false
   },
   "outputs": [
    {
     "data": {
      "text/html": [
       "<div>\n",
       "<style scoped>\n",
       "    .dataframe tbody tr th:only-of-type {\n",
       "        vertical-align: middle;\n",
       "    }\n",
       "\n",
       "    .dataframe tbody tr th {\n",
       "        vertical-align: top;\n",
       "    }\n",
       "\n",
       "    .dataframe thead th {\n",
       "        text-align: right;\n",
       "    }\n",
       "</style>\n",
       "<table border=\"1\" class=\"dataframe\">\n",
       "  <thead>\n",
       "    <tr style=\"text-align: right;\">\n",
       "      <th></th>\n",
       "      <th>user_id</th>\n",
       "      <th>name</th>\n",
       "      <th>age</th>\n",
       "      <th>city</th>\n",
       "      <th>subscription_type</th>\n",
       "    </tr>\n",
       "  </thead>\n",
       "  <tbody>\n",
       "    <tr>\n",
       "      <th>0</th>\n",
       "      <td>1</td>\n",
       "      <td>Кира</td>\n",
       "      <td>22</td>\n",
       "      <td>Тюмень</td>\n",
       "      <td>ultra</td>\n",
       "    </tr>\n",
       "    <tr>\n",
       "      <th>1</th>\n",
       "      <td>2</td>\n",
       "      <td>Станислав</td>\n",
       "      <td>31</td>\n",
       "      <td>Омск</td>\n",
       "      <td>ultra</td>\n",
       "    </tr>\n",
       "    <tr>\n",
       "      <th>2</th>\n",
       "      <td>3</td>\n",
       "      <td>Алексей</td>\n",
       "      <td>20</td>\n",
       "      <td>Москва</td>\n",
       "      <td>ultra</td>\n",
       "    </tr>\n",
       "    <tr>\n",
       "      <th>3</th>\n",
       "      <td>4</td>\n",
       "      <td>Константин</td>\n",
       "      <td>26</td>\n",
       "      <td>Ростов-на-Дону</td>\n",
       "      <td>ultra</td>\n",
       "    </tr>\n",
       "    <tr>\n",
       "      <th>4</th>\n",
       "      <td>5</td>\n",
       "      <td>Адель</td>\n",
       "      <td>28</td>\n",
       "      <td>Омск</td>\n",
       "      <td>ultra</td>\n",
       "    </tr>\n",
       "    <tr>\n",
       "      <th>...</th>\n",
       "      <td>...</td>\n",
       "      <td>...</td>\n",
       "      <td>...</td>\n",
       "      <td>...</td>\n",
       "      <td>...</td>\n",
       "    </tr>\n",
       "    <tr>\n",
       "      <th>1560</th>\n",
       "      <td>829</td>\n",
       "      <td>Федор</td>\n",
       "      <td>29</td>\n",
       "      <td>Пятигорск</td>\n",
       "      <td>free</td>\n",
       "    </tr>\n",
       "    <tr>\n",
       "      <th>1561</th>\n",
       "      <td>809</td>\n",
       "      <td>Юрий</td>\n",
       "      <td>26</td>\n",
       "      <td>Сочи</td>\n",
       "      <td>free</td>\n",
       "    </tr>\n",
       "    <tr>\n",
       "      <th>1562</th>\n",
       "      <td>307</td>\n",
       "      <td>Ясмина</td>\n",
       "      <td>19</td>\n",
       "      <td>Краснодар</td>\n",
       "      <td>ultra</td>\n",
       "    </tr>\n",
       "    <tr>\n",
       "      <th>1563</th>\n",
       "      <td>47</td>\n",
       "      <td>Юрий</td>\n",
       "      <td>28</td>\n",
       "      <td>Тюмень</td>\n",
       "      <td>ultra</td>\n",
       "    </tr>\n",
       "    <tr>\n",
       "      <th>1564</th>\n",
       "      <td>1045</td>\n",
       "      <td>Артемий</td>\n",
       "      <td>28</td>\n",
       "      <td>Ростов-на-Дону</td>\n",
       "      <td>free</td>\n",
       "    </tr>\n",
       "  </tbody>\n",
       "</table>\n",
       "<p>1565 rows × 5 columns</p>\n",
       "</div>"
      ],
      "text/plain": [
       "      user_id        name  age            city subscription_type\n",
       "0           1        Кира   22          Тюмень             ultra\n",
       "1           2   Станислав   31            Омск             ultra\n",
       "2           3     Алексей   20          Москва             ultra\n",
       "3           4  Константин   26  Ростов-на-Дону             ultra\n",
       "4           5       Адель   28            Омск             ultra\n",
       "...       ...         ...  ...             ...               ...\n",
       "1560      829       Федор   29       Пятигорск              free\n",
       "1561      809        Юрий   26            Сочи              free\n",
       "1562      307      Ясмина   19       Краснодар             ultra\n",
       "1563       47        Юрий   28          Тюмень             ultra\n",
       "1564     1045     Артемий   28  Ростов-на-Дону              free\n",
       "\n",
       "[1565 rows x 5 columns]"
      ]
     },
     "metadata": {},
     "output_type": "display_data"
    }
   ],
   "source": [
    "#загрузим и изучим данные о пользователях \n",
    "users = pd.read_csv('/datasets/users_go.csv')\n",
    "display(users)"
   ]
  },
  {
   "cell_type": "code",
   "execution_count": 3,
   "id": "ab60c7d7",
   "metadata": {
    "scrolled": false
   },
   "outputs": [
    {
     "name": "stdout",
     "output_type": "stream",
     "text": [
      "<class 'pandas.core.frame.DataFrame'>\n",
      "RangeIndex: 1565 entries, 0 to 1564\n",
      "Data columns (total 5 columns):\n",
      " #   Column             Non-Null Count  Dtype \n",
      "---  ------             --------------  ----- \n",
      " 0   user_id            1565 non-null   int64 \n",
      " 1   name               1565 non-null   object\n",
      " 2   age                1565 non-null   int64 \n",
      " 3   city               1565 non-null   object\n",
      " 4   subscription_type  1565 non-null   object\n",
      "dtypes: int64(2), object(3)\n",
      "memory usage: 61.3+ KB\n"
     ]
    }
   ],
   "source": [
    "#посмотрим общую информацию\n",
    "users.info()"
   ]
  },
  {
   "cell_type": "markdown",
   "id": "5274cfab",
   "metadata": {},
   "source": [
    "Тип данных не нарушен"
   ]
  },
  {
   "cell_type": "markdown",
   "id": "3e996bd4",
   "metadata": {},
   "source": [
    "### Поездки\n"
   ]
  },
  {
   "cell_type": "code",
   "execution_count": 4,
   "id": "d09dd263",
   "metadata": {
    "scrolled": true
   },
   "outputs": [
    {
     "data": {
      "text/html": [
       "<div>\n",
       "<style scoped>\n",
       "    .dataframe tbody tr th:only-of-type {\n",
       "        vertical-align: middle;\n",
       "    }\n",
       "\n",
       "    .dataframe tbody tr th {\n",
       "        vertical-align: top;\n",
       "    }\n",
       "\n",
       "    .dataframe thead th {\n",
       "        text-align: right;\n",
       "    }\n",
       "</style>\n",
       "<table border=\"1\" class=\"dataframe\">\n",
       "  <thead>\n",
       "    <tr style=\"text-align: right;\">\n",
       "      <th></th>\n",
       "      <th>user_id</th>\n",
       "      <th>distance</th>\n",
       "      <th>duration</th>\n",
       "      <th>date</th>\n",
       "    </tr>\n",
       "  </thead>\n",
       "  <tbody>\n",
       "    <tr>\n",
       "      <th>0</th>\n",
       "      <td>1</td>\n",
       "      <td>4409.919140</td>\n",
       "      <td>25.599769</td>\n",
       "      <td>2021-01-01</td>\n",
       "    </tr>\n",
       "    <tr>\n",
       "      <th>1</th>\n",
       "      <td>1</td>\n",
       "      <td>2617.592153</td>\n",
       "      <td>15.816871</td>\n",
       "      <td>2021-01-18</td>\n",
       "    </tr>\n",
       "    <tr>\n",
       "      <th>2</th>\n",
       "      <td>1</td>\n",
       "      <td>754.159807</td>\n",
       "      <td>6.232113</td>\n",
       "      <td>2021-04-20</td>\n",
       "    </tr>\n",
       "    <tr>\n",
       "      <th>3</th>\n",
       "      <td>1</td>\n",
       "      <td>2694.783254</td>\n",
       "      <td>18.511000</td>\n",
       "      <td>2021-08-11</td>\n",
       "    </tr>\n",
       "    <tr>\n",
       "      <th>4</th>\n",
       "      <td>1</td>\n",
       "      <td>4028.687306</td>\n",
       "      <td>26.265803</td>\n",
       "      <td>2021-08-28</td>\n",
       "    </tr>\n",
       "    <tr>\n",
       "      <th>...</th>\n",
       "      <td>...</td>\n",
       "      <td>...</td>\n",
       "      <td>...</td>\n",
       "      <td>...</td>\n",
       "    </tr>\n",
       "    <tr>\n",
       "      <th>18063</th>\n",
       "      <td>1534</td>\n",
       "      <td>3781.098080</td>\n",
       "      <td>19.822962</td>\n",
       "      <td>2021-11-04</td>\n",
       "    </tr>\n",
       "    <tr>\n",
       "      <th>18064</th>\n",
       "      <td>1534</td>\n",
       "      <td>2840.423057</td>\n",
       "      <td>21.409799</td>\n",
       "      <td>2021-11-16</td>\n",
       "    </tr>\n",
       "    <tr>\n",
       "      <th>18065</th>\n",
       "      <td>1534</td>\n",
       "      <td>3826.185507</td>\n",
       "      <td>18.435051</td>\n",
       "      <td>2021-11-18</td>\n",
       "    </tr>\n",
       "    <tr>\n",
       "      <th>18066</th>\n",
       "      <td>1534</td>\n",
       "      <td>2902.308661</td>\n",
       "      <td>16.674362</td>\n",
       "      <td>2021-11-27</td>\n",
       "    </tr>\n",
       "    <tr>\n",
       "      <th>18067</th>\n",
       "      <td>1534</td>\n",
       "      <td>2371.711192</td>\n",
       "      <td>15.893917</td>\n",
       "      <td>2021-12-29</td>\n",
       "    </tr>\n",
       "  </tbody>\n",
       "</table>\n",
       "<p>18068 rows × 4 columns</p>\n",
       "</div>"
      ],
      "text/plain": [
       "       user_id     distance   duration        date\n",
       "0            1  4409.919140  25.599769  2021-01-01\n",
       "1            1  2617.592153  15.816871  2021-01-18\n",
       "2            1   754.159807   6.232113  2021-04-20\n",
       "3            1  2694.783254  18.511000  2021-08-11\n",
       "4            1  4028.687306  26.265803  2021-08-28\n",
       "...        ...          ...        ...         ...\n",
       "18063     1534  3781.098080  19.822962  2021-11-04\n",
       "18064     1534  2840.423057  21.409799  2021-11-16\n",
       "18065     1534  3826.185507  18.435051  2021-11-18\n",
       "18066     1534  2902.308661  16.674362  2021-11-27\n",
       "18067     1534  2371.711192  15.893917  2021-12-29\n",
       "\n",
       "[18068 rows x 4 columns]"
      ]
     },
     "metadata": {},
     "output_type": "display_data"
    }
   ],
   "source": [
    "#загрузим и изучим данные о поездках \n",
    "rides = pd.read_csv('/datasets/rides_go.csv')\n",
    "display(rides)"
   ]
  },
  {
   "cell_type": "code",
   "execution_count": 5,
   "id": "36ddf1aa",
   "metadata": {
    "scrolled": false
   },
   "outputs": [
    {
     "name": "stdout",
     "output_type": "stream",
     "text": [
      "<class 'pandas.core.frame.DataFrame'>\n",
      "RangeIndex: 18068 entries, 0 to 18067\n",
      "Data columns (total 4 columns):\n",
      " #   Column    Non-Null Count  Dtype  \n",
      "---  ------    --------------  -----  \n",
      " 0   user_id   18068 non-null  int64  \n",
      " 1   distance  18068 non-null  float64\n",
      " 2   duration  18068 non-null  float64\n",
      " 3   date      18068 non-null  object \n",
      "dtypes: float64(2), int64(1), object(1)\n",
      "memory usage: 564.8+ KB\n"
     ]
    }
   ],
   "source": [
    "#посмотрим общую информацию\n",
    "rides.info()"
   ]
  },
  {
   "cell_type": "markdown",
   "id": "7aa94d78",
   "metadata": {},
   "source": [
    "Нарушен тип данных date, нужно привести к формату datetime"
   ]
  },
  {
   "cell_type": "code",
   "execution_count": 6,
   "id": "7863dfeb",
   "metadata": {
    "scrolled": true
   },
   "outputs": [
    {
     "data": {
      "text/html": [
       "<div>\n",
       "<style scoped>\n",
       "    .dataframe tbody tr th:only-of-type {\n",
       "        vertical-align: middle;\n",
       "    }\n",
       "\n",
       "    .dataframe tbody tr th {\n",
       "        vertical-align: top;\n",
       "    }\n",
       "\n",
       "    .dataframe thead th {\n",
       "        text-align: right;\n",
       "    }\n",
       "</style>\n",
       "<table border=\"1\" class=\"dataframe\">\n",
       "  <thead>\n",
       "    <tr style=\"text-align: right;\">\n",
       "      <th></th>\n",
       "      <th>user_id</th>\n",
       "      <th>distance</th>\n",
       "      <th>duration</th>\n",
       "    </tr>\n",
       "  </thead>\n",
       "  <tbody>\n",
       "    <tr>\n",
       "      <th>count</th>\n",
       "      <td>18068.000000</td>\n",
       "      <td>18068.000000</td>\n",
       "      <td>18068.000000</td>\n",
       "    </tr>\n",
       "    <tr>\n",
       "      <th>mean</th>\n",
       "      <td>842.869936</td>\n",
       "      <td>3070.659976</td>\n",
       "      <td>17.805011</td>\n",
       "    </tr>\n",
       "    <tr>\n",
       "      <th>std</th>\n",
       "      <td>434.734317</td>\n",
       "      <td>1116.831209</td>\n",
       "      <td>6.091051</td>\n",
       "    </tr>\n",
       "    <tr>\n",
       "      <th>min</th>\n",
       "      <td>1.000000</td>\n",
       "      <td>0.855683</td>\n",
       "      <td>0.500000</td>\n",
       "    </tr>\n",
       "    <tr>\n",
       "      <th>25%</th>\n",
       "      <td>487.000000</td>\n",
       "      <td>2543.226360</td>\n",
       "      <td>13.597563</td>\n",
       "    </tr>\n",
       "    <tr>\n",
       "      <th>50%</th>\n",
       "      <td>889.000000</td>\n",
       "      <td>3133.609994</td>\n",
       "      <td>17.678395</td>\n",
       "    </tr>\n",
       "    <tr>\n",
       "      <th>75%</th>\n",
       "      <td>1213.250000</td>\n",
       "      <td>3776.222735</td>\n",
       "      <td>21.724800</td>\n",
       "    </tr>\n",
       "    <tr>\n",
       "      <th>max</th>\n",
       "      <td>1534.000000</td>\n",
       "      <td>7211.007745</td>\n",
       "      <td>40.823963</td>\n",
       "    </tr>\n",
       "  </tbody>\n",
       "</table>\n",
       "</div>"
      ],
      "text/plain": [
       "            user_id      distance      duration\n",
       "count  18068.000000  18068.000000  18068.000000\n",
       "mean     842.869936   3070.659976     17.805011\n",
       "std      434.734317   1116.831209      6.091051\n",
       "min        1.000000      0.855683      0.500000\n",
       "25%      487.000000   2543.226360     13.597563\n",
       "50%      889.000000   3133.609994     17.678395\n",
       "75%     1213.250000   3776.222735     21.724800\n",
       "max     1534.000000   7211.007745     40.823963"
      ]
     },
     "execution_count": 6,
     "metadata": {},
     "output_type": "execute_result"
    }
   ],
   "source": [
    "rides.describe()"
   ]
  },
  {
   "cell_type": "markdown",
   "id": "45502043",
   "metadata": {},
   "source": [
    "### Подписки\n"
   ]
  },
  {
   "cell_type": "code",
   "execution_count": 7,
   "id": "223186b0",
   "metadata": {
    "scrolled": false
   },
   "outputs": [
    {
     "data": {
      "text/html": [
       "<div>\n",
       "<style scoped>\n",
       "    .dataframe tbody tr th:only-of-type {\n",
       "        vertical-align: middle;\n",
       "    }\n",
       "\n",
       "    .dataframe tbody tr th {\n",
       "        vertical-align: top;\n",
       "    }\n",
       "\n",
       "    .dataframe thead th {\n",
       "        text-align: right;\n",
       "    }\n",
       "</style>\n",
       "<table border=\"1\" class=\"dataframe\">\n",
       "  <thead>\n",
       "    <tr style=\"text-align: right;\">\n",
       "      <th></th>\n",
       "      <th>subscription_type</th>\n",
       "      <th>minute_price</th>\n",
       "      <th>start_ride_price</th>\n",
       "      <th>subscription_fee</th>\n",
       "    </tr>\n",
       "  </thead>\n",
       "  <tbody>\n",
       "    <tr>\n",
       "      <th>0</th>\n",
       "      <td>free</td>\n",
       "      <td>8</td>\n",
       "      <td>50</td>\n",
       "      <td>0</td>\n",
       "    </tr>\n",
       "    <tr>\n",
       "      <th>1</th>\n",
       "      <td>ultra</td>\n",
       "      <td>6</td>\n",
       "      <td>0</td>\n",
       "      <td>199</td>\n",
       "    </tr>\n",
       "  </tbody>\n",
       "</table>\n",
       "</div>"
      ],
      "text/plain": [
       "  subscription_type  minute_price  start_ride_price  subscription_fee\n",
       "0              free             8                50                 0\n",
       "1             ultra             6                 0               199"
      ]
     },
     "metadata": {},
     "output_type": "display_data"
    }
   ],
   "source": [
    "#загрузим и изучим данные о подписках \n",
    "subs = pd.read_csv('/datasets/subscriptions_go.csv')\n",
    "display(subs)"
   ]
  },
  {
   "cell_type": "code",
   "execution_count": 8,
   "id": "38f4923c",
   "metadata": {
    "scrolled": false
   },
   "outputs": [
    {
     "name": "stdout",
     "output_type": "stream",
     "text": [
      "<class 'pandas.core.frame.DataFrame'>\n",
      "RangeIndex: 2 entries, 0 to 1\n",
      "Data columns (total 4 columns):\n",
      " #   Column             Non-Null Count  Dtype \n",
      "---  ------             --------------  ----- \n",
      " 0   subscription_type  2 non-null      object\n",
      " 1   minute_price       2 non-null      int64 \n",
      " 2   start_ride_price   2 non-null      int64 \n",
      " 3   subscription_fee   2 non-null      int64 \n",
      "dtypes: int64(3), object(1)\n",
      "memory usage: 192.0+ bytes\n"
     ]
    }
   ],
   "source": [
    "subs.info()"
   ]
  },
  {
   "cell_type": "markdown",
   "id": "b4b71cce",
   "metadata": {},
   "source": [
    "Тип данных не нарушен"
   ]
  },
  {
   "cell_type": "markdown",
   "id": "e95ebca7",
   "metadata": {},
   "source": [
    "## Предобработка данных"
   ]
  },
  {
   "cell_type": "markdown",
   "id": "06ecc544",
   "metadata": {},
   "source": [
    "### Пользователи"
   ]
  },
  {
   "cell_type": "code",
   "execution_count": 9,
   "id": "c151a0e4",
   "metadata": {},
   "outputs": [
    {
     "data": {
      "text/plain": [
       "31"
      ]
     },
     "execution_count": 9,
     "metadata": {},
     "output_type": "execute_result"
    }
   ],
   "source": [
    "#проверим данные о пользователях на наличие явных дубликатов\n",
    "users.duplicated().sum()"
   ]
  },
  {
   "cell_type": "code",
   "execution_count": 10,
   "id": "46cc6f86",
   "metadata": {
    "scrolled": false
   },
   "outputs": [
    {
     "data": {
      "text/html": [
       "<div>\n",
       "<style scoped>\n",
       "    .dataframe tbody tr th:only-of-type {\n",
       "        vertical-align: middle;\n",
       "    }\n",
       "\n",
       "    .dataframe tbody tr th {\n",
       "        vertical-align: top;\n",
       "    }\n",
       "\n",
       "    .dataframe thead th {\n",
       "        text-align: right;\n",
       "    }\n",
       "</style>\n",
       "<table border=\"1\" class=\"dataframe\">\n",
       "  <thead>\n",
       "    <tr style=\"text-align: right;\">\n",
       "      <th></th>\n",
       "      <th>user_id</th>\n",
       "      <th>name</th>\n",
       "      <th>age</th>\n",
       "      <th>city</th>\n",
       "      <th>subscription_type</th>\n",
       "    </tr>\n",
       "  </thead>\n",
       "  <tbody>\n",
       "    <tr>\n",
       "      <th>0</th>\n",
       "      <td>1</td>\n",
       "      <td>Кира</td>\n",
       "      <td>22</td>\n",
       "      <td>Тюмень</td>\n",
       "      <td>ultra</td>\n",
       "    </tr>\n",
       "    <tr>\n",
       "      <th>1</th>\n",
       "      <td>2</td>\n",
       "      <td>Станислав</td>\n",
       "      <td>31</td>\n",
       "      <td>Омск</td>\n",
       "      <td>ultra</td>\n",
       "    </tr>\n",
       "    <tr>\n",
       "      <th>2</th>\n",
       "      <td>3</td>\n",
       "      <td>Алексей</td>\n",
       "      <td>20</td>\n",
       "      <td>Москва</td>\n",
       "      <td>ultra</td>\n",
       "    </tr>\n",
       "    <tr>\n",
       "      <th>3</th>\n",
       "      <td>4</td>\n",
       "      <td>Константин</td>\n",
       "      <td>26</td>\n",
       "      <td>Ростов-на-Дону</td>\n",
       "      <td>ultra</td>\n",
       "    </tr>\n",
       "    <tr>\n",
       "      <th>4</th>\n",
       "      <td>5</td>\n",
       "      <td>Адель</td>\n",
       "      <td>28</td>\n",
       "      <td>Омск</td>\n",
       "      <td>ultra</td>\n",
       "    </tr>\n",
       "    <tr>\n",
       "      <th>...</th>\n",
       "      <td>...</td>\n",
       "      <td>...</td>\n",
       "      <td>...</td>\n",
       "      <td>...</td>\n",
       "      <td>...</td>\n",
       "    </tr>\n",
       "    <tr>\n",
       "      <th>1529</th>\n",
       "      <td>1530</td>\n",
       "      <td>Ростислав</td>\n",
       "      <td>29</td>\n",
       "      <td>Сочи</td>\n",
       "      <td>free</td>\n",
       "    </tr>\n",
       "    <tr>\n",
       "      <th>1530</th>\n",
       "      <td>1531</td>\n",
       "      <td>Никита</td>\n",
       "      <td>25</td>\n",
       "      <td>Пятигорск</td>\n",
       "      <td>free</td>\n",
       "    </tr>\n",
       "    <tr>\n",
       "      <th>1531</th>\n",
       "      <td>1532</td>\n",
       "      <td>Алексей</td>\n",
       "      <td>26</td>\n",
       "      <td>Тюмень</td>\n",
       "      <td>free</td>\n",
       "    </tr>\n",
       "    <tr>\n",
       "      <th>1532</th>\n",
       "      <td>1533</td>\n",
       "      <td>Степан</td>\n",
       "      <td>22</td>\n",
       "      <td>Краснодар</td>\n",
       "      <td>free</td>\n",
       "    </tr>\n",
       "    <tr>\n",
       "      <th>1533</th>\n",
       "      <td>1534</td>\n",
       "      <td>Альберт</td>\n",
       "      <td>25</td>\n",
       "      <td>Краснодар</td>\n",
       "      <td>free</td>\n",
       "    </tr>\n",
       "  </tbody>\n",
       "</table>\n",
       "<p>1534 rows × 5 columns</p>\n",
       "</div>"
      ],
      "text/plain": [
       "      user_id        name  age            city subscription_type\n",
       "0           1        Кира   22          Тюмень             ultra\n",
       "1           2   Станислав   31            Омск             ultra\n",
       "2           3     Алексей   20          Москва             ultra\n",
       "3           4  Константин   26  Ростов-на-Дону             ultra\n",
       "4           5       Адель   28            Омск             ultra\n",
       "...       ...         ...  ...             ...               ...\n",
       "1529     1530   Ростислав   29            Сочи              free\n",
       "1530     1531      Никита   25       Пятигорск              free\n",
       "1531     1532     Алексей   26          Тюмень              free\n",
       "1532     1533      Степан   22       Краснодар              free\n",
       "1533     1534     Альберт   25       Краснодар              free\n",
       "\n",
       "[1534 rows x 5 columns]"
      ]
     },
     "execution_count": 10,
     "metadata": {},
     "output_type": "execute_result"
    }
   ],
   "source": [
    "# удалим дубликаты\n",
    "users.drop_duplicates(keep='first', inplace=True)\n",
    "users.reset_index(drop=True)"
   ]
  },
  {
   "cell_type": "code",
   "execution_count": 11,
   "id": "1785ae4f",
   "metadata": {
    "scrolled": true
   },
   "outputs": [
    {
     "data": {
      "text/plain": [
       "user_id              0\n",
       "name                 0\n",
       "age                  0\n",
       "city                 0\n",
       "subscription_type    0\n",
       "dtype: int64"
      ]
     },
     "execution_count": 11,
     "metadata": {},
     "output_type": "execute_result"
    }
   ],
   "source": [
    "#проверим пропуски\n",
    "users.isna().sum()"
   ]
  },
  {
   "cell_type": "markdown",
   "id": "10a5dfed",
   "metadata": {},
   "source": [
    "Пропусков нет"
   ]
  },
  {
   "cell_type": "markdown",
   "id": "91f1bd84",
   "metadata": {},
   "source": [
    "### Поездки"
   ]
  },
  {
   "cell_type": "markdown",
   "id": "ff0e812b",
   "metadata": {},
   "source": [
    "#### Приведем столбец date к нужному типу"
   ]
  },
  {
   "cell_type": "code",
   "execution_count": 12,
   "id": "953d6b32",
   "metadata": {
    "scrolled": false
   },
   "outputs": [
    {
     "data": {
      "text/plain": [
       "11797   2021-04-26\n",
       "7734    2021-11-21\n",
       "5105    2021-05-26\n",
       "8265    2021-01-29\n",
       "7762    2021-06-22\n",
       "Name: date, dtype: datetime64[ns]"
      ]
     },
     "execution_count": 12,
     "metadata": {},
     "output_type": "execute_result"
    }
   ],
   "source": [
    "rides['date'] = pd.to_datetime(rides['date'], format = '%Y-%m-%d')\n",
    "rides['date'].sample(5)"
   ]
  },
  {
   "cell_type": "code",
   "execution_count": 13,
   "id": "4bcc67e7",
   "metadata": {},
   "outputs": [
    {
     "data": {
      "text/plain": [
       "0"
      ]
     },
     "execution_count": 13,
     "metadata": {},
     "output_type": "execute_result"
    }
   ],
   "source": [
    "#проверим на дубликаты\n",
    "rides.duplicated().sum()"
   ]
  },
  {
   "cell_type": "code",
   "execution_count": 14,
   "id": "3112dff3",
   "metadata": {
    "scrolled": true
   },
   "outputs": [
    {
     "data": {
      "text/plain": [
       "user_id     0\n",
       "distance    0\n",
       "duration    0\n",
       "date        0\n",
       "dtype: int64"
      ]
     },
     "execution_count": 14,
     "metadata": {},
     "output_type": "execute_result"
    }
   ],
   "source": [
    "#проверим пропуски\n",
    "rides.isna().sum()"
   ]
  },
  {
   "cell_type": "markdown",
   "id": "5a4a710a",
   "metadata": {},
   "source": [
    "Пропусков нет"
   ]
  },
  {
   "cell_type": "markdown",
   "id": "18b73ce3",
   "metadata": {},
   "source": [
    "#### Создадим новый столбец с номером месяца"
   ]
  },
  {
   "cell_type": "markdown",
   "id": "a85387c9",
   "metadata": {},
   "source": [
    "Проверим, за какой период представлены данные"
   ]
  },
  {
   "cell_type": "code",
   "execution_count": 15,
   "id": "ed43d312",
   "metadata": {
    "scrolled": true
   },
   "outputs": [
    {
     "data": {
      "text/plain": [
       "array([2021])"
      ]
     },
     "execution_count": 15,
     "metadata": {},
     "output_type": "execute_result"
    }
   ],
   "source": [
    "rides['date'].dt.year.unique()"
   ]
  },
  {
   "cell_type": "markdown",
   "id": "283952bb",
   "metadata": {},
   "source": [
    "Данные представлены за один год, ошибок не будет"
   ]
  },
  {
   "cell_type": "code",
   "execution_count": 16,
   "id": "d2e26687",
   "metadata": {
    "scrolled": true
   },
   "outputs": [
    {
     "data": {
      "text/plain": [
       "17935    6\n",
       "16028    2\n",
       "17666    9\n",
       "11368    1\n",
       "12033    7\n",
       "Name: month, dtype: int32"
      ]
     },
     "execution_count": 16,
     "metadata": {},
     "output_type": "execute_result"
    }
   ],
   "source": [
    "rides['month'] = rides['date'].dt.month\n",
    "rides['month'].sample(5)"
   ]
  },
  {
   "cell_type": "code",
   "execution_count": 17,
   "id": "abe410c5",
   "metadata": {},
   "outputs": [
    {
     "name": "stdout",
     "output_type": "stream",
     "text": [
      "2021-01-01 00:00:00\n",
      "2021-12-30 00:00:00\n"
     ]
    }
   ],
   "source": [
    "# посмотрим минимум и максимум \n",
    "print(rides['date'].min())\n",
    "print(rides['date'].max())"
   ]
  },
  {
   "cell_type": "markdown",
   "id": "48fbe76a",
   "metadata": {},
   "source": [
    "### Вывод\n",
    "**Пользователи:** найдены дубликаты, они были удалены\n",
    "\n",
    "\n",
    "**Поездки:** исправлен формат столбца 'date'\n",
    "\n",
    "Пропуски не обнаружены\n",
    "\n",
    "Добавлен столбец с номером месяца."
   ]
  },
  {
   "cell_type": "markdown",
   "id": "212593c7",
   "metadata": {},
   "source": [
    "## Исследовательский анализ данных"
   ]
  },
  {
   "cell_type": "markdown",
   "id": "f7437a75",
   "metadata": {},
   "source": [
    "### Изучим распределение пользователей по городам"
   ]
  },
  {
   "cell_type": "code",
   "execution_count": 18,
   "id": "c8b03516",
   "metadata": {
    "scrolled": true
   },
   "outputs": [
    {
     "data": {
      "text/plain": [
       "city\n",
       "Пятигорск         219\n",
       "Екатеринбург      204\n",
       "Ростов-на-Дону    198\n",
       "Краснодар         193\n",
       "Сочи              189\n",
       "Омск              183\n",
       "Тюмень            180\n",
       "Москва            168\n",
       "Name: count, dtype: int64"
      ]
     },
     "execution_count": 18,
     "metadata": {},
     "output_type": "execute_result"
    }
   ],
   "source": [
    "users['city'].value_counts()"
   ]
  },
  {
   "cell_type": "code",
   "execution_count": 19,
   "id": "92a3e85b",
   "metadata": {
    "scrolled": false
   },
   "outputs": [
    {
     "data": {
      "image/png": "[encoded data removed]",
      "text/plain": [
       "<Figure size 1200x500 with 1 Axes>"
      ]
     },
     "metadata": {},
     "output_type": "display_data"
    }
   ],
   "source": [
    "#посмотрим распределение по городам\n",
    "users['city'].value_counts(ascending = True).plot(\n",
    "    kind = 'barh', \n",
    "    y = users['city'],\n",
    "    figsize=(12,5),\n",
    "    grid=True,\n",
    "    title = 'Распределение пользователей по городам')\n",
    "plt.ylabel('Город')\n",
    "plt.xlabel('Количество')\n",
    "plt.show()"
   ]
  },
  {
   "cell_type": "markdown",
   "id": "02359ff7",
   "metadata": {},
   "source": [
    "Пользователи распределены по 8 городам: Краснодар, Ростов-на-Дону, Екатеринбург, Пятигорск, Москва, Тюмень, Омск, Сочи. Процентное соотношение городов распределено равномерно, 11-14% от общего количества. Города распределены равномерно по территории России. Наибольшее количество пользователей из Пятигорска, наименьшее - из Москвы."
   ]
  },
  {
   "cell_type": "markdown",
   "id": "5be7db28",
   "metadata": {},
   "source": [
    "### Изучим распределение по подпискам"
   ]
  },
  {
   "cell_type": "code",
   "execution_count": 20,
   "id": "497e3408",
   "metadata": {
    "scrolled": true
   },
   "outputs": [
    {
     "data": {
      "text/plain": [
       "subscription_type\n",
       "free     835\n",
       "ultra    699\n",
       "Name: count, dtype: int64"
      ]
     },
     "execution_count": 20,
     "metadata": {},
     "output_type": "execute_result"
    }
   ],
   "source": [
    "users['subscription_type'].value_counts()"
   ]
  },
  {
   "cell_type": "code",
   "execution_count": 21,
   "id": "178a6362",
   "metadata": {
    "scrolled": true
   },
   "outputs": [
    {
     "data": {
      "image/png": "[encoded data removed]",
      "text/plain": [
       "<Figure size 400x400 with 1 Axes>"
      ]
     },
     "metadata": {},
     "output_type": "display_data"
    }
   ],
   "source": [
    "users['subscription_type'].value_counts().plot(\n",
    "    kind = 'pie', \n",
    "    y = users['subscription_type'],\n",
    "    autopct = '%1.0f%%',\n",
    "    figsize=(4,4), \n",
    "    title = 'Распределение пользователей по подпискам');"
   ]
  },
  {
   "cell_type": "markdown",
   "id": "e9dd5747",
   "metadata": {},
   "source": [
    "\n",
    "\n",
    "Распределение бесплатных и платных подписок почти равно, однако большинство пользователей предпоситает бесплатную подписку. Бесплатной подпиской пользуются 835 пользователей, платной - 699 (54% против 46%)."
   ]
  },
  {
   "cell_type": "markdown",
   "id": "5ff6af12",
   "metadata": {},
   "source": [
    "#### Изучим распределение платных подписок по городам"
   ]
  },
  {
   "cell_type": "code",
   "execution_count": 22,
   "id": "760317c6",
   "metadata": {
    "scrolled": true
   },
   "outputs": [
    {
     "data": {
      "text/plain": [
       "city\n",
       "Пятигорск         94\n",
       "Екатеринбург      92\n",
       "Омск              91\n",
       "Ростов-на-Дону    89\n",
       "Сочи              86\n",
       "Москва            84\n",
       "Тюмень            82\n",
       "Краснодар         81\n",
       "Name: subscription_type, dtype: int64"
      ]
     },
     "metadata": {},
     "output_type": "display_data"
    }
   ],
   "source": [
    "users_grouped = users.groupby(['user_id'])[['city', 'subscription_type']].apply(sum).sort_values(by='subscription_type', ascending=True)\n",
    "users_ultra_query = users_grouped.query('subscription_type == \"ultra\"')\n",
    "ultra_group = users_ultra_query.groupby('city')['subscription_type'].count().sort_values(ascending=False)\n",
    "display(ultra_group)"
   ]
  },
  {
   "cell_type": "code",
   "execution_count": 23,
   "id": "eb801fc7",
   "metadata": {
    "scrolled": true
   },
   "outputs": [
    {
     "data": {
      "image/png": "[encoded data removed]",
      "text/plain": [
       "<Figure size 800x500 with 1 Axes>"
      ]
     },
     "metadata": {},
     "output_type": "display_data"
    }
   ],
   "source": [
    "users_ultra_query.groupby('city')['subscription_type'].count().sort_values(ascending=True).plot(kind='barh',figsize=(8,5), grid=True)\n",
    "plt.title('Распределение платных подписок по городам')\n",
    "plt.xlabel('Количество платных подписок')\n",
    "plt.ylabel('Город')\n",
    "plt.show()"
   ]
  },
  {
   "cell_type": "code",
   "execution_count": 24,
   "id": "1d8d66a1",
   "metadata": {
    "scrolled": true
   },
   "outputs": [
    {
     "data": {
      "text/plain": [
       "city\n",
       "Пятигорск         125\n",
       "Екатеринбург      112\n",
       "Краснодар         112\n",
       "Ростов-на-Дону    109\n",
       "Сочи              103\n",
       "Тюмень             98\n",
       "Омск               92\n",
       "Москва             84\n",
       "Name: subscription_type, dtype: int64"
      ]
     },
     "metadata": {},
     "output_type": "display_data"
    }
   ],
   "source": [
    "users_grouped = users.groupby(['user_id'])[['city', 'subscription_type']].apply(sum).sort_values(by='subscription_type', ascending=True)\n",
    "users_free_query = users_grouped.query('subscription_type == \"free\"')\n",
    "free_group = users_free_query.groupby('city')['subscription_type'].count().sort_values(ascending=False)\n",
    "display(free_group)"
   ]
  },
  {
   "cell_type": "code",
   "execution_count": 25,
   "id": "d55993d4",
   "metadata": {
    "scrolled": true
   },
   "outputs": [
    {
     "data": {
      "image/png": "[encoded data removed]",
      "text/plain": [
       "<Figure size 800x500 with 1 Axes>"
      ]
     },
     "metadata": {},
     "output_type": "display_data"
    }
   ],
   "source": [
    "users_free_query.groupby('city')['subscription_type'].count().sort_values(ascending=True).plot(kind='barh',figsize=(8,5), grid=True)\n",
    "plt.title('Распределение бесплатных подписок по городам')\n",
    "plt.xlabel('Количество бесплатных подписок')\n",
    "plt.ylabel('Город')\n",
    "plt.show()"
   ]
  },
  {
   "cell_type": "markdown",
   "id": "435d6ea1",
   "metadata": {},
   "source": [
    "Пятигорск снова обгоняет остальные города - платными подписками пользуются 94 человека, бесплатными - 125.\n",
    "\n",
    "\n",
    "Чуть меньше платных подписок в Екатеринбурге и Омске (92 и 91)\n",
    "\n",
    "\n",
    "Меньше всего платных подписок в Тюмени и Краснодаре (82 и 81). \n",
    "\n",
    "\n",
    "Бесплатными подписками пользуются много пользователей из Екатеринбурга и Краснодара (112).\n",
    "\n",
    "\n",
    "Меньше всего бесплатных подписок в Москве (84)."
   ]
  },
  {
   "cell_type": "markdown",
   "id": "b664a0cf",
   "metadata": {},
   "source": [
    "### Изучим возраст пользователей"
   ]
  },
  {
   "cell_type": "code",
   "execution_count": 26,
   "id": "868319f1",
   "metadata": {
    "scrolled": false
   },
   "outputs": [
    {
     "data": {
      "text/plain": [
       "age\n",
       "25    145\n",
       "24    132\n",
       "26    131\n",
       "23    129\n",
       "22    119\n",
       "27    119\n",
       "28    112\n",
       "21     93\n",
       "Name: count, dtype: int64"
      ]
     },
     "execution_count": 26,
     "metadata": {},
     "output_type": "execute_result"
    }
   ],
   "source": [
    "users['age'].value_counts().head(8)"
   ]
  },
  {
   "cell_type": "code",
   "execution_count": 27,
   "id": "b3684d20",
   "metadata": {
    "scrolled": false
   },
   "outputs": [
    {
     "data": {
      "text/plain": [
       "count    1534.000000\n",
       "mean       24.903520\n",
       "std         4.572367\n",
       "min        12.000000\n",
       "25%        22.000000\n",
       "50%        25.000000\n",
       "75%        28.000000\n",
       "max        43.000000\n",
       "Name: age, dtype: float64"
      ]
     },
     "execution_count": 27,
     "metadata": {},
     "output_type": "execute_result"
    }
   ],
   "source": [
    "users['age'].describe()"
   ]
  },
  {
   "cell_type": "code",
   "execution_count": 28,
   "id": "89321cc3",
   "metadata": {},
   "outputs": [
    {
     "data": {
      "image/png": "[encoded data removed]",
      "text/plain": [
       "<Figure size 1000x500 with 1 Axes>"
      ]
     },
     "metadata": {},
     "output_type": "display_data"
    }
   ],
   "source": [
    "users['age'].hist(figsize=(10,5), bins = users['age'].max())\n",
    "plt.title('Распределение пользователей по возрасту')\n",
    "plt.xlabel('Возраст пользователей')\n",
    "plt.ylabel('Количество')\n",
    "plt.show()"
   ]
  },
  {
   "cell_type": "markdown",
   "id": "8bceeef2",
   "metadata": {},
   "source": [
    "Возраст пользователей: 12-43 года. \n",
    "\n",
    "Наиболее \"активные\" пользователи в диапазоне 22-28 лет. \n",
    "\n",
    "\n",
    "Лидирующая позиция у 25-летних.\n",
    "\n",
    "25 лет также являются медианой датафрейма. Среднее значение 24.9, что говорит о нормальном распределении и минимальном количестве выбросов."
   ]
  },
  {
   "cell_type": "markdown",
   "id": "64f97191",
   "metadata": {},
   "source": [
    "### Расстояние, которое пользователь преодолел за одну поездку"
   ]
  },
  {
   "cell_type": "code",
   "execution_count": 30,
   "id": "5f2e729a",
   "metadata": {
    "scrolled": true
   },
   "outputs": [
    {
     "data": {
      "text/plain": [
       "count    18068.000000\n",
       "mean      3070.659976\n",
       "std       1116.831209\n",
       "min          0.855683\n",
       "25%       2543.226360\n",
       "50%       3133.609994\n",
       "75%       3776.222735\n",
       "max       7211.007745\n",
       "Name: distance, dtype: float64"
      ]
     },
     "execution_count": 30,
     "metadata": {},
     "output_type": "execute_result"
    }
   ],
   "source": [
    "rides['distance'].describe()"
   ]
  },
  {
   "cell_type": "markdown",
   "id": "3ccc88ed",
   "metadata": {},
   "source": [
    "Пользователи в среднем проезжают от 2.5 до 4 км (медиана 3134, среднее - 3071, разрыв небольшой). Наименьшее расстояние - 0.85 м (85 см). Похоже на выброс. \n",
    "Округлим значения и проверим этот столбец на минимальные значения и выбросы."
   ]
  },
  {
   "cell_type": "code",
   "execution_count": 31,
   "id": "69d260d3",
   "metadata": {
    "scrolled": false
   },
   "outputs": [
    {
     "data": {
      "text/plain": [
       "11555     0.86\n",
       "9541      2.57\n",
       "13690     4.33\n",
       "8658      6.78\n",
       "7841      7.10\n",
       "8906     11.28\n",
       "8324     12.23\n",
       "13940    15.00\n",
       "15626    15.37\n",
       "11862    15.63\n",
       "Name: distance, dtype: float64"
      ]
     },
     "execution_count": 31,
     "metadata": {},
     "output_type": "execute_result"
    }
   ],
   "source": [
    "round(rides['distance'].sort_values(ascending=True), 2).head(10)"
   ]
  },
  {
   "cell_type": "code",
   "execution_count": 32,
   "id": "2bb724f8",
   "metadata": {
    "scrolled": false
   },
   "outputs": [
    {
     "data": {
      "image/png": "[encoded data removed]",
      "text/plain": [
       "<Figure size 300x500 with 1 Axes>"
      ]
     },
     "metadata": {},
     "output_type": "display_data"
    }
   ],
   "source": [
    "#визуализируем\n",
    "rides.plot(y = 'distance', kind = 'box',grid=True, figsize=(3,5)); \n",
    "plt.title('Выбросы в расстоянии')\n",
    "plt.ylabel('Километраж')\n",
    "plt.show()"
   ]
  },
  {
   "cell_type": "markdown",
   "id": "9ee9af40",
   "metadata": {},
   "source": [
    "Наблюдаем большое количество выбросов сверху, что является допустимым, поскольку пользователи преодолевают разное расстояние. \n",
    "\n",
    "\n",
    "Выбросы снизу имеют очень маленькие значения, от 85 см до, например, 7 м."
   ]
  },
  {
   "cell_type": "code",
   "execution_count": 33,
   "id": "af6d202c",
   "metadata": {
    "scrolled": true
   },
   "outputs": [
    {
     "data": {
      "image/png": "[encoded data removed]",
      "text/plain": [
       "<Figure size 1200x500 with 1 Axes>"
      ]
     },
     "metadata": {},
     "output_type": "display_data"
    }
   ],
   "source": [
    "#визуализируем \n",
    "rides['distance'].hist(figsize=(12,5), bins = 80)\n",
    "plt.title('Распределение про расстоянию')\n",
    "plt.xlabel('Расстояние, м')\n",
    "plt.ylabel('Частотность')\n",
    "plt.show()"
   ]
  },
  {
   "cell_type": "markdown",
   "id": "cba0c130",
   "metadata": {},
   "source": [
    "Посмотрим на самые большие расстояния "
   ]
  },
  {
   "cell_type": "code",
   "execution_count": 34,
   "id": "a35f7092",
   "metadata": {
    "scrolled": false
   },
   "outputs": [
    {
     "data": {
      "text/plain": [
       "16309    7211.007745\n",
       "16484    7066.003772\n",
       "15580    6908.491343\n",
       "17171    6760.940067\n",
       "17242    6724.932981\n",
       "            ...     \n",
       "7841        7.097072\n",
       "8658        6.784447\n",
       "13690       4.329506\n",
       "9541        2.570787\n",
       "11555       0.855683\n",
       "Name: distance, Length: 18068, dtype: float64"
      ]
     },
     "execution_count": 34,
     "metadata": {},
     "output_type": "execute_result"
    }
   ],
   "source": [
    "rides['distance'].sort_values(ascending=False)"
   ]
  },
  {
   "cell_type": "markdown",
   "id": "283d0912",
   "metadata": {},
   "source": [
    "Самое маленькое расстояние - 0.85 м\n",
    "\n",
    "\n",
    "Самое большое расстояние - 7.2 км."
   ]
  },
  {
   "cell_type": "markdown",
   "id": "37a23ce1",
   "metadata": {},
   "source": [
    "### Продолжительность поездок"
   ]
  },
  {
   "cell_type": "code",
   "execution_count": 35,
   "id": "89890c2f",
   "metadata": {},
   "outputs": [
    {
     "data": {
      "text/plain": [
       "count    18068.000000\n",
       "mean        17.805011\n",
       "std          6.091051\n",
       "min          0.500000\n",
       "25%         13.597563\n",
       "50%         17.678395\n",
       "75%         21.724800\n",
       "max         40.823963\n",
       "Name: duration, dtype: float64"
      ]
     },
     "execution_count": 35,
     "metadata": {},
     "output_type": "execute_result"
    }
   ],
   "source": [
    "rides['duration'].describe()"
   ]
  },
  {
   "cell_type": "markdown",
   "id": "d05b229c",
   "metadata": {},
   "source": [
    "Длительность поездки в среднем составляет 14-22 минуты. Минимальное значение - 30 сек, что странно, и, скорее всего коррелирует с минимальным значениям по расстоянию. Максимальное значение - 41 мин. Медиана - 17.6, среднее - 17.8, разрыв небольшой, нормальное распределение.  \n",
    "Округлим значения и проверим этот столбец на минимальные значения и выбросы."
   ]
  },
  {
   "cell_type": "code",
   "execution_count": 36,
   "id": "b1bd3253",
   "metadata": {
    "scrolled": true
   },
   "outputs": [
    {
     "data": {
      "text/plain": [
       "12013    0.5\n",
       "17314    0.5\n",
       "15029    0.5\n",
       "7437     0.5\n",
       "12967    0.5\n",
       "Name: duration, dtype: float64"
      ]
     },
     "execution_count": 36,
     "metadata": {},
     "output_type": "execute_result"
    }
   ],
   "source": [
    "round(rides['duration'].sort_values(ascending=True), 2).head(5)"
   ]
  },
  {
   "cell_type": "markdown",
   "id": "fc6d59e3",
   "metadata": {},
   "source": [
    "Значений в 0.5 мин в датасете очень много, посмотрим на значения в целом"
   ]
  },
  {
   "cell_type": "code",
   "execution_count": 37,
   "id": "de5fbf38",
   "metadata": {
    "scrolled": true
   },
   "outputs": [
    {
     "data": {
      "text/plain": [
       "duration\n",
       "0.50     95\n",
       "15.96    22\n",
       "16.30    21\n",
       "14.19    21\n",
       "18.57    20\n",
       "18.31    20\n",
       "17.84    20\n",
       "17.34    20\n",
       "18.61    20\n",
       "15.99    20\n",
       "Name: count, dtype: int64"
      ]
     },
     "execution_count": 37,
     "metadata": {},
     "output_type": "execute_result"
    }
   ],
   "source": [
    "round(rides['duration'].sort_values(ascending=True), 2).value_counts().head(10)"
   ]
  },
  {
   "cell_type": "code",
   "execution_count": 38,
   "id": "945656f3",
   "metadata": {},
   "outputs": [
    {
     "data": {
      "text/plain": [
       "Text(0, 0.5, 'Частотность')"
      ]
     },
     "execution_count": 38,
     "metadata": {},
     "output_type": "execute_result"
    },
    {
     "data": {
      "image/png": "[encoded data removed]",
      "text/plain": [
       "<Figure size 1000x500 with 1 Axes>"
      ]
     },
     "metadata": {},
     "output_type": "display_data"
    }
   ],
   "source": [
    "rides['duration'].hist(figsize=(10,5))\n",
    "plt.title('Распределение по длительности')\n",
    "plt.xlabel('Время, мин')\n",
    "plt.ylabel('Частотность')"
   ]
  },
  {
   "cell_type": "markdown",
   "id": "07f3390f",
   "metadata": {},
   "source": [
    "Действительно, очень маленьких значений много."
   ]
  },
  {
   "cell_type": "markdown",
   "id": "d057ae56",
   "metadata": {},
   "source": [
    "Посмотрим, как по пользователям распределено суммарное расстояние и длительность поездки"
   ]
  },
  {
   "cell_type": "code",
   "execution_count": 39,
   "id": "c97267ad",
   "metadata": {
    "scrolled": false
   },
   "outputs": [
    {
     "data": {
      "text/html": [
       "<div>\n",
       "<style scoped>\n",
       "    .dataframe tbody tr th:only-of-type {\n",
       "        vertical-align: middle;\n",
       "    }\n",
       "\n",
       "    .dataframe tbody tr th {\n",
       "        vertical-align: top;\n",
       "    }\n",
       "\n",
       "    .dataframe thead th {\n",
       "        text-align: right;\n",
       "    }\n",
       "</style>\n",
       "<table border=\"1\" class=\"dataframe\">\n",
       "  <thead>\n",
       "    <tr style=\"text-align: right;\">\n",
       "      <th></th>\n",
       "      <th>distance</th>\n",
       "      <th>duration</th>\n",
       "    </tr>\n",
       "  </thead>\n",
       "  <tbody>\n",
       "    <tr>\n",
       "      <th>count</th>\n",
       "      <td>1534.000000</td>\n",
       "      <td>1534.000000</td>\n",
       "    </tr>\n",
       "    <tr>\n",
       "      <th>mean</th>\n",
       "      <td>36167.330144</td>\n",
       "      <td>209.713782</td>\n",
       "    </tr>\n",
       "    <tr>\n",
       "      <th>std</th>\n",
       "      <td>13118.521744</td>\n",
       "      <td>73.717086</td>\n",
       "    </tr>\n",
       "    <tr>\n",
       "      <th>min</th>\n",
       "      <td>5530.344048</td>\n",
       "      <td>34.157765</td>\n",
       "    </tr>\n",
       "    <tr>\n",
       "      <th>25%</th>\n",
       "      <td>26391.076407</td>\n",
       "      <td>156.744972</td>\n",
       "    </tr>\n",
       "    <tr>\n",
       "      <th>50%</th>\n",
       "      <td>35494.886400</td>\n",
       "      <td>205.399853</td>\n",
       "    </tr>\n",
       "    <tr>\n",
       "      <th>75%</th>\n",
       "      <td>44789.726858</td>\n",
       "      <td>258.638565</td>\n",
       "    </tr>\n",
       "    <tr>\n",
       "      <th>max</th>\n",
       "      <td>79325.846482</td>\n",
       "      <td>446.233013</td>\n",
       "    </tr>\n",
       "  </tbody>\n",
       "</table>\n",
       "</div>"
      ],
      "text/plain": [
       "           distance     duration\n",
       "count   1534.000000  1534.000000\n",
       "mean   36167.330144   209.713782\n",
       "std    13118.521744    73.717086\n",
       "min     5530.344048    34.157765\n",
       "25%    26391.076407   156.744972\n",
       "50%    35494.886400   205.399853\n",
       "75%    44789.726858   258.638565\n",
       "max    79325.846482   446.233013"
      ]
     },
     "execution_count": 39,
     "metadata": {},
     "output_type": "execute_result"
    }
   ],
   "source": [
    "rides_sum = rides.groupby(['user_id'])[['distance', 'duration']].apply(sum).sort_values(by=['distance'], ascending=False)\n",
    "rides_sum.describe()"
   ]
  },
  {
   "cell_type": "markdown",
   "id": "316b1260",
   "metadata": {},
   "source": [
    "Среднее расстояние - 35 км. \n",
    "\n",
    "\n",
    "В среднем от 26 до 45 км.\n",
    "\n",
    "\n",
    "Минимум - 5.5 км.\n",
    "\n",
    "\n",
    "Максимум - 79.3.км. \n",
    "________________________________\n",
    "\n",
    "\n",
    "Средняя длительность - 205 мин. \n",
    "\n",
    "\n",
    "В среднем от 157 до 259 мин.\n",
    "\n",
    "\n",
    "Минимумм - 34 мин.\n",
    "\n",
    "\n",
    "Максимум - 446 мин."
   ]
  },
  {
   "cell_type": "markdown",
   "id": "3c2b6047",
   "metadata": {},
   "source": [
    "#### Месяцы"
   ]
  },
  {
   "cell_type": "code",
   "execution_count": 40,
   "id": "16800ed0",
   "metadata": {
    "scrolled": true
   },
   "outputs": [
    {
     "data": {
      "image/png": "[encoded data removed]",
      "text/plain": [
       "<Figure size 400x400 with 1 Axes>"
      ]
     },
     "metadata": {},
     "output_type": "display_data"
    }
   ],
   "source": [
    "#посмотрим распределение по месяцам\n",
    "rides['month'].value_counts().plot(\n",
    "    kind = 'pie', \n",
    "    y = rides['month'],\n",
    "    autopct = '%1.0f%%',\n",
    "    figsize=(4,4), \n",
    "    title = 'Поездки по месяцам');"
   ]
  },
  {
   "cell_type": "markdown",
   "id": "526ba698",
   "metadata": {},
   "source": [
    "Данные по месяцам распределены равномерно, от 7% до 9%"
   ]
  },
  {
   "cell_type": "markdown",
   "id": "8c6e6685",
   "metadata": {},
   "source": [
    "### Вывод"
   ]
  },
  {
   "cell_type": "markdown",
   "id": "d6e49fbc",
   "metadata": {},
   "source": [
    "Для анализа были представлены 3 набора данных сервиса аренды самокатов GoFast о некоторых пользователях и их поездках из нескольких городов. Чтобы провести исследовательский анализ данных, была проведена покдобработка данных, для удобства анализа был добавлен столбец ‘month’. \n",
    "\n",
    "Изучены:\n",
    "* возраст пользователей (12-43 года, наиболее активные пользователи в возрасте 22-28 лет, самые многочисленные - 25 лет)\n",
    "* города (8 городов: Пятигорск, Екатеринбург, Ростов-на-Дону, Краснодар, Сочи, Омск, Тюмень, Москва). Наибольшее количество пользователей из Пятигорска, наименьшее - из Москвы. \n",
    "* расстояние, которое проезжают пользователи (2.5-4 км, наименьшее расстояние - 0.85 м, наибольшее - 7.2 км). \n",
    "* длительность поездки (14-22 минуты, минимальное значение - 30 секунд, максимальное значение - 41 минута. \n",
    "* разница в количестве поездок по месяцам (равномерное распределение, 7-9%). \n",
    "* типы подписок (бесплатных 835, платных - 699). \n",
    "\n",
    "Для анализа представлены данные 1534 пользователей. Основной возраст пользователей - 22-28 лет, максимальный - 41, минимальный - 12. Медиана - 25 (самый многочисленный показатель) => сервисом пользуются люди всех возрастов: и подростки, и молодежь, и взрослые. \n",
    "\n",
    "\n",
    "Пользователи проживают в 8 городах: Краснодар, Ростов-на-Дону, Екатеринбург, Пятигорск, Москва, Тюмень, Омск, Сочи - города, представляющие разные округи страны. Процентное распределение равномерное, 11-14% от общего числа. Больше всего сервисом пользуются пользователи из Пятигорска, меньше всего - из Москвы. \n",
    "\n",
    "\n",
    "В среднем пользователи проезжают на самокатах от 2.5 до 4 км. Однако присутствуют и «странные» данные: 0.85 м, 2.57  м, 4.33 м и т.п. Эти расстояния слишком малы для проезда на самокате. Хорошо бы разобраться в причине. Возможно, пользователи передумали, а возможно, в самокате была техническая неисправность или он был разряжен. \n",
    "\n",
    "\n",
    "Самое большое расстояние - 7.2 км.\n",
    "                        \n",
    "\n",
    "Длительность поездки в среднем составляет 14-22 минуты. Минимальное значение - 30 секунд (также есть подозрительные значения, которые, скорее всего, коррелируют с маленькими значениями по расстоянию и причинами). Максимальное значение - 41 минута, медиана - 17.8. \n",
    "\n",
    "\n",
    "Пользователи в среднем проезжают от 26 до 45 км за 157-269 минут (2.6-4.5 часов). Минимальный километраж, который проехал пользователь за 2021 год - 5.5 км. Максимальный - 79 км. \n",
    "Минимальное время, которое потратили на поездку - 34 минуты. Максимальное время - 446 минут (7.4 часов). \n",
    "\n",
    "Пользователи одинаково часто пользуются сервисом, независимо от месяца или времени года. \n",
    "\n",
    "Пользователи пользуются бесплатной и платной подпиской. Бесплатной подпиской пользуется большее количество человек - 835, ультрой пользуются 699 человек (54% против 46%). Больше всего подписками ультра пользуются в Пятигорске, Екатеринбурге и Омске. Меньше всего в Тюмени и Краснодаре. \n",
    "Бесплатных подписок также больше всего в Пятигорске - 125. Меньше всего в Москве - 84."
   ]
  },
  {
   "cell_type": "markdown",
   "id": "4ef51331",
   "metadata": {},
   "source": [
    "## Объединение данных"
   ]
  },
  {
   "cell_type": "markdown",
   "id": "931040f1",
   "metadata": {},
   "source": [
    "**Объединим все таблицы в одну**"
   ]
  },
  {
   "cell_type": "code",
   "execution_count": 41,
   "id": "54fce9e4",
   "metadata": {
    "scrolled": false
   },
   "outputs": [
    {
     "data": {
      "text/html": [
       "<div>\n",
       "<style scoped>\n",
       "    .dataframe tbody tr th:only-of-type {\n",
       "        vertical-align: middle;\n",
       "    }\n",
       "\n",
       "    .dataframe tbody tr th {\n",
       "        vertical-align: top;\n",
       "    }\n",
       "\n",
       "    .dataframe thead th {\n",
       "        text-align: right;\n",
       "    }\n",
       "</style>\n",
       "<table border=\"1\" class=\"dataframe\">\n",
       "  <thead>\n",
       "    <tr style=\"text-align: right;\">\n",
       "      <th></th>\n",
       "      <th>user_id</th>\n",
       "      <th>name</th>\n",
       "      <th>age</th>\n",
       "      <th>city</th>\n",
       "      <th>subscription_type</th>\n",
       "      <th>distance</th>\n",
       "      <th>duration</th>\n",
       "      <th>date</th>\n",
       "      <th>month</th>\n",
       "      <th>minute_price</th>\n",
       "      <th>start_ride_price</th>\n",
       "      <th>subscription_fee</th>\n",
       "    </tr>\n",
       "  </thead>\n",
       "  <tbody>\n",
       "    <tr>\n",
       "      <th>0</th>\n",
       "      <td>1</td>\n",
       "      <td>Кира</td>\n",
       "      <td>22</td>\n",
       "      <td>Тюмень</td>\n",
       "      <td>ultra</td>\n",
       "      <td>4409.919140</td>\n",
       "      <td>25.599769</td>\n",
       "      <td>2021-01-01</td>\n",
       "      <td>1</td>\n",
       "      <td>6</td>\n",
       "      <td>0</td>\n",
       "      <td>199</td>\n",
       "    </tr>\n",
       "    <tr>\n",
       "      <th>1</th>\n",
       "      <td>1</td>\n",
       "      <td>Кира</td>\n",
       "      <td>22</td>\n",
       "      <td>Тюмень</td>\n",
       "      <td>ultra</td>\n",
       "      <td>2617.592153</td>\n",
       "      <td>15.816871</td>\n",
       "      <td>2021-01-18</td>\n",
       "      <td>1</td>\n",
       "      <td>6</td>\n",
       "      <td>0</td>\n",
       "      <td>199</td>\n",
       "    </tr>\n",
       "    <tr>\n",
       "      <th>2</th>\n",
       "      <td>1</td>\n",
       "      <td>Кира</td>\n",
       "      <td>22</td>\n",
       "      <td>Тюмень</td>\n",
       "      <td>ultra</td>\n",
       "      <td>754.159807</td>\n",
       "      <td>6.232113</td>\n",
       "      <td>2021-04-20</td>\n",
       "      <td>4</td>\n",
       "      <td>6</td>\n",
       "      <td>0</td>\n",
       "      <td>199</td>\n",
       "    </tr>\n",
       "    <tr>\n",
       "      <th>3</th>\n",
       "      <td>1</td>\n",
       "      <td>Кира</td>\n",
       "      <td>22</td>\n",
       "      <td>Тюмень</td>\n",
       "      <td>ultra</td>\n",
       "      <td>2694.783254</td>\n",
       "      <td>18.511000</td>\n",
       "      <td>2021-08-11</td>\n",
       "      <td>8</td>\n",
       "      <td>6</td>\n",
       "      <td>0</td>\n",
       "      <td>199</td>\n",
       "    </tr>\n",
       "    <tr>\n",
       "      <th>4</th>\n",
       "      <td>1</td>\n",
       "      <td>Кира</td>\n",
       "      <td>22</td>\n",
       "      <td>Тюмень</td>\n",
       "      <td>ultra</td>\n",
       "      <td>4028.687306</td>\n",
       "      <td>26.265803</td>\n",
       "      <td>2021-08-28</td>\n",
       "      <td>8</td>\n",
       "      <td>6</td>\n",
       "      <td>0</td>\n",
       "      <td>199</td>\n",
       "    </tr>\n",
       "    <tr>\n",
       "      <th>...</th>\n",
       "      <td>...</td>\n",
       "      <td>...</td>\n",
       "      <td>...</td>\n",
       "      <td>...</td>\n",
       "      <td>...</td>\n",
       "      <td>...</td>\n",
       "      <td>...</td>\n",
       "      <td>...</td>\n",
       "      <td>...</td>\n",
       "      <td>...</td>\n",
       "      <td>...</td>\n",
       "      <td>...</td>\n",
       "    </tr>\n",
       "    <tr>\n",
       "      <th>18063</th>\n",
       "      <td>1534</td>\n",
       "      <td>Альберт</td>\n",
       "      <td>25</td>\n",
       "      <td>Краснодар</td>\n",
       "      <td>free</td>\n",
       "      <td>3781.098080</td>\n",
       "      <td>19.822962</td>\n",
       "      <td>2021-11-04</td>\n",
       "      <td>11</td>\n",
       "      <td>8</td>\n",
       "      <td>50</td>\n",
       "      <td>0</td>\n",
       "    </tr>\n",
       "    <tr>\n",
       "      <th>18064</th>\n",
       "      <td>1534</td>\n",
       "      <td>Альберт</td>\n",
       "      <td>25</td>\n",
       "      <td>Краснодар</td>\n",
       "      <td>free</td>\n",
       "      <td>2840.423057</td>\n",
       "      <td>21.409799</td>\n",
       "      <td>2021-11-16</td>\n",
       "      <td>11</td>\n",
       "      <td>8</td>\n",
       "      <td>50</td>\n",
       "      <td>0</td>\n",
       "    </tr>\n",
       "    <tr>\n",
       "      <th>18065</th>\n",
       "      <td>1534</td>\n",
       "      <td>Альберт</td>\n",
       "      <td>25</td>\n",
       "      <td>Краснодар</td>\n",
       "      <td>free</td>\n",
       "      <td>3826.185507</td>\n",
       "      <td>18.435051</td>\n",
       "      <td>2021-11-18</td>\n",
       "      <td>11</td>\n",
       "      <td>8</td>\n",
       "      <td>50</td>\n",
       "      <td>0</td>\n",
       "    </tr>\n",
       "    <tr>\n",
       "      <th>18066</th>\n",
       "      <td>1534</td>\n",
       "      <td>Альберт</td>\n",
       "      <td>25</td>\n",
       "      <td>Краснодар</td>\n",
       "      <td>free</td>\n",
       "      <td>2902.308661</td>\n",
       "      <td>16.674362</td>\n",
       "      <td>2021-11-27</td>\n",
       "      <td>11</td>\n",
       "      <td>8</td>\n",
       "      <td>50</td>\n",
       "      <td>0</td>\n",
       "    </tr>\n",
       "    <tr>\n",
       "      <th>18067</th>\n",
       "      <td>1534</td>\n",
       "      <td>Альберт</td>\n",
       "      <td>25</td>\n",
       "      <td>Краснодар</td>\n",
       "      <td>free</td>\n",
       "      <td>2371.711192</td>\n",
       "      <td>15.893917</td>\n",
       "      <td>2021-12-29</td>\n",
       "      <td>12</td>\n",
       "      <td>8</td>\n",
       "      <td>50</td>\n",
       "      <td>0</td>\n",
       "    </tr>\n",
       "  </tbody>\n",
       "</table>\n",
       "<p>18068 rows × 12 columns</p>\n",
       "</div>"
      ],
      "text/plain": [
       "       user_id     name  age       city subscription_type     distance  \\\n",
       "0            1     Кира   22     Тюмень             ultra  4409.919140   \n",
       "1            1     Кира   22     Тюмень             ultra  2617.592153   \n",
       "2            1     Кира   22     Тюмень             ultra   754.159807   \n",
       "3            1     Кира   22     Тюмень             ultra  2694.783254   \n",
       "4            1     Кира   22     Тюмень             ultra  4028.687306   \n",
       "...        ...      ...  ...        ...               ...          ...   \n",
       "18063     1534  Альберт   25  Краснодар              free  3781.098080   \n",
       "18064     1534  Альберт   25  Краснодар              free  2840.423057   \n",
       "18065     1534  Альберт   25  Краснодар              free  3826.185507   \n",
       "18066     1534  Альберт   25  Краснодар              free  2902.308661   \n",
       "18067     1534  Альберт   25  Краснодар              free  2371.711192   \n",
       "\n",
       "        duration       date  month  minute_price  start_ride_price  \\\n",
       "0      25.599769 2021-01-01      1             6                 0   \n",
       "1      15.816871 2021-01-18      1             6                 0   \n",
       "2       6.232113 2021-04-20      4             6                 0   \n",
       "3      18.511000 2021-08-11      8             6                 0   \n",
       "4      26.265803 2021-08-28      8             6                 0   \n",
       "...          ...        ...    ...           ...               ...   \n",
       "18063  19.822962 2021-11-04     11             8                50   \n",
       "18064  21.409799 2021-11-16     11             8                50   \n",
       "18065  18.435051 2021-11-18     11             8                50   \n",
       "18066  16.674362 2021-11-27     11             8                50   \n",
       "18067  15.893917 2021-12-29     12             8                50   \n",
       "\n",
       "       subscription_fee  \n",
       "0                   199  \n",
       "1                   199  \n",
       "2                   199  \n",
       "3                   199  \n",
       "4                   199  \n",
       "...                 ...  \n",
       "18063                 0  \n",
       "18064                 0  \n",
       "18065                 0  \n",
       "18066                 0  \n",
       "18067                 0  \n",
       "\n",
       "[18068 rows x 12 columns]"
      ]
     },
     "execution_count": 41,
     "metadata": {},
     "output_type": "execute_result"
    }
   ],
   "source": [
    "full = users.merge(rides)\n",
    "full = full.merge(subs)\n",
    "full\n"
   ]
  },
  {
   "cell_type": "markdown",
   "id": "f04923c4",
   "metadata": {},
   "source": [
    "**Создадим таблицу с пользователями с бесплатной подпиской**"
   ]
  },
  {
   "cell_type": "code",
   "execution_count": 42,
   "id": "4c3361f5",
   "metadata": {
    "scrolled": true
   },
   "outputs": [
    {
     "data": {
      "text/html": [
       "<div>\n",
       "<style scoped>\n",
       "    .dataframe tbody tr th:only-of-type {\n",
       "        vertical-align: middle;\n",
       "    }\n",
       "\n",
       "    .dataframe tbody tr th {\n",
       "        vertical-align: top;\n",
       "    }\n",
       "\n",
       "    .dataframe thead th {\n",
       "        text-align: right;\n",
       "    }\n",
       "</style>\n",
       "<table border=\"1\" class=\"dataframe\">\n",
       "  <thead>\n",
       "    <tr style=\"text-align: right;\">\n",
       "      <th></th>\n",
       "      <th>user_id</th>\n",
       "      <th>name</th>\n",
       "      <th>age</th>\n",
       "      <th>city</th>\n",
       "      <th>subscription_type</th>\n",
       "      <th>distance</th>\n",
       "      <th>duration</th>\n",
       "      <th>date</th>\n",
       "      <th>month</th>\n",
       "      <th>minute_price</th>\n",
       "      <th>start_ride_price</th>\n",
       "      <th>subscription_fee</th>\n",
       "    </tr>\n",
       "  </thead>\n",
       "  <tbody>\n",
       "    <tr>\n",
       "      <th>6500</th>\n",
       "      <td>700</td>\n",
       "      <td>Айдар</td>\n",
       "      <td>22</td>\n",
       "      <td>Омск</td>\n",
       "      <td>free</td>\n",
       "      <td>2515.690719</td>\n",
       "      <td>14.944286</td>\n",
       "      <td>2021-01-02</td>\n",
       "      <td>1</td>\n",
       "      <td>8</td>\n",
       "      <td>50</td>\n",
       "      <td>0</td>\n",
       "    </tr>\n",
       "    <tr>\n",
       "      <th>6501</th>\n",
       "      <td>700</td>\n",
       "      <td>Айдар</td>\n",
       "      <td>22</td>\n",
       "      <td>Омск</td>\n",
       "      <td>free</td>\n",
       "      <td>846.932642</td>\n",
       "      <td>16.234663</td>\n",
       "      <td>2021-02-01</td>\n",
       "      <td>2</td>\n",
       "      <td>8</td>\n",
       "      <td>50</td>\n",
       "      <td>0</td>\n",
       "    </tr>\n",
       "    <tr>\n",
       "      <th>6502</th>\n",
       "      <td>700</td>\n",
       "      <td>Айдар</td>\n",
       "      <td>22</td>\n",
       "      <td>Омск</td>\n",
       "      <td>free</td>\n",
       "      <td>4004.434142</td>\n",
       "      <td>20.016628</td>\n",
       "      <td>2021-02-04</td>\n",
       "      <td>2</td>\n",
       "      <td>8</td>\n",
       "      <td>50</td>\n",
       "      <td>0</td>\n",
       "    </tr>\n",
       "    <tr>\n",
       "      <th>6503</th>\n",
       "      <td>700</td>\n",
       "      <td>Айдар</td>\n",
       "      <td>22</td>\n",
       "      <td>Омск</td>\n",
       "      <td>free</td>\n",
       "      <td>1205.911290</td>\n",
       "      <td>9.782872</td>\n",
       "      <td>2021-02-10</td>\n",
       "      <td>2</td>\n",
       "      <td>8</td>\n",
       "      <td>50</td>\n",
       "      <td>0</td>\n",
       "    </tr>\n",
       "    <tr>\n",
       "      <th>6504</th>\n",
       "      <td>700</td>\n",
       "      <td>Айдар</td>\n",
       "      <td>22</td>\n",
       "      <td>Омск</td>\n",
       "      <td>free</td>\n",
       "      <td>3047.379435</td>\n",
       "      <td>17.427673</td>\n",
       "      <td>2021-02-14</td>\n",
       "      <td>2</td>\n",
       "      <td>8</td>\n",
       "      <td>50</td>\n",
       "      <td>0</td>\n",
       "    </tr>\n",
       "    <tr>\n",
       "      <th>...</th>\n",
       "      <td>...</td>\n",
       "      <td>...</td>\n",
       "      <td>...</td>\n",
       "      <td>...</td>\n",
       "      <td>...</td>\n",
       "      <td>...</td>\n",
       "      <td>...</td>\n",
       "      <td>...</td>\n",
       "      <td>...</td>\n",
       "      <td>...</td>\n",
       "      <td>...</td>\n",
       "      <td>...</td>\n",
       "    </tr>\n",
       "    <tr>\n",
       "      <th>18063</th>\n",
       "      <td>1534</td>\n",
       "      <td>Альберт</td>\n",
       "      <td>25</td>\n",
       "      <td>Краснодар</td>\n",
       "      <td>free</td>\n",
       "      <td>3781.098080</td>\n",
       "      <td>19.822962</td>\n",
       "      <td>2021-11-04</td>\n",
       "      <td>11</td>\n",
       "      <td>8</td>\n",
       "      <td>50</td>\n",
       "      <td>0</td>\n",
       "    </tr>\n",
       "    <tr>\n",
       "      <th>18064</th>\n",
       "      <td>1534</td>\n",
       "      <td>Альберт</td>\n",
       "      <td>25</td>\n",
       "      <td>Краснодар</td>\n",
       "      <td>free</td>\n",
       "      <td>2840.423057</td>\n",
       "      <td>21.409799</td>\n",
       "      <td>2021-11-16</td>\n",
       "      <td>11</td>\n",
       "      <td>8</td>\n",
       "      <td>50</td>\n",
       "      <td>0</td>\n",
       "    </tr>\n",
       "    <tr>\n",
       "      <th>18065</th>\n",
       "      <td>1534</td>\n",
       "      <td>Альберт</td>\n",
       "      <td>25</td>\n",
       "      <td>Краснодар</td>\n",
       "      <td>free</td>\n",
       "      <td>3826.185507</td>\n",
       "      <td>18.435051</td>\n",
       "      <td>2021-11-18</td>\n",
       "      <td>11</td>\n",
       "      <td>8</td>\n",
       "      <td>50</td>\n",
       "      <td>0</td>\n",
       "    </tr>\n",
       "    <tr>\n",
       "      <th>18066</th>\n",
       "      <td>1534</td>\n",
       "      <td>Альберт</td>\n",
       "      <td>25</td>\n",
       "      <td>Краснодар</td>\n",
       "      <td>free</td>\n",
       "      <td>2902.308661</td>\n",
       "      <td>16.674362</td>\n",
       "      <td>2021-11-27</td>\n",
       "      <td>11</td>\n",
       "      <td>8</td>\n",
       "      <td>50</td>\n",
       "      <td>0</td>\n",
       "    </tr>\n",
       "    <tr>\n",
       "      <th>18067</th>\n",
       "      <td>1534</td>\n",
       "      <td>Альберт</td>\n",
       "      <td>25</td>\n",
       "      <td>Краснодар</td>\n",
       "      <td>free</td>\n",
       "      <td>2371.711192</td>\n",
       "      <td>15.893917</td>\n",
       "      <td>2021-12-29</td>\n",
       "      <td>12</td>\n",
       "      <td>8</td>\n",
       "      <td>50</td>\n",
       "      <td>0</td>\n",
       "    </tr>\n",
       "  </tbody>\n",
       "</table>\n",
       "<p>11568 rows × 12 columns</p>\n",
       "</div>"
      ],
      "text/plain": [
       "       user_id     name  age       city subscription_type     distance  \\\n",
       "6500       700    Айдар   22       Омск              free  2515.690719   \n",
       "6501       700    Айдар   22       Омск              free   846.932642   \n",
       "6502       700    Айдар   22       Омск              free  4004.434142   \n",
       "6503       700    Айдар   22       Омск              free  1205.911290   \n",
       "6504       700    Айдар   22       Омск              free  3047.379435   \n",
       "...        ...      ...  ...        ...               ...          ...   \n",
       "18063     1534  Альберт   25  Краснодар              free  3781.098080   \n",
       "18064     1534  Альберт   25  Краснодар              free  2840.423057   \n",
       "18065     1534  Альберт   25  Краснодар              free  3826.185507   \n",
       "18066     1534  Альберт   25  Краснодар              free  2902.308661   \n",
       "18067     1534  Альберт   25  Краснодар              free  2371.711192   \n",
       "\n",
       "        duration       date  month  minute_price  start_ride_price  \\\n",
       "6500   14.944286 2021-01-02      1             8                50   \n",
       "6501   16.234663 2021-02-01      2             8                50   \n",
       "6502   20.016628 2021-02-04      2             8                50   \n",
       "6503    9.782872 2021-02-10      2             8                50   \n",
       "6504   17.427673 2021-02-14      2             8                50   \n",
       "...          ...        ...    ...           ...               ...   \n",
       "18063  19.822962 2021-11-04     11             8                50   \n",
       "18064  21.409799 2021-11-16     11             8                50   \n",
       "18065  18.435051 2021-11-18     11             8                50   \n",
       "18066  16.674362 2021-11-27     11             8                50   \n",
       "18067  15.893917 2021-12-29     12             8                50   \n",
       "\n",
       "       subscription_fee  \n",
       "6500                  0  \n",
       "6501                  0  \n",
       "6502                  0  \n",
       "6503                  0  \n",
       "6504                  0  \n",
       "...                 ...  \n",
       "18063                 0  \n",
       "18064                 0  \n",
       "18065                 0  \n",
       "18066                 0  \n",
       "18067                 0  \n",
       "\n",
       "[11568 rows x 12 columns]"
      ]
     },
     "execution_count": 42,
     "metadata": {},
     "output_type": "execute_result"
    }
   ],
   "source": [
    "free_subs = full.query('subscription_type == \"free\"')\n",
    "free_subs\n"
   ]
  },
  {
   "cell_type": "markdown",
   "id": "97a7c189",
   "metadata": {},
   "source": [
    "**Создадим таблицу с пользователями с подпиской ультра**"
   ]
  },
  {
   "cell_type": "code",
   "execution_count": 43,
   "id": "1b5169a9",
   "metadata": {
    "scrolled": true
   },
   "outputs": [
    {
     "data": {
      "text/html": [
       "<div>\n",
       "<style scoped>\n",
       "    .dataframe tbody tr th:only-of-type {\n",
       "        vertical-align: middle;\n",
       "    }\n",
       "\n",
       "    .dataframe tbody tr th {\n",
       "        vertical-align: top;\n",
       "    }\n",
       "\n",
       "    .dataframe thead th {\n",
       "        text-align: right;\n",
       "    }\n",
       "</style>\n",
       "<table border=\"1\" class=\"dataframe\">\n",
       "  <thead>\n",
       "    <tr style=\"text-align: right;\">\n",
       "      <th></th>\n",
       "      <th>user_id</th>\n",
       "      <th>name</th>\n",
       "      <th>age</th>\n",
       "      <th>city</th>\n",
       "      <th>subscription_type</th>\n",
       "      <th>distance</th>\n",
       "      <th>duration</th>\n",
       "      <th>date</th>\n",
       "      <th>month</th>\n",
       "      <th>minute_price</th>\n",
       "      <th>start_ride_price</th>\n",
       "      <th>subscription_fee</th>\n",
       "    </tr>\n",
       "  </thead>\n",
       "  <tbody>\n",
       "    <tr>\n",
       "      <th>0</th>\n",
       "      <td>1</td>\n",
       "      <td>Кира</td>\n",
       "      <td>22</td>\n",
       "      <td>Тюмень</td>\n",
       "      <td>ultra</td>\n",
       "      <td>4409.919140</td>\n",
       "      <td>25.599769</td>\n",
       "      <td>2021-01-01</td>\n",
       "      <td>1</td>\n",
       "      <td>6</td>\n",
       "      <td>0</td>\n",
       "      <td>199</td>\n",
       "    </tr>\n",
       "    <tr>\n",
       "      <th>1</th>\n",
       "      <td>1</td>\n",
       "      <td>Кира</td>\n",
       "      <td>22</td>\n",
       "      <td>Тюмень</td>\n",
       "      <td>ultra</td>\n",
       "      <td>2617.592153</td>\n",
       "      <td>15.816871</td>\n",
       "      <td>2021-01-18</td>\n",
       "      <td>1</td>\n",
       "      <td>6</td>\n",
       "      <td>0</td>\n",
       "      <td>199</td>\n",
       "    </tr>\n",
       "    <tr>\n",
       "      <th>2</th>\n",
       "      <td>1</td>\n",
       "      <td>Кира</td>\n",
       "      <td>22</td>\n",
       "      <td>Тюмень</td>\n",
       "      <td>ultra</td>\n",
       "      <td>754.159807</td>\n",
       "      <td>6.232113</td>\n",
       "      <td>2021-04-20</td>\n",
       "      <td>4</td>\n",
       "      <td>6</td>\n",
       "      <td>0</td>\n",
       "      <td>199</td>\n",
       "    </tr>\n",
       "    <tr>\n",
       "      <th>3</th>\n",
       "      <td>1</td>\n",
       "      <td>Кира</td>\n",
       "      <td>22</td>\n",
       "      <td>Тюмень</td>\n",
       "      <td>ultra</td>\n",
       "      <td>2694.783254</td>\n",
       "      <td>18.511000</td>\n",
       "      <td>2021-08-11</td>\n",
       "      <td>8</td>\n",
       "      <td>6</td>\n",
       "      <td>0</td>\n",
       "      <td>199</td>\n",
       "    </tr>\n",
       "    <tr>\n",
       "      <th>4</th>\n",
       "      <td>1</td>\n",
       "      <td>Кира</td>\n",
       "      <td>22</td>\n",
       "      <td>Тюмень</td>\n",
       "      <td>ultra</td>\n",
       "      <td>4028.687306</td>\n",
       "      <td>26.265803</td>\n",
       "      <td>2021-08-28</td>\n",
       "      <td>8</td>\n",
       "      <td>6</td>\n",
       "      <td>0</td>\n",
       "      <td>199</td>\n",
       "    </tr>\n",
       "    <tr>\n",
       "      <th>...</th>\n",
       "      <td>...</td>\n",
       "      <td>...</td>\n",
       "      <td>...</td>\n",
       "      <td>...</td>\n",
       "      <td>...</td>\n",
       "      <td>...</td>\n",
       "      <td>...</td>\n",
       "      <td>...</td>\n",
       "      <td>...</td>\n",
       "      <td>...</td>\n",
       "      <td>...</td>\n",
       "      <td>...</td>\n",
       "    </tr>\n",
       "    <tr>\n",
       "      <th>6495</th>\n",
       "      <td>699</td>\n",
       "      <td>Оксана</td>\n",
       "      <td>22</td>\n",
       "      <td>Москва</td>\n",
       "      <td>ultra</td>\n",
       "      <td>3973.046497</td>\n",
       "      <td>24.671163</td>\n",
       "      <td>2021-08-29</td>\n",
       "      <td>8</td>\n",
       "      <td>6</td>\n",
       "      <td>0</td>\n",
       "      <td>199</td>\n",
       "    </tr>\n",
       "    <tr>\n",
       "      <th>6496</th>\n",
       "      <td>699</td>\n",
       "      <td>Оксана</td>\n",
       "      <td>22</td>\n",
       "      <td>Москва</td>\n",
       "      <td>ultra</td>\n",
       "      <td>3288.702563</td>\n",
       "      <td>15.892886</td>\n",
       "      <td>2021-09-12</td>\n",
       "      <td>9</td>\n",
       "      <td>6</td>\n",
       "      <td>0</td>\n",
       "      <td>199</td>\n",
       "    </tr>\n",
       "    <tr>\n",
       "      <th>6497</th>\n",
       "      <td>699</td>\n",
       "      <td>Оксана</td>\n",
       "      <td>22</td>\n",
       "      <td>Москва</td>\n",
       "      <td>ultra</td>\n",
       "      <td>3076.159348</td>\n",
       "      <td>14.389525</td>\n",
       "      <td>2021-09-26</td>\n",
       "      <td>9</td>\n",
       "      <td>6</td>\n",
       "      <td>0</td>\n",
       "      <td>199</td>\n",
       "    </tr>\n",
       "    <tr>\n",
       "      <th>6498</th>\n",
       "      <td>699</td>\n",
       "      <td>Оксана</td>\n",
       "      <td>22</td>\n",
       "      <td>Москва</td>\n",
       "      <td>ultra</td>\n",
       "      <td>4707.845501</td>\n",
       "      <td>15.839579</td>\n",
       "      <td>2021-10-17</td>\n",
       "      <td>10</td>\n",
       "      <td>6</td>\n",
       "      <td>0</td>\n",
       "      <td>199</td>\n",
       "    </tr>\n",
       "    <tr>\n",
       "      <th>6499</th>\n",
       "      <td>699</td>\n",
       "      <td>Оксана</td>\n",
       "      <td>22</td>\n",
       "      <td>Москва</td>\n",
       "      <td>ultra</td>\n",
       "      <td>3202.890770</td>\n",
       "      <td>25.217345</td>\n",
       "      <td>2021-12-03</td>\n",
       "      <td>12</td>\n",
       "      <td>6</td>\n",
       "      <td>0</td>\n",
       "      <td>199</td>\n",
       "    </tr>\n",
       "  </tbody>\n",
       "</table>\n",
       "<p>6500 rows × 12 columns</p>\n",
       "</div>"
      ],
      "text/plain": [
       "      user_id    name  age    city subscription_type     distance   duration  \\\n",
       "0           1    Кира   22  Тюмень             ultra  4409.919140  25.599769   \n",
       "1           1    Кира   22  Тюмень             ultra  2617.592153  15.816871   \n",
       "2           1    Кира   22  Тюмень             ultra   754.159807   6.232113   \n",
       "3           1    Кира   22  Тюмень             ultra  2694.783254  18.511000   \n",
       "4           1    Кира   22  Тюмень             ultra  4028.687306  26.265803   \n",
       "...       ...     ...  ...     ...               ...          ...        ...   \n",
       "6495      699  Оксана   22  Москва             ultra  3973.046497  24.671163   \n",
       "6496      699  Оксана   22  Москва             ultra  3288.702563  15.892886   \n",
       "6497      699  Оксана   22  Москва             ultra  3076.159348  14.389525   \n",
       "6498      699  Оксана   22  Москва             ultra  4707.845501  15.839579   \n",
       "6499      699  Оксана   22  Москва             ultra  3202.890770  25.217345   \n",
       "\n",
       "           date  month  minute_price  start_ride_price  subscription_fee  \n",
       "0    2021-01-01      1             6                 0               199  \n",
       "1    2021-01-18      1             6                 0               199  \n",
       "2    2021-04-20      4             6                 0               199  \n",
       "3    2021-08-11      8             6                 0               199  \n",
       "4    2021-08-28      8             6                 0               199  \n",
       "...         ...    ...           ...               ...               ...  \n",
       "6495 2021-08-29      8             6                 0               199  \n",
       "6496 2021-09-12      9             6                 0               199  \n",
       "6497 2021-09-26      9             6                 0               199  \n",
       "6498 2021-10-17     10             6                 0               199  \n",
       "6499 2021-12-03     12             6                 0               199  \n",
       "\n",
       "[6500 rows x 12 columns]"
      ]
     },
     "execution_count": 43,
     "metadata": {},
     "output_type": "execute_result"
    }
   ],
   "source": [
    "ultra_subs = full.query('subscription_type == \"ultra\"')\n",
    "ultra_subs\n"
   ]
  },
  {
   "cell_type": "markdown",
   "id": "a4e2a87f",
   "metadata": {},
   "source": [
    "**Совместим обе таблицы на графике**"
   ]
  },
  {
   "cell_type": "code",
   "execution_count": 44,
   "id": "349caf33",
   "metadata": {
    "scrolled": false
   },
   "outputs": [
    {
     "data": {
      "image/png": "[encoded data removed]",
      "text/plain": [
       "<Figure size 1000x500 with 1 Axes>"
      ]
     },
     "metadata": {},
     "output_type": "display_data"
    }
   ],
   "source": [
    "free_subs['distance'].hist(bins=30, range = (0, 7300), figsize=(10,5), grid=True, label='free')\n",
    "ultra_subs['distance'].hist(bins=30, range = (0, 7300), figsize=(10,5), grid=True, alpha=0.7, label='ultra')\n",
    "plt.title('Разница в расстояние пользователей без подписки и с подпиской')\n",
    "plt.xlabel('Расстояние')\n",
    "plt.ylabel('Количество поездок')\n",
    "plt.legend()\n",
    "plt.show()"
   ]
  },
  {
   "cell_type": "code",
   "execution_count": 45,
   "id": "034f5463",
   "metadata": {},
   "outputs": [
    {
     "data": {
      "image/png": "[encoded data removed]",
      "text/plain": [
       "<Figure size 1000x500 with 1 Axes>"
      ]
     },
     "metadata": {},
     "output_type": "display_data"
    }
   ],
   "source": [
    "free_subs['duration'].hist(bins=30, range = (0, 42), figsize=(10,5), grid=True, label='free')\n",
    "ultra_subs['duration'].hist(bins=30, range = (0, 42), figsize=(10,5), grid=True, alpha=0.7, label='ultra')\n",
    "plt.title('Разница в длительности поездки пользователей без подписки и с подпиской')\n",
    "plt.xlabel('Длительность')\n",
    "plt.ylabel('Количество поездок')\n",
    "plt.legend()\n",
    "plt.show()"
   ]
  },
  {
   "cell_type": "markdown",
   "id": "18af211d",
   "metadata": {},
   "source": [
    "### Вывод\n",
    "Все датасеты были смещены в одну таблицу, была получена общая картина.\n",
    "\n",
    "\n",
    "Таблица была разделена на две: пользователи с бесплатной подпиской и пользователи с ультрой.\n",
    "\n",
    "\n",
    "В первую таблицу вошло 11568 строк, во вторую - 6500, разница более чем в 1.5 раза.\n",
    "\n",
    "Из общего графика распределения по расстоянию можно заметить, что тенденция у обеих гистограмм одинаковая, однако бесплатники чаще преодолевают короткие расстояния - от 1 до ~2.7 км, а также большие расстояния - от ~3.4 до 7 км.\n",
    "\n",
    "\n",
    "Пик пользователей ультры приходится на 3.4 км. Пик превышает максимальное значение бесплатников практически на 200 поездок.  \n",
    "\n",
    "\n",
    "Скорее всего, бесплатной подпиской пользуются \"случайные\" пользователи. Пользователи ультра, скорее всего, пользуются самокатами на постоянной основе.\n",
    "\n",
    "\n",
    "\n",
    "Из общего графика распределения по длительности поездки можно заметить, что тенденция у обеих гистограмм также одинаковая, однако у бесплатников длительность поездок превышает по частотности длительность поездки пользователей ультры. \n",
    "\n",
    "\n",
    "Они совершают больше коротких поездок, менее 5 мин. Чаще всего их поездка занимает от ~15 до 20 мин. Максимальное время около 35 минут, таких значений мало.  \n",
    "\n",
    "\n",
    "Пользователи с платной подпиской редко используют самокат менее 10 мин. Чаще всего их поездка также занимает от ~15 до 20 минут. Максимальное время поездки достигает 35-40 минут, однако таких поездок достаточно мало."
   ]
  },
  {
   "cell_type": "markdown",
   "id": "402d620f",
   "metadata": {},
   "source": [
    "## Подсчёт выручки"
   ]
  },
  {
   "cell_type": "markdown",
   "id": "7b618b84",
   "metadata": {},
   "source": [
    "Создадим аггрегированную таблицу"
   ]
  },
  {
   "cell_type": "code",
   "execution_count": 46,
   "id": "c31e1e52",
   "metadata": {
    "scrolled": true
   },
   "outputs": [
    {
     "data": {
      "text/html": [
       "<div>\n",
       "<style scoped>\n",
       "    .dataframe tbody tr th:only-of-type {\n",
       "        vertical-align: middle;\n",
       "    }\n",
       "\n",
       "    .dataframe tbody tr th {\n",
       "        vertical-align: top;\n",
       "    }\n",
       "\n",
       "    .dataframe thead th {\n",
       "        text-align: right;\n",
       "    }\n",
       "</style>\n",
       "<table border=\"1\" class=\"dataframe\">\n",
       "  <thead>\n",
       "    <tr style=\"text-align: right;\">\n",
       "      <th></th>\n",
       "      <th></th>\n",
       "      <th>distance</th>\n",
       "      <th>duration</th>\n",
       "      <th>minute_price</th>\n",
       "      <th>rides_numb</th>\n",
       "      <th>start_ride_price</th>\n",
       "      <th>subscription_fee</th>\n",
       "      <th>subscription_type</th>\n",
       "    </tr>\n",
       "    <tr>\n",
       "      <th>user_id</th>\n",
       "      <th>month</th>\n",
       "      <th></th>\n",
       "      <th></th>\n",
       "      <th></th>\n",
       "      <th></th>\n",
       "      <th></th>\n",
       "      <th></th>\n",
       "      <th></th>\n",
       "    </tr>\n",
       "  </thead>\n",
       "  <tbody>\n",
       "    <tr>\n",
       "      <th rowspan=\"5\" valign=\"top\">1</th>\n",
       "      <th>1</th>\n",
       "      <td>7.03</td>\n",
       "      <td>42.0</td>\n",
       "      <td>6</td>\n",
       "      <td>2</td>\n",
       "      <td>0</td>\n",
       "      <td>199</td>\n",
       "      <td>ultra</td>\n",
       "    </tr>\n",
       "    <tr>\n",
       "      <th>4</th>\n",
       "      <td>0.75</td>\n",
       "      <td>7.0</td>\n",
       "      <td>6</td>\n",
       "      <td>1</td>\n",
       "      <td>0</td>\n",
       "      <td>199</td>\n",
       "      <td>ultra</td>\n",
       "    </tr>\n",
       "    <tr>\n",
       "      <th>8</th>\n",
       "      <td>6.72</td>\n",
       "      <td>46.0</td>\n",
       "      <td>6</td>\n",
       "      <td>2</td>\n",
       "      <td>0</td>\n",
       "      <td>199</td>\n",
       "      <td>ultra</td>\n",
       "    </tr>\n",
       "    <tr>\n",
       "      <th>10</th>\n",
       "      <td>5.81</td>\n",
       "      <td>32.0</td>\n",
       "      <td>6</td>\n",
       "      <td>2</td>\n",
       "      <td>0</td>\n",
       "      <td>199</td>\n",
       "      <td>ultra</td>\n",
       "    </tr>\n",
       "    <tr>\n",
       "      <th>11</th>\n",
       "      <td>7.00</td>\n",
       "      <td>56.0</td>\n",
       "      <td>6</td>\n",
       "      <td>3</td>\n",
       "      <td>0</td>\n",
       "      <td>199</td>\n",
       "      <td>ultra</td>\n",
       "    </tr>\n",
       "    <tr>\n",
       "      <th>...</th>\n",
       "      <th>...</th>\n",
       "      <td>...</td>\n",
       "      <td>...</td>\n",
       "      <td>...</td>\n",
       "      <td>...</td>\n",
       "      <td>...</td>\n",
       "      <td>...</td>\n",
       "      <td>...</td>\n",
       "    </tr>\n",
       "    <tr>\n",
       "      <th rowspan=\"5\" valign=\"top\">1534</th>\n",
       "      <th>6</th>\n",
       "      <td>3.41</td>\n",
       "      <td>26.0</td>\n",
       "      <td>8</td>\n",
       "      <td>2</td>\n",
       "      <td>50</td>\n",
       "      <td>0</td>\n",
       "      <td>free</td>\n",
       "    </tr>\n",
       "    <tr>\n",
       "      <th>8</th>\n",
       "      <td>7.62</td>\n",
       "      <td>48.0</td>\n",
       "      <td>8</td>\n",
       "      <td>2</td>\n",
       "      <td>50</td>\n",
       "      <td>0</td>\n",
       "      <td>free</td>\n",
       "    </tr>\n",
       "    <tr>\n",
       "      <th>9</th>\n",
       "      <td>4.93</td>\n",
       "      <td>23.0</td>\n",
       "      <td>8</td>\n",
       "      <td>1</td>\n",
       "      <td>50</td>\n",
       "      <td>0</td>\n",
       "      <td>free</td>\n",
       "    </tr>\n",
       "    <tr>\n",
       "      <th>11</th>\n",
       "      <td>13.35</td>\n",
       "      <td>78.0</td>\n",
       "      <td>8</td>\n",
       "      <td>4</td>\n",
       "      <td>50</td>\n",
       "      <td>0</td>\n",
       "      <td>free</td>\n",
       "    </tr>\n",
       "    <tr>\n",
       "      <th>12</th>\n",
       "      <td>2.37</td>\n",
       "      <td>16.0</td>\n",
       "      <td>8</td>\n",
       "      <td>1</td>\n",
       "      <td>50</td>\n",
       "      <td>0</td>\n",
       "      <td>free</td>\n",
       "    </tr>\n",
       "  </tbody>\n",
       "</table>\n",
       "<p>11331 rows × 7 columns</p>\n",
       "</div>"
      ],
      "text/plain": [
       "               distance  duration  minute_price  rides_numb  start_ride_price  \\\n",
       "user_id month                                                                   \n",
       "1       1          7.03      42.0             6           2                 0   \n",
       "        4          0.75       7.0             6           1                 0   \n",
       "        8          6.72      46.0             6           2                 0   \n",
       "        10         5.81      32.0             6           2                 0   \n",
       "        11         7.00      56.0             6           3                 0   \n",
       "...                 ...       ...           ...         ...               ...   \n",
       "1534    6          3.41      26.0             8           2                50   \n",
       "        8          7.62      48.0             8           2                50   \n",
       "        9          4.93      23.0             8           1                50   \n",
       "        11        13.35      78.0             8           4                50   \n",
       "        12         2.37      16.0             8           1                50   \n",
       "\n",
       "               subscription_fee subscription_type  \n",
       "user_id month                                      \n",
       "1       1                   199             ultra  \n",
       "        4                   199             ultra  \n",
       "        8                   199             ultra  \n",
       "        10                  199             ultra  \n",
       "        11                  199             ultra  \n",
       "...                         ...               ...  \n",
       "1534    6                     0              free  \n",
       "        8                     0              free  \n",
       "        9                     0              free  \n",
       "        11                    0              free  \n",
       "        12                    0              free  \n",
       "\n",
       "[11331 rows x 7 columns]"
      ]
     },
     "execution_count": 46,
     "metadata": {},
     "output_type": "execute_result"
    }
   ],
   "source": [
    "full['duration'] = np.ceil(full['duration']) #округлим длительность\n",
    "\n",
    "df_agg = pd.pivot_table(full, index=['user_id','month'], \n",
    "                            values = ['distance', 'duration', 'name', 'subscription_type', 'minute_price', 'start_ride_price', 'subscription_fee'], \n",
    "                            aggfunc = {'distance': sum, \n",
    "                                      'duration' : sum,\n",
    "                                      'name' : len, \n",
    "                                      'subscription_type' : min,\n",
    "                                      'minute_price' : min,\n",
    "                                      'start_ride_price' : min,\n",
    "                                      'subscription_fee' : min})\n",
    "df_agg.rename(columns = {'name' : 'rides_numb'}, inplace = True) #переименуем столбец name для подсчета поездок\n",
    "df_agg['distance'] = round(df_agg['distance'] * 0.001, 2) #переведем расстояние в киллометры, округлим до двух знаков\n",
    "df_agg"
   ]
  },
  {
   "cell_type": "markdown",
   "id": "6008abb4",
   "metadata": {},
   "source": [
    "**Посчитаем помесячную выручку от каждого пользователя**"
   ]
  },
  {
   "cell_type": "markdown",
   "id": "a7d6923d",
   "metadata": {},
   "source": [
    "Помесячная выручка считается по формуле: \n",
    "\n",
    "(стоимость старта поездки ×  количество поездок) **+** \n",
    "\n",
    "стоимость одной минуты поездки **x**\n",
    "\n",
    "общая продолжительность всех поездок в минутах) **+**\n",
    "\n",
    "стоимость подписки."
   ]
  },
  {
   "cell_type": "markdown",
   "id": "c943f8ad",
   "metadata": {},
   "source": [
    "Добавим столбец с помесячной выручкой в таблицу"
   ]
  },
  {
   "cell_type": "code",
   "execution_count": 47,
   "id": "c70db3fb",
   "metadata": {
    "scrolled": true
   },
   "outputs": [
    {
     "data": {
      "text/html": [
       "<div>\n",
       "<style scoped>\n",
       "    .dataframe tbody tr th:only-of-type {\n",
       "        vertical-align: middle;\n",
       "    }\n",
       "\n",
       "    .dataframe tbody tr th {\n",
       "        vertical-align: top;\n",
       "    }\n",
       "\n",
       "    .dataframe thead th {\n",
       "        text-align: right;\n",
       "    }\n",
       "</style>\n",
       "<table border=\"1\" class=\"dataframe\">\n",
       "  <thead>\n",
       "    <tr style=\"text-align: right;\">\n",
       "      <th></th>\n",
       "      <th></th>\n",
       "      <th>distance</th>\n",
       "      <th>duration</th>\n",
       "      <th>minute_price</th>\n",
       "      <th>rides_numb</th>\n",
       "      <th>start_ride_price</th>\n",
       "      <th>subscription_fee</th>\n",
       "      <th>subscription_type</th>\n",
       "      <th>revenue_per_month</th>\n",
       "    </tr>\n",
       "    <tr>\n",
       "      <th>user_id</th>\n",
       "      <th>month</th>\n",
       "      <th></th>\n",
       "      <th></th>\n",
       "      <th></th>\n",
       "      <th></th>\n",
       "      <th></th>\n",
       "      <th></th>\n",
       "      <th></th>\n",
       "      <th></th>\n",
       "    </tr>\n",
       "  </thead>\n",
       "  <tbody>\n",
       "    <tr>\n",
       "      <th rowspan=\"5\" valign=\"top\">1</th>\n",
       "      <th>1</th>\n",
       "      <td>7.03</td>\n",
       "      <td>42.0</td>\n",
       "      <td>6</td>\n",
       "      <td>2</td>\n",
       "      <td>0</td>\n",
       "      <td>199</td>\n",
       "      <td>ultra</td>\n",
       "      <td>451.0</td>\n",
       "    </tr>\n",
       "    <tr>\n",
       "      <th>4</th>\n",
       "      <td>0.75</td>\n",
       "      <td>7.0</td>\n",
       "      <td>6</td>\n",
       "      <td>1</td>\n",
       "      <td>0</td>\n",
       "      <td>199</td>\n",
       "      <td>ultra</td>\n",
       "      <td>241.0</td>\n",
       "    </tr>\n",
       "    <tr>\n",
       "      <th>8</th>\n",
       "      <td>6.72</td>\n",
       "      <td>46.0</td>\n",
       "      <td>6</td>\n",
       "      <td>2</td>\n",
       "      <td>0</td>\n",
       "      <td>199</td>\n",
       "      <td>ultra</td>\n",
       "      <td>475.0</td>\n",
       "    </tr>\n",
       "    <tr>\n",
       "      <th>10</th>\n",
       "      <td>5.81</td>\n",
       "      <td>32.0</td>\n",
       "      <td>6</td>\n",
       "      <td>2</td>\n",
       "      <td>0</td>\n",
       "      <td>199</td>\n",
       "      <td>ultra</td>\n",
       "      <td>391.0</td>\n",
       "    </tr>\n",
       "    <tr>\n",
       "      <th>11</th>\n",
       "      <td>7.00</td>\n",
       "      <td>56.0</td>\n",
       "      <td>6</td>\n",
       "      <td>3</td>\n",
       "      <td>0</td>\n",
       "      <td>199</td>\n",
       "      <td>ultra</td>\n",
       "      <td>535.0</td>\n",
       "    </tr>\n",
       "    <tr>\n",
       "      <th>...</th>\n",
       "      <th>...</th>\n",
       "      <td>...</td>\n",
       "      <td>...</td>\n",
       "      <td>...</td>\n",
       "      <td>...</td>\n",
       "      <td>...</td>\n",
       "      <td>...</td>\n",
       "      <td>...</td>\n",
       "      <td>...</td>\n",
       "    </tr>\n",
       "    <tr>\n",
       "      <th rowspan=\"5\" valign=\"top\">1534</th>\n",
       "      <th>6</th>\n",
       "      <td>3.41</td>\n",
       "      <td>26.0</td>\n",
       "      <td>8</td>\n",
       "      <td>2</td>\n",
       "      <td>50</td>\n",
       "      <td>0</td>\n",
       "      <td>free</td>\n",
       "      <td>308.0</td>\n",
       "    </tr>\n",
       "    <tr>\n",
       "      <th>8</th>\n",
       "      <td>7.62</td>\n",
       "      <td>48.0</td>\n",
       "      <td>8</td>\n",
       "      <td>2</td>\n",
       "      <td>50</td>\n",
       "      <td>0</td>\n",
       "      <td>free</td>\n",
       "      <td>484.0</td>\n",
       "    </tr>\n",
       "    <tr>\n",
       "      <th>9</th>\n",
       "      <td>4.93</td>\n",
       "      <td>23.0</td>\n",
       "      <td>8</td>\n",
       "      <td>1</td>\n",
       "      <td>50</td>\n",
       "      <td>0</td>\n",
       "      <td>free</td>\n",
       "      <td>234.0</td>\n",
       "    </tr>\n",
       "    <tr>\n",
       "      <th>11</th>\n",
       "      <td>13.35</td>\n",
       "      <td>78.0</td>\n",
       "      <td>8</td>\n",
       "      <td>4</td>\n",
       "      <td>50</td>\n",
       "      <td>0</td>\n",
       "      <td>free</td>\n",
       "      <td>824.0</td>\n",
       "    </tr>\n",
       "    <tr>\n",
       "      <th>12</th>\n",
       "      <td>2.37</td>\n",
       "      <td>16.0</td>\n",
       "      <td>8</td>\n",
       "      <td>1</td>\n",
       "      <td>50</td>\n",
       "      <td>0</td>\n",
       "      <td>free</td>\n",
       "      <td>178.0</td>\n",
       "    </tr>\n",
       "  </tbody>\n",
       "</table>\n",
       "<p>11331 rows × 8 columns</p>\n",
       "</div>"
      ],
      "text/plain": [
       "               distance  duration  minute_price  rides_numb  start_ride_price  \\\n",
       "user_id month                                                                   \n",
       "1       1          7.03      42.0             6           2                 0   \n",
       "        4          0.75       7.0             6           1                 0   \n",
       "        8          6.72      46.0             6           2                 0   \n",
       "        10         5.81      32.0             6           2                 0   \n",
       "        11         7.00      56.0             6           3                 0   \n",
       "...                 ...       ...           ...         ...               ...   \n",
       "1534    6          3.41      26.0             8           2                50   \n",
       "        8          7.62      48.0             8           2                50   \n",
       "        9          4.93      23.0             8           1                50   \n",
       "        11        13.35      78.0             8           4                50   \n",
       "        12         2.37      16.0             8           1                50   \n",
       "\n",
       "               subscription_fee subscription_type  revenue_per_month  \n",
       "user_id month                                                         \n",
       "1       1                   199             ultra              451.0  \n",
       "        4                   199             ultra              241.0  \n",
       "        8                   199             ultra              475.0  \n",
       "        10                  199             ultra              391.0  \n",
       "        11                  199             ultra              535.0  \n",
       "...                         ...               ...                ...  \n",
       "1534    6                     0              free              308.0  \n",
       "        8                     0              free              484.0  \n",
       "        9                     0              free              234.0  \n",
       "        11                    0              free              824.0  \n",
       "        12                    0              free              178.0  \n",
       "\n",
       "[11331 rows x 8 columns]"
      ]
     },
     "execution_count": 47,
     "metadata": {},
     "output_type": "execute_result"
    }
   ],
   "source": [
    "df_agg['revenue_per_month'] = df_agg['minute_price'] * df_agg['duration'] + df_agg['start_ride_price'] * df_agg['rides_numb']+ df_agg['subscription_fee']\n",
    "df_agg"
   ]
  },
  {
   "cell_type": "code",
   "execution_count": 48,
   "id": "3868bf8f",
   "metadata": {
    "scrolled": true
   },
   "outputs": [
    {
     "data": {
      "text/html": [
       "<div>\n",
       "<style scoped>\n",
       "    .dataframe tbody tr th:only-of-type {\n",
       "        vertical-align: middle;\n",
       "    }\n",
       "\n",
       "    .dataframe tbody tr th {\n",
       "        vertical-align: top;\n",
       "    }\n",
       "\n",
       "    .dataframe thead th {\n",
       "        text-align: right;\n",
       "    }\n",
       "</style>\n",
       "<table border=\"1\" class=\"dataframe\">\n",
       "  <thead>\n",
       "    <tr style=\"text-align: right;\">\n",
       "      <th></th>\n",
       "      <th></th>\n",
       "      <th>distance</th>\n",
       "      <th>duration</th>\n",
       "      <th>minute_price</th>\n",
       "      <th>rides_numb</th>\n",
       "      <th>start_ride_price</th>\n",
       "      <th>subscription_fee</th>\n",
       "      <th>subscription_type</th>\n",
       "      <th>revenue_per_month</th>\n",
       "    </tr>\n",
       "    <tr>\n",
       "      <th>user_id</th>\n",
       "      <th>month</th>\n",
       "      <th></th>\n",
       "      <th></th>\n",
       "      <th></th>\n",
       "      <th></th>\n",
       "      <th></th>\n",
       "      <th></th>\n",
       "      <th></th>\n",
       "      <th></th>\n",
       "    </tr>\n",
       "  </thead>\n",
       "  <tbody>\n",
       "    <tr>\n",
       "      <th>1471</th>\n",
       "      <th>1</th>\n",
       "      <td>23.10</td>\n",
       "      <td>143.0</td>\n",
       "      <td>8</td>\n",
       "      <td>6</td>\n",
       "      <td>50</td>\n",
       "      <td>0</td>\n",
       "      <td>free</td>\n",
       "      <td>1444.0</td>\n",
       "    </tr>\n",
       "    <tr>\n",
       "      <th>1083</th>\n",
       "      <th>5</th>\n",
       "      <td>23.43</td>\n",
       "      <td>129.0</td>\n",
       "      <td>8</td>\n",
       "      <td>7</td>\n",
       "      <td>50</td>\n",
       "      <td>0</td>\n",
       "      <td>free</td>\n",
       "      <td>1382.0</td>\n",
       "    </tr>\n",
       "    <tr>\n",
       "      <th>715</th>\n",
       "      <th>12</th>\n",
       "      <td>22.71</td>\n",
       "      <td>131.0</td>\n",
       "      <td>8</td>\n",
       "      <td>6</td>\n",
       "      <td>50</td>\n",
       "      <td>0</td>\n",
       "      <td>free</td>\n",
       "      <td>1348.0</td>\n",
       "    </tr>\n",
       "    <tr>\n",
       "      <th>1424</th>\n",
       "      <th>4</th>\n",
       "      <td>21.53</td>\n",
       "      <td>124.0</td>\n",
       "      <td>8</td>\n",
       "      <td>7</td>\n",
       "      <td>50</td>\n",
       "      <td>0</td>\n",
       "      <td>free</td>\n",
       "      <td>1342.0</td>\n",
       "    </tr>\n",
       "    <tr>\n",
       "      <th>1383</th>\n",
       "      <th>1</th>\n",
       "      <td>20.65</td>\n",
       "      <td>123.0</td>\n",
       "      <td>8</td>\n",
       "      <td>6</td>\n",
       "      <td>50</td>\n",
       "      <td>0</td>\n",
       "      <td>free</td>\n",
       "      <td>1284.0</td>\n",
       "    </tr>\n",
       "    <tr>\n",
       "      <th>1196</th>\n",
       "      <th>3</th>\n",
       "      <td>17.99</td>\n",
       "      <td>121.0</td>\n",
       "      <td>8</td>\n",
       "      <td>6</td>\n",
       "      <td>50</td>\n",
       "      <td>0</td>\n",
       "      <td>free</td>\n",
       "      <td>1268.0</td>\n",
       "    </tr>\n",
       "    <tr>\n",
       "      <th>938</th>\n",
       "      <th>5</th>\n",
       "      <td>19.06</td>\n",
       "      <td>111.0</td>\n",
       "      <td>8</td>\n",
       "      <td>6</td>\n",
       "      <td>50</td>\n",
       "      <td>0</td>\n",
       "      <td>free</td>\n",
       "      <td>1188.0</td>\n",
       "    </tr>\n",
       "    <tr>\n",
       "      <th>1149</th>\n",
       "      <th>12</th>\n",
       "      <td>18.45</td>\n",
       "      <td>116.0</td>\n",
       "      <td>8</td>\n",
       "      <td>5</td>\n",
       "      <td>50</td>\n",
       "      <td>0</td>\n",
       "      <td>free</td>\n",
       "      <td>1178.0</td>\n",
       "    </tr>\n",
       "    <tr>\n",
       "      <th>991</th>\n",
       "      <th>3</th>\n",
       "      <td>18.24</td>\n",
       "      <td>113.0</td>\n",
       "      <td>8</td>\n",
       "      <td>5</td>\n",
       "      <td>50</td>\n",
       "      <td>0</td>\n",
       "      <td>free</td>\n",
       "      <td>1154.0</td>\n",
       "    </tr>\n",
       "    <tr>\n",
       "      <th>1246</th>\n",
       "      <th>9</th>\n",
       "      <td>17.67</td>\n",
       "      <td>106.0</td>\n",
       "      <td>8</td>\n",
       "      <td>6</td>\n",
       "      <td>50</td>\n",
       "      <td>0</td>\n",
       "      <td>free</td>\n",
       "      <td>1148.0</td>\n",
       "    </tr>\n",
       "  </tbody>\n",
       "</table>\n",
       "</div>"
      ],
      "text/plain": [
       "               distance  duration  minute_price  rides_numb  start_ride_price  \\\n",
       "user_id month                                                                   \n",
       "1471    1         23.10     143.0             8           6                50   \n",
       "1083    5         23.43     129.0             8           7                50   \n",
       "715     12        22.71     131.0             8           6                50   \n",
       "1424    4         21.53     124.0             8           7                50   \n",
       "1383    1         20.65     123.0             8           6                50   \n",
       "1196    3         17.99     121.0             8           6                50   \n",
       "938     5         19.06     111.0             8           6                50   \n",
       "1149    12        18.45     116.0             8           5                50   \n",
       "991     3         18.24     113.0             8           5                50   \n",
       "1246    9         17.67     106.0             8           6                50   \n",
       "\n",
       "               subscription_fee subscription_type  revenue_per_month  \n",
       "user_id month                                                         \n",
       "1471    1                     0              free             1444.0  \n",
       "1083    5                     0              free             1382.0  \n",
       "715     12                    0              free             1348.0  \n",
       "1424    4                     0              free             1342.0  \n",
       "1383    1                     0              free             1284.0  \n",
       "1196    3                     0              free             1268.0  \n",
       "938     5                     0              free             1188.0  \n",
       "1149    12                    0              free             1178.0  \n",
       "991     3                     0              free             1154.0  \n",
       "1246    9                     0              free             1148.0  "
      ]
     },
     "execution_count": 48,
     "metadata": {},
     "output_type": "execute_result"
    }
   ],
   "source": [
    "df_agg.sort_values(by='revenue_per_month', ascending=False).head(10)"
   ]
  },
  {
   "cell_type": "code",
   "execution_count": 49,
   "id": "c015460c",
   "metadata": {},
   "outputs": [
    {
     "name": "stdout",
     "output_type": "stream",
     "text": [
      "subscription_type\n",
      "free     328.641365\n",
      "ultra    362.792191\n",
      "Name: revenue_per_month, dtype: float64\n",
      "11331\n"
     ]
    }
   ],
   "source": [
    "# Код ревьюера\n",
    "print(df_agg.groupby('subscription_type')['revenue_per_month'].mean())\n",
    "\n",
    "print(len(df_agg))"
   ]
  },
  {
   "cell_type": "code",
   "execution_count": 50,
   "id": "ff2bbfae",
   "metadata": {
    "scrolled": false
   },
   "outputs": [
    {
     "data": {
      "text/html": [
       "<div>\n",
       "<style scoped>\n",
       "    .dataframe tbody tr th:only-of-type {\n",
       "        vertical-align: middle;\n",
       "    }\n",
       "\n",
       "    .dataframe tbody tr th {\n",
       "        vertical-align: top;\n",
       "    }\n",
       "\n",
       "    .dataframe thead th {\n",
       "        text-align: right;\n",
       "    }\n",
       "</style>\n",
       "<table border=\"1\" class=\"dataframe\">\n",
       "  <thead>\n",
       "    <tr style=\"text-align: right;\">\n",
       "      <th></th>\n",
       "      <th></th>\n",
       "      <th>distance</th>\n",
       "      <th>duration</th>\n",
       "      <th>minute_price</th>\n",
       "      <th>rides_numb</th>\n",
       "      <th>start_ride_price</th>\n",
       "      <th>subscription_fee</th>\n",
       "      <th>subscription_type</th>\n",
       "      <th>revenue_per_month</th>\n",
       "    </tr>\n",
       "    <tr>\n",
       "      <th>user_id</th>\n",
       "      <th>month</th>\n",
       "      <th></th>\n",
       "      <th></th>\n",
       "      <th></th>\n",
       "      <th></th>\n",
       "      <th></th>\n",
       "      <th></th>\n",
       "      <th></th>\n",
       "      <th></th>\n",
       "    </tr>\n",
       "  </thead>\n",
       "  <tbody>\n",
       "    <tr>\n",
       "      <th>896</th>\n",
       "      <th>10</th>\n",
       "      <td>5.47</td>\n",
       "      <td>1.0</td>\n",
       "      <td>8</td>\n",
       "      <td>1</td>\n",
       "      <td>50</td>\n",
       "      <td>0</td>\n",
       "      <td>free</td>\n",
       "      <td>58.0</td>\n",
       "    </tr>\n",
       "    <tr>\n",
       "      <th>893</th>\n",
       "      <th>3</th>\n",
       "      <td>4.76</td>\n",
       "      <td>1.0</td>\n",
       "      <td>8</td>\n",
       "      <td>1</td>\n",
       "      <td>50</td>\n",
       "      <td>0</td>\n",
       "      <td>free</td>\n",
       "      <td>58.0</td>\n",
       "    </tr>\n",
       "    <tr>\n",
       "      <th>704</th>\n",
       "      <th>10</th>\n",
       "      <td>4.83</td>\n",
       "      <td>1.0</td>\n",
       "      <td>8</td>\n",
       "      <td>1</td>\n",
       "      <td>50</td>\n",
       "      <td>0</td>\n",
       "      <td>free</td>\n",
       "      <td>58.0</td>\n",
       "    </tr>\n",
       "    <tr>\n",
       "      <th>1041</th>\n",
       "      <th>2</th>\n",
       "      <td>4.60</td>\n",
       "      <td>1.0</td>\n",
       "      <td>8</td>\n",
       "      <td>1</td>\n",
       "      <td>50</td>\n",
       "      <td>0</td>\n",
       "      <td>free</td>\n",
       "      <td>58.0</td>\n",
       "    </tr>\n",
       "    <tr>\n",
       "      <th>713</th>\n",
       "      <th>2</th>\n",
       "      <td>5.22</td>\n",
       "      <td>1.0</td>\n",
       "      <td>8</td>\n",
       "      <td>1</td>\n",
       "      <td>50</td>\n",
       "      <td>0</td>\n",
       "      <td>free</td>\n",
       "      <td>58.0</td>\n",
       "    </tr>\n",
       "    <tr>\n",
       "      <th>1444</th>\n",
       "      <th>8</th>\n",
       "      <td>5.83</td>\n",
       "      <td>1.0</td>\n",
       "      <td>8</td>\n",
       "      <td>1</td>\n",
       "      <td>50</td>\n",
       "      <td>0</td>\n",
       "      <td>free</td>\n",
       "      <td>58.0</td>\n",
       "    </tr>\n",
       "    <tr>\n",
       "      <th>718</th>\n",
       "      <th>2</th>\n",
       "      <td>5.20</td>\n",
       "      <td>1.0</td>\n",
       "      <td>8</td>\n",
       "      <td>1</td>\n",
       "      <td>50</td>\n",
       "      <td>0</td>\n",
       "      <td>free</td>\n",
       "      <td>58.0</td>\n",
       "    </tr>\n",
       "    <tr>\n",
       "      <th rowspan=\"2\" valign=\"top\">1224</th>\n",
       "      <th>7</th>\n",
       "      <td>6.41</td>\n",
       "      <td>1.0</td>\n",
       "      <td>8</td>\n",
       "      <td>1</td>\n",
       "      <td>50</td>\n",
       "      <td>0</td>\n",
       "      <td>free</td>\n",
       "      <td>58.0</td>\n",
       "    </tr>\n",
       "    <tr>\n",
       "      <th>1</th>\n",
       "      <td>4.43</td>\n",
       "      <td>1.0</td>\n",
       "      <td>8</td>\n",
       "      <td>1</td>\n",
       "      <td>50</td>\n",
       "      <td>0</td>\n",
       "      <td>free</td>\n",
       "      <td>58.0</td>\n",
       "    </tr>\n",
       "    <tr>\n",
       "      <th>1243</th>\n",
       "      <th>12</th>\n",
       "      <td>5.10</td>\n",
       "      <td>1.0</td>\n",
       "      <td>8</td>\n",
       "      <td>1</td>\n",
       "      <td>50</td>\n",
       "      <td>0</td>\n",
       "      <td>free</td>\n",
       "      <td>58.0</td>\n",
       "    </tr>\n",
       "  </tbody>\n",
       "</table>\n",
       "</div>"
      ],
      "text/plain": [
       "               distance  duration  minute_price  rides_numb  start_ride_price  \\\n",
       "user_id month                                                                   \n",
       "896     10         5.47       1.0             8           1                50   \n",
       "893     3          4.76       1.0             8           1                50   \n",
       "704     10         4.83       1.0             8           1                50   \n",
       "1041    2          4.60       1.0             8           1                50   \n",
       "713     2          5.22       1.0             8           1                50   \n",
       "1444    8          5.83       1.0             8           1                50   \n",
       "718     2          5.20       1.0             8           1                50   \n",
       "1224    7          6.41       1.0             8           1                50   \n",
       "        1          4.43       1.0             8           1                50   \n",
       "1243    12         5.10       1.0             8           1                50   \n",
       "\n",
       "               subscription_fee subscription_type  revenue_per_month  \n",
       "user_id month                                                         \n",
       "896     10                    0              free               58.0  \n",
       "893     3                     0              free               58.0  \n",
       "704     10                    0              free               58.0  \n",
       "1041    2                     0              free               58.0  \n",
       "713     2                     0              free               58.0  \n",
       "1444    8                     0              free               58.0  \n",
       "718     2                     0              free               58.0  \n",
       "1224    7                     0              free               58.0  \n",
       "        1                     0              free               58.0  \n",
       "1243    12                    0              free               58.0  "
      ]
     },
     "execution_count": 50,
     "metadata": {},
     "output_type": "execute_result"
    }
   ],
   "source": [
    "df_agg.sort_values(by='revenue_per_month', ascending=False).tail(10)"
   ]
  },
  {
   "cell_type": "markdown",
   "id": "66120e99",
   "metadata": {},
   "source": [
    "Наибольшую и наименьшую выручку принесли пользователи без подписки. Наибольшая выручка: 1480 за месяц (январь).\n",
    "Наименьшая выручка: 58."
   ]
  },
  {
   "cell_type": "markdown",
   "id": "41545ac0",
   "metadata": {},
   "source": [
    "## Проверка гипотез"
   ]
  },
  {
   "cell_type": "markdown",
   "id": "6f1d7625",
   "metadata": {},
   "source": [
    "### Важно понять, тратят ли пользователи с подпиской больше времени на поездки? \n",
    "Если да, то пользователи с подпиской могут быть «выгоднее» для компании. Проверьте гипотезу. Используйте исходные данные о продолжительности каждой сессии — отдельно для подписчиков и тех, у кого нет подписки."
   ]
  },
  {
   "cell_type": "markdown",
   "id": "9134e164",
   "metadata": {},
   "source": [
    "**Гипотеза:** пользователи с подпиской тратят больше времени на поездки, чем пользователи без подписки =>\n",
    "\n",
    "\n",
    "H_0: Время пользователей ультры = время бесплатников\n",
    "\n",
    "\n",
    "H_1: Время пользователей ультры > время бесплатников"
   ]
  },
  {
   "cell_type": "code",
   "execution_count": 51,
   "id": "93071417",
   "metadata": {},
   "outputs": [
    {
     "name": "stdout",
     "output_type": "stream",
     "text": [
      "1.2804098316645613e-34\n",
      "Отвергаем нулевую гипотезу\n"
     ]
    }
   ],
   "source": [
    "ultra_dur = ultra_subs['duration'] \n",
    "free_dur = free_subs['duration']\n",
    "\n",
    "results = st.ttest_ind(ultra_dur, \n",
    "                       free_dur,\n",
    "                       alternative = 'greater')\n",
    "alpha = 0.05\n",
    "\n",
    "print(results.pvalue)\n",
    "\n",
    "if results.pvalue < alpha:\n",
    "    print('Отвергаем нулевую гипотезу')\n",
    "else:\n",
    "    print('Не удалось отвергнуть нулевую гипотезу')"
   ]
  },
  {
   "cell_type": "markdown",
   "id": "d32ca497",
   "metadata": {},
   "source": [
    "**Отвергаем гипотезу о равенстве времени подписчиков с подпиской и без**"
   ]
  },
  {
   "cell_type": "markdown",
   "id": "1fcc58de",
   "metadata": {},
   "source": [
    "### Можно ли сказать, что расстояние, которое проезжают пользователи с подпиской за одну поездку, не превышает 3130 метров?\n",
    "\n",
    "Расстояние одной поездки в 3130 метров — оптимальное с точки зрения износа самоката. Проверьте гипотезу и сделайте выводы."
   ]
  },
  {
   "cell_type": "markdown",
   "id": "8a1d80ce",
   "metadata": {},
   "source": [
    "H_0: Расстояние одной поездки по подписке равно 3130\n",
    "\n",
    "\n",
    "H_1: Расстояние одной поездки по подписке > 3130"
   ]
  },
  {
   "cell_type": "code",
   "execution_count": 52,
   "id": "24bc439a",
   "metadata": {},
   "outputs": [
    {
     "name": "stdout",
     "output_type": "stream",
     "text": [
      "0.9195368847849785\n",
      "Не удалось отвергнуть нулевую гипотезу\n"
     ]
    }
   ],
   "source": [
    "ultra_dis = ultra_subs['distance'] \n",
    "\n",
    "value = 3130\n",
    "\n",
    "results = st.ttest_1samp(ultra_dis, \n",
    "                       value,\n",
    "                       alternative = 'greater')\n",
    "alpha = 0.05\n",
    "\n",
    "print(results.pvalue)\n",
    "\n",
    "if results.pvalue < alpha:\n",
    "    print('Отвергаем нулевую гипотезу')\n",
    "else:\n",
    "    print('Не удалось отвергнуть нулевую гипотезу')"
   ]
  },
  {
   "cell_type": "markdown",
   "id": "28aba9ca",
   "metadata": {},
   "source": [
    "Расстояние может быть выше оптимального, что приведет к повышенному износу самоката. \n",
    "Повышенный износ = повышенные расстраты на восстановление/закупку самокатов. **Но мы не можем утверждать, что расстояние превышает 3130**"
   ]
  },
  {
   "cell_type": "markdown",
   "id": "201c42c9",
   "metadata": {},
   "source": [
    "### Проверьте гипотезу о том, будет ли помесячная выручка от пользователей с подпиской по месяцам выше, чем выручка от пользователей без подписки. "
   ]
  },
  {
   "cell_type": "markdown",
   "id": "2a921481",
   "metadata": {},
   "source": [
    "H_0: Выручка от пользователей ультры = выручка от пользователей без подписки\n",
    "\n",
    "H_1: Выручка от пользователей ультры > выручка от пользователей без подписки"
   ]
  },
  {
   "cell_type": "code",
   "execution_count": 53,
   "id": "65d26c6b",
   "metadata": {
    "scrolled": true
   },
   "outputs": [
    {
     "name": "stdout",
     "output_type": "stream",
     "text": [
      "1.8850394384715216e-31\n",
      "Отвергаем нулевую гипотезу\n"
     ]
    }
   ],
   "source": [
    "df_ultra_month = df_agg.query('subscription_type == \"ultra\" ') \n",
    "df_free_month = df_agg.query('subscription_type == \"free\" ') \n",
    "\n",
    "ultra_month = df_ultra_month['revenue_per_month']\n",
    "free_month = df_free_month['revenue_per_month'] \n",
    "\n",
    "\n",
    "results = st.ttest_ind(ultra_month, \n",
    "                       free_month,\n",
    "                       alternative = 'greater')\n",
    "alpha = 0.05\n",
    "\n",
    "print(results.pvalue)\n",
    "\n",
    "if results.pvalue < alpha:\n",
    "    print('Отвергаем нулевую гипотезу')\n",
    "else:\n",
    "    print('Не удалось отвергнуть нулевую гипотезу')"
   ]
  },
  {
   "cell_type": "markdown",
   "id": "607e73c3",
   "metadata": {},
   "source": [
    "**Не можем утверждать, что выручка пользователей с подпиской равна выручке от пользователей без подписки**"
   ]
  },
  {
   "cell_type": "markdown",
   "id": "f7d66e07",
   "metadata": {},
   "source": [
    "## Заключение"
   ]
  },
  {
   "cell_type": "markdown",
   "id": "68d3ab39",
   "metadata": {},
   "source": [
    "Для исследования были **загружены** 3 набора данных сервиса аренды самокатов GoFast: информация о пользователях, информация о поездках и информация о подписках. Изучили содержание данных, исследовали на пропуски (пропуски не были обнаружены), изменили тип данных столбца date в датафрейме rides на to_datetime.\n",
    "\n",
    "\n",
    "**Подготовили данные** для дальнейшего анализа: удалили 31 дубликат в датафрейме users, добавили новый столбец 'month' с информацией о месяце поездки в датафрейм rides. \n",
    "\n",
    "\n",
    "Провели **исследовательский анализ данных**\n",
    "\n",
    "Были зучены:\n",
    "* возраст пользователей: \n",
    "\n",
    "\n",
    " Основной возраст пользователей - 22-28 лет, максимальный - 41, минимальный - 12. Медиана - 25 (самый многочисленный показатель) => сервисом пользуются люди всех возрастов: и подростки, и молодежь, и взрослые. \n",
    "\n",
    "* города:\n",
    "\n",
    "\n",
    "Пользователи проживают в 8 городах: Краснодар, Ростов-на-Дону, Екатеринбург, Пятигорск, Москва, Тюмень, Омск, Сочи - города, представляющие разные округи страны. Процентное распределение равномерное, 11-14% от общего числа. Больше всего сервисом пользуются пользователи из Пятигорска, меньше всего - из Москвы. \n",
    "\n",
    "\n",
    "* расстояние, которое проезжают пользователи:\n",
    "\n",
    "\n",
    "В среднем пользователи проезжают на самокатах от 2.5 до 4 км. Однако присутствуют и «странные» данные: 0.85 м, 2.57  м, 4.33 м и т.п. Эти расстояния слишком малы для проезда на самокате. Хорошо бы разобраться в причине. Возможно, пользователи передумали, а возможно, в самокате была техническая неисправность или он был разряжен. Самое большое расстояние - 7.2 км.\n",
    "\n",
    "\n",
    "* длительность поездки: \n",
    "\n",
    "\n",
    "Длительность поездки в среднем составляет 14-22 минуты. Минимальное значение - 30 секунд (также есть подозрительные значения, которые, скорее всего, коррелируют с маленькими значениями по расстоянию и причинами). Максимальное значение - 41 минута, медиана - 17.8. \n",
    "\n",
    "\n",
    "Пользователи в среднем проезжают от 26 до 45 км за 157-269 минут (2.6-4.5 часов). Минимальный километраж, который проехал пользователь за 2021 год - 5.5 км. Максимальный - 79 км. \n",
    "Минимальное время, которое потратили на поездку - 34 минуты. Максимальное время - 446 минут (7.4 часов). \n",
    "\n",
    "\n",
    "* разница в количестве поездок по месяцам:\n",
    "\n",
    "\n",
    "Пользователи одинаково часто пользуются сервисом, независимо от месяца или времени года. \n",
    "\n",
    "\n",
    "* типы подписок (бесплатных 835, платных - 699). \n",
    "\n",
    "\n",
    "Пользователи пользуются бесплатной и платной подпиской. Бесплатной подпиской пользуется большее количество человек - 835, ультрой пользуются 699 человек (54% против 46%). Больше всего подписками ультра пользуются в Пятигорске, Екатеринбурге и Омске. Меньше всего в Тюмени и Краснодаре. \n",
    "Бесплатных подписок также больше всего в Пятигорске - 125. Меньше всего в Москве - 84.\n",
    "\n",
    "\n",
    "Для дальнейшего анализа все таблицы были объединены в одну.\n",
    "\n",
    "\n",
    "Подсчитали выручку. Наибольшую и наименьшую выручку принесли пользователи без подписки. Наибольшая выручка: 1480 за месяц (январь). Наименьшая выручка: 58.\n",
    "\n",
    "Проверили ряд гипотез:\n",
    "\n",
    "\n",
    "1) Пользователи с подпиской тратят больше времени на поездки, чем пользователи на бесплатном тарифе \n",
    "\n",
    "\n",
    "- не смогли отвергнуть гипотезу о том, что пользователи с подпиской и без подписки тратят одинаковое количество времени на поездки; если пользователи с бесплатной подпиской тратят больше времени, то они могут принести больше выгоды, поскольку их минута дороже. Плюс, пользователи ультры могут гарантированно занять самокаты, которые бы могли взять бесплатники, которые проезжают большее расстояние. Поэтому нужно обеспечить бесплатников возможностью занять самокат. \n",
    "\n",
    "\n",
    "2) Пользователи с подпиской проезжают расстояние, не превышающее 3130 метров за одну поездку\n",
    "\n",
    "\n",
    "- не смогли отвергнуть эту гипотезу; если пользователи ультры проезжают расстояние равное 3130 или меньше, то они выигрывают за счет сохранения самокатов, и экономят деньги на ремонт самоката. Нужно сопоставить стоимость ремонта самоката с прибылью от пользователей с обоими видами подписок, вычесть из прибыли и посмотреть, сколько денег приходит от обеих групп в итоге. \n",
    "\n",
    "\n",
    "\n",
    "3) Помесячная выручка от пользователей с подпиской выше, чем выручка от пользователей без подписки\n",
    "\n",
    "\n",
    "- не смогли подтвердить эту гипотезу; нужно провести сопоставление с учетом износа.\n",
    "\n",
    "\n",
    "**Вывод**: пользователи с платной подпиской не являются более выгодными для компании, потому что выручка будет сопоставима: пользователи без подписки ездят больше и дольше, их минута и стартовый взнос - дороже, соответственно, они принесут больше денег, но они больше влияют на износ самокатов, чем пользователи с подпиской. "
   ]
  }
 ],
 "metadata": {
  "ExecuteTimeLog": [
   {
    "duration": 1318,
    "start_time": "2023-08-08T14:05:00.569Z"
   },
   {
    "duration": 98,
    "start_time": "2023-08-08T14:07:00.520Z"
   },
   {
    "duration": 10,
    "start_time": "2023-08-08T14:07:07.109Z"
   },
   {
    "duration": 95,
    "start_time": "2023-08-08T14:07:13.664Z"
   },
   {
    "duration": 36,
    "start_time": "2023-08-08T14:08:43.131Z"
   },
   {
    "duration": 42,
    "start_time": "2023-08-08T14:09:06.338Z"
   },
   {
    "duration": 42,
    "start_time": "2023-08-08T14:09:14.308Z"
   },
   {
    "duration": 50,
    "start_time": "2023-08-08T14:09:27.509Z"
   },
   {
    "duration": 1143,
    "start_time": "2023-08-08T14:09:36.669Z"
   },
   {
    "duration": 128,
    "start_time": "2023-08-08T14:09:37.814Z"
   },
   {
    "duration": 36,
    "start_time": "2023-08-08T14:09:45.794Z"
   },
   {
    "duration": 40,
    "start_time": "2023-08-08T14:14:51.450Z"
   },
   {
    "duration": 43,
    "start_time": "2023-08-08T14:15:16.018Z"
   },
   {
    "duration": 48,
    "start_time": "2023-08-08T14:15:40.244Z"
   },
   {
    "duration": 54,
    "start_time": "2023-08-08T14:17:11.697Z"
   },
   {
    "duration": 82,
    "start_time": "2023-08-08T14:18:03.491Z"
   },
   {
    "duration": 388,
    "start_time": "2023-08-08T14:18:50.860Z"
   },
   {
    "duration": 278,
    "start_time": "2023-08-08T14:19:08.995Z"
   },
   {
    "duration": 259,
    "start_time": "2023-08-08T14:19:31.227Z"
   },
   {
    "duration": 236,
    "start_time": "2023-08-08T14:19:37.349Z"
   },
   {
    "duration": 116,
    "start_time": "2023-08-08T14:20:38.568Z"
   },
   {
    "duration": 166,
    "start_time": "2023-08-08T14:20:48.518Z"
   },
   {
    "duration": 171,
    "start_time": "2023-08-08T14:22:49.292Z"
   },
   {
    "duration": 164,
    "start_time": "2023-08-08T14:23:00.016Z"
   },
   {
    "duration": 211,
    "start_time": "2023-08-08T14:23:37.946Z"
   },
   {
    "duration": 159,
    "start_time": "2023-08-08T14:23:47.614Z"
   },
   {
    "duration": 133,
    "start_time": "2023-08-08T14:24:06.264Z"
   },
   {
    "duration": 88,
    "start_time": "2023-08-08T14:24:20.988Z"
   },
   {
    "duration": 107,
    "start_time": "2023-08-08T14:25:36.600Z"
   },
   {
    "duration": 198,
    "start_time": "2023-08-08T14:26:40.907Z"
   },
   {
    "duration": 156,
    "start_time": "2023-08-08T14:26:55.213Z"
   },
   {
    "duration": 164,
    "start_time": "2023-08-08T14:28:23.367Z"
   },
   {
    "duration": 115,
    "start_time": "2023-08-08T14:28:55.496Z"
   },
   {
    "duration": 172,
    "start_time": "2023-08-08T14:29:03.227Z"
   },
   {
    "duration": 128,
    "start_time": "2023-08-08T14:29:11.920Z"
   },
   {
    "duration": 142,
    "start_time": "2023-08-08T14:30:34.768Z"
   },
   {
    "duration": 1190,
    "start_time": "2023-08-08T14:31:30.226Z"
   },
   {
    "duration": 52,
    "start_time": "2023-08-08T14:31:31.418Z"
   },
   {
    "duration": 155,
    "start_time": "2023-08-08T14:31:31.472Z"
   },
   {
    "duration": 155,
    "start_time": "2023-08-08T14:31:31.629Z"
   },
   {
    "duration": 37,
    "start_time": "2023-08-08T14:31:39.260Z"
   },
   {
    "duration": 15,
    "start_time": "2023-08-08T14:31:44.817Z"
   },
   {
    "duration": 1112,
    "start_time": "2023-08-08T14:32:04.113Z"
   },
   {
    "duration": 43,
    "start_time": "2023-08-08T14:32:05.227Z"
   },
   {
    "duration": 13,
    "start_time": "2023-08-08T14:32:05.272Z"
   },
   {
    "duration": 158,
    "start_time": "2023-08-08T14:32:05.288Z"
   },
   {
    "duration": 163,
    "start_time": "2023-08-08T14:32:05.454Z"
   },
   {
    "duration": 11,
    "start_time": "2023-08-08T14:32:13.225Z"
   },
   {
    "duration": 11,
    "start_time": "2023-08-08T14:32:18.401Z"
   },
   {
    "duration": 11,
    "start_time": "2023-08-08T14:32:22.865Z"
   },
   {
    "duration": 11,
    "start_time": "2023-08-08T14:32:26.461Z"
   },
   {
    "duration": 96,
    "start_time": "2023-08-08T14:33:52.820Z"
   },
   {
    "duration": 1123,
    "start_time": "2023-08-08T14:34:36.301Z"
   },
   {
    "duration": 45,
    "start_time": "2023-08-08T14:34:37.426Z"
   },
   {
    "duration": 12,
    "start_time": "2023-08-08T14:34:37.472Z"
   },
   {
    "duration": 150,
    "start_time": "2023-08-08T14:34:37.486Z"
   },
   {
    "duration": 169,
    "start_time": "2023-08-08T14:34:37.638Z"
   },
   {
    "duration": 107,
    "start_time": "2023-08-08T14:34:37.810Z"
   },
   {
    "duration": 134,
    "start_time": "2023-08-08T14:34:48.441Z"
   },
   {
    "duration": 142,
    "start_time": "2023-08-08T14:35:03.954Z"
   },
   {
    "duration": 165,
    "start_time": "2023-08-08T14:35:28.529Z"
   },
   {
    "duration": 176,
    "start_time": "2023-08-08T14:35:43.861Z"
   },
   {
    "duration": 146,
    "start_time": "2023-08-08T14:35:49.954Z"
   },
   {
    "duration": 81,
    "start_time": "2023-08-08T14:36:01.557Z"
   },
   {
    "duration": 163,
    "start_time": "2023-08-08T14:36:20.231Z"
   },
   {
    "duration": 447,
    "start_time": "2023-08-08T14:37:11.530Z"
   },
   {
    "duration": 447,
    "start_time": "2023-08-08T14:37:18.250Z"
   },
   {
    "duration": 1514,
    "start_time": "2023-08-08T14:37:37.389Z"
   },
   {
    "duration": 43,
    "start_time": "2023-08-08T14:37:38.905Z"
   },
   {
    "duration": 11,
    "start_time": "2023-08-08T14:37:38.951Z"
   },
   {
    "duration": 435,
    "start_time": "2023-08-08T14:37:38.964Z"
   },
   {
    "duration": 144,
    "start_time": "2023-08-08T14:37:39.401Z"
   },
   {
    "duration": 86,
    "start_time": "2023-08-08T14:37:39.547Z"
   },
   {
    "duration": 121,
    "start_time": "2023-08-08T14:37:57.113Z"
   },
   {
    "duration": 11,
    "start_time": "2023-08-08T14:40:45.771Z"
   },
   {
    "duration": 11,
    "start_time": "2023-08-08T14:40:50.094Z"
   },
   {
    "duration": 13,
    "start_time": "2023-08-08T14:40:52.717Z"
   },
   {
    "duration": 97,
    "start_time": "2023-08-08T14:41:17.280Z"
   },
   {
    "duration": 149,
    "start_time": "2023-08-08T14:41:24.226Z"
   },
   {
    "duration": 134,
    "start_time": "2023-08-08T14:41:37.939Z"
   },
   {
    "duration": 100,
    "start_time": "2023-08-08T14:41:52.645Z"
   },
   {
    "duration": 201,
    "start_time": "2023-08-08T14:44:03.976Z"
   },
   {
    "duration": 89,
    "start_time": "2023-08-08T14:44:12.078Z"
   },
   {
    "duration": 15,
    "start_time": "2023-08-08T14:45:04.193Z"
   },
   {
    "duration": 491,
    "start_time": "2023-08-08T14:46:06.725Z"
   },
   {
    "duration": 366,
    "start_time": "2023-08-08T14:46:30.993Z"
   },
   {
    "duration": 205,
    "start_time": "2023-08-08T14:47:54.345Z"
   },
   {
    "duration": 74,
    "start_time": "2023-08-08T14:48:01.265Z"
   },
   {
    "duration": 15,
    "start_time": "2023-08-08T14:48:43.639Z"
   },
   {
    "duration": 1572,
    "start_time": "2023-08-08T14:49:22.164Z"
   },
   {
    "duration": 53,
    "start_time": "2023-08-08T14:49:23.738Z"
   },
   {
    "duration": 15,
    "start_time": "2023-08-08T14:49:23.794Z"
   },
   {
    "duration": 170,
    "start_time": "2023-08-08T14:49:23.811Z"
   },
   {
    "duration": 149,
    "start_time": "2023-08-08T14:49:23.983Z"
   },
   {
    "duration": 106,
    "start_time": "2023-08-08T14:49:24.135Z"
   },
   {
    "duration": 47,
    "start_time": "2023-08-08T14:49:24.254Z"
   },
   {
    "duration": 12,
    "start_time": "2023-08-08T14:49:24.303Z"
   },
   {
    "duration": 397,
    "start_time": "2023-08-08T14:49:24.317Z"
   },
   {
    "duration": 21,
    "start_time": "2023-08-08T14:49:24.716Z"
   },
   {
    "duration": 63,
    "start_time": "2023-08-08T18:41:13.115Z"
   },
   {
    "duration": 1539,
    "start_time": "2023-08-08T18:41:21.237Z"
   },
   {
    "duration": 128,
    "start_time": "2023-08-08T18:41:22.779Z"
   },
   {
    "duration": 13,
    "start_time": "2023-08-08T18:41:22.909Z"
   },
   {
    "duration": 251,
    "start_time": "2023-08-08T18:41:22.925Z"
   },
   {
    "duration": 160,
    "start_time": "2023-08-08T18:41:23.179Z"
   },
   {
    "duration": 105,
    "start_time": "2023-08-08T18:41:23.341Z"
   },
   {
    "duration": 100,
    "start_time": "2023-08-08T18:41:23.448Z"
   },
   {
    "duration": 25,
    "start_time": "2023-08-08T18:41:23.550Z"
   },
   {
    "duration": 532,
    "start_time": "2023-08-08T18:41:23.577Z"
   },
   {
    "duration": 95,
    "start_time": "2023-08-08T18:41:24.113Z"
   },
   {
    "duration": 11,
    "start_time": "2023-08-08T18:41:24.210Z"
   },
   {
    "duration": 9,
    "start_time": "2023-08-08T18:43:20.845Z"
   },
   {
    "duration": 7,
    "start_time": "2023-08-08T18:43:52.140Z"
   },
   {
    "duration": 125,
    "start_time": "2023-08-08T18:44:00.975Z"
   },
   {
    "duration": 5,
    "start_time": "2023-08-08T18:44:25.116Z"
   },
   {
    "duration": 8,
    "start_time": "2023-08-08T18:44:52.925Z"
   },
   {
    "duration": 11,
    "start_time": "2023-08-08T18:45:30.022Z"
   },
   {
    "duration": 11,
    "start_time": "2023-08-08T18:46:08.941Z"
   },
   {
    "duration": 614,
    "start_time": "2023-08-08T18:57:32.508Z"
   },
   {
    "duration": 240,
    "start_time": "2023-08-08T18:57:53.809Z"
   },
   {
    "duration": 260,
    "start_time": "2023-08-08T18:58:31.015Z"
   },
   {
    "duration": 353,
    "start_time": "2023-08-08T18:58:42.031Z"
   },
   {
    "duration": 271,
    "start_time": "2023-08-08T18:59:07.003Z"
   },
   {
    "duration": 8,
    "start_time": "2023-08-08T19:11:13.879Z"
   },
   {
    "duration": 8,
    "start_time": "2023-08-08T19:12:02.497Z"
   },
   {
    "duration": 11,
    "start_time": "2023-08-08T19:12:42.205Z"
   },
   {
    "duration": 7,
    "start_time": "2023-08-08T19:13:05.848Z"
   },
   {
    "duration": 7,
    "start_time": "2023-08-08T19:13:13.711Z"
   },
   {
    "duration": 15,
    "start_time": "2023-08-08T19:18:02.540Z"
   },
   {
    "duration": 32,
    "start_time": "2023-08-08T19:20:42.704Z"
   },
   {
    "duration": 10,
    "start_time": "2023-08-08T19:21:03.487Z"
   },
   {
    "duration": 7,
    "start_time": "2023-08-08T19:23:53.056Z"
   },
   {
    "duration": 9,
    "start_time": "2023-08-08T19:27:06.881Z"
   },
   {
    "duration": 10,
    "start_time": "2023-08-08T19:28:35.023Z"
   },
   {
    "duration": 6,
    "start_time": "2023-08-08T19:38:22.701Z"
   },
   {
    "duration": 3,
    "start_time": "2023-08-08T19:43:19.504Z"
   },
   {
    "duration": 1296,
    "start_time": "2023-08-08T19:48:15.701Z"
   },
   {
    "duration": 10,
    "start_time": "2023-08-08T19:51:27.441Z"
   },
   {
    "duration": 10,
    "start_time": "2023-08-08T19:51:39.659Z"
   },
   {
    "duration": 30,
    "start_time": "2023-08-08T19:52:18.354Z"
   },
   {
    "duration": 21,
    "start_time": "2023-08-08T19:52:25.567Z"
   },
   {
    "duration": 25,
    "start_time": "2023-08-08T19:52:43.675Z"
   },
   {
    "duration": 19,
    "start_time": "2023-08-08T19:52:51.480Z"
   },
   {
    "duration": 12,
    "start_time": "2023-08-08T19:59:14.725Z"
   },
   {
    "duration": 21,
    "start_time": "2023-08-08T19:59:55.443Z"
   },
   {
    "duration": 11,
    "start_time": "2023-08-08T20:00:07.228Z"
   },
   {
    "duration": 99,
    "start_time": "2023-08-08T20:01:42.977Z"
   },
   {
    "duration": 111,
    "start_time": "2023-08-08T20:05:14.137Z"
   },
   {
    "duration": 16,
    "start_time": "2023-08-08T20:05:39.081Z"
   },
   {
    "duration": 14,
    "start_time": "2023-08-08T20:05:58.010Z"
   },
   {
    "duration": 6,
    "start_time": "2023-08-08T20:06:30.383Z"
   },
   {
    "duration": 21,
    "start_time": "2023-08-08T20:06:52.539Z"
   },
   {
    "duration": 6,
    "start_time": "2023-08-08T20:06:55.539Z"
   },
   {
    "duration": 14,
    "start_time": "2023-08-08T20:07:04.490Z"
   },
   {
    "duration": 6,
    "start_time": "2023-08-08T20:07:07.440Z"
   },
   {
    "duration": 100,
    "start_time": "2023-08-08T20:08:19.827Z"
   },
   {
    "duration": 71,
    "start_time": "2023-08-08T20:08:31.676Z"
   },
   {
    "duration": 1183,
    "start_time": "2023-08-08T20:08:49.012Z"
   },
   {
    "duration": 43,
    "start_time": "2023-08-08T20:08:50.197Z"
   },
   {
    "duration": 11,
    "start_time": "2023-08-08T20:08:51.718Z"
   },
   {
    "duration": 160,
    "start_time": "2023-08-08T20:08:51.731Z"
   },
   {
    "duration": 250,
    "start_time": "2023-08-08T20:09:00.830Z"
   },
   {
    "duration": 140,
    "start_time": "2023-08-08T20:09:01.081Z"
   },
   {
    "duration": 94,
    "start_time": "2023-08-08T20:09:07.623Z"
   },
   {
    "duration": 6,
    "start_time": "2023-08-08T20:09:07.720Z"
   },
   {
    "duration": 68,
    "start_time": "2023-08-08T20:09:07.728Z"
   },
   {
    "duration": 12,
    "start_time": "2023-08-08T20:09:07.797Z"
   },
   {
    "duration": 8,
    "start_time": "2023-08-08T20:09:07.811Z"
   },
   {
    "duration": 435,
    "start_time": "2023-08-08T20:09:07.821Z"
   },
   {
    "duration": 11,
    "start_time": "2023-08-08T20:09:08.258Z"
   },
   {
    "duration": 51,
    "start_time": "2023-08-08T20:09:08.271Z"
   },
   {
    "duration": 10,
    "start_time": "2023-08-08T20:09:08.324Z"
   },
   {
    "duration": 21,
    "start_time": "2023-08-08T20:09:08.336Z"
   },
   {
    "duration": 38,
    "start_time": "2023-08-08T20:09:08.363Z"
   },
   {
    "duration": 18,
    "start_time": "2023-08-08T20:09:08.402Z"
   },
   {
    "duration": 93,
    "start_time": "2023-08-08T20:09:08.423Z"
   },
   {
    "duration": 0,
    "start_time": "2023-08-08T20:09:08.518Z"
   },
   {
    "duration": 0,
    "start_time": "2023-08-08T20:09:08.520Z"
   },
   {
    "duration": 129,
    "start_time": "2023-08-08T20:09:39.755Z"
   },
   {
    "duration": 13,
    "start_time": "2023-08-08T20:09:54.603Z"
   },
   {
    "duration": 6,
    "start_time": "2023-08-08T20:09:57.803Z"
   },
   {
    "duration": 112,
    "start_time": "2023-08-08T20:11:40.919Z"
   },
   {
    "duration": 5,
    "start_time": "2023-08-08T20:11:57.117Z"
   },
   {
    "duration": 7,
    "start_time": "2023-08-08T20:11:59.817Z"
   },
   {
    "duration": 14,
    "start_time": "2023-08-08T20:12:12.297Z"
   },
   {
    "duration": 1160,
    "start_time": "2023-08-08T20:14:14.859Z"
   },
   {
    "duration": 44,
    "start_time": "2023-08-08T20:14:16.021Z"
   },
   {
    "duration": 12,
    "start_time": "2023-08-08T20:14:16.066Z"
   },
   {
    "duration": 154,
    "start_time": "2023-08-08T20:14:16.080Z"
   },
   {
    "duration": 262,
    "start_time": "2023-08-08T20:14:16.236Z"
   },
   {
    "duration": 142,
    "start_time": "2023-08-08T20:14:16.499Z"
   },
   {
    "duration": 88,
    "start_time": "2023-08-08T20:14:26.400Z"
   },
   {
    "duration": 6,
    "start_time": "2023-08-08T20:14:26.490Z"
   },
   {
    "duration": 51,
    "start_time": "2023-08-08T20:14:28.433Z"
   },
   {
    "duration": 11,
    "start_time": "2023-08-08T20:14:28.486Z"
   },
   {
    "duration": 3,
    "start_time": "2023-08-08T20:14:28.498Z"
   },
   {
    "duration": 382,
    "start_time": "2023-08-08T20:14:29.471Z"
   },
   {
    "duration": 9,
    "start_time": "2023-08-08T20:14:29.855Z"
   },
   {
    "duration": 37,
    "start_time": "2023-08-08T20:14:29.865Z"
   },
   {
    "duration": 11,
    "start_time": "2023-08-08T20:14:31.750Z"
   },
   {
    "duration": 16,
    "start_time": "2023-08-08T20:14:31.763Z"
   },
   {
    "duration": 13,
    "start_time": "2023-08-08T20:14:31.780Z"
   },
   {
    "duration": 13,
    "start_time": "2023-08-08T20:14:32.466Z"
   },
   {
    "duration": 30,
    "start_time": "2023-08-08T20:14:32.482Z"
   },
   {
    "duration": 21,
    "start_time": "2023-08-08T20:14:32.514Z"
   },
   {
    "duration": 102,
    "start_time": "2023-08-08T20:19:19.261Z"
   },
   {
    "duration": 7,
    "start_time": "2023-08-08T20:19:24.749Z"
   },
   {
    "duration": 12,
    "start_time": "2023-08-08T20:44:49.338Z"
   },
   {
    "duration": 1327,
    "start_time": "2023-08-08T20:45:48.567Z"
   },
   {
    "duration": 5,
    "start_time": "2023-08-08T20:45:56.375Z"
   },
   {
    "duration": 9,
    "start_time": "2023-08-08T20:48:01.028Z"
   },
   {
    "duration": 6,
    "start_time": "2023-08-08T20:48:11.047Z"
   },
   {
    "duration": 6,
    "start_time": "2023-08-08T20:49:59.481Z"
   },
   {
    "duration": 6,
    "start_time": "2023-08-08T20:50:10.303Z"
   },
   {
    "duration": 6,
    "start_time": "2023-08-08T20:50:37.855Z"
   },
   {
    "duration": 6,
    "start_time": "2023-08-08T20:50:56.547Z"
   },
   {
    "duration": 6,
    "start_time": "2023-08-08T20:51:08.593Z"
   },
   {
    "duration": 6,
    "start_time": "2023-08-08T20:51:46.157Z"
   },
   {
    "duration": 5,
    "start_time": "2023-08-08T20:52:00.962Z"
   },
   {
    "duration": 6,
    "start_time": "2023-08-08T20:52:15.491Z"
   },
   {
    "duration": 7,
    "start_time": "2023-08-08T20:53:26.209Z"
   },
   {
    "duration": 7,
    "start_time": "2023-08-08T20:54:43.968Z"
   },
   {
    "duration": 7,
    "start_time": "2023-08-08T20:54:52.048Z"
   },
   {
    "duration": 6,
    "start_time": "2023-08-08T20:54:57.768Z"
   },
   {
    "duration": 8,
    "start_time": "2023-08-08T20:56:33.034Z"
   },
   {
    "duration": 23,
    "start_time": "2023-08-08T20:58:13.508Z"
   },
   {
    "duration": 3,
    "start_time": "2023-08-08T21:01:29.617Z"
   },
   {
    "duration": 7,
    "start_time": "2023-08-08T21:02:34.297Z"
   },
   {
    "duration": 93,
    "start_time": "2023-08-08T21:05:05.895Z"
   },
   {
    "duration": 111,
    "start_time": "2023-08-08T21:05:28.989Z"
   },
   {
    "duration": 88,
    "start_time": "2023-08-08T21:05:57.601Z"
   },
   {
    "duration": 1381,
    "start_time": "2023-08-09T07:32:23.452Z"
   },
   {
    "duration": 105,
    "start_time": "2023-08-09T07:32:24.835Z"
   },
   {
    "duration": 12,
    "start_time": "2023-08-09T07:32:24.942Z"
   },
   {
    "duration": 165,
    "start_time": "2023-08-09T07:32:24.956Z"
   },
   {
    "duration": 2,
    "start_time": "2023-08-09T07:32:25.122Z"
   },
   {
    "duration": 24,
    "start_time": "2023-08-09T07:32:25.126Z"
   },
   {
    "duration": 127,
    "start_time": "2023-08-09T07:32:25.152Z"
   },
   {
    "duration": 9,
    "start_time": "2023-08-09T07:32:25.280Z"
   },
   {
    "duration": 272,
    "start_time": "2023-08-09T07:32:25.290Z"
   },
   {
    "duration": 6,
    "start_time": "2023-08-09T07:32:25.564Z"
   },
   {
    "duration": 154,
    "start_time": "2023-08-09T07:32:25.572Z"
   },
   {
    "duration": 7,
    "start_time": "2023-08-09T07:32:25.728Z"
   },
   {
    "duration": 110,
    "start_time": "2023-08-09T07:32:25.736Z"
   },
   {
    "duration": 6,
    "start_time": "2023-08-09T07:32:25.848Z"
   },
   {
    "duration": 179,
    "start_time": "2023-08-09T07:32:25.855Z"
   },
   {
    "duration": 11,
    "start_time": "2023-08-09T07:32:26.036Z"
   },
   {
    "duration": 23,
    "start_time": "2023-08-09T07:32:26.049Z"
   },
   {
    "duration": 2,
    "start_time": "2023-08-09T07:32:26.074Z"
   },
   {
    "duration": 385,
    "start_time": "2023-08-09T07:32:26.078Z"
   },
   {
    "duration": 10,
    "start_time": "2023-08-09T07:32:26.465Z"
   },
   {
    "duration": 75,
    "start_time": "2023-08-09T07:32:26.477Z"
   },
   {
    "duration": 10,
    "start_time": "2023-08-09T07:32:26.554Z"
   },
   {
    "duration": 16,
    "start_time": "2023-08-09T07:32:26.566Z"
   },
   {
    "duration": 24,
    "start_time": "2023-08-09T07:32:26.583Z"
   },
   {
    "duration": 15,
    "start_time": "2023-08-09T07:32:26.609Z"
   },
   {
    "duration": 14,
    "start_time": "2023-08-09T07:32:26.625Z"
   },
   {
    "duration": 7,
    "start_time": "2023-08-09T07:33:22.072Z"
   },
   {
    "duration": 118,
    "start_time": "2023-08-09T07:37:17.450Z"
   },
   {
    "duration": 95,
    "start_time": "2023-08-09T07:37:23.412Z"
   },
   {
    "duration": 6,
    "start_time": "2023-08-09T07:37:31.020Z"
   },
   {
    "duration": 5,
    "start_time": "2023-08-09T07:40:19.355Z"
   },
   {
    "duration": 14,
    "start_time": "2023-08-09T07:40:36.786Z"
   },
   {
    "duration": 12,
    "start_time": "2023-08-09T07:40:52.784Z"
   },
   {
    "duration": 6,
    "start_time": "2023-08-09T07:41:02.312Z"
   },
   {
    "duration": 10,
    "start_time": "2023-08-09T07:41:52.221Z"
   },
   {
    "duration": 4,
    "start_time": "2023-08-09T11:30:46.670Z"
   },
   {
    "duration": 46,
    "start_time": "2023-08-09T11:31:44.753Z"
   },
   {
    "duration": 1240,
    "start_time": "2023-08-09T11:31:52.592Z"
   },
   {
    "duration": 92,
    "start_time": "2023-08-09T11:31:53.834Z"
   },
   {
    "duration": 11,
    "start_time": "2023-08-09T11:31:53.928Z"
   },
   {
    "duration": 8,
    "start_time": "2023-08-09T11:31:53.941Z"
   },
   {
    "duration": 99,
    "start_time": "2023-08-09T11:31:53.951Z"
   },
   {
    "duration": 17,
    "start_time": "2023-08-09T11:31:54.052Z"
   },
   {
    "duration": 27,
    "start_time": "2023-08-09T11:31:54.070Z"
   },
   {
    "duration": 43,
    "start_time": "2023-08-09T11:31:54.099Z"
   },
   {
    "duration": 21,
    "start_time": "2023-08-09T11:31:54.145Z"
   },
   {
    "duration": 59,
    "start_time": "2023-08-09T11:31:54.170Z"
   },
   {
    "duration": 13,
    "start_time": "2023-08-09T11:31:54.231Z"
   },
   {
    "duration": 48,
    "start_time": "2023-08-09T11:31:54.247Z"
   },
   {
    "duration": 62,
    "start_time": "2023-08-09T11:31:54.297Z"
   },
   {
    "duration": 26,
    "start_time": "2023-08-09T11:31:54.361Z"
   },
   {
    "duration": 15,
    "start_time": "2023-08-09T11:31:54.389Z"
   },
   {
    "duration": 23,
    "start_time": "2023-08-09T11:31:54.406Z"
   },
   {
    "duration": 189,
    "start_time": "2023-08-09T11:31:54.430Z"
   },
   {
    "duration": 2,
    "start_time": "2023-08-09T11:31:54.620Z"
   },
   {
    "duration": 17,
    "start_time": "2023-08-09T11:31:54.624Z"
   },
   {
    "duration": 260,
    "start_time": "2023-08-09T11:31:54.642Z"
   },
   {
    "duration": 6,
    "start_time": "2023-08-09T11:31:54.904Z"
   },
   {
    "duration": 95,
    "start_time": "2023-08-09T11:31:54.912Z"
   },
   {
    "duration": 9,
    "start_time": "2023-08-09T11:31:55.009Z"
   },
   {
    "duration": 28,
    "start_time": "2023-08-09T11:31:55.019Z"
   },
   {
    "duration": 23,
    "start_time": "2023-08-09T11:31:55.049Z"
   },
   {
    "duration": 164,
    "start_time": "2023-08-09T11:31:55.073Z"
   },
   {
    "duration": 696,
    "start_time": "2023-08-09T11:31:55.238Z"
   },
   {
    "duration": 3,
    "start_time": "2023-08-09T11:32:23.561Z"
   },
   {
    "duration": 2,
    "start_time": "2023-08-09T11:33:58.125Z"
   },
   {
    "duration": 2,
    "start_time": "2023-08-09T11:34:11.806Z"
   },
   {
    "duration": 1053,
    "start_time": "2023-08-09T12:03:56.552Z"
   },
   {
    "duration": 41,
    "start_time": "2023-08-09T12:03:57.607Z"
   },
   {
    "duration": 11,
    "start_time": "2023-08-09T12:03:57.650Z"
   },
   {
    "duration": 12,
    "start_time": "2023-08-09T12:03:57.663Z"
   },
   {
    "duration": 59,
    "start_time": "2023-08-09T12:03:57.677Z"
   },
   {
    "duration": 11,
    "start_time": "2023-08-09T12:03:57.738Z"
   },
   {
    "duration": 15,
    "start_time": "2023-08-09T12:03:57.750Z"
   },
   {
    "duration": 29,
    "start_time": "2023-08-09T12:03:57.767Z"
   },
   {
    "duration": 25,
    "start_time": "2023-08-09T12:03:57.798Z"
   },
   {
    "duration": 10,
    "start_time": "2023-08-09T12:03:57.825Z"
   },
   {
    "duration": 18,
    "start_time": "2023-08-09T12:03:57.837Z"
   },
   {
    "duration": 36,
    "start_time": "2023-08-09T12:03:57.857Z"
   },
   {
    "duration": 18,
    "start_time": "2023-08-09T12:03:57.895Z"
   },
   {
    "duration": 25,
    "start_time": "2023-08-09T12:03:57.915Z"
   },
   {
    "duration": 22,
    "start_time": "2023-08-09T12:03:57.942Z"
   },
   {
    "duration": 135,
    "start_time": "2023-08-09T12:03:59.117Z"
   },
   {
    "duration": 2,
    "start_time": "2023-08-09T12:03:59.254Z"
   },
   {
    "duration": 18,
    "start_time": "2023-08-09T12:03:59.258Z"
   },
   {
    "duration": 241,
    "start_time": "2023-08-09T12:04:00.281Z"
   },
   {
    "duration": 6,
    "start_time": "2023-08-09T12:04:00.524Z"
   },
   {
    "duration": 247,
    "start_time": "2023-08-09T12:04:00.532Z"
   },
   {
    "duration": 68,
    "start_time": "2023-08-09T12:04:00.781Z"
   },
   {
    "duration": 110,
    "start_time": "2023-08-09T12:04:00.851Z"
   },
   {
    "duration": 39,
    "start_time": "2023-08-09T12:04:00.963Z"
   },
   {
    "duration": 6,
    "start_time": "2023-08-09T12:04:01.362Z"
   },
   {
    "duration": 173,
    "start_time": "2023-08-09T12:04:01.454Z"
   },
   {
    "duration": 833,
    "start_time": "2023-08-09T12:04:01.628Z"
   },
   {
    "duration": 94,
    "start_time": "2023-08-09T12:04:02.463Z"
   },
   {
    "duration": 9,
    "start_time": "2023-08-09T12:06:08.951Z"
   },
   {
    "duration": 7,
    "start_time": "2023-08-09T12:06:23.806Z"
   },
   {
    "duration": 4,
    "start_time": "2023-08-09T12:06:35.584Z"
   },
   {
    "duration": 3,
    "start_time": "2023-08-09T12:07:41.005Z"
   },
   {
    "duration": 97,
    "start_time": "2023-08-09T12:08:03.979Z"
   },
   {
    "duration": 6,
    "start_time": "2023-08-09T12:08:10.891Z"
   },
   {
    "duration": 7,
    "start_time": "2023-08-09T12:09:59.172Z"
   },
   {
    "duration": 1215,
    "start_time": "2023-08-09T12:10:06.871Z"
   },
   {
    "duration": 43,
    "start_time": "2023-08-09T12:10:08.088Z"
   },
   {
    "duration": 12,
    "start_time": "2023-08-09T12:10:08.133Z"
   },
   {
    "duration": 32,
    "start_time": "2023-08-09T12:10:08.146Z"
   },
   {
    "duration": 54,
    "start_time": "2023-08-09T12:10:08.180Z"
   },
   {
    "duration": 11,
    "start_time": "2023-08-09T12:10:08.236Z"
   },
   {
    "duration": 22,
    "start_time": "2023-08-09T12:10:08.248Z"
   },
   {
    "duration": 28,
    "start_time": "2023-08-09T12:10:08.272Z"
   },
   {
    "duration": 26,
    "start_time": "2023-08-09T12:10:08.302Z"
   },
   {
    "duration": 10,
    "start_time": "2023-08-09T12:10:08.330Z"
   },
   {
    "duration": 9,
    "start_time": "2023-08-09T12:10:08.342Z"
   },
   {
    "duration": 28,
    "start_time": "2023-08-09T12:10:08.353Z"
   },
   {
    "duration": 21,
    "start_time": "2023-08-09T12:10:08.383Z"
   },
   {
    "duration": 13,
    "start_time": "2023-08-09T12:10:08.406Z"
   },
   {
    "duration": 10,
    "start_time": "2023-08-09T12:10:08.421Z"
   },
   {
    "duration": 21,
    "start_time": "2023-08-09T12:10:08.432Z"
   },
   {
    "duration": 152,
    "start_time": "2023-08-09T12:10:08.455Z"
   },
   {
    "duration": 3,
    "start_time": "2023-08-09T12:10:08.609Z"
   },
   {
    "duration": 14,
    "start_time": "2023-08-09T12:10:08.613Z"
   },
   {
    "duration": 256,
    "start_time": "2023-08-09T12:10:08.629Z"
   },
   {
    "duration": 6,
    "start_time": "2023-08-09T12:10:08.886Z"
   },
   {
    "duration": 101,
    "start_time": "2023-08-09T12:10:08.893Z"
   },
   {
    "duration": 5,
    "start_time": "2023-08-09T12:10:08.996Z"
   },
   {
    "duration": 12,
    "start_time": "2023-08-09T12:10:09.002Z"
   },
   {
    "duration": 12,
    "start_time": "2023-08-09T12:10:09.016Z"
   },
   {
    "duration": 27,
    "start_time": "2023-08-09T12:10:09.030Z"
   },
   {
    "duration": 148,
    "start_time": "2023-08-09T12:10:09.059Z"
   },
   {
    "duration": 764,
    "start_time": "2023-08-09T12:10:09.211Z"
   },
   {
    "duration": 95,
    "start_time": "2023-08-09T12:10:09.977Z"
   },
   {
    "duration": 0,
    "start_time": "2023-08-09T12:10:10.074Z"
   },
   {
    "duration": 98,
    "start_time": "2023-08-09T12:11:04.291Z"
   },
   {
    "duration": 5,
    "start_time": "2023-08-09T12:11:08.275Z"
   },
   {
    "duration": 16,
    "start_time": "2023-08-09T12:11:54.115Z"
   },
   {
    "duration": 3,
    "start_time": "2023-08-09T12:14:30.887Z"
   },
   {
    "duration": 8,
    "start_time": "2023-08-09T12:15:49.722Z"
   },
   {
    "duration": 5,
    "start_time": "2023-08-09T12:16:00.791Z"
   },
   {
    "duration": 5,
    "start_time": "2023-08-09T12:16:05.472Z"
   },
   {
    "duration": 5,
    "start_time": "2023-08-09T12:16:09.299Z"
   },
   {
    "duration": 7,
    "start_time": "2023-08-09T12:16:28.669Z"
   },
   {
    "duration": 7,
    "start_time": "2023-08-09T12:16:50.070Z"
   },
   {
    "duration": 8,
    "start_time": "2023-08-09T12:16:58.360Z"
   },
   {
    "duration": 6,
    "start_time": "2023-08-09T12:17:09.319Z"
   },
   {
    "duration": 3,
    "start_time": "2023-08-09T12:18:08.338Z"
   },
   {
    "duration": 2,
    "start_time": "2023-08-09T12:18:18.671Z"
   },
   {
    "duration": 4,
    "start_time": "2023-08-09T12:18:48.895Z"
   },
   {
    "duration": 2,
    "start_time": "2023-08-09T12:19:15.551Z"
   },
   {
    "duration": 3,
    "start_time": "2023-08-09T12:19:19.169Z"
   },
   {
    "duration": 105,
    "start_time": "2023-08-09T12:20:29.842Z"
   },
   {
    "duration": 8,
    "start_time": "2023-08-09T12:20:58.726Z"
   },
   {
    "duration": 1165,
    "start_time": "2023-08-09T12:21:27.353Z"
   },
   {
    "duration": 43,
    "start_time": "2023-08-09T12:21:28.520Z"
   },
   {
    "duration": 10,
    "start_time": "2023-08-09T12:21:28.565Z"
   },
   {
    "duration": 26,
    "start_time": "2023-08-09T12:21:28.579Z"
   },
   {
    "duration": 49,
    "start_time": "2023-08-09T12:21:28.607Z"
   },
   {
    "duration": 11,
    "start_time": "2023-08-09T12:21:28.658Z"
   },
   {
    "duration": 10,
    "start_time": "2023-08-09T12:21:28.671Z"
   },
   {
    "duration": 42,
    "start_time": "2023-08-09T12:21:28.683Z"
   },
   {
    "duration": 19,
    "start_time": "2023-08-09T12:21:28.727Z"
   },
   {
    "duration": 11,
    "start_time": "2023-08-09T12:21:28.750Z"
   },
   {
    "duration": 16,
    "start_time": "2023-08-09T12:21:28.763Z"
   },
   {
    "duration": 8,
    "start_time": "2023-08-09T12:21:28.781Z"
   },
   {
    "duration": 23,
    "start_time": "2023-08-09T12:21:28.791Z"
   },
   {
    "duration": 5,
    "start_time": "2023-08-09T12:21:28.816Z"
   },
   {
    "duration": 17,
    "start_time": "2023-08-09T12:21:28.822Z"
   },
   {
    "duration": 16,
    "start_time": "2023-08-09T12:21:28.840Z"
   },
   {
    "duration": 13,
    "start_time": "2023-08-09T12:21:28.858Z"
   },
   {
    "duration": 35,
    "start_time": "2023-08-09T12:21:28.873Z"
   },
   {
    "duration": 9,
    "start_time": "2023-08-09T12:21:28.909Z"
   },
   {
    "duration": 11,
    "start_time": "2023-08-09T12:21:28.919Z"
   },
   {
    "duration": 158,
    "start_time": "2023-08-09T12:21:28.932Z"
   },
   {
    "duration": 3,
    "start_time": "2023-08-09T12:21:29.091Z"
   },
   {
    "duration": 27,
    "start_time": "2023-08-09T12:21:29.095Z"
   },
   {
    "duration": 270,
    "start_time": "2023-08-09T12:21:29.124Z"
   },
   {
    "duration": 7,
    "start_time": "2023-08-09T12:21:29.396Z"
   },
   {
    "duration": 130,
    "start_time": "2023-08-09T12:21:29.405Z"
   },
   {
    "duration": 5,
    "start_time": "2023-08-09T12:21:29.537Z"
   },
   {
    "duration": 49,
    "start_time": "2023-08-09T12:21:29.556Z"
   },
   {
    "duration": 27,
    "start_time": "2023-08-09T12:21:29.607Z"
   },
   {
    "duration": 43,
    "start_time": "2023-08-09T12:21:29.636Z"
   },
   {
    "duration": 187,
    "start_time": "2023-08-09T12:21:29.681Z"
   },
   {
    "duration": 657,
    "start_time": "2023-08-09T12:21:29.870Z"
   },
   {
    "duration": 108,
    "start_time": "2023-08-09T12:21:30.529Z"
   },
   {
    "duration": 0,
    "start_time": "2023-08-09T12:21:30.638Z"
   },
   {
    "duration": 104,
    "start_time": "2023-08-09T12:34:50.788Z"
   },
   {
    "duration": 23,
    "start_time": "2023-08-09T12:35:23.536Z"
   },
   {
    "duration": 28,
    "start_time": "2023-08-09T12:35:44.020Z"
   },
   {
    "duration": 24,
    "start_time": "2023-08-09T12:36:20.207Z"
   },
   {
    "duration": 24,
    "start_time": "2023-08-09T12:36:25.025Z"
   },
   {
    "duration": 7,
    "start_time": "2023-08-09T12:39:22.927Z"
   },
   {
    "duration": 13,
    "start_time": "2023-08-09T12:40:23.630Z"
   },
   {
    "duration": 9,
    "start_time": "2023-08-09T12:40:44.906Z"
   },
   {
    "duration": 6,
    "start_time": "2023-08-09T12:41:28.358Z"
   },
   {
    "duration": 6,
    "start_time": "2023-08-09T12:50:28.755Z"
   },
   {
    "duration": 120,
    "start_time": "2023-08-09T12:53:11.780Z"
   },
   {
    "duration": 2,
    "start_time": "2023-08-09T12:54:08.796Z"
   },
   {
    "duration": 329,
    "start_time": "2023-08-09T12:57:22.417Z"
   },
   {
    "duration": 94,
    "start_time": "2023-08-09T12:58:34.507Z"
   },
   {
    "duration": 6,
    "start_time": "2023-08-09T12:59:32.309Z"
   },
   {
    "duration": 6,
    "start_time": "2023-08-09T12:59:41.475Z"
   },
   {
    "duration": 7,
    "start_time": "2023-08-09T12:59:52.660Z"
   },
   {
    "duration": 8,
    "start_time": "2023-08-09T13:00:54.748Z"
   },
   {
    "duration": 228,
    "start_time": "2023-08-09T13:02:14.570Z"
   },
   {
    "duration": 1367,
    "start_time": "2023-08-09T13:21:29.292Z"
   },
   {
    "duration": 47,
    "start_time": "2023-08-09T13:21:30.664Z"
   },
   {
    "duration": 17,
    "start_time": "2023-08-09T13:21:30.713Z"
   },
   {
    "duration": 249,
    "start_time": "2023-08-09T13:21:30.732Z"
   },
   {
    "duration": 250,
    "start_time": "2023-08-09T13:21:30.982Z"
   },
   {
    "duration": 166,
    "start_time": "2023-08-09T13:21:31.233Z"
   },
   {
    "duration": 33,
    "start_time": "2023-08-09T13:21:31.401Z"
   },
   {
    "duration": 86,
    "start_time": "2023-08-09T13:21:31.436Z"
   },
   {
    "duration": 110,
    "start_time": "2023-08-09T13:21:31.524Z"
   },
   {
    "duration": 107,
    "start_time": "2023-08-09T13:21:31.637Z"
   },
   {
    "duration": 40,
    "start_time": "2023-08-09T13:21:31.746Z"
   },
   {
    "duration": 128,
    "start_time": "2023-08-09T13:21:31.787Z"
   },
   {
    "duration": 98,
    "start_time": "2023-08-09T13:21:31.916Z"
   },
   {
    "duration": 86,
    "start_time": "2023-08-09T13:21:32.015Z"
   },
   {
    "duration": 26,
    "start_time": "2023-08-09T13:21:32.103Z"
   },
   {
    "duration": 64,
    "start_time": "2023-08-09T13:21:32.131Z"
   },
   {
    "duration": 35,
    "start_time": "2023-08-09T13:21:32.197Z"
   },
   {
    "duration": 16,
    "start_time": "2023-08-09T13:21:32.233Z"
   },
   {
    "duration": 66,
    "start_time": "2023-08-09T13:21:32.251Z"
   },
   {
    "duration": 25,
    "start_time": "2023-08-09T13:21:32.319Z"
   },
   {
    "duration": 62,
    "start_time": "2023-08-09T13:21:32.346Z"
   },
   {
    "duration": 24,
    "start_time": "2023-08-09T13:21:32.410Z"
   },
   {
    "duration": 49,
    "start_time": "2023-08-09T13:21:32.436Z"
   },
   {
    "duration": 72,
    "start_time": "2023-08-09T13:21:32.489Z"
   },
   {
    "duration": 404,
    "start_time": "2023-08-09T13:21:32.564Z"
   },
   {
    "duration": 10,
    "start_time": "2023-08-09T13:21:32.971Z"
   },
   {
    "duration": 208,
    "start_time": "2023-08-09T13:21:32.983Z"
   },
   {
    "duration": 6,
    "start_time": "2023-08-09T13:21:33.194Z"
   },
   {
    "duration": 175,
    "start_time": "2023-08-09T13:21:33.202Z"
   },
   {
    "duration": 853,
    "start_time": "2023-08-09T13:21:33.379Z"
   },
   {
    "duration": 101,
    "start_time": "2023-08-09T13:21:34.234Z"
   },
   {
    "duration": 22,
    "start_time": "2023-08-09T13:25:44.773Z"
   },
   {
    "duration": 15,
    "start_time": "2023-08-09T13:39:08.472Z"
   },
   {
    "duration": 133,
    "start_time": "2023-08-09T13:39:31.072Z"
   },
   {
    "duration": 10,
    "start_time": "2023-08-09T13:39:42.796Z"
   },
   {
    "duration": 11,
    "start_time": "2023-08-09T13:39:52.884Z"
   },
   {
    "duration": 8,
    "start_time": "2023-08-09T13:39:59.373Z"
   },
   {
    "duration": 7,
    "start_time": "2023-08-09T13:40:08.380Z"
   },
   {
    "duration": 9,
    "start_time": "2023-08-09T13:40:13.832Z"
   },
   {
    "duration": 11,
    "start_time": "2023-08-09T13:40:35.250Z"
   },
   {
    "duration": 13,
    "start_time": "2023-08-09T13:40:42.549Z"
   },
   {
    "duration": 8,
    "start_time": "2023-08-09T13:40:50.325Z"
   },
   {
    "duration": 13,
    "start_time": "2023-08-09T13:41:20.848Z"
   },
   {
    "duration": 7,
    "start_time": "2023-08-09T13:42:17.995Z"
   },
   {
    "duration": 7,
    "start_time": "2023-08-09T13:42:28.783Z"
   },
   {
    "duration": 109,
    "start_time": "2023-08-09T13:43:15.597Z"
   },
   {
    "duration": 107,
    "start_time": "2023-08-09T13:43:36.659Z"
   },
   {
    "duration": 104,
    "start_time": "2023-08-09T13:45:40.382Z"
   },
   {
    "duration": 9,
    "start_time": "2023-08-09T13:47:11.678Z"
   },
   {
    "duration": 117,
    "start_time": "2023-08-09T13:47:26.001Z"
   },
   {
    "duration": 12,
    "start_time": "2023-08-09T13:47:36.547Z"
   },
   {
    "duration": 12,
    "start_time": "2023-08-09T13:47:47.218Z"
   },
   {
    "duration": 15,
    "start_time": "2023-08-09T13:48:08.409Z"
   },
   {
    "duration": 14,
    "start_time": "2023-08-09T13:48:24.064Z"
   },
   {
    "duration": 15,
    "start_time": "2023-08-09T13:48:34.982Z"
   },
   {
    "duration": 27,
    "start_time": "2023-08-09T13:49:58.747Z"
   },
   {
    "duration": 1376,
    "start_time": "2023-08-09T13:50:12.099Z"
   },
   {
    "duration": 49,
    "start_time": "2023-08-09T13:50:13.477Z"
   },
   {
    "duration": 14,
    "start_time": "2023-08-09T13:50:13.528Z"
   },
   {
    "duration": 14,
    "start_time": "2023-08-09T13:50:13.544Z"
   },
   {
    "duration": 7,
    "start_time": "2023-08-09T13:50:13.560Z"
   },
   {
    "duration": 42,
    "start_time": "2023-08-09T13:50:13.569Z"
   },
   {
    "duration": 13,
    "start_time": "2023-08-09T13:50:13.613Z"
   },
   {
    "duration": 3,
    "start_time": "2023-08-09T13:50:13.628Z"
   },
   {
    "duration": 43,
    "start_time": "2023-08-09T13:50:13.633Z"
   },
   {
    "duration": 33,
    "start_time": "2023-08-09T13:50:13.680Z"
   },
   {
    "duration": 14,
    "start_time": "2023-08-09T13:50:13.715Z"
   },
   {
    "duration": 10,
    "start_time": "2023-08-09T13:50:13.730Z"
   },
   {
    "duration": 17,
    "start_time": "2023-08-09T13:50:13.742Z"
   },
   {
    "duration": 15,
    "start_time": "2023-08-09T13:50:13.760Z"
   },
   {
    "duration": 4,
    "start_time": "2023-08-09T13:50:13.777Z"
   },
   {
    "duration": 127,
    "start_time": "2023-08-09T13:50:13.783Z"
   },
   {
    "duration": 8,
    "start_time": "2023-08-09T13:50:13.911Z"
   },
   {
    "duration": 12,
    "start_time": "2023-08-09T13:50:13.920Z"
   },
   {
    "duration": 19,
    "start_time": "2023-08-09T13:50:13.933Z"
   },
   {
    "duration": 9,
    "start_time": "2023-08-09T13:50:13.953Z"
   },
   {
    "duration": 15,
    "start_time": "2023-08-09T13:50:13.964Z"
   },
   {
    "duration": 27,
    "start_time": "2023-08-09T13:50:13.980Z"
   },
   {
    "duration": 34,
    "start_time": "2023-08-09T13:50:14.009Z"
   },
   {
    "duration": 28,
    "start_time": "2023-08-09T13:50:14.045Z"
   },
   {
    "duration": 341,
    "start_time": "2023-08-09T13:50:14.075Z"
   },
   {
    "duration": 6,
    "start_time": "2023-08-09T13:50:14.417Z"
   },
   {
    "duration": 149,
    "start_time": "2023-08-09T13:50:14.425Z"
   },
   {
    "duration": 23,
    "start_time": "2023-08-09T13:50:14.578Z"
   },
   {
    "duration": 6,
    "start_time": "2023-08-09T13:50:14.602Z"
   },
   {
    "duration": 136,
    "start_time": "2023-08-09T13:50:14.610Z"
   },
   {
    "duration": 18,
    "start_time": "2023-08-09T13:50:14.748Z"
   },
   {
    "duration": 22,
    "start_time": "2023-08-09T13:50:14.768Z"
   },
   {
    "duration": 712,
    "start_time": "2023-08-09T13:50:14.791Z"
   },
   {
    "duration": 7,
    "start_time": "2023-08-09T13:50:15.505Z"
   },
   {
    "duration": 105,
    "start_time": "2023-08-09T13:50:15.514Z"
   },
   {
    "duration": 109,
    "start_time": "2023-08-09T13:55:21.514Z"
   },
   {
    "duration": 11,
    "start_time": "2023-08-09T13:55:43.712Z"
   },
   {
    "duration": 7,
    "start_time": "2023-08-09T13:56:02.845Z"
   },
   {
    "duration": 10,
    "start_time": "2023-08-09T13:56:26.083Z"
   },
   {
    "duration": 10,
    "start_time": "2023-08-09T13:56:34.531Z"
   },
   {
    "duration": 10,
    "start_time": "2023-08-09T13:56:52.209Z"
   },
   {
    "duration": 9,
    "start_time": "2023-08-09T13:57:02.031Z"
   },
   {
    "duration": 6,
    "start_time": "2023-08-09T13:57:09.908Z"
   },
   {
    "duration": 5,
    "start_time": "2023-08-09T13:57:15.512Z"
   },
   {
    "duration": 85,
    "start_time": "2023-08-09T13:57:26.494Z"
   },
   {
    "duration": 8,
    "start_time": "2023-08-09T13:57:37.576Z"
   },
   {
    "duration": 17,
    "start_time": "2023-08-09T13:58:18.161Z"
   },
   {
    "duration": 11,
    "start_time": "2023-08-09T13:58:22.644Z"
   },
   {
    "duration": 8,
    "start_time": "2023-08-09T14:19:16.170Z"
   },
   {
    "duration": 8,
    "start_time": "2023-08-09T14:19:23.366Z"
   },
   {
    "duration": 8,
    "start_time": "2023-08-09T14:19:31.543Z"
   },
   {
    "duration": 114,
    "start_time": "2023-08-09T14:23:49.798Z"
   },
   {
    "duration": 11,
    "start_time": "2023-08-09T14:25:46.807Z"
   },
   {
    "duration": 1126,
    "start_time": "2023-08-09T14:25:57.507Z"
   },
   {
    "duration": 49,
    "start_time": "2023-08-09T14:25:58.635Z"
   },
   {
    "duration": 10,
    "start_time": "2023-08-09T14:25:58.686Z"
   },
   {
    "duration": 12,
    "start_time": "2023-08-09T14:25:58.698Z"
   },
   {
    "duration": 18,
    "start_time": "2023-08-09T14:25:58.711Z"
   },
   {
    "duration": 58,
    "start_time": "2023-08-09T14:25:58.731Z"
   },
   {
    "duration": 11,
    "start_time": "2023-08-09T14:25:58.791Z"
   },
   {
    "duration": 18,
    "start_time": "2023-08-09T14:25:58.804Z"
   },
   {
    "duration": 27,
    "start_time": "2023-08-09T14:25:58.823Z"
   },
   {
    "duration": 33,
    "start_time": "2023-08-09T14:25:58.854Z"
   },
   {
    "duration": 11,
    "start_time": "2023-08-09T14:25:58.888Z"
   },
   {
    "duration": 29,
    "start_time": "2023-08-09T14:25:58.901Z"
   },
   {
    "duration": 40,
    "start_time": "2023-08-09T14:25:58.931Z"
   },
   {
    "duration": 29,
    "start_time": "2023-08-09T14:25:58.973Z"
   },
   {
    "duration": 15,
    "start_time": "2023-08-09T14:25:59.003Z"
   },
   {
    "duration": 19,
    "start_time": "2023-08-09T14:25:59.020Z"
   },
   {
    "duration": 32,
    "start_time": "2023-08-09T14:25:59.043Z"
   },
   {
    "duration": 36,
    "start_time": "2023-08-09T14:25:59.076Z"
   },
   {
    "duration": 18,
    "start_time": "2023-08-09T14:25:59.113Z"
   },
   {
    "duration": 14,
    "start_time": "2023-08-09T14:25:59.132Z"
   },
   {
    "duration": 29,
    "start_time": "2023-08-09T14:25:59.147Z"
   },
   {
    "duration": 29,
    "start_time": "2023-08-09T14:25:59.178Z"
   },
   {
    "duration": 27,
    "start_time": "2023-08-09T14:25:59.210Z"
   },
   {
    "duration": 21,
    "start_time": "2023-08-09T14:25:59.239Z"
   },
   {
    "duration": 334,
    "start_time": "2023-08-09T14:25:59.262Z"
   },
   {
    "duration": 5,
    "start_time": "2023-08-09T14:25:59.598Z"
   },
   {
    "duration": 167,
    "start_time": "2023-08-09T14:25:59.605Z"
   },
   {
    "duration": 23,
    "start_time": "2023-08-09T14:25:59.775Z"
   },
   {
    "duration": 25,
    "start_time": "2023-08-09T14:25:59.800Z"
   },
   {
    "duration": 153,
    "start_time": "2023-08-09T14:25:59.828Z"
   },
   {
    "duration": 10,
    "start_time": "2023-08-09T14:25:59.983Z"
   },
   {
    "duration": 30,
    "start_time": "2023-08-09T14:25:59.995Z"
   },
   {
    "duration": 758,
    "start_time": "2023-08-09T14:26:00.027Z"
   },
   {
    "duration": 6,
    "start_time": "2023-08-09T14:26:00.787Z"
   },
   {
    "duration": 173,
    "start_time": "2023-08-09T14:26:00.795Z"
   },
   {
    "duration": 1266,
    "start_time": "2023-08-09T14:26:46.049Z"
   },
   {
    "duration": 49,
    "start_time": "2023-08-09T14:26:47.317Z"
   },
   {
    "duration": 15,
    "start_time": "2023-08-09T14:26:47.368Z"
   },
   {
    "duration": 9,
    "start_time": "2023-08-09T14:26:47.384Z"
   },
   {
    "duration": 7,
    "start_time": "2023-08-09T14:26:47.395Z"
   },
   {
    "duration": 51,
    "start_time": "2023-08-09T14:26:47.403Z"
   },
   {
    "duration": 18,
    "start_time": "2023-08-09T14:26:47.456Z"
   },
   {
    "duration": 6,
    "start_time": "2023-08-09T14:26:47.477Z"
   },
   {
    "duration": 29,
    "start_time": "2023-08-09T14:26:47.485Z"
   },
   {
    "duration": 40,
    "start_time": "2023-08-09T14:26:47.516Z"
   },
   {
    "duration": 17,
    "start_time": "2023-08-09T14:26:47.558Z"
   },
   {
    "duration": 17,
    "start_time": "2023-08-09T14:26:47.577Z"
   },
   {
    "duration": 18,
    "start_time": "2023-08-09T14:26:47.596Z"
   },
   {
    "duration": 17,
    "start_time": "2023-08-09T14:26:47.618Z"
   },
   {
    "duration": 3,
    "start_time": "2023-08-09T14:26:47.636Z"
   },
   {
    "duration": 4,
    "start_time": "2023-08-09T14:26:47.653Z"
   },
   {
    "duration": 23,
    "start_time": "2023-08-09T14:26:47.660Z"
   },
   {
    "duration": 10,
    "start_time": "2023-08-09T14:26:47.685Z"
   },
   {
    "duration": 17,
    "start_time": "2023-08-09T14:26:47.696Z"
   },
   {
    "duration": 7,
    "start_time": "2023-08-09T14:26:47.715Z"
   },
   {
    "duration": 7,
    "start_time": "2023-08-09T14:26:47.724Z"
   },
   {
    "duration": 23,
    "start_time": "2023-08-09T14:26:47.732Z"
   },
   {
    "duration": 8,
    "start_time": "2023-08-09T14:26:47.758Z"
   },
   {
    "duration": 22,
    "start_time": "2023-08-09T14:26:47.768Z"
   },
   {
    "duration": 299,
    "start_time": "2023-08-09T14:26:47.792Z"
   },
   {
    "duration": 6,
    "start_time": "2023-08-09T14:26:48.092Z"
   },
   {
    "duration": 168,
    "start_time": "2023-08-09T14:26:48.100Z"
   },
   {
    "duration": 26,
    "start_time": "2023-08-09T14:26:48.271Z"
   },
   {
    "duration": 9,
    "start_time": "2023-08-09T14:26:48.298Z"
   },
   {
    "duration": 166,
    "start_time": "2023-08-09T14:26:48.309Z"
   },
   {
    "duration": 9,
    "start_time": "2023-08-09T14:26:48.476Z"
   },
   {
    "duration": 26,
    "start_time": "2023-08-09T14:26:48.487Z"
   },
   {
    "duration": 788,
    "start_time": "2023-08-09T14:26:48.514Z"
   },
   {
    "duration": 9,
    "start_time": "2023-08-09T14:26:49.305Z"
   },
   {
    "duration": 114,
    "start_time": "2023-08-09T14:26:49.316Z"
   },
   {
    "duration": 1199,
    "start_time": "2023-08-09T14:28:26.280Z"
   },
   {
    "duration": 43,
    "start_time": "2023-08-09T14:28:27.481Z"
   },
   {
    "duration": 31,
    "start_time": "2023-08-09T14:28:27.526Z"
   },
   {
    "duration": 32,
    "start_time": "2023-08-09T14:28:27.559Z"
   },
   {
    "duration": 14,
    "start_time": "2023-08-09T14:28:27.594Z"
   },
   {
    "duration": 53,
    "start_time": "2023-08-09T14:28:27.610Z"
   },
   {
    "duration": 16,
    "start_time": "2023-08-09T14:28:27.666Z"
   },
   {
    "duration": 7,
    "start_time": "2023-08-09T14:28:27.684Z"
   },
   {
    "duration": 37,
    "start_time": "2023-08-09T14:28:27.693Z"
   },
   {
    "duration": 43,
    "start_time": "2023-08-09T14:28:27.732Z"
   },
   {
    "duration": 13,
    "start_time": "2023-08-09T14:28:27.777Z"
   },
   {
    "duration": 15,
    "start_time": "2023-08-09T14:28:27.791Z"
   },
   {
    "duration": 30,
    "start_time": "2023-08-09T14:28:27.807Z"
   },
   {
    "duration": 43,
    "start_time": "2023-08-09T14:28:27.841Z"
   },
   {
    "duration": 2,
    "start_time": "2023-08-09T14:28:27.886Z"
   },
   {
    "duration": 20,
    "start_time": "2023-08-09T14:28:27.890Z"
   },
   {
    "duration": 15,
    "start_time": "2023-08-09T14:28:27.912Z"
   },
   {
    "duration": 11,
    "start_time": "2023-08-09T14:28:27.929Z"
   },
   {
    "duration": 44,
    "start_time": "2023-08-09T14:28:27.942Z"
   },
   {
    "duration": 13,
    "start_time": "2023-08-09T14:28:27.988Z"
   },
   {
    "duration": 17,
    "start_time": "2023-08-09T14:28:28.003Z"
   },
   {
    "duration": 26,
    "start_time": "2023-08-09T14:28:28.022Z"
   },
   {
    "duration": 33,
    "start_time": "2023-08-09T14:28:28.050Z"
   },
   {
    "duration": 31,
    "start_time": "2023-08-09T14:28:28.085Z"
   },
   {
    "duration": 291,
    "start_time": "2023-08-09T14:28:28.118Z"
   },
   {
    "duration": 6,
    "start_time": "2023-08-09T14:28:28.411Z"
   },
   {
    "duration": 192,
    "start_time": "2023-08-09T14:28:28.419Z"
   },
   {
    "duration": 22,
    "start_time": "2023-08-09T14:28:28.614Z"
   },
   {
    "duration": 23,
    "start_time": "2023-08-09T14:28:28.638Z"
   },
   {
    "duration": 168,
    "start_time": "2023-08-09T14:28:28.663Z"
   },
   {
    "duration": 15,
    "start_time": "2023-08-09T14:28:28.834Z"
   },
   {
    "duration": 48,
    "start_time": "2023-08-09T14:28:28.854Z"
   },
   {
    "duration": 737,
    "start_time": "2023-08-09T14:28:28.903Z"
   },
   {
    "duration": 11,
    "start_time": "2023-08-09T14:28:29.642Z"
   },
   {
    "duration": 133,
    "start_time": "2023-08-09T14:28:29.656Z"
   },
   {
    "duration": 13,
    "start_time": "2023-08-09T14:29:02.780Z"
   },
   {
    "duration": 1232,
    "start_time": "2023-08-09T14:30:18.693Z"
   },
   {
    "duration": 50,
    "start_time": "2023-08-09T14:30:19.927Z"
   },
   {
    "duration": 12,
    "start_time": "2023-08-09T14:30:19.979Z"
   },
   {
    "duration": 18,
    "start_time": "2023-08-09T14:30:19.993Z"
   },
   {
    "duration": 14,
    "start_time": "2023-08-09T14:30:20.013Z"
   },
   {
    "duration": 67,
    "start_time": "2023-08-09T14:30:20.029Z"
   },
   {
    "duration": 13,
    "start_time": "2023-08-09T14:30:20.097Z"
   },
   {
    "duration": 14,
    "start_time": "2023-08-09T14:30:20.111Z"
   },
   {
    "duration": 49,
    "start_time": "2023-08-09T14:30:20.127Z"
   },
   {
    "duration": 49,
    "start_time": "2023-08-09T14:30:20.179Z"
   },
   {
    "duration": 18,
    "start_time": "2023-08-09T14:30:20.231Z"
   },
   {
    "duration": 34,
    "start_time": "2023-08-09T14:30:20.252Z"
   },
   {
    "duration": 37,
    "start_time": "2023-08-09T14:30:20.288Z"
   },
   {
    "duration": 22,
    "start_time": "2023-08-09T14:30:20.327Z"
   },
   {
    "duration": 63,
    "start_time": "2023-08-09T14:30:20.351Z"
   },
   {
    "duration": 18,
    "start_time": "2023-08-09T14:30:20.416Z"
   },
   {
    "duration": 19,
    "start_time": "2023-08-09T14:30:20.436Z"
   },
   {
    "duration": 66,
    "start_time": "2023-08-09T14:30:20.457Z"
   },
   {
    "duration": 54,
    "start_time": "2023-08-09T14:30:20.525Z"
   },
   {
    "duration": 27,
    "start_time": "2023-08-09T14:30:20.580Z"
   },
   {
    "duration": 20,
    "start_time": "2023-08-09T14:30:20.608Z"
   },
   {
    "duration": 16,
    "start_time": "2023-08-09T14:30:20.630Z"
   },
   {
    "duration": 56,
    "start_time": "2023-08-09T14:30:20.647Z"
   },
   {
    "duration": 22,
    "start_time": "2023-08-09T14:30:20.704Z"
   },
   {
    "duration": 284,
    "start_time": "2023-08-09T14:30:20.727Z"
   },
   {
    "duration": 6,
    "start_time": "2023-08-09T14:30:21.012Z"
   },
   {
    "duration": 166,
    "start_time": "2023-08-09T14:30:21.020Z"
   },
   {
    "duration": 24,
    "start_time": "2023-08-09T14:30:21.189Z"
   },
   {
    "duration": 8,
    "start_time": "2023-08-09T14:30:21.215Z"
   },
   {
    "duration": 139,
    "start_time": "2023-08-09T14:30:21.224Z"
   },
   {
    "duration": 803,
    "start_time": "2023-08-09T14:30:21.365Z"
   },
   {
    "duration": 9,
    "start_time": "2023-08-09T14:30:22.170Z"
   },
   {
    "duration": 116,
    "start_time": "2023-08-09T14:30:22.180Z"
   },
   {
    "duration": 157,
    "start_time": "2023-08-09T14:37:58.753Z"
   },
   {
    "duration": 262,
    "start_time": "2023-08-09T14:38:03.908Z"
   },
   {
    "duration": 167,
    "start_time": "2023-08-09T14:38:08.527Z"
   },
   {
    "duration": 168,
    "start_time": "2023-08-09T14:38:22.753Z"
   },
   {
    "duration": 203,
    "start_time": "2023-08-09T14:38:27.666Z"
   },
   {
    "duration": 166,
    "start_time": "2023-08-09T14:38:35.215Z"
   },
   {
    "duration": 9,
    "start_time": "2023-08-09T14:44:26.612Z"
   },
   {
    "duration": 8,
    "start_time": "2023-08-09T14:45:55.667Z"
   },
   {
    "duration": 1149,
    "start_time": "2023-08-09T15:08:47.093Z"
   },
   {
    "duration": 47,
    "start_time": "2023-08-09T15:08:48.244Z"
   },
   {
    "duration": 11,
    "start_time": "2023-08-09T15:08:48.293Z"
   },
   {
    "duration": 20,
    "start_time": "2023-08-09T15:08:48.307Z"
   },
   {
    "duration": 7,
    "start_time": "2023-08-09T15:08:48.329Z"
   },
   {
    "duration": 49,
    "start_time": "2023-08-09T15:08:48.337Z"
   },
   {
    "duration": 11,
    "start_time": "2023-08-09T15:08:48.388Z"
   },
   {
    "duration": 3,
    "start_time": "2023-08-09T15:08:48.401Z"
   },
   {
    "duration": 21,
    "start_time": "2023-08-09T15:08:48.406Z"
   },
   {
    "duration": 19,
    "start_time": "2023-08-09T15:08:48.430Z"
   },
   {
    "duration": 17,
    "start_time": "2023-08-09T15:08:48.453Z"
   },
   {
    "duration": 11,
    "start_time": "2023-08-09T15:08:48.472Z"
   },
   {
    "duration": 15,
    "start_time": "2023-08-09T15:08:48.485Z"
   },
   {
    "duration": 16,
    "start_time": "2023-08-09T15:08:48.502Z"
   },
   {
    "duration": 8,
    "start_time": "2023-08-09T15:08:48.519Z"
   },
   {
    "duration": 10,
    "start_time": "2023-08-09T15:08:48.529Z"
   },
   {
    "duration": 12,
    "start_time": "2023-08-09T15:08:48.541Z"
   },
   {
    "duration": 19,
    "start_time": "2023-08-09T15:08:48.557Z"
   },
   {
    "duration": 24,
    "start_time": "2023-08-09T15:08:48.577Z"
   },
   {
    "duration": 8,
    "start_time": "2023-08-09T15:08:48.603Z"
   },
   {
    "duration": 12,
    "start_time": "2023-08-09T15:08:48.613Z"
   },
   {
    "duration": 13,
    "start_time": "2023-08-09T15:08:48.627Z"
   },
   {
    "duration": 26,
    "start_time": "2023-08-09T15:08:48.641Z"
   },
   {
    "duration": 23,
    "start_time": "2023-08-09T15:08:48.669Z"
   },
   {
    "duration": 287,
    "start_time": "2023-08-09T15:08:48.693Z"
   },
   {
    "duration": 186,
    "start_time": "2023-08-09T15:08:48.982Z"
   },
   {
    "duration": 7,
    "start_time": "2023-08-09T15:08:49.170Z"
   },
   {
    "duration": 270,
    "start_time": "2023-08-09T15:08:49.180Z"
   },
   {
    "duration": 31,
    "start_time": "2023-08-09T15:08:49.452Z"
   },
   {
    "duration": 8,
    "start_time": "2023-08-09T15:08:49.485Z"
   },
   {
    "duration": 152,
    "start_time": "2023-08-09T15:08:49.495Z"
   },
   {
    "duration": 746,
    "start_time": "2023-08-09T15:08:49.648Z"
   },
   {
    "duration": 5,
    "start_time": "2023-08-09T15:08:50.395Z"
   },
   {
    "duration": 10,
    "start_time": "2023-08-09T15:08:50.402Z"
   },
   {
    "duration": 116,
    "start_time": "2023-08-09T15:08:50.413Z"
   },
   {
    "duration": 8,
    "start_time": "2023-08-09T15:10:40.228Z"
   },
   {
    "duration": 8,
    "start_time": "2023-08-09T15:10:48.749Z"
   },
   {
    "duration": 9,
    "start_time": "2023-08-09T15:12:22.753Z"
   },
   {
    "duration": 1184,
    "start_time": "2023-08-09T15:12:45.429Z"
   },
   {
    "duration": 42,
    "start_time": "2023-08-09T15:12:46.615Z"
   },
   {
    "duration": 21,
    "start_time": "2023-08-09T15:12:46.658Z"
   },
   {
    "duration": 28,
    "start_time": "2023-08-09T15:12:46.681Z"
   },
   {
    "duration": 25,
    "start_time": "2023-08-09T15:12:46.712Z"
   },
   {
    "duration": 90,
    "start_time": "2023-08-09T15:12:46.739Z"
   },
   {
    "duration": 11,
    "start_time": "2023-08-09T15:12:46.830Z"
   },
   {
    "duration": 28,
    "start_time": "2023-08-09T15:12:46.842Z"
   },
   {
    "duration": 41,
    "start_time": "2023-08-09T15:12:46.872Z"
   },
   {
    "duration": 27,
    "start_time": "2023-08-09T15:12:46.915Z"
   },
   {
    "duration": 18,
    "start_time": "2023-08-09T15:12:46.944Z"
   },
   {
    "duration": 28,
    "start_time": "2023-08-09T15:12:46.963Z"
   },
   {
    "duration": 30,
    "start_time": "2023-08-09T15:12:46.992Z"
   },
   {
    "duration": 41,
    "start_time": "2023-08-09T15:12:47.024Z"
   },
   {
    "duration": 17,
    "start_time": "2023-08-09T15:12:47.067Z"
   },
   {
    "duration": 27,
    "start_time": "2023-08-09T15:12:47.086Z"
   },
   {
    "duration": 34,
    "start_time": "2023-08-09T15:12:47.115Z"
   },
   {
    "duration": 12,
    "start_time": "2023-08-09T15:12:47.151Z"
   },
   {
    "duration": 40,
    "start_time": "2023-08-09T15:12:47.164Z"
   },
   {
    "duration": 18,
    "start_time": "2023-08-09T15:12:47.205Z"
   },
   {
    "duration": 14,
    "start_time": "2023-08-09T15:12:47.225Z"
   },
   {
    "duration": 28,
    "start_time": "2023-08-09T15:12:47.241Z"
   },
   {
    "duration": 27,
    "start_time": "2023-08-09T15:12:47.271Z"
   },
   {
    "duration": 35,
    "start_time": "2023-08-09T15:12:47.299Z"
   },
   {
    "duration": 259,
    "start_time": "2023-08-09T15:12:47.336Z"
   },
   {
    "duration": 165,
    "start_time": "2023-08-09T15:12:47.596Z"
   },
   {
    "duration": 6,
    "start_time": "2023-08-09T15:12:47.763Z"
   },
   {
    "duration": 142,
    "start_time": "2023-08-09T15:12:47.772Z"
   },
   {
    "duration": 23,
    "start_time": "2023-08-09T15:12:47.916Z"
   },
   {
    "duration": 8,
    "start_time": "2023-08-09T15:12:47.954Z"
   },
   {
    "duration": 118,
    "start_time": "2023-08-09T15:12:47.963Z"
   },
   {
    "duration": 676,
    "start_time": "2023-08-09T15:12:48.083Z"
   },
   {
    "duration": 9,
    "start_time": "2023-08-09T15:12:48.761Z"
   },
   {
    "duration": 30,
    "start_time": "2023-08-09T15:12:48.771Z"
   },
   {
    "duration": 122,
    "start_time": "2023-08-09T15:12:48.803Z"
   },
   {
    "duration": 2,
    "start_time": "2023-08-09T15:18:01.357Z"
   },
   {
    "duration": 8,
    "start_time": "2023-08-09T15:20:26.389Z"
   },
   {
    "duration": 10,
    "start_time": "2023-08-09T15:21:50.411Z"
   },
   {
    "duration": 9,
    "start_time": "2023-08-09T15:25:41.110Z"
   },
   {
    "duration": 8,
    "start_time": "2023-08-09T15:26:08.600Z"
   },
   {
    "duration": 9,
    "start_time": "2023-08-09T15:26:12.166Z"
   },
   {
    "duration": 73,
    "start_time": "2023-08-09T15:27:54.868Z"
   },
   {
    "duration": 8,
    "start_time": "2023-08-09T15:28:00.567Z"
   },
   {
    "duration": 15,
    "start_time": "2023-08-09T15:28:27.524Z"
   },
   {
    "duration": 9,
    "start_time": "2023-08-09T15:28:48.311Z"
   },
   {
    "duration": 10,
    "start_time": "2023-08-09T15:28:54.886Z"
   },
   {
    "duration": 13,
    "start_time": "2023-08-09T15:29:14.426Z"
   },
   {
    "duration": 8,
    "start_time": "2023-08-09T15:29:41.564Z"
   },
   {
    "duration": 11,
    "start_time": "2023-08-09T15:29:59.463Z"
   },
   {
    "duration": 11,
    "start_time": "2023-08-09T15:30:16.408Z"
   },
   {
    "duration": 11,
    "start_time": "2023-08-09T15:30:26.365Z"
   },
   {
    "duration": 9,
    "start_time": "2023-08-09T15:30:53.357Z"
   },
   {
    "duration": 14,
    "start_time": "2023-08-09T15:32:31.943Z"
   },
   {
    "duration": 241,
    "start_time": "2023-08-09T15:34:40.719Z"
   },
   {
    "duration": 14,
    "start_time": "2023-08-09T15:43:55.789Z"
   },
   {
    "duration": 13,
    "start_time": "2023-08-09T15:44:21.438Z"
   },
   {
    "duration": 15,
    "start_time": "2023-08-09T15:44:26.391Z"
   },
   {
    "duration": 1202,
    "start_time": "2023-08-09T15:44:32.424Z"
   },
   {
    "duration": 44,
    "start_time": "2023-08-09T15:44:33.627Z"
   },
   {
    "duration": 11,
    "start_time": "2023-08-09T15:44:33.673Z"
   },
   {
    "duration": 19,
    "start_time": "2023-08-09T15:44:33.686Z"
   },
   {
    "duration": 8,
    "start_time": "2023-08-09T15:44:33.707Z"
   },
   {
    "duration": 57,
    "start_time": "2023-08-09T15:44:33.717Z"
   },
   {
    "duration": 11,
    "start_time": "2023-08-09T15:44:33.776Z"
   },
   {
    "duration": 18,
    "start_time": "2023-08-09T15:44:33.789Z"
   },
   {
    "duration": 39,
    "start_time": "2023-08-09T15:44:33.809Z"
   },
   {
    "duration": 35,
    "start_time": "2023-08-09T15:44:33.851Z"
   },
   {
    "duration": 14,
    "start_time": "2023-08-09T15:44:33.888Z"
   },
   {
    "duration": 29,
    "start_time": "2023-08-09T15:44:33.904Z"
   },
   {
    "duration": 35,
    "start_time": "2023-08-09T15:44:33.935Z"
   },
   {
    "duration": 36,
    "start_time": "2023-08-09T15:44:33.972Z"
   },
   {
    "duration": 5,
    "start_time": "2023-08-09T15:44:34.010Z"
   },
   {
    "duration": 37,
    "start_time": "2023-08-09T15:44:34.016Z"
   },
   {
    "duration": 35,
    "start_time": "2023-08-09T15:44:34.055Z"
   },
   {
    "duration": 23,
    "start_time": "2023-08-09T15:44:34.092Z"
   },
   {
    "duration": 51,
    "start_time": "2023-08-09T15:44:34.117Z"
   },
   {
    "duration": 66,
    "start_time": "2023-08-09T15:44:34.169Z"
   },
   {
    "duration": 58,
    "start_time": "2023-08-09T15:44:34.237Z"
   },
   {
    "duration": 33,
    "start_time": "2023-08-09T15:44:34.297Z"
   },
   {
    "duration": 40,
    "start_time": "2023-08-09T15:44:34.332Z"
   },
   {
    "duration": 32,
    "start_time": "2023-08-09T15:44:34.374Z"
   },
   {
    "duration": 288,
    "start_time": "2023-08-09T15:44:34.408Z"
   },
   {
    "duration": 170,
    "start_time": "2023-08-09T15:44:34.698Z"
   },
   {
    "duration": 8,
    "start_time": "2023-08-09T15:44:34.870Z"
   },
   {
    "duration": 159,
    "start_time": "2023-08-09T15:44:34.882Z"
   },
   {
    "duration": 17,
    "start_time": "2023-08-09T15:44:35.042Z"
   },
   {
    "duration": 60,
    "start_time": "2023-08-09T15:44:35.061Z"
   },
   {
    "duration": 129,
    "start_time": "2023-08-09T15:44:35.122Z"
   },
   {
    "duration": 691,
    "start_time": "2023-08-09T15:44:35.252Z"
   },
   {
    "duration": 12,
    "start_time": "2023-08-09T15:44:35.944Z"
   },
   {
    "duration": 95,
    "start_time": "2023-08-09T15:44:35.957Z"
   },
   {
    "duration": 0,
    "start_time": "2023-08-09T15:44:36.054Z"
   },
   {
    "duration": 0,
    "start_time": "2023-08-09T15:44:36.055Z"
   },
   {
    "duration": 0,
    "start_time": "2023-08-09T15:44:36.056Z"
   },
   {
    "duration": 0,
    "start_time": "2023-08-09T15:44:36.057Z"
   },
   {
    "duration": 0,
    "start_time": "2023-08-09T15:44:36.059Z"
   },
   {
    "duration": 0,
    "start_time": "2023-08-09T15:44:36.060Z"
   },
   {
    "duration": 0,
    "start_time": "2023-08-09T15:44:36.061Z"
   },
   {
    "duration": 0,
    "start_time": "2023-08-09T15:44:36.063Z"
   },
   {
    "duration": 1239,
    "start_time": "2023-08-09T15:45:21.451Z"
   },
   {
    "duration": 44,
    "start_time": "2023-08-09T15:45:22.692Z"
   },
   {
    "duration": 12,
    "start_time": "2023-08-09T15:45:22.740Z"
   },
   {
    "duration": 6,
    "start_time": "2023-08-09T15:45:22.754Z"
   },
   {
    "duration": 11,
    "start_time": "2023-08-09T15:45:22.762Z"
   },
   {
    "duration": 48,
    "start_time": "2023-08-09T15:45:22.774Z"
   },
   {
    "duration": 13,
    "start_time": "2023-08-09T15:45:22.824Z"
   },
   {
    "duration": 8,
    "start_time": "2023-08-09T15:45:22.839Z"
   },
   {
    "duration": 29,
    "start_time": "2023-08-09T15:45:22.850Z"
   },
   {
    "duration": 44,
    "start_time": "2023-08-09T15:45:22.881Z"
   },
   {
    "duration": 13,
    "start_time": "2023-08-09T15:45:22.927Z"
   },
   {
    "duration": 9,
    "start_time": "2023-08-09T15:45:22.941Z"
   },
   {
    "duration": 13,
    "start_time": "2023-08-09T15:45:22.952Z"
   },
   {
    "duration": 23,
    "start_time": "2023-08-09T15:45:22.967Z"
   },
   {
    "duration": 3,
    "start_time": "2023-08-09T15:45:22.992Z"
   },
   {
    "duration": 10,
    "start_time": "2023-08-09T15:45:22.997Z"
   },
   {
    "duration": 25,
    "start_time": "2023-08-09T15:45:23.008Z"
   },
   {
    "duration": 18,
    "start_time": "2023-08-09T15:45:23.035Z"
   },
   {
    "duration": 21,
    "start_time": "2023-08-09T15:45:23.056Z"
   },
   {
    "duration": 9,
    "start_time": "2023-08-09T15:45:23.079Z"
   },
   {
    "duration": 15,
    "start_time": "2023-08-09T15:45:23.090Z"
   },
   {
    "duration": 16,
    "start_time": "2023-08-09T15:45:23.107Z"
   },
   {
    "duration": 16,
    "start_time": "2023-08-09T15:45:23.125Z"
   },
   {
    "duration": 20,
    "start_time": "2023-08-09T15:45:23.143Z"
   },
   {
    "duration": 271,
    "start_time": "2023-08-09T15:45:23.166Z"
   },
   {
    "duration": 177,
    "start_time": "2023-08-09T15:45:23.439Z"
   },
   {
    "duration": 6,
    "start_time": "2023-08-09T15:45:23.619Z"
   },
   {
    "duration": 158,
    "start_time": "2023-08-09T15:45:23.627Z"
   },
   {
    "duration": 9,
    "start_time": "2023-08-09T15:45:23.787Z"
   },
   {
    "duration": 13,
    "start_time": "2023-08-09T15:45:23.798Z"
   },
   {
    "duration": 127,
    "start_time": "2023-08-09T15:45:23.813Z"
   },
   {
    "duration": 771,
    "start_time": "2023-08-09T15:45:23.941Z"
   },
   {
    "duration": 10,
    "start_time": "2023-08-09T15:45:24.713Z"
   },
   {
    "duration": 20,
    "start_time": "2023-08-09T15:45:24.724Z"
   },
   {
    "duration": 20,
    "start_time": "2023-08-09T15:45:24.746Z"
   },
   {
    "duration": 21,
    "start_time": "2023-08-09T15:45:24.768Z"
   },
   {
    "duration": 18,
    "start_time": "2023-08-09T15:45:24.791Z"
   },
   {
    "duration": 177,
    "start_time": "2023-08-09T15:45:24.811Z"
   },
   {
    "duration": 13,
    "start_time": "2023-08-09T15:45:24.990Z"
   },
   {
    "duration": 6,
    "start_time": "2023-08-09T15:45:25.005Z"
   },
   {
    "duration": 189,
    "start_time": "2023-08-09T15:45:25.013Z"
   },
   {
    "duration": 147,
    "start_time": "2023-08-09T15:45:57.200Z"
   },
   {
    "duration": 8,
    "start_time": "2023-08-09T15:47:00.251Z"
   },
   {
    "duration": 2,
    "start_time": "2023-08-09T15:47:11.036Z"
   },
   {
    "duration": 14,
    "start_time": "2023-08-09T15:47:42.236Z"
   },
   {
    "duration": 6,
    "start_time": "2023-08-09T15:48:17.127Z"
   },
   {
    "duration": 93,
    "start_time": "2023-08-09T15:48:37.812Z"
   },
   {
    "duration": 14,
    "start_time": "2023-08-09T15:48:55.383Z"
   },
   {
    "duration": 17,
    "start_time": "2023-08-09T15:49:25.124Z"
   },
   {
    "duration": 919,
    "start_time": "2023-08-09T15:50:33.564Z"
   },
   {
    "duration": 1203,
    "start_time": "2023-08-09T15:50:44.328Z"
   },
   {
    "duration": 72,
    "start_time": "2023-08-09T15:50:45.533Z"
   },
   {
    "duration": 16,
    "start_time": "2023-08-09T15:50:45.607Z"
   },
   {
    "duration": 17,
    "start_time": "2023-08-09T15:50:45.625Z"
   },
   {
    "duration": 12,
    "start_time": "2023-08-09T15:50:45.645Z"
   },
   {
    "duration": 51,
    "start_time": "2023-08-09T15:50:45.659Z"
   },
   {
    "duration": 12,
    "start_time": "2023-08-09T15:50:45.712Z"
   },
   {
    "duration": 13,
    "start_time": "2023-08-09T15:50:45.725Z"
   },
   {
    "duration": 37,
    "start_time": "2023-08-09T15:50:45.740Z"
   },
   {
    "duration": 21,
    "start_time": "2023-08-09T15:50:45.779Z"
   },
   {
    "duration": 15,
    "start_time": "2023-08-09T15:50:45.803Z"
   },
   {
    "duration": 23,
    "start_time": "2023-08-09T15:50:45.820Z"
   },
   {
    "duration": 45,
    "start_time": "2023-08-09T15:50:45.845Z"
   },
   {
    "duration": 39,
    "start_time": "2023-08-09T15:50:45.891Z"
   },
   {
    "duration": 39,
    "start_time": "2023-08-09T15:50:45.932Z"
   },
   {
    "duration": 29,
    "start_time": "2023-08-09T15:50:45.972Z"
   },
   {
    "duration": 28,
    "start_time": "2023-08-09T15:50:46.003Z"
   },
   {
    "duration": 26,
    "start_time": "2023-08-09T15:50:46.033Z"
   },
   {
    "duration": 31,
    "start_time": "2023-08-09T15:50:46.061Z"
   },
   {
    "duration": 9,
    "start_time": "2023-08-09T15:50:46.094Z"
   },
   {
    "duration": 16,
    "start_time": "2023-08-09T15:50:46.105Z"
   },
   {
    "duration": 22,
    "start_time": "2023-08-09T15:50:46.123Z"
   },
   {
    "duration": 18,
    "start_time": "2023-08-09T15:50:46.146Z"
   },
   {
    "duration": 18,
    "start_time": "2023-08-09T15:50:46.165Z"
   },
   {
    "duration": 270,
    "start_time": "2023-08-09T15:50:46.184Z"
   },
   {
    "duration": 157,
    "start_time": "2023-08-09T15:50:46.455Z"
   },
   {
    "duration": 6,
    "start_time": "2023-08-09T15:50:46.614Z"
   },
   {
    "duration": 160,
    "start_time": "2023-08-09T15:50:46.623Z"
   },
   {
    "duration": 11,
    "start_time": "2023-08-09T15:50:46.786Z"
   },
   {
    "duration": 42,
    "start_time": "2023-08-09T15:50:46.799Z"
   },
   {
    "duration": 185,
    "start_time": "2023-08-09T15:50:46.843Z"
   },
   {
    "duration": 699,
    "start_time": "2023-08-09T15:50:47.030Z"
   },
   {
    "duration": 8,
    "start_time": "2023-08-09T15:50:47.731Z"
   },
   {
    "duration": 18,
    "start_time": "2023-08-09T15:50:47.740Z"
   },
   {
    "duration": 4,
    "start_time": "2023-08-09T15:50:47.760Z"
   },
   {
    "duration": 15,
    "start_time": "2023-08-09T15:50:47.765Z"
   },
   {
    "duration": 1001,
    "start_time": "2023-08-09T15:50:47.782Z"
   },
   {
    "duration": 171,
    "start_time": "2023-08-09T15:50:48.785Z"
   },
   {
    "duration": 15,
    "start_time": "2023-08-09T15:50:48.958Z"
   },
   {
    "duration": 14,
    "start_time": "2023-08-09T15:50:48.975Z"
   },
   {
    "duration": 112,
    "start_time": "2023-08-09T15:50:48.991Z"
   },
   {
    "duration": 863,
    "start_time": "2023-08-09T15:51:52.524Z"
   },
   {
    "duration": 895,
    "start_time": "2023-08-09T15:52:29.768Z"
   },
   {
    "duration": 871,
    "start_time": "2023-08-09T15:52:51.437Z"
   },
   {
    "duration": 818,
    "start_time": "2023-08-09T15:53:08.256Z"
   },
   {
    "duration": 826,
    "start_time": "2023-08-09T15:54:08.104Z"
   },
   {
    "duration": 81,
    "start_time": "2023-08-09T15:54:40.962Z"
   },
   {
    "duration": 1038,
    "start_time": "2023-08-09T15:54:52.581Z"
   },
   {
    "duration": 832,
    "start_time": "2023-08-09T15:55:22.569Z"
   },
   {
    "duration": 1109,
    "start_time": "2023-08-09T16:08:31.945Z"
   },
   {
    "duration": 12,
    "start_time": "2023-08-09T16:08:51.840Z"
   },
   {
    "duration": 10,
    "start_time": "2023-08-09T16:09:22.241Z"
   },
   {
    "duration": 5,
    "start_time": "2023-08-09T16:09:29.762Z"
   },
   {
    "duration": 9,
    "start_time": "2023-08-09T16:09:51.428Z"
   },
   {
    "duration": 9,
    "start_time": "2023-08-09T16:10:06.236Z"
   },
   {
    "duration": 13,
    "start_time": "2023-08-09T16:11:04.553Z"
   },
   {
    "duration": 1224,
    "start_time": "2023-08-09T16:11:11.946Z"
   },
   {
    "duration": 1104,
    "start_time": "2023-08-09T16:11:28.173Z"
   },
   {
    "duration": 84,
    "start_time": "2023-08-09T16:12:05.916Z"
   },
   {
    "duration": 18,
    "start_time": "2023-08-09T16:12:09.556Z"
   },
   {
    "duration": 10,
    "start_time": "2023-08-09T16:12:17.709Z"
   },
   {
    "duration": 14,
    "start_time": "2023-08-09T16:12:32.704Z"
   },
   {
    "duration": 10,
    "start_time": "2023-08-09T16:12:36.880Z"
   },
   {
    "duration": 79,
    "start_time": "2023-08-09T16:12:58.471Z"
   },
   {
    "duration": 11,
    "start_time": "2023-08-09T16:13:01.838Z"
   },
   {
    "duration": 11,
    "start_time": "2023-08-09T16:13:24.509Z"
   },
   {
    "duration": 1172,
    "start_time": "2023-08-09T16:13:33.151Z"
   },
   {
    "duration": 41,
    "start_time": "2023-08-09T16:13:34.325Z"
   },
   {
    "duration": 11,
    "start_time": "2023-08-09T16:13:34.368Z"
   },
   {
    "duration": 15,
    "start_time": "2023-08-09T16:13:34.381Z"
   },
   {
    "duration": 12,
    "start_time": "2023-08-09T16:13:34.397Z"
   },
   {
    "duration": 36,
    "start_time": "2023-08-09T16:13:34.410Z"
   },
   {
    "duration": 11,
    "start_time": "2023-08-09T16:13:34.447Z"
   },
   {
    "duration": 84,
    "start_time": "2023-08-09T16:13:34.459Z"
   },
   {
    "duration": 54,
    "start_time": "2023-08-09T16:13:34.545Z"
   },
   {
    "duration": 76,
    "start_time": "2023-08-09T16:13:34.601Z"
   },
   {
    "duration": 65,
    "start_time": "2023-08-09T16:13:34.678Z"
   },
   {
    "duration": 52,
    "start_time": "2023-08-09T16:13:34.745Z"
   },
   {
    "duration": 17,
    "start_time": "2023-08-09T16:13:34.799Z"
   },
   {
    "duration": 17,
    "start_time": "2023-08-09T16:13:34.817Z"
   },
   {
    "duration": 2,
    "start_time": "2023-08-09T16:13:34.835Z"
   },
   {
    "duration": 7,
    "start_time": "2023-08-09T16:13:34.839Z"
   },
   {
    "duration": 8,
    "start_time": "2023-08-09T16:13:34.847Z"
   },
   {
    "duration": 10,
    "start_time": "2023-08-09T16:13:34.856Z"
   },
   {
    "duration": 17,
    "start_time": "2023-08-09T16:13:34.868Z"
   },
   {
    "duration": 22,
    "start_time": "2023-08-09T16:13:34.887Z"
   },
   {
    "duration": 13,
    "start_time": "2023-08-09T16:13:34.911Z"
   },
   {
    "duration": 17,
    "start_time": "2023-08-09T16:13:34.926Z"
   },
   {
    "duration": 17,
    "start_time": "2023-08-09T16:13:34.944Z"
   },
   {
    "duration": 10,
    "start_time": "2023-08-09T16:13:34.962Z"
   },
   {
    "duration": 256,
    "start_time": "2023-08-09T16:13:34.974Z"
   },
   {
    "duration": 140,
    "start_time": "2023-08-09T16:13:35.232Z"
   },
   {
    "duration": 6,
    "start_time": "2023-08-09T16:13:35.374Z"
   },
   {
    "duration": 156,
    "start_time": "2023-08-09T16:13:35.383Z"
   },
   {
    "duration": 119,
    "start_time": "2023-08-09T16:13:35.541Z"
   },
   {
    "duration": 0,
    "start_time": "2023-08-09T16:13:35.662Z"
   },
   {
    "duration": 0,
    "start_time": "2023-08-09T16:13:35.664Z"
   },
   {
    "duration": 0,
    "start_time": "2023-08-09T16:13:35.665Z"
   },
   {
    "duration": 0,
    "start_time": "2023-08-09T16:13:35.666Z"
   },
   {
    "duration": 0,
    "start_time": "2023-08-09T16:13:35.667Z"
   },
   {
    "duration": 0,
    "start_time": "2023-08-09T16:13:35.669Z"
   },
   {
    "duration": 0,
    "start_time": "2023-08-09T16:13:35.670Z"
   },
   {
    "duration": 0,
    "start_time": "2023-08-09T16:13:35.672Z"
   },
   {
    "duration": 0,
    "start_time": "2023-08-09T16:13:35.673Z"
   },
   {
    "duration": 0,
    "start_time": "2023-08-09T16:13:35.675Z"
   },
   {
    "duration": 0,
    "start_time": "2023-08-09T16:13:35.676Z"
   },
   {
    "duration": 0,
    "start_time": "2023-08-09T16:13:35.677Z"
   },
   {
    "duration": 0,
    "start_time": "2023-08-09T16:13:35.679Z"
   },
   {
    "duration": 12,
    "start_time": "2023-08-09T16:16:48.505Z"
   },
   {
    "duration": 16,
    "start_time": "2023-08-09T16:17:03.968Z"
   },
   {
    "duration": 16,
    "start_time": "2023-08-09T16:17:18.399Z"
   },
   {
    "duration": 104,
    "start_time": "2023-08-09T16:17:28.957Z"
   },
   {
    "duration": 4,
    "start_time": "2023-08-09T16:17:32.308Z"
   },
   {
    "duration": 17,
    "start_time": "2023-08-09T16:17:42.347Z"
   },
   {
    "duration": 102,
    "start_time": "2023-08-09T16:18:17.208Z"
   },
   {
    "duration": 91,
    "start_time": "2023-08-09T16:18:33.950Z"
   },
   {
    "duration": 253,
    "start_time": "2023-08-09T16:18:44.475Z"
   },
   {
    "duration": 78,
    "start_time": "2023-08-09T16:21:03.270Z"
   },
   {
    "duration": 10,
    "start_time": "2023-08-09T16:21:08.997Z"
   },
   {
    "duration": 13,
    "start_time": "2023-08-09T16:21:33.054Z"
   },
   {
    "duration": 97,
    "start_time": "2023-08-09T16:21:38.125Z"
   },
   {
    "duration": 104,
    "start_time": "2023-08-09T16:21:43.007Z"
   },
   {
    "duration": 18,
    "start_time": "2023-08-09T16:21:50.003Z"
   },
   {
    "duration": 7,
    "start_time": "2023-08-09T16:29:47.103Z"
   },
   {
    "duration": 120,
    "start_time": "2023-08-09T16:30:11.914Z"
   },
   {
    "duration": 89,
    "start_time": "2023-08-09T16:30:17.929Z"
   },
   {
    "duration": 94,
    "start_time": "2023-08-09T16:30:21.650Z"
   },
   {
    "duration": 9,
    "start_time": "2023-08-09T16:30:30.205Z"
   },
   {
    "duration": 4,
    "start_time": "2023-08-09T16:30:57.322Z"
   },
   {
    "duration": 5,
    "start_time": "2023-08-09T16:31:01.494Z"
   },
   {
    "duration": 7,
    "start_time": "2023-08-09T16:31:30.860Z"
   },
   {
    "duration": 11,
    "start_time": "2023-08-09T16:32:33.897Z"
   },
   {
    "duration": 13,
    "start_time": "2023-08-09T16:32:56.412Z"
   },
   {
    "duration": 11,
    "start_time": "2023-08-09T16:33:18.529Z"
   },
   {
    "duration": 6,
    "start_time": "2023-08-09T16:35:07.261Z"
   },
   {
    "duration": 1200,
    "start_time": "2023-08-09T16:35:52.398Z"
   },
   {
    "duration": 42,
    "start_time": "2023-08-09T16:35:53.600Z"
   },
   {
    "duration": 15,
    "start_time": "2023-08-09T16:35:53.644Z"
   },
   {
    "duration": 29,
    "start_time": "2023-08-09T16:35:53.662Z"
   },
   {
    "duration": 38,
    "start_time": "2023-08-09T16:35:53.693Z"
   },
   {
    "duration": 109,
    "start_time": "2023-08-09T16:35:53.734Z"
   },
   {
    "duration": 12,
    "start_time": "2023-08-09T16:35:53.844Z"
   },
   {
    "duration": 9,
    "start_time": "2023-08-09T16:35:53.858Z"
   },
   {
    "duration": 42,
    "start_time": "2023-08-09T16:35:53.868Z"
   },
   {
    "duration": 22,
    "start_time": "2023-08-09T16:35:53.913Z"
   },
   {
    "duration": 14,
    "start_time": "2023-08-09T16:35:53.937Z"
   },
   {
    "duration": 33,
    "start_time": "2023-08-09T16:35:53.953Z"
   },
   {
    "duration": 25,
    "start_time": "2023-08-09T16:35:53.987Z"
   },
   {
    "duration": 21,
    "start_time": "2023-08-09T16:35:54.014Z"
   },
   {
    "duration": 20,
    "start_time": "2023-08-09T16:35:54.037Z"
   },
   {
    "duration": 34,
    "start_time": "2023-08-09T16:35:54.059Z"
   },
   {
    "duration": 37,
    "start_time": "2023-08-09T16:35:54.095Z"
   },
   {
    "duration": 23,
    "start_time": "2023-08-09T16:35:54.134Z"
   },
   {
    "duration": 48,
    "start_time": "2023-08-09T16:35:54.159Z"
   },
   {
    "duration": 8,
    "start_time": "2023-08-09T16:35:54.209Z"
   },
   {
    "duration": 7,
    "start_time": "2023-08-09T16:35:54.219Z"
   },
   {
    "duration": 8,
    "start_time": "2023-08-09T16:35:54.228Z"
   },
   {
    "duration": 32,
    "start_time": "2023-08-09T16:35:54.237Z"
   },
   {
    "duration": 25,
    "start_time": "2023-08-09T16:35:54.272Z"
   },
   {
    "duration": 269,
    "start_time": "2023-08-09T16:35:54.299Z"
   },
   {
    "duration": 173,
    "start_time": "2023-08-09T16:35:54.570Z"
   },
   {
    "duration": 12,
    "start_time": "2023-08-09T16:35:54.745Z"
   },
   {
    "duration": 147,
    "start_time": "2023-08-09T16:35:54.761Z"
   },
   {
    "duration": 12,
    "start_time": "2023-08-09T16:35:54.910Z"
   },
   {
    "duration": 32,
    "start_time": "2023-08-09T16:35:54.923Z"
   },
   {
    "duration": 9,
    "start_time": "2023-08-09T16:35:54.957Z"
   },
   {
    "duration": 132,
    "start_time": "2023-08-09T16:35:54.968Z"
   },
   {
    "duration": 737,
    "start_time": "2023-08-09T16:35:55.101Z"
   },
   {
    "duration": 17,
    "start_time": "2023-08-09T16:35:55.840Z"
   },
   {
    "duration": 9,
    "start_time": "2023-08-09T16:35:55.859Z"
   },
   {
    "duration": 2,
    "start_time": "2023-08-09T16:35:55.870Z"
   },
   {
    "duration": 14,
    "start_time": "2023-08-09T16:35:55.874Z"
   },
   {
    "duration": 191,
    "start_time": "2023-08-09T16:35:55.890Z"
   },
   {
    "duration": 1022,
    "start_time": "2023-08-09T16:35:56.083Z"
   },
   {
    "duration": 909,
    "start_time": "2023-08-09T16:35:57.107Z"
   },
   {
    "duration": 6,
    "start_time": "2023-08-09T16:35:58.018Z"
   },
   {
    "duration": 103,
    "start_time": "2023-08-09T16:35:58.026Z"
   },
   {
    "duration": 12,
    "start_time": "2023-08-09T16:37:54.631Z"
   },
   {
    "duration": 11,
    "start_time": "2023-08-09T16:38:09.265Z"
   },
   {
    "duration": 11,
    "start_time": "2023-08-09T16:38:43.751Z"
   },
   {
    "duration": 12,
    "start_time": "2023-08-09T16:39:02.375Z"
   },
   {
    "duration": 12,
    "start_time": "2023-08-09T16:39:22.131Z"
   },
   {
    "duration": 11,
    "start_time": "2023-08-09T16:39:30.789Z"
   },
   {
    "duration": 11,
    "start_time": "2023-08-09T16:45:35.450Z"
   },
   {
    "duration": 2263,
    "start_time": "2023-08-09T17:10:04.022Z"
   },
   {
    "duration": 119,
    "start_time": "2023-08-09T17:12:13.975Z"
   },
   {
    "duration": 19,
    "start_time": "2023-08-09T17:12:20.239Z"
   },
   {
    "duration": 21,
    "start_time": "2023-08-09T17:12:36.548Z"
   },
   {
    "duration": 10,
    "start_time": "2023-08-09T17:13:15.301Z"
   },
   {
    "duration": 65,
    "start_time": "2023-08-09T17:15:51.567Z"
   },
   {
    "duration": 13,
    "start_time": "2023-08-09T17:16:03.379Z"
   },
   {
    "duration": 974,
    "start_time": "2023-08-09T17:16:42.914Z"
   },
   {
    "duration": 1186,
    "start_time": "2023-08-09T17:17:30.703Z"
   },
   {
    "duration": 82,
    "start_time": "2023-08-09T17:17:57.410Z"
   },
   {
    "duration": 10,
    "start_time": "2023-08-09T17:18:05.678Z"
   },
   {
    "duration": 11,
    "start_time": "2023-08-09T17:19:19.659Z"
   },
   {
    "duration": 2558,
    "start_time": "2023-08-09T17:19:52.228Z"
   },
   {
    "duration": 189,
    "start_time": "2023-08-09T17:20:03.631Z"
   },
   {
    "duration": 7,
    "start_time": "2023-08-09T17:21:38.406Z"
   },
   {
    "duration": 217,
    "start_time": "2023-08-09T17:22:24.135Z"
   },
   {
    "duration": 207,
    "start_time": "2023-08-09T17:23:02.007Z"
   },
   {
    "duration": 1719,
    "start_time": "2023-08-09T17:24:22.788Z"
   },
   {
    "duration": 13,
    "start_time": "2023-08-09T17:25:04.119Z"
   },
   {
    "duration": 2349,
    "start_time": "2023-08-09T17:25:31.943Z"
   },
   {
    "duration": 1691,
    "start_time": "2023-08-09T17:26:06.820Z"
   },
   {
    "duration": 348,
    "start_time": "2023-08-09T17:26:25.984Z"
   },
   {
    "duration": 15,
    "start_time": "2023-08-09T17:31:41.184Z"
   },
   {
    "duration": 1145,
    "start_time": "2023-08-09T17:31:56.760Z"
   },
   {
    "duration": 51,
    "start_time": "2023-08-09T17:31:57.907Z"
   },
   {
    "duration": 21,
    "start_time": "2023-08-09T17:31:57.960Z"
   },
   {
    "duration": 19,
    "start_time": "2023-08-09T17:31:57.983Z"
   },
   {
    "duration": 8,
    "start_time": "2023-08-09T17:31:58.003Z"
   },
   {
    "duration": 54,
    "start_time": "2023-08-09T17:31:58.013Z"
   },
   {
    "duration": 13,
    "start_time": "2023-08-09T17:31:58.070Z"
   },
   {
    "duration": 7,
    "start_time": "2023-08-09T17:31:58.085Z"
   },
   {
    "duration": 22,
    "start_time": "2023-08-09T17:31:58.093Z"
   },
   {
    "duration": 19,
    "start_time": "2023-08-09T17:31:58.118Z"
   },
   {
    "duration": 10,
    "start_time": "2023-08-09T17:31:58.139Z"
   },
   {
    "duration": 33,
    "start_time": "2023-08-09T17:31:58.151Z"
   },
   {
    "duration": 24,
    "start_time": "2023-08-09T17:31:58.186Z"
   },
   {
    "duration": 15,
    "start_time": "2023-08-09T17:31:58.212Z"
   },
   {
    "duration": 2,
    "start_time": "2023-08-09T17:31:58.229Z"
   },
   {
    "duration": 8,
    "start_time": "2023-08-09T17:31:58.233Z"
   },
   {
    "duration": 23,
    "start_time": "2023-08-09T17:31:58.243Z"
   },
   {
    "duration": 21,
    "start_time": "2023-08-09T17:31:58.268Z"
   },
   {
    "duration": 16,
    "start_time": "2023-08-09T17:31:58.290Z"
   },
   {
    "duration": 7,
    "start_time": "2023-08-09T17:31:58.308Z"
   },
   {
    "duration": 6,
    "start_time": "2023-08-09T17:31:58.316Z"
   },
   {
    "duration": 9,
    "start_time": "2023-08-09T17:31:58.323Z"
   },
   {
    "duration": 9,
    "start_time": "2023-08-09T17:31:58.334Z"
   },
   {
    "duration": 20,
    "start_time": "2023-08-09T17:31:58.344Z"
   },
   {
    "duration": 270,
    "start_time": "2023-08-09T17:31:58.368Z"
   },
   {
    "duration": 174,
    "start_time": "2023-08-09T17:31:58.640Z"
   },
   {
    "duration": 6,
    "start_time": "2023-08-09T17:31:58.815Z"
   },
   {
    "duration": 161,
    "start_time": "2023-08-09T17:31:58.824Z"
   },
   {
    "duration": 10,
    "start_time": "2023-08-09T17:31:58.987Z"
   },
   {
    "duration": 17,
    "start_time": "2023-08-09T17:31:58.998Z"
   },
   {
    "duration": 169,
    "start_time": "2023-08-09T17:31:59.017Z"
   },
   {
    "duration": 728,
    "start_time": "2023-08-09T17:31:59.187Z"
   },
   {
    "duration": 7,
    "start_time": "2023-08-09T17:31:59.917Z"
   },
   {
    "duration": 9,
    "start_time": "2023-08-09T17:31:59.926Z"
   },
   {
    "duration": 22,
    "start_time": "2023-08-09T17:31:59.936Z"
   },
   {
    "duration": 31,
    "start_time": "2023-08-09T17:31:59.959Z"
   },
   {
    "duration": 152,
    "start_time": "2023-08-09T17:31:59.992Z"
   },
   {
    "duration": 966,
    "start_time": "2023-08-09T17:32:00.146Z"
   },
   {
    "duration": 895,
    "start_time": "2023-08-09T17:32:01.114Z"
   },
   {
    "duration": 5,
    "start_time": "2023-08-09T17:32:02.011Z"
   },
   {
    "duration": 127,
    "start_time": "2023-08-09T17:32:02.018Z"
   },
   {
    "duration": 166,
    "start_time": "2023-08-09T17:32:02.147Z"
   },
   {
    "duration": 0,
    "start_time": "2023-08-09T17:32:02.315Z"
   },
   {
    "duration": 0,
    "start_time": "2023-08-09T17:32:02.316Z"
   },
   {
    "duration": 1709,
    "start_time": "2023-08-09T17:35:33.109Z"
   },
   {
    "duration": 1703,
    "start_time": "2023-08-09T17:37:39.294Z"
   },
   {
    "duration": 14,
    "start_time": "2023-08-09T17:38:24.982Z"
   },
   {
    "duration": 15,
    "start_time": "2023-08-09T17:39:06.977Z"
   },
   {
    "duration": 12,
    "start_time": "2023-08-09T17:39:13.830Z"
   },
   {
    "duration": 1704,
    "start_time": "2023-08-09T17:39:22.902Z"
   },
   {
    "duration": 1911,
    "start_time": "2023-08-09T17:40:00.473Z"
   },
   {
    "duration": 1692,
    "start_time": "2023-08-09T17:40:33.452Z"
   },
   {
    "duration": 1643,
    "start_time": "2023-08-09T17:40:56.574Z"
   },
   {
    "duration": 32,
    "start_time": "2023-08-09T17:41:16.009Z"
   },
   {
    "duration": 34,
    "start_time": "2023-08-09T17:41:46.851Z"
   },
   {
    "duration": 22,
    "start_time": "2023-08-09T17:42:12.613Z"
   },
   {
    "duration": 28,
    "start_time": "2023-08-09T17:42:27.279Z"
   },
   {
    "duration": 4,
    "start_time": "2023-08-09T17:43:23.919Z"
   },
   {
    "duration": 4,
    "start_time": "2023-08-09T17:43:35.488Z"
   },
   {
    "duration": 94,
    "start_time": "2023-08-09T17:44:01.237Z"
   },
   {
    "duration": 144,
    "start_time": "2023-08-09T17:44:15.706Z"
   },
   {
    "duration": 21,
    "start_time": "2023-08-09T17:46:41.370Z"
   },
   {
    "duration": 13,
    "start_time": "2023-08-09T17:46:49.114Z"
   },
   {
    "duration": 212,
    "start_time": "2023-08-09T17:47:18.767Z"
   },
   {
    "duration": 12,
    "start_time": "2023-08-09T17:48:01.274Z"
   },
   {
    "duration": 252,
    "start_time": "2023-08-09T17:48:08.232Z"
   },
   {
    "duration": 4,
    "start_time": "2023-08-09T17:48:25.620Z"
   },
   {
    "duration": 17,
    "start_time": "2023-08-09T17:48:34.473Z"
   },
   {
    "duration": 128,
    "start_time": "2023-08-09T17:48:47.655Z"
   },
   {
    "duration": 22,
    "start_time": "2023-08-09T17:48:51.599Z"
   },
   {
    "duration": 18,
    "start_time": "2023-08-09T17:49:03.480Z"
   },
   {
    "duration": 315,
    "start_time": "2023-08-09T17:49:33.148Z"
   },
   {
    "duration": 187,
    "start_time": "2023-08-09T17:49:51.135Z"
   },
   {
    "duration": 117,
    "start_time": "2023-08-09T17:50:53.876Z"
   },
   {
    "duration": 103,
    "start_time": "2023-08-09T17:51:04.001Z"
   },
   {
    "duration": 1665,
    "start_time": "2023-08-09T17:51:07.880Z"
   },
   {
    "duration": 4,
    "start_time": "2023-08-09T17:52:03.983Z"
   },
   {
    "duration": 18,
    "start_time": "2023-08-09T17:52:09.029Z"
   },
   {
    "duration": 7,
    "start_time": "2023-08-09T17:53:19.309Z"
   },
   {
    "duration": 8,
    "start_time": "2023-08-09T17:53:33.548Z"
   },
   {
    "duration": 1191,
    "start_time": "2023-08-09T17:53:53.517Z"
   },
   {
    "duration": 18,
    "start_time": "2023-08-09T17:54:13.925Z"
   },
   {
    "duration": 14,
    "start_time": "2023-08-09T17:54:23.397Z"
   },
   {
    "duration": 5,
    "start_time": "2023-08-09T17:54:31.201Z"
   },
   {
    "duration": 8,
    "start_time": "2023-08-09T17:54:34.371Z"
   },
   {
    "duration": 6,
    "start_time": "2023-08-09T17:54:39.821Z"
   },
   {
    "duration": 19,
    "start_time": "2023-08-09T17:55:43.590Z"
   },
   {
    "duration": 17,
    "start_time": "2023-08-09T17:58:46.705Z"
   },
   {
    "duration": 19,
    "start_time": "2023-08-09T17:58:57.377Z"
   },
   {
    "duration": 18,
    "start_time": "2023-08-09T17:59:20.397Z"
   },
   {
    "duration": 1245,
    "start_time": "2023-08-09T17:59:42.184Z"
   },
   {
    "duration": 69,
    "start_time": "2023-08-09T17:59:43.431Z"
   },
   {
    "duration": 12,
    "start_time": "2023-08-09T17:59:43.501Z"
   },
   {
    "duration": 14,
    "start_time": "2023-08-09T17:59:43.516Z"
   },
   {
    "duration": 71,
    "start_time": "2023-08-09T17:59:43.532Z"
   },
   {
    "duration": 45,
    "start_time": "2023-08-09T17:59:43.605Z"
   },
   {
    "duration": 24,
    "start_time": "2023-08-09T17:59:43.652Z"
   },
   {
    "duration": 20,
    "start_time": "2023-08-09T17:59:43.680Z"
   },
   {
    "duration": 34,
    "start_time": "2023-08-09T17:59:43.703Z"
   },
   {
    "duration": 61,
    "start_time": "2023-08-09T17:59:43.741Z"
   },
   {
    "duration": 10,
    "start_time": "2023-08-09T17:59:43.804Z"
   },
   {
    "duration": 14,
    "start_time": "2023-08-09T17:59:43.816Z"
   },
   {
    "duration": 14,
    "start_time": "2023-08-09T17:59:43.831Z"
   },
   {
    "duration": 52,
    "start_time": "2023-08-09T17:59:43.846Z"
   },
   {
    "duration": 3,
    "start_time": "2023-08-09T17:59:43.899Z"
   },
   {
    "duration": 20,
    "start_time": "2023-08-09T17:59:43.903Z"
   },
   {
    "duration": 7,
    "start_time": "2023-08-09T17:59:43.925Z"
   },
   {
    "duration": 10,
    "start_time": "2023-08-09T17:59:43.933Z"
   },
   {
    "duration": 27,
    "start_time": "2023-08-09T17:59:43.945Z"
   },
   {
    "duration": 32,
    "start_time": "2023-08-09T17:59:43.973Z"
   },
   {
    "duration": 10,
    "start_time": "2023-08-09T17:59:44.006Z"
   },
   {
    "duration": 18,
    "start_time": "2023-08-09T17:59:44.018Z"
   },
   {
    "duration": 13,
    "start_time": "2023-08-09T17:59:44.037Z"
   },
   {
    "duration": 52,
    "start_time": "2023-08-09T17:59:44.052Z"
   },
   {
    "duration": 322,
    "start_time": "2023-08-09T17:59:44.106Z"
   },
   {
    "duration": 181,
    "start_time": "2023-08-09T17:59:44.430Z"
   },
   {
    "duration": 6,
    "start_time": "2023-08-09T17:59:44.613Z"
   },
   {
    "duration": 162,
    "start_time": "2023-08-09T17:59:44.624Z"
   },
   {
    "duration": 9,
    "start_time": "2023-08-09T17:59:44.788Z"
   },
   {
    "duration": 14,
    "start_time": "2023-08-09T17:59:44.799Z"
   },
   {
    "duration": 135,
    "start_time": "2023-08-09T17:59:44.815Z"
   },
   {
    "duration": 750,
    "start_time": "2023-08-09T17:59:44.952Z"
   },
   {
    "duration": 10,
    "start_time": "2023-08-09T17:59:45.705Z"
   },
   {
    "duration": 30,
    "start_time": "2023-08-09T17:59:45.717Z"
   },
   {
    "duration": 38,
    "start_time": "2023-08-09T17:59:45.749Z"
   },
   {
    "duration": 32,
    "start_time": "2023-08-09T17:59:45.789Z"
   },
   {
    "duration": 188,
    "start_time": "2023-08-09T17:59:45.823Z"
   },
   {
    "duration": 1009,
    "start_time": "2023-08-09T17:59:46.012Z"
   },
   {
    "duration": 982,
    "start_time": "2023-08-09T17:59:47.022Z"
   },
   {
    "duration": 6,
    "start_time": "2023-08-09T17:59:48.006Z"
   },
   {
    "duration": 104,
    "start_time": "2023-08-09T17:59:48.013Z"
   },
   {
    "duration": 127,
    "start_time": "2023-08-09T17:59:48.119Z"
   },
   {
    "duration": 34,
    "start_time": "2023-08-09T18:00:10.660Z"
   },
   {
    "duration": 16,
    "start_time": "2023-08-09T18:02:15.629Z"
   },
   {
    "duration": 20,
    "start_time": "2023-08-09T18:02:25.873Z"
   },
   {
    "duration": 16,
    "start_time": "2023-08-09T18:03:51.397Z"
   },
   {
    "duration": 16,
    "start_time": "2023-08-09T18:04:13.598Z"
   },
   {
    "duration": 1221,
    "start_time": "2023-08-09T18:05:52.002Z"
   },
   {
    "duration": 60,
    "start_time": "2023-08-09T18:05:53.224Z"
   },
   {
    "duration": 14,
    "start_time": "2023-08-09T18:05:53.286Z"
   },
   {
    "duration": 7,
    "start_time": "2023-08-09T18:05:53.301Z"
   },
   {
    "duration": 4,
    "start_time": "2023-08-09T18:05:53.311Z"
   },
   {
    "duration": 43,
    "start_time": "2023-08-09T18:05:53.317Z"
   },
   {
    "duration": 17,
    "start_time": "2023-08-09T18:05:53.363Z"
   },
   {
    "duration": 8,
    "start_time": "2023-08-09T18:05:53.384Z"
   },
   {
    "duration": 31,
    "start_time": "2023-08-09T18:05:53.393Z"
   },
   {
    "duration": 19,
    "start_time": "2023-08-09T18:05:53.426Z"
   },
   {
    "duration": 23,
    "start_time": "2023-08-09T18:05:53.447Z"
   },
   {
    "duration": 22,
    "start_time": "2023-08-09T18:05:53.475Z"
   },
   {
    "duration": 11,
    "start_time": "2023-08-09T18:05:53.498Z"
   },
   {
    "duration": 16,
    "start_time": "2023-08-09T18:05:53.513Z"
   },
   {
    "duration": 2,
    "start_time": "2023-08-09T18:05:53.531Z"
   },
   {
    "duration": 12,
    "start_time": "2023-08-09T18:05:53.535Z"
   },
   {
    "duration": 36,
    "start_time": "2023-08-09T18:05:53.549Z"
   },
   {
    "duration": 9,
    "start_time": "2023-08-09T18:05:53.587Z"
   },
   {
    "duration": 22,
    "start_time": "2023-08-09T18:05:53.598Z"
   },
   {
    "duration": 8,
    "start_time": "2023-08-09T18:05:53.622Z"
   },
   {
    "duration": 8,
    "start_time": "2023-08-09T18:05:53.632Z"
   },
   {
    "duration": 19,
    "start_time": "2023-08-09T18:05:53.642Z"
   },
   {
    "duration": 30,
    "start_time": "2023-08-09T18:05:53.662Z"
   },
   {
    "duration": 12,
    "start_time": "2023-08-09T18:05:53.693Z"
   },
   {
    "duration": 272,
    "start_time": "2023-08-09T18:05:53.706Z"
   },
   {
    "duration": 155,
    "start_time": "2023-08-09T18:05:53.980Z"
   },
   {
    "duration": 6,
    "start_time": "2023-08-09T18:05:54.136Z"
   },
   {
    "duration": 169,
    "start_time": "2023-08-09T18:05:54.156Z"
   },
   {
    "duration": 9,
    "start_time": "2023-08-09T18:05:54.327Z"
   },
   {
    "duration": 22,
    "start_time": "2023-08-09T18:05:54.338Z"
   },
   {
    "duration": 121,
    "start_time": "2023-08-09T18:05:54.363Z"
   },
   {
    "duration": 716,
    "start_time": "2023-08-09T18:05:54.486Z"
   },
   {
    "duration": 8,
    "start_time": "2023-08-09T18:05:55.204Z"
   },
   {
    "duration": 9,
    "start_time": "2023-08-09T18:05:55.214Z"
   },
   {
    "duration": 6,
    "start_time": "2023-08-09T18:05:55.225Z"
   },
   {
    "duration": 44,
    "start_time": "2023-08-09T18:05:55.232Z"
   },
   {
    "duration": 157,
    "start_time": "2023-08-09T18:05:55.278Z"
   },
   {
    "duration": 958,
    "start_time": "2023-08-09T18:05:55.436Z"
   },
   {
    "duration": 849,
    "start_time": "2023-08-09T18:05:56.396Z"
   },
   {
    "duration": 7,
    "start_time": "2023-08-09T18:05:57.247Z"
   },
   {
    "duration": 116,
    "start_time": "2023-08-09T18:05:57.260Z"
   },
   {
    "duration": 125,
    "start_time": "2023-08-09T18:07:10.815Z"
   },
   {
    "duration": 19,
    "start_time": "2023-08-09T18:07:19.130Z"
   },
   {
    "duration": 12,
    "start_time": "2023-08-09T18:07:39.902Z"
   },
   {
    "duration": 17,
    "start_time": "2023-08-09T18:08:20.610Z"
   },
   {
    "duration": 14,
    "start_time": "2023-08-09T18:11:00.066Z"
   },
   {
    "duration": 100,
    "start_time": "2023-08-09T18:11:14.927Z"
   },
   {
    "duration": 105,
    "start_time": "2023-08-09T18:11:17.988Z"
   },
   {
    "duration": 10,
    "start_time": "2023-08-09T18:11:21.216Z"
   },
   {
    "duration": 15,
    "start_time": "2023-08-09T18:11:34.467Z"
   },
   {
    "duration": 11,
    "start_time": "2023-08-09T18:11:49.907Z"
   },
   {
    "duration": 8,
    "start_time": "2023-08-09T18:12:00.927Z"
   },
   {
    "duration": 128,
    "start_time": "2023-08-09T18:13:04.752Z"
   },
   {
    "duration": 121,
    "start_time": "2023-08-09T18:13:08.308Z"
   },
   {
    "duration": 1688,
    "start_time": "2023-08-09T18:13:11.906Z"
   },
   {
    "duration": 5,
    "start_time": "2023-08-09T18:13:20.975Z"
   },
   {
    "duration": 5,
    "start_time": "2023-08-09T18:13:29.802Z"
   },
   {
    "duration": 112,
    "start_time": "2023-08-09T18:14:18.779Z"
   },
   {
    "duration": 104,
    "start_time": "2023-08-09T18:14:26.706Z"
   },
   {
    "duration": 30,
    "start_time": "2023-08-09T18:14:34.155Z"
   },
   {
    "duration": 8,
    "start_time": "2023-08-09T18:16:07.996Z"
   },
   {
    "duration": 3,
    "start_time": "2023-08-09T18:16:44.608Z"
   },
   {
    "duration": 3,
    "start_time": "2023-08-09T18:17:21.346Z"
   },
   {
    "duration": 13,
    "start_time": "2023-08-09T18:17:28.388Z"
   },
   {
    "duration": 131,
    "start_time": "2023-08-09T18:27:40.911Z"
   },
   {
    "duration": 112,
    "start_time": "2023-08-09T18:27:49.390Z"
   },
   {
    "duration": 1791,
    "start_time": "2023-08-09T18:27:52.734Z"
   },
   {
    "duration": 37,
    "start_time": "2023-08-09T18:28:02.255Z"
   },
   {
    "duration": 1147,
    "start_time": "2023-08-09T18:28:17.031Z"
   },
   {
    "duration": 43,
    "start_time": "2023-08-09T18:28:18.186Z"
   },
   {
    "duration": 11,
    "start_time": "2023-08-09T18:28:18.231Z"
   },
   {
    "duration": 48,
    "start_time": "2023-08-09T18:28:18.244Z"
   },
   {
    "duration": 10,
    "start_time": "2023-08-09T18:28:18.293Z"
   },
   {
    "duration": 43,
    "start_time": "2023-08-09T18:28:18.305Z"
   },
   {
    "duration": 11,
    "start_time": "2023-08-09T18:28:18.350Z"
   },
   {
    "duration": 44,
    "start_time": "2023-08-09T18:28:18.363Z"
   },
   {
    "duration": 35,
    "start_time": "2023-08-09T18:28:18.409Z"
   },
   {
    "duration": 38,
    "start_time": "2023-08-09T18:28:18.446Z"
   },
   {
    "duration": 14,
    "start_time": "2023-08-09T18:28:18.485Z"
   },
   {
    "duration": 11,
    "start_time": "2023-08-09T18:28:18.500Z"
   },
   {
    "duration": 18,
    "start_time": "2023-08-09T18:28:18.513Z"
   },
   {
    "duration": 40,
    "start_time": "2023-08-09T18:28:18.532Z"
   },
   {
    "duration": 17,
    "start_time": "2023-08-09T18:28:18.574Z"
   },
   {
    "duration": 14,
    "start_time": "2023-08-09T18:28:18.593Z"
   },
   {
    "duration": 11,
    "start_time": "2023-08-09T18:28:18.608Z"
   },
   {
    "duration": 6,
    "start_time": "2023-08-09T18:28:18.621Z"
   },
   {
    "duration": 12,
    "start_time": "2023-08-09T18:28:18.628Z"
   },
   {
    "duration": 18,
    "start_time": "2023-08-09T18:28:18.641Z"
   },
   {
    "duration": 39,
    "start_time": "2023-08-09T18:28:18.661Z"
   },
   {
    "duration": 8,
    "start_time": "2023-08-09T18:28:18.702Z"
   },
   {
    "duration": 5,
    "start_time": "2023-08-09T18:28:18.712Z"
   },
   {
    "duration": 27,
    "start_time": "2023-08-09T18:28:18.718Z"
   },
   {
    "duration": 271,
    "start_time": "2023-08-09T18:28:18.747Z"
   },
   {
    "duration": 193,
    "start_time": "2023-08-09T18:28:19.019Z"
   },
   {
    "duration": 6,
    "start_time": "2023-08-09T18:28:19.213Z"
   },
   {
    "duration": 169,
    "start_time": "2023-08-09T18:28:19.223Z"
   },
   {
    "duration": 9,
    "start_time": "2023-08-09T18:28:19.393Z"
   },
   {
    "duration": 8,
    "start_time": "2023-08-09T18:28:19.404Z"
   },
   {
    "duration": 132,
    "start_time": "2023-08-09T18:28:19.413Z"
   },
   {
    "duration": 712,
    "start_time": "2023-08-09T18:28:19.547Z"
   },
   {
    "duration": 8,
    "start_time": "2023-08-09T18:28:20.261Z"
   },
   {
    "duration": 48,
    "start_time": "2023-08-09T18:28:20.271Z"
   },
   {
    "duration": 13,
    "start_time": "2023-08-09T18:28:20.321Z"
   },
   {
    "duration": 51,
    "start_time": "2023-08-09T18:28:20.336Z"
   },
   {
    "duration": 252,
    "start_time": "2023-08-09T18:28:20.389Z"
   },
   {
    "duration": 973,
    "start_time": "2023-08-09T18:28:20.643Z"
   },
   {
    "duration": 924,
    "start_time": "2023-08-09T18:28:21.617Z"
   },
   {
    "duration": 165,
    "start_time": "2023-08-09T18:28:22.543Z"
   },
   {
    "duration": 0,
    "start_time": "2023-08-09T18:28:22.711Z"
   },
   {
    "duration": 13,
    "start_time": "2023-08-09T18:28:37.895Z"
   },
   {
    "duration": 10,
    "start_time": "2023-08-09T18:29:02.218Z"
   },
   {
    "duration": 10,
    "start_time": "2023-08-09T18:29:10.741Z"
   },
   {
    "duration": 146,
    "start_time": "2023-08-09T18:29:27.991Z"
   },
   {
    "duration": 8,
    "start_time": "2023-08-09T18:29:31.636Z"
   },
   {
    "duration": 11,
    "start_time": "2023-08-09T18:29:55.680Z"
   },
   {
    "duration": 10,
    "start_time": "2023-08-09T18:30:04.593Z"
   },
   {
    "duration": 15,
    "start_time": "2023-08-09T18:30:13.789Z"
   },
   {
    "duration": 10,
    "start_time": "2023-08-09T18:30:34.332Z"
   },
   {
    "duration": 10,
    "start_time": "2023-08-09T18:30:43.530Z"
   },
   {
    "duration": 3,
    "start_time": "2023-08-09T18:31:05.033Z"
   },
   {
    "duration": 8,
    "start_time": "2023-08-09T18:31:11.840Z"
   },
   {
    "duration": 10,
    "start_time": "2023-08-09T18:31:30.805Z"
   },
   {
    "duration": 10,
    "start_time": "2023-08-09T18:36:25.314Z"
   },
   {
    "duration": 10,
    "start_time": "2023-08-09T18:36:39.891Z"
   },
   {
    "duration": 903,
    "start_time": "2023-08-09T18:37:36.434Z"
   },
   {
    "duration": 911,
    "start_time": "2023-08-09T18:37:46.670Z"
   },
   {
    "duration": 921,
    "start_time": "2023-08-09T18:38:35.108Z"
   },
   {
    "duration": 15,
    "start_time": "2023-08-09T18:38:59.632Z"
   },
   {
    "duration": 1001,
    "start_time": "2023-08-09T18:39:16.814Z"
   },
   {
    "duration": 832,
    "start_time": "2023-08-09T18:39:53.594Z"
   },
   {
    "duration": 877,
    "start_time": "2023-08-09T18:40:06.178Z"
   },
   {
    "duration": 808,
    "start_time": "2023-08-09T18:40:17.835Z"
   },
   {
    "duration": 818,
    "start_time": "2023-08-09T18:40:25.893Z"
   },
   {
    "duration": 844,
    "start_time": "2023-08-09T18:40:32.982Z"
   },
   {
    "duration": 904,
    "start_time": "2023-08-09T18:40:42.315Z"
   },
   {
    "duration": 810,
    "start_time": "2023-08-09T18:40:55.873Z"
   },
   {
    "duration": 843,
    "start_time": "2023-08-09T18:41:13.188Z"
   },
   {
    "duration": 104,
    "start_time": "2023-08-09T18:41:24.499Z"
   },
   {
    "duration": 112,
    "start_time": "2023-08-09T18:41:28.537Z"
   },
   {
    "duration": 898,
    "start_time": "2023-08-09T18:41:34.619Z"
   },
   {
    "duration": 834,
    "start_time": "2023-08-09T18:42:10.903Z"
   },
   {
    "duration": 821,
    "start_time": "2023-08-09T18:42:22.581Z"
   },
   {
    "duration": 830,
    "start_time": "2023-08-09T18:42:35.740Z"
   },
   {
    "duration": 881,
    "start_time": "2023-08-09T18:42:45.333Z"
   },
   {
    "duration": 791,
    "start_time": "2023-08-09T18:42:55.381Z"
   },
   {
    "duration": 1179,
    "start_time": "2023-08-09T18:43:40.413Z"
   },
   {
    "duration": 1235,
    "start_time": "2023-08-09T18:43:47.747Z"
   },
   {
    "duration": 1200,
    "start_time": "2023-08-09T18:44:12.727Z"
   },
   {
    "duration": 1203,
    "start_time": "2023-08-09T18:44:21.472Z"
   },
   {
    "duration": 49,
    "start_time": "2023-08-09T18:44:22.677Z"
   },
   {
    "duration": 16,
    "start_time": "2023-08-09T18:44:22.728Z"
   },
   {
    "duration": 32,
    "start_time": "2023-08-09T18:44:22.746Z"
   },
   {
    "duration": 30,
    "start_time": "2023-08-09T18:44:22.780Z"
   },
   {
    "duration": 67,
    "start_time": "2023-08-09T18:44:22.811Z"
   },
   {
    "duration": 10,
    "start_time": "2023-08-09T18:44:22.879Z"
   },
   {
    "duration": 12,
    "start_time": "2023-08-09T18:44:22.891Z"
   },
   {
    "duration": 23,
    "start_time": "2023-08-09T18:44:22.905Z"
   },
   {
    "duration": 20,
    "start_time": "2023-08-09T18:44:22.930Z"
   },
   {
    "duration": 24,
    "start_time": "2023-08-09T18:44:22.952Z"
   },
   {
    "duration": 11,
    "start_time": "2023-08-09T18:44:22.979Z"
   },
   {
    "duration": 14,
    "start_time": "2023-08-09T18:44:22.992Z"
   },
   {
    "duration": 32,
    "start_time": "2023-08-09T18:44:23.008Z"
   },
   {
    "duration": 2,
    "start_time": "2023-08-09T18:44:23.043Z"
   },
   {
    "duration": 14,
    "start_time": "2023-08-09T18:44:23.047Z"
   },
   {
    "duration": 30,
    "start_time": "2023-08-09T18:44:23.065Z"
   },
   {
    "duration": 12,
    "start_time": "2023-08-09T18:44:23.097Z"
   },
   {
    "duration": 22,
    "start_time": "2023-08-09T18:44:23.111Z"
   },
   {
    "duration": 11,
    "start_time": "2023-08-09T18:44:23.135Z"
   },
   {
    "duration": 14,
    "start_time": "2023-08-09T18:44:23.148Z"
   },
   {
    "duration": 34,
    "start_time": "2023-08-09T18:44:23.169Z"
   },
   {
    "duration": 12,
    "start_time": "2023-08-09T18:44:23.205Z"
   },
   {
    "duration": 13,
    "start_time": "2023-08-09T18:44:23.219Z"
   },
   {
    "duration": 277,
    "start_time": "2023-08-09T18:44:23.233Z"
   },
   {
    "duration": 181,
    "start_time": "2023-08-09T18:44:23.513Z"
   },
   {
    "duration": 5,
    "start_time": "2023-08-09T18:44:23.696Z"
   },
   {
    "duration": 166,
    "start_time": "2023-08-09T18:44:23.705Z"
   },
   {
    "duration": 9,
    "start_time": "2023-08-09T18:44:23.876Z"
   },
   {
    "duration": 8,
    "start_time": "2023-08-09T18:44:23.887Z"
   },
   {
    "duration": 120,
    "start_time": "2023-08-09T18:44:23.896Z"
   },
   {
    "duration": 764,
    "start_time": "2023-08-09T18:44:24.018Z"
   },
   {
    "duration": 10,
    "start_time": "2023-08-09T18:44:24.784Z"
   },
   {
    "duration": 14,
    "start_time": "2023-08-09T18:44:24.796Z"
   },
   {
    "duration": 4,
    "start_time": "2023-08-09T18:44:24.812Z"
   },
   {
    "duration": 15,
    "start_time": "2023-08-09T18:44:24.818Z"
   },
   {
    "duration": 188,
    "start_time": "2023-08-09T18:44:24.834Z"
   },
   {
    "duration": 1055,
    "start_time": "2023-08-09T18:44:25.024Z"
   },
   {
    "duration": 862,
    "start_time": "2023-08-09T18:44:26.081Z"
   },
   {
    "duration": 1150,
    "start_time": "2023-08-09T18:44:26.945Z"
   },
   {
    "duration": 95,
    "start_time": "2023-08-09T18:44:28.097Z"
   },
   {
    "duration": 839,
    "start_time": "2023-08-09T18:44:38.035Z"
   },
   {
    "duration": 885,
    "start_time": "2023-08-09T18:45:03.221Z"
   },
   {
    "duration": 103,
    "start_time": "2023-08-09T18:45:14.406Z"
   },
   {
    "duration": 85,
    "start_time": "2023-08-09T18:45:53.291Z"
   },
   {
    "duration": 101,
    "start_time": "2023-08-09T18:46:01.820Z"
   },
   {
    "duration": 790,
    "start_time": "2023-08-09T18:46:34.417Z"
   },
   {
    "duration": 14,
    "start_time": "2023-08-09T18:48:00.520Z"
   },
   {
    "duration": 15,
    "start_time": "2023-08-09T18:48:14.676Z"
   },
   {
    "duration": 1586,
    "start_time": "2023-08-09T18:48:35.952Z"
   },
   {
    "duration": 1541,
    "start_time": "2023-08-09T18:48:48.351Z"
   },
   {
    "duration": 1301,
    "start_time": "2023-08-09T18:49:05.405Z"
   },
   {
    "duration": 43,
    "start_time": "2023-08-09T18:49:06.709Z"
   },
   {
    "duration": 14,
    "start_time": "2023-08-09T18:49:06.761Z"
   },
   {
    "duration": 18,
    "start_time": "2023-08-09T18:49:06.781Z"
   },
   {
    "duration": 15,
    "start_time": "2023-08-09T18:49:06.801Z"
   },
   {
    "duration": 54,
    "start_time": "2023-08-09T18:49:06.818Z"
   },
   {
    "duration": 17,
    "start_time": "2023-08-09T18:49:06.879Z"
   },
   {
    "duration": 3,
    "start_time": "2023-08-09T18:49:06.897Z"
   },
   {
    "duration": 26,
    "start_time": "2023-08-09T18:49:06.902Z"
   },
   {
    "duration": 20,
    "start_time": "2023-08-09T18:49:06.930Z"
   },
   {
    "duration": 17,
    "start_time": "2023-08-09T18:49:06.952Z"
   },
   {
    "duration": 22,
    "start_time": "2023-08-09T18:49:06.970Z"
   },
   {
    "duration": 11,
    "start_time": "2023-08-09T18:49:06.994Z"
   },
   {
    "duration": 22,
    "start_time": "2023-08-09T18:49:07.009Z"
   },
   {
    "duration": 4,
    "start_time": "2023-08-09T18:49:07.033Z"
   },
   {
    "duration": 8,
    "start_time": "2023-08-09T18:49:07.039Z"
   },
   {
    "duration": 19,
    "start_time": "2023-08-09T18:49:07.049Z"
   },
   {
    "duration": 15,
    "start_time": "2023-08-09T18:49:07.074Z"
   },
   {
    "duration": 30,
    "start_time": "2023-08-09T18:49:07.091Z"
   },
   {
    "duration": 17,
    "start_time": "2023-08-09T18:49:07.122Z"
   },
   {
    "duration": 21,
    "start_time": "2023-08-09T18:49:07.141Z"
   },
   {
    "duration": 49,
    "start_time": "2023-08-09T18:49:07.164Z"
   },
   {
    "duration": 20,
    "start_time": "2023-08-09T18:49:07.215Z"
   },
   {
    "duration": 22,
    "start_time": "2023-08-09T18:49:07.237Z"
   },
   {
    "duration": 306,
    "start_time": "2023-08-09T18:49:07.267Z"
   },
   {
    "duration": 165,
    "start_time": "2023-08-09T18:49:07.575Z"
   },
   {
    "duration": 24,
    "start_time": "2023-08-09T18:49:07.742Z"
   },
   {
    "duration": 163,
    "start_time": "2023-08-09T18:49:07.770Z"
   },
   {
    "duration": 8,
    "start_time": "2023-08-09T18:49:07.935Z"
   },
   {
    "duration": 56,
    "start_time": "2023-08-09T18:49:07.944Z"
   },
   {
    "duration": 123,
    "start_time": "2023-08-09T18:49:08.002Z"
   },
   {
    "duration": 774,
    "start_time": "2023-08-09T18:49:08.127Z"
   },
   {
    "duration": 8,
    "start_time": "2023-08-09T18:49:08.902Z"
   },
   {
    "duration": 21,
    "start_time": "2023-08-09T18:49:08.912Z"
   },
   {
    "duration": 2,
    "start_time": "2023-08-09T18:49:08.935Z"
   },
   {
    "duration": 16,
    "start_time": "2023-08-09T18:49:08.963Z"
   },
   {
    "duration": 192,
    "start_time": "2023-08-09T18:49:08.985Z"
   },
   {
    "duration": 1061,
    "start_time": "2023-08-09T18:49:09.187Z"
   },
   {
    "duration": 954,
    "start_time": "2023-08-09T18:49:10.249Z"
   },
   {
    "duration": 1680,
    "start_time": "2023-08-09T18:49:11.205Z"
   },
   {
    "duration": 136,
    "start_time": "2023-08-09T18:49:12.893Z"
   },
   {
    "duration": 1003,
    "start_time": "2023-08-09T18:49:28.682Z"
   },
   {
    "duration": 97,
    "start_time": "2023-08-09T18:49:44.119Z"
   },
   {
    "duration": 899,
    "start_time": "2023-08-09T18:49:49.106Z"
   },
   {
    "duration": 848,
    "start_time": "2023-08-09T18:50:05.542Z"
   },
   {
    "duration": 976,
    "start_time": "2023-08-09T18:50:13.632Z"
   },
   {
    "duration": 865,
    "start_time": "2023-08-09T18:50:35.596Z"
   },
   {
    "duration": 880,
    "start_time": "2023-08-09T18:51:09.666Z"
   },
   {
    "duration": 1299,
    "start_time": "2023-08-09T18:51:47.788Z"
   },
   {
    "duration": 1261,
    "start_time": "2023-08-09T18:51:53.584Z"
   },
   {
    "duration": 1259,
    "start_time": "2023-08-09T18:52:02.241Z"
   },
   {
    "duration": 16,
    "start_time": "2023-08-09T18:52:27.823Z"
   },
   {
    "duration": 26,
    "start_time": "2023-08-09T18:52:49.676Z"
   },
   {
    "duration": 1180,
    "start_time": "2023-08-09T18:53:15.297Z"
   },
   {
    "duration": 124,
    "start_time": "2023-08-09T18:54:34.271Z"
   },
   {
    "duration": 99,
    "start_time": "2023-08-09T18:54:46.543Z"
   },
   {
    "duration": 220,
    "start_time": "2023-08-09T18:55:05.755Z"
   },
   {
    "duration": 1220,
    "start_time": "2023-08-09T18:55:12.674Z"
   },
   {
    "duration": 1238,
    "start_time": "2023-08-09T18:55:18.913Z"
   },
   {
    "duration": 1193,
    "start_time": "2023-08-09T18:55:41.235Z"
   },
   {
    "duration": 1312,
    "start_time": "2023-08-09T18:56:03.483Z"
   },
   {
    "duration": 1249,
    "start_time": "2023-08-09T18:56:22.915Z"
   },
   {
    "duration": 1228,
    "start_time": "2023-08-09T18:56:32.469Z"
   },
   {
    "duration": 1301,
    "start_time": "2023-08-09T18:56:47.774Z"
   },
   {
    "duration": 1350,
    "start_time": "2023-08-09T18:56:56.083Z"
   },
   {
    "duration": 1173,
    "start_time": "2023-08-09T18:57:15.920Z"
   },
   {
    "duration": 1364,
    "start_time": "2023-08-09T18:57:22.879Z"
   },
   {
    "duration": 141,
    "start_time": "2023-08-09T18:57:56.588Z"
   },
   {
    "duration": 152,
    "start_time": "2023-08-09T18:58:10.631Z"
   },
   {
    "duration": 1762,
    "start_time": "2023-08-09T18:58:27.429Z"
   },
   {
    "duration": 2094,
    "start_time": "2023-08-09T18:58:39.588Z"
   },
   {
    "duration": 1917,
    "start_time": "2023-08-09T19:00:10.001Z"
   },
   {
    "duration": 1273,
    "start_time": "2023-08-09T19:02:55.996Z"
   },
   {
    "duration": 1471,
    "start_time": "2023-08-09T19:03:09.816Z"
   },
   {
    "duration": 1267,
    "start_time": "2023-08-09T19:04:08.020Z"
   },
   {
    "duration": 129,
    "start_time": "2023-08-09T19:04:26.291Z"
   },
   {
    "duration": 91,
    "start_time": "2023-08-09T19:04:37.497Z"
   },
   {
    "duration": 1271,
    "start_time": "2023-08-09T19:04:52.098Z"
   },
   {
    "duration": 1477,
    "start_time": "2023-08-09T19:05:09.334Z"
   },
   {
    "duration": 1323,
    "start_time": "2023-08-09T19:05:28.767Z"
   },
   {
    "duration": 1391,
    "start_time": "2023-08-09T19:07:25.454Z"
   },
   {
    "duration": 1482,
    "start_time": "2023-08-09T19:08:52.699Z"
   },
   {
    "duration": 1410,
    "start_time": "2023-08-09T19:09:26.600Z"
   },
   {
    "duration": 1532,
    "start_time": "2023-08-09T19:09:34.237Z"
   },
   {
    "duration": 1398,
    "start_time": "2023-08-09T19:10:51.100Z"
   },
   {
    "duration": 1339,
    "start_time": "2023-08-09T19:10:58.999Z"
   },
   {
    "duration": 1551,
    "start_time": "2023-08-09T19:11:21.183Z"
   },
   {
    "duration": 1587,
    "start_time": "2023-08-09T19:13:32.907Z"
   },
   {
    "duration": 1391,
    "start_time": "2023-08-09T19:14:07.217Z"
   },
   {
    "duration": 1445,
    "start_time": "2023-08-09T19:14:14.944Z"
   },
   {
    "duration": 1190,
    "start_time": "2023-08-09T19:14:31.198Z"
   },
   {
    "duration": 1409,
    "start_time": "2023-08-09T19:14:54.067Z"
   },
   {
    "duration": 1929,
    "start_time": "2023-08-09T19:17:10.996Z"
   },
   {
    "duration": 110,
    "start_time": "2023-08-09T19:18:02.683Z"
   },
   {
    "duration": 183,
    "start_time": "2023-08-09T19:18:22.187Z"
   },
   {
    "duration": 7,
    "start_time": "2023-08-09T19:20:21.991Z"
   },
   {
    "duration": 11,
    "start_time": "2023-08-09T19:20:49.195Z"
   },
   {
    "duration": 6,
    "start_time": "2023-08-09T19:20:58.199Z"
   },
   {
    "duration": 6,
    "start_time": "2023-08-09T19:21:52.891Z"
   },
   {
    "duration": 1301,
    "start_time": "2023-08-09T19:23:59.823Z"
   },
   {
    "duration": 1373,
    "start_time": "2023-08-09T19:24:15.604Z"
   },
   {
    "duration": 1558,
    "start_time": "2023-08-09T19:24:31.902Z"
   },
   {
    "duration": 1452,
    "start_time": "2023-08-09T19:24:40.845Z"
   },
   {
    "duration": 1229,
    "start_time": "2023-08-09T19:25:06.999Z"
   },
   {
    "duration": 1780,
    "start_time": "2023-08-09T19:25:26.601Z"
   },
   {
    "duration": 1764,
    "start_time": "2023-08-09T19:25:32.439Z"
   },
   {
    "duration": 1544,
    "start_time": "2023-08-09T19:25:52.680Z"
   },
   {
    "duration": 1720,
    "start_time": "2023-08-09T19:26:38.124Z"
   },
   {
    "duration": 1446,
    "start_time": "2023-08-09T19:26:58.136Z"
   },
   {
    "duration": 9,
    "start_time": "2023-08-09T19:32:36.609Z"
   },
   {
    "duration": 1355,
    "start_time": "2023-08-09T19:33:04.500Z"
   },
   {
    "duration": 84,
    "start_time": "2023-08-09T19:33:05.857Z"
   },
   {
    "duration": 26,
    "start_time": "2023-08-09T19:33:05.943Z"
   },
   {
    "duration": 70,
    "start_time": "2023-08-09T19:33:05.972Z"
   },
   {
    "duration": 70,
    "start_time": "2023-08-09T19:33:06.045Z"
   },
   {
    "duration": 72,
    "start_time": "2023-08-09T19:33:06.117Z"
   },
   {
    "duration": 17,
    "start_time": "2023-08-09T19:33:06.191Z"
   },
   {
    "duration": 35,
    "start_time": "2023-08-09T19:33:06.209Z"
   },
   {
    "duration": 156,
    "start_time": "2023-08-09T19:33:06.246Z"
   },
   {
    "duration": 101,
    "start_time": "2023-08-09T19:33:06.404Z"
   },
   {
    "duration": 17,
    "start_time": "2023-08-09T19:33:06.507Z"
   },
   {
    "duration": 7,
    "start_time": "2023-08-09T19:33:06.526Z"
   },
   {
    "duration": 54,
    "start_time": "2023-08-09T19:33:06.535Z"
   },
   {
    "duration": 105,
    "start_time": "2023-08-09T19:33:06.592Z"
   },
   {
    "duration": 33,
    "start_time": "2023-08-09T19:33:06.699Z"
   },
   {
    "duration": 11,
    "start_time": "2023-08-09T19:33:06.734Z"
   },
   {
    "duration": 8,
    "start_time": "2023-08-09T19:33:06.747Z"
   },
   {
    "duration": 62,
    "start_time": "2023-08-09T19:33:06.761Z"
   },
   {
    "duration": 19,
    "start_time": "2023-08-09T19:33:06.825Z"
   },
   {
    "duration": 16,
    "start_time": "2023-08-09T19:33:06.846Z"
   },
   {
    "duration": 67,
    "start_time": "2023-08-09T19:33:06.864Z"
   },
   {
    "duration": 10,
    "start_time": "2023-08-09T19:33:06.933Z"
   },
   {
    "duration": 20,
    "start_time": "2023-08-09T19:33:06.945Z"
   },
   {
    "duration": 61,
    "start_time": "2023-08-09T19:33:06.967Z"
   },
   {
    "duration": 407,
    "start_time": "2023-08-09T19:33:07.030Z"
   },
   {
    "duration": 253,
    "start_time": "2023-08-09T19:33:07.439Z"
   },
   {
    "duration": 9,
    "start_time": "2023-08-09T19:33:07.694Z"
   },
   {
    "duration": 238,
    "start_time": "2023-08-09T19:33:07.704Z"
   },
   {
    "duration": 12,
    "start_time": "2023-08-09T19:33:07.944Z"
   },
   {
    "duration": 61,
    "start_time": "2023-08-09T19:33:07.957Z"
   },
   {
    "duration": 136,
    "start_time": "2023-08-09T19:33:08.020Z"
   },
   {
    "duration": 947,
    "start_time": "2023-08-09T19:33:08.158Z"
   },
   {
    "duration": 9,
    "start_time": "2023-08-09T19:33:09.107Z"
   },
   {
    "duration": 35,
    "start_time": "2023-08-09T19:33:09.117Z"
   },
   {
    "duration": 21,
    "start_time": "2023-08-09T19:33:09.164Z"
   },
   {
    "duration": 245,
    "start_time": "2023-08-09T19:33:09.187Z"
   },
   {
    "duration": 405,
    "start_time": "2023-08-09T19:33:09.433Z"
   },
   {
    "duration": 1187,
    "start_time": "2023-08-09T19:33:09.840Z"
   },
   {
    "duration": 1112,
    "start_time": "2023-08-09T19:33:11.028Z"
   },
   {
    "duration": 5,
    "start_time": "2023-08-09T19:33:12.142Z"
   },
   {
    "duration": 172,
    "start_time": "2023-08-09T19:33:12.155Z"
   },
   {
    "duration": 1704,
    "start_time": "2023-08-09T19:33:12.329Z"
   },
   {
    "duration": 21,
    "start_time": "2023-08-09T19:33:14.036Z"
   },
   {
    "duration": 165,
    "start_time": "2023-08-09T19:33:14.058Z"
   },
   {
    "duration": 1652,
    "start_time": "2023-08-09T19:33:37.181Z"
   },
   {
    "duration": 11,
    "start_time": "2023-08-09T19:34:31.799Z"
   },
   {
    "duration": 8,
    "start_time": "2023-08-09T19:34:47.721Z"
   },
   {
    "duration": 6,
    "start_time": "2023-08-09T19:35:04.325Z"
   },
   {
    "duration": 11,
    "start_time": "2023-08-09T19:35:35.574Z"
   },
   {
    "duration": 10,
    "start_time": "2023-08-09T19:35:53.676Z"
   },
   {
    "duration": 1522,
    "start_time": "2023-08-09T19:37:24.305Z"
   },
   {
    "duration": 13,
    "start_time": "2023-08-09T19:37:33.975Z"
   },
   {
    "duration": 1672,
    "start_time": "2023-08-09T19:40:36.203Z"
   },
   {
    "duration": 1627,
    "start_time": "2023-08-09T19:41:19.519Z"
   },
   {
    "duration": 224,
    "start_time": "2023-08-09T19:42:19.350Z"
   },
   {
    "duration": 245,
    "start_time": "2023-08-09T19:42:32.116Z"
   },
   {
    "duration": 220,
    "start_time": "2023-08-09T19:42:39.397Z"
   },
   {
    "duration": 19,
    "start_time": "2023-08-09T19:43:17.315Z"
   },
   {
    "duration": 25,
    "start_time": "2023-08-09T19:43:24.741Z"
   },
   {
    "duration": 1455,
    "start_time": "2023-08-09T19:43:43.114Z"
   },
   {
    "duration": 63,
    "start_time": "2023-08-09T19:43:44.571Z"
   },
   {
    "duration": 11,
    "start_time": "2023-08-09T19:43:44.636Z"
   },
   {
    "duration": 55,
    "start_time": "2023-08-09T19:43:44.648Z"
   },
   {
    "duration": 15,
    "start_time": "2023-08-09T19:43:44.708Z"
   },
   {
    "duration": 63,
    "start_time": "2023-08-09T19:43:44.725Z"
   },
   {
    "duration": 16,
    "start_time": "2023-08-09T19:43:44.790Z"
   },
   {
    "duration": 17,
    "start_time": "2023-08-09T19:43:44.808Z"
   },
   {
    "duration": 23,
    "start_time": "2023-08-09T19:43:44.827Z"
   },
   {
    "duration": 41,
    "start_time": "2023-08-09T19:43:44.852Z"
   },
   {
    "duration": 31,
    "start_time": "2023-08-09T19:43:44.895Z"
   },
   {
    "duration": 14,
    "start_time": "2023-08-09T19:43:44.928Z"
   },
   {
    "duration": 18,
    "start_time": "2023-08-09T19:43:44.943Z"
   },
   {
    "duration": 103,
    "start_time": "2023-08-09T19:43:44.965Z"
   },
   {
    "duration": 49,
    "start_time": "2023-08-09T19:43:45.070Z"
   },
   {
    "duration": 15,
    "start_time": "2023-08-09T19:43:45.121Z"
   },
   {
    "duration": 74,
    "start_time": "2023-08-09T19:43:45.137Z"
   },
   {
    "duration": 9,
    "start_time": "2023-08-09T19:43:45.213Z"
   },
   {
    "duration": 22,
    "start_time": "2023-08-09T19:43:45.224Z"
   },
   {
    "duration": 27,
    "start_time": "2023-08-09T19:43:45.248Z"
   },
   {
    "duration": 44,
    "start_time": "2023-08-09T19:43:45.278Z"
   },
   {
    "duration": 10,
    "start_time": "2023-08-09T19:43:45.324Z"
   },
   {
    "duration": 11,
    "start_time": "2023-08-09T19:43:45.336Z"
   },
   {
    "duration": 42,
    "start_time": "2023-08-09T19:43:45.349Z"
   },
   {
    "duration": 401,
    "start_time": "2023-08-09T19:43:45.392Z"
   },
   {
    "duration": 226,
    "start_time": "2023-08-09T19:43:45.795Z"
   },
   {
    "duration": 6,
    "start_time": "2023-08-09T19:43:46.023Z"
   },
   {
    "duration": 189,
    "start_time": "2023-08-09T19:43:46.033Z"
   },
   {
    "duration": 10,
    "start_time": "2023-08-09T19:43:46.224Z"
   },
   {
    "duration": 30,
    "start_time": "2023-08-09T19:43:46.236Z"
   },
   {
    "duration": 166,
    "start_time": "2023-08-09T19:43:46.270Z"
   },
   {
    "duration": 938,
    "start_time": "2023-08-09T19:43:46.437Z"
   },
   {
    "duration": 22,
    "start_time": "2023-08-09T19:43:47.377Z"
   },
   {
    "duration": 38,
    "start_time": "2023-08-09T19:43:47.402Z"
   },
   {
    "duration": 6,
    "start_time": "2023-08-09T19:43:47.441Z"
   },
   {
    "duration": 60,
    "start_time": "2023-08-09T19:43:47.449Z"
   },
   {
    "duration": 223,
    "start_time": "2023-08-09T19:43:47.512Z"
   },
   {
    "duration": 1308,
    "start_time": "2023-08-09T19:43:47.738Z"
   },
   {
    "duration": 1122,
    "start_time": "2023-08-09T19:43:49.048Z"
   },
   {
    "duration": 9,
    "start_time": "2023-08-09T19:43:50.171Z"
   },
   {
    "duration": 144,
    "start_time": "2023-08-09T19:43:50.183Z"
   },
   {
    "duration": 1539,
    "start_time": "2023-08-09T19:43:50.329Z"
   },
   {
    "duration": 155,
    "start_time": "2023-08-09T19:43:51.871Z"
   },
   {
    "duration": 37,
    "start_time": "2023-08-09T19:44:22.850Z"
   },
   {
    "duration": 1367,
    "start_time": "2023-08-09T19:44:47.005Z"
   },
   {
    "duration": 64,
    "start_time": "2023-08-09T19:44:48.374Z"
   },
   {
    "duration": 10,
    "start_time": "2023-08-09T19:44:48.440Z"
   },
   {
    "duration": 63,
    "start_time": "2023-08-09T19:44:48.453Z"
   },
   {
    "duration": 7,
    "start_time": "2023-08-09T19:44:48.519Z"
   },
   {
    "duration": 49,
    "start_time": "2023-08-09T19:44:48.527Z"
   },
   {
    "duration": 14,
    "start_time": "2023-08-09T19:44:48.578Z"
   },
   {
    "duration": 33,
    "start_time": "2023-08-09T19:44:48.594Z"
   },
   {
    "duration": 69,
    "start_time": "2023-08-09T19:44:48.629Z"
   },
   {
    "duration": 34,
    "start_time": "2023-08-09T19:44:48.702Z"
   },
   {
    "duration": 11,
    "start_time": "2023-08-09T19:44:48.737Z"
   },
   {
    "duration": 43,
    "start_time": "2023-08-09T19:44:48.749Z"
   },
   {
    "duration": 29,
    "start_time": "2023-08-09T19:44:48.796Z"
   },
   {
    "duration": 21,
    "start_time": "2023-08-09T19:44:48.829Z"
   },
   {
    "duration": 8,
    "start_time": "2023-08-09T19:44:48.851Z"
   },
   {
    "duration": 9,
    "start_time": "2023-08-09T19:44:48.861Z"
   },
   {
    "duration": 49,
    "start_time": "2023-08-09T19:44:48.871Z"
   },
   {
    "duration": 10,
    "start_time": "2023-08-09T19:44:48.921Z"
   },
   {
    "duration": 18,
    "start_time": "2023-08-09T19:44:48.932Z"
   },
   {
    "duration": 67,
    "start_time": "2023-08-09T19:44:48.952Z"
   },
   {
    "duration": 16,
    "start_time": "2023-08-09T19:44:49.021Z"
   },
   {
    "duration": 8,
    "start_time": "2023-08-09T19:44:49.039Z"
   },
   {
    "duration": 20,
    "start_time": "2023-08-09T19:44:49.049Z"
   },
   {
    "duration": 51,
    "start_time": "2023-08-09T19:44:49.074Z"
   },
   {
    "duration": 395,
    "start_time": "2023-08-09T19:44:49.127Z"
   },
   {
    "duration": 264,
    "start_time": "2023-08-09T19:44:49.524Z"
   },
   {
    "duration": 13,
    "start_time": "2023-08-09T19:44:49.790Z"
   },
   {
    "duration": 210,
    "start_time": "2023-08-09T19:44:49.805Z"
   },
   {
    "duration": 9,
    "start_time": "2023-08-09T19:44:50.017Z"
   },
   {
    "duration": 20,
    "start_time": "2023-08-09T19:44:50.028Z"
   },
   {
    "duration": 196,
    "start_time": "2023-08-09T19:44:50.050Z"
   },
   {
    "duration": 948,
    "start_time": "2023-08-09T19:44:50.248Z"
   },
   {
    "duration": 12,
    "start_time": "2023-08-09T19:44:51.198Z"
   },
   {
    "duration": 29,
    "start_time": "2023-08-09T19:44:51.215Z"
   },
   {
    "duration": 5,
    "start_time": "2023-08-09T19:44:51.246Z"
   },
   {
    "duration": 78,
    "start_time": "2023-08-09T19:44:51.253Z"
   },
   {
    "duration": 231,
    "start_time": "2023-08-09T19:44:51.333Z"
   },
   {
    "duration": 1305,
    "start_time": "2023-08-09T19:44:51.567Z"
   },
   {
    "duration": 1136,
    "start_time": "2023-08-09T19:44:52.883Z"
   },
   {
    "duration": 6,
    "start_time": "2023-08-09T19:44:54.020Z"
   },
   {
    "duration": 111,
    "start_time": "2023-08-09T19:44:54.029Z"
   },
   {
    "duration": 1573,
    "start_time": "2023-08-09T19:44:54.142Z"
   },
   {
    "duration": 130,
    "start_time": "2023-08-09T19:44:55.721Z"
   },
   {
    "duration": 1420,
    "start_time": "2023-08-09T19:46:36.913Z"
   },
   {
    "duration": 1351,
    "start_time": "2023-08-09T19:47:06.296Z"
   },
   {
    "duration": 1577,
    "start_time": "2023-08-09T19:47:21.827Z"
   },
   {
    "duration": 1716,
    "start_time": "2023-08-09T19:47:56.815Z"
   },
   {
    "duration": 1572,
    "start_time": "2023-08-09T19:49:01.147Z"
   },
   {
    "duration": 171,
    "start_time": "2023-08-09T19:54:27.006Z"
   },
   {
    "duration": 1263,
    "start_time": "2023-08-10T06:43:37.070Z"
   },
   {
    "duration": 106,
    "start_time": "2023-08-10T06:43:38.335Z"
   },
   {
    "duration": 16,
    "start_time": "2023-08-10T06:43:38.443Z"
   },
   {
    "duration": 17,
    "start_time": "2023-08-10T06:43:38.461Z"
   },
   {
    "duration": 19,
    "start_time": "2023-08-10T06:43:38.482Z"
   },
   {
    "duration": 96,
    "start_time": "2023-08-10T06:43:38.503Z"
   },
   {
    "duration": 11,
    "start_time": "2023-08-10T06:43:38.601Z"
   },
   {
    "duration": 20,
    "start_time": "2023-08-10T06:43:38.614Z"
   },
   {
    "duration": 25,
    "start_time": "2023-08-10T06:43:38.636Z"
   },
   {
    "duration": 72,
    "start_time": "2023-08-10T06:43:38.663Z"
   },
   {
    "duration": 10,
    "start_time": "2023-08-10T06:43:38.736Z"
   },
   {
    "duration": 36,
    "start_time": "2023-08-10T06:43:38.747Z"
   },
   {
    "duration": 30,
    "start_time": "2023-08-10T06:43:38.784Z"
   },
   {
    "duration": 27,
    "start_time": "2023-08-10T06:43:38.817Z"
   },
   {
    "duration": 16,
    "start_time": "2023-08-10T06:43:38.846Z"
   },
   {
    "duration": 32,
    "start_time": "2023-08-10T06:43:38.864Z"
   },
   {
    "duration": 27,
    "start_time": "2023-08-10T06:43:38.899Z"
   },
   {
    "duration": 43,
    "start_time": "2023-08-10T06:43:38.928Z"
   },
   {
    "duration": 66,
    "start_time": "2023-08-10T06:43:38.972Z"
   },
   {
    "duration": 29,
    "start_time": "2023-08-10T06:43:39.040Z"
   },
   {
    "duration": 48,
    "start_time": "2023-08-10T06:43:39.070Z"
   },
   {
    "duration": 39,
    "start_time": "2023-08-10T06:43:39.120Z"
   },
   {
    "duration": 23,
    "start_time": "2023-08-10T06:43:39.160Z"
   },
   {
    "duration": 32,
    "start_time": "2023-08-10T06:43:39.185Z"
   },
   {
    "duration": 281,
    "start_time": "2023-08-10T06:43:39.219Z"
   },
   {
    "duration": 147,
    "start_time": "2023-08-10T06:43:39.502Z"
   },
   {
    "duration": 6,
    "start_time": "2023-08-10T06:43:39.651Z"
   },
   {
    "duration": 160,
    "start_time": "2023-08-10T06:43:39.658Z"
   },
   {
    "duration": 10,
    "start_time": "2023-08-10T06:43:39.820Z"
   },
   {
    "duration": 25,
    "start_time": "2023-08-10T06:43:39.832Z"
   },
   {
    "duration": 148,
    "start_time": "2023-08-10T06:43:39.858Z"
   },
   {
    "duration": 657,
    "start_time": "2023-08-10T06:43:40.008Z"
   },
   {
    "duration": 8,
    "start_time": "2023-08-10T06:43:40.667Z"
   },
   {
    "duration": 25,
    "start_time": "2023-08-10T06:43:40.687Z"
   },
   {
    "duration": 15,
    "start_time": "2023-08-10T06:43:40.714Z"
   },
   {
    "duration": 44,
    "start_time": "2023-08-10T06:43:40.730Z"
   },
   {
    "duration": 931,
    "start_time": "2023-08-10T06:43:40.776Z"
   },
   {
    "duration": 837,
    "start_time": "2023-08-10T06:43:41.708Z"
   },
   {
    "duration": 176,
    "start_time": "2023-08-10T06:43:42.547Z"
   },
   {
    "duration": 6,
    "start_time": "2023-08-10T06:43:42.725Z"
   },
   {
    "duration": 98,
    "start_time": "2023-08-10T06:43:42.735Z"
   },
   {
    "duration": 1192,
    "start_time": "2023-08-10T06:43:42.834Z"
   },
   {
    "duration": 1311,
    "start_time": "2023-08-10T06:43:44.028Z"
   },
   {
    "duration": 885,
    "start_time": "2023-08-10T06:52:18.006Z"
   },
   {
    "duration": 1032,
    "start_time": "2023-08-10T06:52:34.555Z"
   },
   {
    "duration": 1037,
    "start_time": "2023-08-10T06:53:39.307Z"
   },
   {
    "duration": 843,
    "start_time": "2023-08-10T06:54:05.707Z"
   },
   {
    "duration": 103,
    "start_time": "2023-08-10T07:24:50.457Z"
   },
   {
    "duration": 10,
    "start_time": "2023-08-10T07:25:16.647Z"
   },
   {
    "duration": 30,
    "start_time": "2023-08-10T07:25:46.383Z"
   },
   {
    "duration": 331,
    "start_time": "2023-08-10T07:29:22.295Z"
   },
   {
    "duration": 10,
    "start_time": "2023-08-10T07:29:30.750Z"
   },
   {
    "duration": 19,
    "start_time": "2023-08-10T07:29:40.813Z"
   },
   {
    "duration": 21,
    "start_time": "2023-08-10T07:31:14.851Z"
   },
   {
    "duration": 9,
    "start_time": "2023-08-10T07:33:45.988Z"
   },
   {
    "duration": 155,
    "start_time": "2023-08-10T07:33:56.658Z"
   },
   {
    "duration": 158,
    "start_time": "2023-08-10T07:35:49.951Z"
   },
   {
    "duration": 677,
    "start_time": "2023-08-10T07:36:27.158Z"
   },
   {
    "duration": 226,
    "start_time": "2023-08-10T07:36:40.590Z"
   },
   {
    "duration": 195,
    "start_time": "2023-08-10T07:36:55.943Z"
   },
   {
    "duration": 159,
    "start_time": "2023-08-10T07:37:10.771Z"
   },
   {
    "duration": 230,
    "start_time": "2023-08-10T07:37:58.353Z"
   },
   {
    "duration": 320,
    "start_time": "2023-08-10T07:38:41.780Z"
   },
   {
    "duration": 310,
    "start_time": "2023-08-10T07:39:04.464Z"
   },
   {
    "duration": 299,
    "start_time": "2023-08-10T07:39:31.562Z"
   },
   {
    "duration": 392,
    "start_time": "2023-08-10T07:39:39.871Z"
   },
   {
    "duration": 209,
    "start_time": "2023-08-10T07:40:02.916Z"
   },
   {
    "duration": 105,
    "start_time": "2023-08-10T07:40:28.395Z"
   },
   {
    "duration": 98,
    "start_time": "2023-08-10T07:40:36.957Z"
   },
   {
    "duration": 157,
    "start_time": "2023-08-10T07:40:39.550Z"
   },
   {
    "duration": 198,
    "start_time": "2023-08-10T07:40:46.856Z"
   },
   {
    "duration": 223,
    "start_time": "2023-08-10T07:41:59.069Z"
   },
   {
    "duration": 210,
    "start_time": "2023-08-10T07:42:34.150Z"
   },
   {
    "duration": 306,
    "start_time": "2023-08-10T07:43:03.460Z"
   },
   {
    "duration": 238,
    "start_time": "2023-08-10T07:46:13.778Z"
   },
   {
    "duration": 192,
    "start_time": "2023-08-10T07:46:55.538Z"
   },
   {
    "duration": 394,
    "start_time": "2023-08-10T07:52:39.380Z"
   },
   {
    "duration": 484,
    "start_time": "2023-08-10T07:53:02.864Z"
   },
   {
    "duration": 989,
    "start_time": "2023-08-10T07:53:34.900Z"
   },
   {
    "duration": 228,
    "start_time": "2023-08-10T07:53:49.739Z"
   },
   {
    "duration": 295,
    "start_time": "2023-08-10T07:57:38.366Z"
   },
   {
    "duration": 202,
    "start_time": "2023-08-10T07:57:47.563Z"
   },
   {
    "duration": 234,
    "start_time": "2023-08-10T07:58:04.579Z"
   },
   {
    "duration": 186,
    "start_time": "2023-08-10T08:03:03.865Z"
   },
   {
    "duration": 332,
    "start_time": "2023-08-10T08:04:25.363Z"
   },
   {
    "duration": 100,
    "start_time": "2023-08-10T08:04:38.264Z"
   },
   {
    "duration": 4,
    "start_time": "2023-08-10T08:04:57.165Z"
   },
   {
    "duration": 227,
    "start_time": "2023-08-10T08:05:05.198Z"
   },
   {
    "duration": 13,
    "start_time": "2023-08-10T08:07:46.095Z"
   },
   {
    "duration": 341,
    "start_time": "2023-08-10T08:09:11.564Z"
   },
   {
    "duration": 19,
    "start_time": "2023-08-10T08:11:04.688Z"
   },
   {
    "duration": 19,
    "start_time": "2023-08-10T08:11:07.556Z"
   },
   {
    "duration": 262,
    "start_time": "2023-08-10T08:11:09.694Z"
   },
   {
    "duration": 9,
    "start_time": "2023-08-10T08:26:33.372Z"
   },
   {
    "duration": 103,
    "start_time": "2023-08-10T08:28:46.900Z"
   },
   {
    "duration": 821,
    "start_time": "2023-08-10T08:28:58.089Z"
   },
   {
    "duration": 933,
    "start_time": "2023-08-10T08:29:15.265Z"
   },
   {
    "duration": 550,
    "start_time": "2023-08-10T08:29:48.174Z"
   },
   {
    "duration": 91,
    "start_time": "2023-08-10T08:49:30.763Z"
   },
   {
    "duration": 13,
    "start_time": "2023-08-10T08:49:40.211Z"
   },
   {
    "duration": 156,
    "start_time": "2023-08-10T08:49:59.777Z"
   },
   {
    "duration": 22,
    "start_time": "2023-08-10T08:50:10.381Z"
   },
   {
    "duration": 839,
    "start_time": "2023-08-10T08:51:01.366Z"
   },
   {
    "duration": 849,
    "start_time": "2023-08-10T08:51:14.666Z"
   },
   {
    "duration": 818,
    "start_time": "2023-08-10T08:51:36.021Z"
   },
   {
    "duration": 947,
    "start_time": "2023-08-10T08:55:31.870Z"
   },
   {
    "duration": 1022,
    "start_time": "2023-08-10T08:56:31.312Z"
   },
   {
    "duration": 811,
    "start_time": "2023-08-10T08:57:46.963Z"
   },
   {
    "duration": 821,
    "start_time": "2023-08-10T08:58:12.959Z"
   },
   {
    "duration": 903,
    "start_time": "2023-08-10T08:58:46.272Z"
   },
   {
    "duration": 1117,
    "start_time": "2023-08-10T08:59:01.991Z"
   },
   {
    "duration": 840,
    "start_time": "2023-08-10T08:59:22.462Z"
   },
   {
    "duration": 863,
    "start_time": "2023-08-10T09:01:05.032Z"
   },
   {
    "duration": 851,
    "start_time": "2023-08-10T09:09:19.002Z"
   },
   {
    "duration": 891,
    "start_time": "2023-08-10T09:10:13.578Z"
   },
   {
    "duration": 17,
    "start_time": "2023-08-10T09:11:14.662Z"
   },
   {
    "duration": 807,
    "start_time": "2023-08-10T09:11:26.372Z"
   },
   {
    "duration": 0,
    "start_time": "2023-08-10T09:15:24.796Z"
   },
   {
    "duration": 1935,
    "start_time": "2023-08-10T09:15:33.179Z"
   },
   {
    "duration": 143,
    "start_time": "2023-08-10T09:16:06.078Z"
   },
   {
    "duration": 144,
    "start_time": "2023-08-10T09:17:59.871Z"
   },
   {
    "duration": 4,
    "start_time": "2023-08-10T09:18:08.367Z"
   },
   {
    "duration": 134,
    "start_time": "2023-08-10T09:18:12.103Z"
   },
   {
    "duration": 129,
    "start_time": "2023-08-10T09:18:27.006Z"
   },
   {
    "duration": 222,
    "start_time": "2023-08-10T09:18:44.063Z"
   },
   {
    "duration": 136,
    "start_time": "2023-08-10T09:19:01.278Z"
   },
   {
    "duration": 5,
    "start_time": "2023-08-10T09:19:12.370Z"
   },
   {
    "duration": 158,
    "start_time": "2023-08-10T09:19:17.485Z"
   },
   {
    "duration": 84,
    "start_time": "2023-08-10T09:19:27.706Z"
   },
   {
    "duration": 89,
    "start_time": "2023-08-10T09:19:52.283Z"
   },
   {
    "duration": 3532,
    "start_time": "2023-08-10T09:20:00.606Z"
   },
   {
    "duration": 118,
    "start_time": "2023-08-10T09:20:28.967Z"
   },
   {
    "duration": 100,
    "start_time": "2023-08-10T09:20:39.884Z"
   },
   {
    "duration": 91,
    "start_time": "2023-08-10T09:20:53.567Z"
   },
   {
    "duration": 105,
    "start_time": "2023-08-10T09:21:16.824Z"
   },
   {
    "duration": 25,
    "start_time": "2023-08-10T09:21:30.096Z"
   },
   {
    "duration": 8,
    "start_time": "2023-08-10T09:22:25.703Z"
   },
   {
    "duration": 18,
    "start_time": "2023-08-10T09:22:41.815Z"
   },
   {
    "duration": 19,
    "start_time": "2023-08-10T09:23:03.075Z"
   },
   {
    "duration": 15,
    "start_time": "2023-08-10T09:23:35.825Z"
   },
   {
    "duration": 19,
    "start_time": "2023-08-10T09:23:51.491Z"
   },
   {
    "duration": 15,
    "start_time": "2023-08-10T09:23:58.819Z"
   },
   {
    "duration": 21,
    "start_time": "2023-08-10T09:24:14.868Z"
   },
   {
    "duration": 13,
    "start_time": "2023-08-10T09:24:21.891Z"
   },
   {
    "duration": 14,
    "start_time": "2023-08-10T09:24:25.784Z"
   },
   {
    "duration": 13,
    "start_time": "2023-08-10T09:24:31.567Z"
   },
   {
    "duration": 3,
    "start_time": "2023-08-10T09:52:47.011Z"
   },
   {
    "duration": 13,
    "start_time": "2023-08-10T09:52:56.737Z"
   },
   {
    "duration": 30,
    "start_time": "2023-08-10T09:52:56.751Z"
   },
   {
    "duration": 16,
    "start_time": "2023-08-10T09:56:04.578Z"
   },
   {
    "duration": 6,
    "start_time": "2023-08-10T10:02:50.673Z"
   },
   {
    "duration": 6,
    "start_time": "2023-08-10T10:09:45.645Z"
   },
   {
    "duration": 7,
    "start_time": "2023-08-10T10:12:06.967Z"
   },
   {
    "duration": 6,
    "start_time": "2023-08-10T10:12:17.260Z"
   },
   {
    "duration": 5,
    "start_time": "2023-08-10T10:13:13.412Z"
   },
   {
    "duration": 5,
    "start_time": "2023-08-10T10:13:19.082Z"
   },
   {
    "duration": 5,
    "start_time": "2023-08-10T10:13:25.685Z"
   },
   {
    "duration": 7,
    "start_time": "2023-08-10T10:13:38.361Z"
   },
   {
    "duration": 0,
    "start_time": "2023-08-10T10:19:37.448Z"
   },
   {
    "duration": 1285,
    "start_time": "2023-08-10T10:19:53.741Z"
   },
   {
    "duration": 11,
    "start_time": "2023-08-10T10:25:31.907Z"
   },
   {
    "duration": 11,
    "start_time": "2023-08-10T10:28:01.475Z"
   },
   {
    "duration": 77,
    "start_time": "2023-08-10T10:28:52.185Z"
   },
   {
    "duration": 15,
    "start_time": "2023-08-10T10:53:51.546Z"
   },
   {
    "duration": 9,
    "start_time": "2023-08-10T10:54:13.020Z"
   },
   {
    "duration": 9,
    "start_time": "2023-08-10T10:55:13.072Z"
   },
   {
    "duration": 14,
    "start_time": "2023-08-10T10:56:26.504Z"
   },
   {
    "duration": 1152,
    "start_time": "2023-08-10T17:48:41.998Z"
   },
   {
    "duration": 43,
    "start_time": "2023-08-10T17:48:43.152Z"
   },
   {
    "duration": 12,
    "start_time": "2023-08-10T17:48:43.197Z"
   },
   {
    "duration": 15,
    "start_time": "2023-08-10T17:48:43.210Z"
   },
   {
    "duration": 22,
    "start_time": "2023-08-10T17:48:43.227Z"
   },
   {
    "duration": 49,
    "start_time": "2023-08-10T17:48:43.251Z"
   },
   {
    "duration": 12,
    "start_time": "2023-08-10T17:48:43.301Z"
   },
   {
    "duration": 6,
    "start_time": "2023-08-10T17:48:43.315Z"
   },
   {
    "duration": 27,
    "start_time": "2023-08-10T17:48:43.323Z"
   },
   {
    "duration": 20,
    "start_time": "2023-08-10T17:48:43.352Z"
   },
   {
    "duration": 9,
    "start_time": "2023-08-10T17:48:43.374Z"
   },
   {
    "duration": 5,
    "start_time": "2023-08-10T17:48:43.385Z"
   },
   {
    "duration": 16,
    "start_time": "2023-08-10T17:48:43.392Z"
   },
   {
    "duration": 15,
    "start_time": "2023-08-10T17:48:43.411Z"
   },
   {
    "duration": 3,
    "start_time": "2023-08-10T17:48:43.427Z"
   },
   {
    "duration": 7,
    "start_time": "2023-08-10T17:48:43.431Z"
   },
   {
    "duration": 20,
    "start_time": "2023-08-10T17:48:43.439Z"
   },
   {
    "duration": 6,
    "start_time": "2023-08-10T17:48:43.461Z"
   },
   {
    "duration": 17,
    "start_time": "2023-08-10T17:48:43.468Z"
   },
   {
    "duration": 8,
    "start_time": "2023-08-10T17:48:43.487Z"
   },
   {
    "duration": 7,
    "start_time": "2023-08-10T17:48:43.496Z"
   },
   {
    "duration": 7,
    "start_time": "2023-08-10T17:48:43.504Z"
   },
   {
    "duration": 6,
    "start_time": "2023-08-10T17:48:43.513Z"
   },
   {
    "duration": 49,
    "start_time": "2023-08-10T17:48:43.521Z"
   },
   {
    "duration": 271,
    "start_time": "2023-08-10T17:48:43.574Z"
   },
   {
    "duration": 186,
    "start_time": "2023-08-10T17:48:43.847Z"
   },
   {
    "duration": 7,
    "start_time": "2023-08-10T17:48:44.036Z"
   },
   {
    "duration": 217,
    "start_time": "2023-08-10T17:48:44.045Z"
   },
   {
    "duration": 13,
    "start_time": "2023-08-10T17:48:44.264Z"
   },
   {
    "duration": 10,
    "start_time": "2023-08-10T17:48:44.279Z"
   },
   {
    "duration": 138,
    "start_time": "2023-08-10T17:48:44.292Z"
   },
   {
    "duration": 695,
    "start_time": "2023-08-10T17:48:44.432Z"
   },
   {
    "duration": 11,
    "start_time": "2023-08-10T17:48:45.129Z"
   },
   {
    "duration": 24,
    "start_time": "2023-08-10T17:48:45.142Z"
   },
   {
    "duration": 7,
    "start_time": "2023-08-10T17:48:45.168Z"
   },
   {
    "duration": 21,
    "start_time": "2023-08-10T17:48:45.177Z"
   },
   {
    "duration": 990,
    "start_time": "2023-08-10T17:48:45.200Z"
   },
   {
    "duration": 157,
    "start_time": "2023-08-10T17:48:46.192Z"
   },
   {
    "duration": 10,
    "start_time": "2023-08-10T17:48:46.351Z"
   },
   {
    "duration": 89,
    "start_time": "2023-08-10T17:48:46.362Z"
   },
   {
    "duration": 1179,
    "start_time": "2023-08-10T17:48:46.458Z"
   },
   {
    "duration": 1271,
    "start_time": "2023-08-10T17:48:47.639Z"
   },
   {
    "duration": 33,
    "start_time": "2023-08-10T17:48:48.912Z"
   },
   {
    "duration": 25,
    "start_time": "2023-08-10T17:48:48.958Z"
   },
   {
    "duration": 22,
    "start_time": "2023-08-10T17:48:48.985Z"
   },
   {
    "duration": 345,
    "start_time": "2023-08-10T17:48:49.009Z"
   },
   {
    "duration": 598,
    "start_time": "2023-08-10T17:48:49.359Z"
   },
   {
    "duration": 871,
    "start_time": "2023-08-10T17:48:49.959Z"
   },
   {
    "duration": 3,
    "start_time": "2023-08-10T17:48:50.832Z"
   },
   {
    "duration": 108,
    "start_time": "2023-08-10T17:48:50.837Z"
   },
   {
    "duration": 0,
    "start_time": "2023-08-10T17:48:50.947Z"
   },
   {
    "duration": 0,
    "start_time": "2023-08-10T17:48:50.960Z"
   },
   {
    "duration": 0,
    "start_time": "2023-08-10T17:48:50.962Z"
   },
   {
    "duration": 0,
    "start_time": "2023-08-10T17:48:50.963Z"
   },
   {
    "duration": 115,
    "start_time": "2023-08-10T17:53:30.490Z"
   },
   {
    "duration": 139,
    "start_time": "2023-08-10T17:55:23.635Z"
   },
   {
    "duration": 112,
    "start_time": "2023-08-10T18:16:12.270Z"
   },
   {
    "duration": 108,
    "start_time": "2023-08-10T18:17:11.704Z"
   },
   {
    "duration": 44,
    "start_time": "2023-08-10T18:24:33.398Z"
   },
   {
    "duration": 1371,
    "start_time": "2023-08-10T18:24:43.816Z"
   },
   {
    "duration": 103,
    "start_time": "2023-08-10T18:24:45.189Z"
   },
   {
    "duration": 13,
    "start_time": "2023-08-10T18:24:45.293Z"
   },
   {
    "duration": 6,
    "start_time": "2023-08-10T18:24:45.308Z"
   },
   {
    "duration": 7,
    "start_time": "2023-08-10T18:24:45.315Z"
   },
   {
    "duration": 172,
    "start_time": "2023-08-10T18:24:45.324Z"
   },
   {
    "duration": 14,
    "start_time": "2023-08-10T18:24:45.498Z"
   },
   {
    "duration": 8,
    "start_time": "2023-08-10T18:24:45.514Z"
   },
   {
    "duration": 24,
    "start_time": "2023-08-10T18:24:45.524Z"
   },
   {
    "duration": 62,
    "start_time": "2023-08-10T18:24:45.551Z"
   },
   {
    "duration": 12,
    "start_time": "2023-08-10T18:24:45.615Z"
   },
   {
    "duration": 8,
    "start_time": "2023-08-10T18:24:45.629Z"
   },
   {
    "duration": 38,
    "start_time": "2023-08-10T18:24:45.639Z"
   },
   {
    "duration": 19,
    "start_time": "2023-08-10T18:24:45.679Z"
   },
   {
    "duration": 10,
    "start_time": "2023-08-10T18:24:45.700Z"
   },
   {
    "duration": 16,
    "start_time": "2023-08-10T18:24:45.712Z"
   },
   {
    "duration": 6,
    "start_time": "2023-08-10T18:24:45.730Z"
   },
   {
    "duration": 9,
    "start_time": "2023-08-10T18:24:45.738Z"
   },
   {
    "duration": 22,
    "start_time": "2023-08-10T18:24:45.749Z"
   },
   {
    "duration": 9,
    "start_time": "2023-08-10T18:24:45.773Z"
   },
   {
    "duration": 177,
    "start_time": "2023-08-10T18:24:45.784Z"
   },
   {
    "duration": 162,
    "start_time": "2023-08-10T18:24:45.966Z"
   },
   {
    "duration": 7,
    "start_time": "2023-08-10T18:24:46.129Z"
   },
   {
    "duration": 177,
    "start_time": "2023-08-10T18:24:46.138Z"
   },
   {
    "duration": 9,
    "start_time": "2023-08-10T18:24:46.317Z"
   },
   {
    "duration": 15,
    "start_time": "2023-08-10T18:24:46.328Z"
   },
   {
    "duration": 144,
    "start_time": "2023-08-10T18:24:46.344Z"
   },
   {
    "duration": 752,
    "start_time": "2023-08-10T18:24:46.494Z"
   },
   {
    "duration": 19,
    "start_time": "2023-08-10T18:24:47.248Z"
   },
   {
    "duration": 18,
    "start_time": "2023-08-10T18:24:47.269Z"
   },
   {
    "duration": 3,
    "start_time": "2023-08-10T18:24:47.288Z"
   },
   {
    "duration": 28,
    "start_time": "2023-08-10T18:24:47.292Z"
   },
   {
    "duration": 976,
    "start_time": "2023-08-10T18:24:47.322Z"
   },
   {
    "duration": 157,
    "start_time": "2023-08-10T18:24:48.300Z"
   },
   {
    "duration": 9,
    "start_time": "2023-08-10T18:24:48.459Z"
   },
   {
    "duration": 100,
    "start_time": "2023-08-10T18:24:48.470Z"
   },
   {
    "duration": 1237,
    "start_time": "2023-08-10T18:24:48.573Z"
   },
   {
    "duration": 1328,
    "start_time": "2023-08-10T18:24:49.813Z"
   },
   {
    "duration": 46,
    "start_time": "2023-08-10T18:24:51.143Z"
   },
   {
    "duration": 37,
    "start_time": "2023-08-10T18:24:51.191Z"
   },
   {
    "duration": 42,
    "start_time": "2023-08-10T18:24:51.230Z"
   },
   {
    "duration": 313,
    "start_time": "2023-08-10T18:24:51.274Z"
   },
   {
    "duration": 628,
    "start_time": "2023-08-10T18:24:51.589Z"
   },
   {
    "duration": 1020,
    "start_time": "2023-08-10T18:24:52.220Z"
   },
   {
    "duration": 4,
    "start_time": "2023-08-10T18:24:53.242Z"
   },
   {
    "duration": 133,
    "start_time": "2023-08-10T18:24:53.247Z"
   },
   {
    "duration": 1,
    "start_time": "2023-08-10T18:24:53.381Z"
   },
   {
    "duration": 0,
    "start_time": "2023-08-10T18:24:53.383Z"
   },
   {
    "duration": 0,
    "start_time": "2023-08-10T18:24:53.384Z"
   },
   {
    "duration": 0,
    "start_time": "2023-08-10T18:24:53.385Z"
   },
   {
    "duration": 159,
    "start_time": "2023-08-10T18:24:59.729Z"
   },
   {
    "duration": 165,
    "start_time": "2023-08-10T18:25:08.266Z"
   },
   {
    "duration": 201,
    "start_time": "2023-08-10T18:25:13.930Z"
   },
   {
    "duration": 159,
    "start_time": "2023-08-10T18:26:09.703Z"
   },
   {
    "duration": 173,
    "start_time": "2023-08-10T18:26:14.686Z"
   },
   {
    "duration": 290,
    "start_time": "2023-08-10T18:28:02.616Z"
   },
   {
    "duration": 146,
    "start_time": "2023-08-10T18:29:14.914Z"
   },
   {
    "duration": 170,
    "start_time": "2023-08-10T18:32:57.984Z"
   },
   {
    "duration": 1235,
    "start_time": "2023-08-10T18:34:35.506Z"
   },
   {
    "duration": 44,
    "start_time": "2023-08-10T18:34:36.743Z"
   },
   {
    "duration": 17,
    "start_time": "2023-08-10T18:34:36.790Z"
   },
   {
    "duration": 18,
    "start_time": "2023-08-10T18:34:36.809Z"
   },
   {
    "duration": 9,
    "start_time": "2023-08-10T18:34:36.829Z"
   },
   {
    "duration": 52,
    "start_time": "2023-08-10T18:34:36.840Z"
   },
   {
    "duration": 13,
    "start_time": "2023-08-10T18:34:36.894Z"
   },
   {
    "duration": 17,
    "start_time": "2023-08-10T18:34:36.909Z"
   },
   {
    "duration": 32,
    "start_time": "2023-08-10T18:34:36.928Z"
   },
   {
    "duration": 21,
    "start_time": "2023-08-10T18:34:36.963Z"
   },
   {
    "duration": 12,
    "start_time": "2023-08-10T18:34:36.985Z"
   },
   {
    "duration": 29,
    "start_time": "2023-08-10T18:34:36.999Z"
   },
   {
    "duration": 33,
    "start_time": "2023-08-10T18:34:37.030Z"
   },
   {
    "duration": 19,
    "start_time": "2023-08-10T18:34:37.065Z"
   },
   {
    "duration": 9,
    "start_time": "2023-08-10T18:34:37.086Z"
   },
   {
    "duration": 10,
    "start_time": "2023-08-10T18:34:37.097Z"
   },
   {
    "duration": 7,
    "start_time": "2023-08-10T18:34:37.109Z"
   },
   {
    "duration": 16,
    "start_time": "2023-08-10T18:34:37.118Z"
   },
   {
    "duration": 14,
    "start_time": "2023-08-10T18:34:37.136Z"
   },
   {
    "duration": 22,
    "start_time": "2023-08-10T18:34:37.166Z"
   },
   {
    "duration": 215,
    "start_time": "2023-08-10T18:34:37.190Z"
   },
   {
    "duration": 6,
    "start_time": "2023-08-10T18:34:37.407Z"
   },
   {
    "duration": 266,
    "start_time": "2023-08-10T18:34:37.415Z"
   },
   {
    "duration": 0,
    "start_time": "2023-08-10T18:34:37.684Z"
   },
   {
    "duration": 0,
    "start_time": "2023-08-10T18:34:37.685Z"
   },
   {
    "duration": 0,
    "start_time": "2023-08-10T18:34:37.687Z"
   },
   {
    "duration": 0,
    "start_time": "2023-08-10T18:34:37.688Z"
   },
   {
    "duration": 0,
    "start_time": "2023-08-10T18:34:37.689Z"
   },
   {
    "duration": 0,
    "start_time": "2023-08-10T18:34:37.690Z"
   },
   {
    "duration": 0,
    "start_time": "2023-08-10T18:34:37.691Z"
   },
   {
    "duration": 0,
    "start_time": "2023-08-10T18:34:37.692Z"
   },
   {
    "duration": 0,
    "start_time": "2023-08-10T18:34:37.694Z"
   },
   {
    "duration": 0,
    "start_time": "2023-08-10T18:34:37.695Z"
   },
   {
    "duration": 0,
    "start_time": "2023-08-10T18:34:37.696Z"
   },
   {
    "duration": 0,
    "start_time": "2023-08-10T18:34:37.698Z"
   },
   {
    "duration": 0,
    "start_time": "2023-08-10T18:34:37.700Z"
   },
   {
    "duration": 0,
    "start_time": "2023-08-10T18:34:37.701Z"
   },
   {
    "duration": 0,
    "start_time": "2023-08-10T18:34:37.703Z"
   },
   {
    "duration": 0,
    "start_time": "2023-08-10T18:34:37.704Z"
   },
   {
    "duration": 0,
    "start_time": "2023-08-10T18:34:37.706Z"
   },
   {
    "duration": 0,
    "start_time": "2023-08-10T18:34:37.707Z"
   },
   {
    "duration": 0,
    "start_time": "2023-08-10T18:34:37.709Z"
   },
   {
    "duration": 0,
    "start_time": "2023-08-10T18:34:37.710Z"
   },
   {
    "duration": 0,
    "start_time": "2023-08-10T18:34:37.711Z"
   },
   {
    "duration": 0,
    "start_time": "2023-08-10T18:34:37.712Z"
   },
   {
    "duration": 0,
    "start_time": "2023-08-10T18:34:37.713Z"
   },
   {
    "duration": 0,
    "start_time": "2023-08-10T18:34:37.714Z"
   },
   {
    "duration": 0,
    "start_time": "2023-08-10T18:34:37.715Z"
   },
   {
    "duration": 0,
    "start_time": "2023-08-10T18:34:37.767Z"
   },
   {
    "duration": 5,
    "start_time": "2023-08-10T18:36:20.670Z"
   },
   {
    "duration": 7,
    "start_time": "2023-08-10T18:36:29.104Z"
   },
   {
    "duration": 15,
    "start_time": "2023-08-10T18:36:53.696Z"
   },
   {
    "duration": 110,
    "start_time": "2023-08-10T18:38:11.411Z"
   },
   {
    "duration": 15,
    "start_time": "2023-08-10T18:38:24.725Z"
   },
   {
    "duration": 5,
    "start_time": "2023-08-10T18:44:52.078Z"
   },
   {
    "duration": 178,
    "start_time": "2023-08-10T18:45:07.517Z"
   },
   {
    "duration": 160,
    "start_time": "2023-08-10T18:45:15.490Z"
   },
   {
    "duration": 167,
    "start_time": "2023-08-10T18:45:25.086Z"
   },
   {
    "duration": 43,
    "start_time": "2023-08-10T18:45:32.162Z"
   },
   {
    "duration": 37,
    "start_time": "2023-08-10T18:45:40.388Z"
   },
   {
    "duration": 127,
    "start_time": "2023-08-10T18:47:27.197Z"
   },
   {
    "duration": 149,
    "start_time": "2023-08-10T18:47:40.176Z"
   },
   {
    "duration": 143,
    "start_time": "2023-08-10T18:48:06.110Z"
   },
   {
    "duration": 156,
    "start_time": "2023-08-10T18:48:17.530Z"
   },
   {
    "duration": 112,
    "start_time": "2023-08-10T18:48:48.708Z"
   },
   {
    "duration": 126,
    "start_time": "2023-08-10T18:48:54.757Z"
   },
   {
    "duration": 113,
    "start_time": "2023-08-10T18:49:25.294Z"
   },
   {
    "duration": 248,
    "start_time": "2023-08-10T18:49:53.613Z"
   },
   {
    "duration": 111,
    "start_time": "2023-08-10T18:50:48.386Z"
   },
   {
    "duration": 750,
    "start_time": "2023-08-10T18:52:20.806Z"
   },
   {
    "duration": 170,
    "start_time": "2023-08-10T18:52:58.295Z"
   },
   {
    "duration": 129,
    "start_time": "2023-08-10T18:53:05.615Z"
   },
   {
    "duration": 163,
    "start_time": "2023-08-10T18:53:11.882Z"
   },
   {
    "duration": 164,
    "start_time": "2023-08-10T18:53:19.269Z"
   },
   {
    "duration": 145,
    "start_time": "2023-08-10T18:53:27.017Z"
   },
   {
    "duration": 155,
    "start_time": "2023-08-10T18:53:35.041Z"
   },
   {
    "duration": 303,
    "start_time": "2023-08-10T18:53:40.166Z"
   },
   {
    "duration": 1370,
    "start_time": "2023-08-10T18:53:56.269Z"
   },
   {
    "duration": 51,
    "start_time": "2023-08-10T18:53:57.641Z"
   },
   {
    "duration": 13,
    "start_time": "2023-08-10T18:53:57.693Z"
   },
   {
    "duration": 10,
    "start_time": "2023-08-10T18:53:57.709Z"
   },
   {
    "duration": 6,
    "start_time": "2023-08-10T18:53:57.721Z"
   },
   {
    "duration": 40,
    "start_time": "2023-08-10T18:53:57.728Z"
   },
   {
    "duration": 19,
    "start_time": "2023-08-10T18:53:57.769Z"
   },
   {
    "duration": 3,
    "start_time": "2023-08-10T18:53:57.790Z"
   },
   {
    "duration": 25,
    "start_time": "2023-08-10T18:53:57.795Z"
   },
   {
    "duration": 20,
    "start_time": "2023-08-10T18:53:57.825Z"
   },
   {
    "duration": 32,
    "start_time": "2023-08-10T18:53:57.847Z"
   },
   {
    "duration": 4,
    "start_time": "2023-08-10T18:53:57.882Z"
   },
   {
    "duration": 17,
    "start_time": "2023-08-10T18:53:57.888Z"
   },
   {
    "duration": 20,
    "start_time": "2023-08-10T18:53:57.907Z"
   },
   {
    "duration": 11,
    "start_time": "2023-08-10T18:53:57.929Z"
   },
   {
    "duration": 27,
    "start_time": "2023-08-10T18:53:57.941Z"
   },
   {
    "duration": 13,
    "start_time": "2023-08-10T18:53:57.973Z"
   },
   {
    "duration": 11,
    "start_time": "2023-08-10T18:53:57.987Z"
   },
   {
    "duration": 8,
    "start_time": "2023-08-10T18:53:58.000Z"
   },
   {
    "duration": 20,
    "start_time": "2023-08-10T18:53:58.009Z"
   },
   {
    "duration": 209,
    "start_time": "2023-08-10T18:53:58.030Z"
   },
   {
    "duration": 6,
    "start_time": "2023-08-10T18:53:58.241Z"
   },
   {
    "duration": 179,
    "start_time": "2023-08-10T18:53:58.249Z"
   },
   {
    "duration": 10,
    "start_time": "2023-08-10T18:53:58.430Z"
   },
   {
    "duration": 8,
    "start_time": "2023-08-10T18:53:58.441Z"
   },
   {
    "duration": 130,
    "start_time": "2023-08-10T18:53:58.467Z"
   },
   {
    "duration": 168,
    "start_time": "2023-08-10T18:53:58.599Z"
   },
   {
    "duration": 13,
    "start_time": "2023-08-10T18:53:58.778Z"
   },
   {
    "duration": 13,
    "start_time": "2023-08-10T18:53:58.793Z"
   },
   {
    "duration": 23,
    "start_time": "2023-08-10T18:53:58.808Z"
   },
   {
    "duration": 22,
    "start_time": "2023-08-10T18:53:58.834Z"
   },
   {
    "duration": 951,
    "start_time": "2023-08-10T18:53:58.859Z"
   },
   {
    "duration": 179,
    "start_time": "2023-08-10T18:53:59.812Z"
   },
   {
    "duration": 8,
    "start_time": "2023-08-10T18:53:59.993Z"
   },
   {
    "duration": 250,
    "start_time": "2023-08-10T18:54:00.003Z"
   },
   {
    "duration": 1349,
    "start_time": "2023-08-10T18:54:00.256Z"
   },
   {
    "duration": 1334,
    "start_time": "2023-08-10T18:54:01.607Z"
   },
   {
    "duration": 44,
    "start_time": "2023-08-10T18:54:02.942Z"
   },
   {
    "duration": 25,
    "start_time": "2023-08-10T18:54:02.988Z"
   },
   {
    "duration": 25,
    "start_time": "2023-08-10T18:54:03.015Z"
   },
   {
    "duration": 347,
    "start_time": "2023-08-10T18:54:03.041Z"
   },
   {
    "duration": 775,
    "start_time": "2023-08-10T18:54:03.390Z"
   },
   {
    "duration": 994,
    "start_time": "2023-08-10T18:54:04.169Z"
   },
   {
    "duration": 7,
    "start_time": "2023-08-10T18:54:05.167Z"
   },
   {
    "duration": 139,
    "start_time": "2023-08-10T18:54:05.176Z"
   },
   {
    "duration": 0,
    "start_time": "2023-08-10T18:54:05.317Z"
   },
   {
    "duration": 0,
    "start_time": "2023-08-10T18:54:05.319Z"
   },
   {
    "duration": 0,
    "start_time": "2023-08-10T18:54:05.320Z"
   },
   {
    "duration": 0,
    "start_time": "2023-08-10T18:54:05.321Z"
   },
   {
    "duration": 125,
    "start_time": "2023-08-10T18:54:48.483Z"
   },
   {
    "duration": 126,
    "start_time": "2023-08-10T18:55:51.882Z"
   },
   {
    "duration": 124,
    "start_time": "2023-08-10T18:56:16.488Z"
   },
   {
    "duration": 724,
    "start_time": "2023-08-10T18:57:34.932Z"
   },
   {
    "duration": 163,
    "start_time": "2023-08-10T18:58:48.781Z"
   },
   {
    "duration": 282,
    "start_time": "2023-08-10T19:00:21.373Z"
   },
   {
    "duration": 157,
    "start_time": "2023-08-10T19:00:33.499Z"
   },
   {
    "duration": 179,
    "start_time": "2023-08-10T19:01:01.001Z"
   },
   {
    "duration": 178,
    "start_time": "2023-08-10T19:01:24.583Z"
   },
   {
    "duration": 161,
    "start_time": "2023-08-10T19:04:09.480Z"
   },
   {
    "duration": 156,
    "start_time": "2023-08-10T19:04:23.678Z"
   },
   {
    "duration": 119,
    "start_time": "2023-08-10T19:04:47.792Z"
   },
   {
    "duration": 284,
    "start_time": "2023-08-10T19:06:22.076Z"
   },
   {
    "duration": 283,
    "start_time": "2023-08-10T19:07:01.519Z"
   },
   {
    "duration": 370,
    "start_time": "2023-08-10T19:07:20.619Z"
   },
   {
    "duration": 301,
    "start_time": "2023-08-10T19:07:31.362Z"
   },
   {
    "duration": 270,
    "start_time": "2023-08-10T19:07:40.303Z"
   },
   {
    "duration": 279,
    "start_time": "2023-08-10T19:07:51.819Z"
   },
   {
    "duration": 279,
    "start_time": "2023-08-10T19:08:00.888Z"
   },
   {
    "duration": 298,
    "start_time": "2023-08-10T19:19:36.669Z"
   },
   {
    "duration": 388,
    "start_time": "2023-08-10T19:20:19.655Z"
   },
   {
    "duration": 1113,
    "start_time": "2023-08-10T19:21:58.541Z"
   },
   {
    "duration": 941,
    "start_time": "2023-08-10T19:22:14.502Z"
   },
   {
    "duration": 902,
    "start_time": "2023-08-10T19:25:27.000Z"
   },
   {
    "duration": 21,
    "start_time": "2023-08-10T19:26:44.303Z"
   },
   {
    "duration": 912,
    "start_time": "2023-08-10T19:27:09.277Z"
   },
   {
    "duration": 6,
    "start_time": "2023-08-10T19:31:05.867Z"
   },
   {
    "duration": 21,
    "start_time": "2023-08-10T19:31:20.033Z"
   },
   {
    "duration": 9,
    "start_time": "2023-08-10T19:33:17.970Z"
   },
   {
    "duration": 10,
    "start_time": "2023-08-10T19:33:30.809Z"
   },
   {
    "duration": 24,
    "start_time": "2023-08-10T19:33:52.641Z"
   },
   {
    "duration": 17,
    "start_time": "2023-08-10T19:34:44.487Z"
   },
   {
    "duration": 5,
    "start_time": "2023-08-10T19:34:53.486Z"
   },
   {
    "duration": 20,
    "start_time": "2023-08-10T19:35:08.165Z"
   },
   {
    "duration": 158,
    "start_time": "2023-08-10T19:35:50.608Z"
   },
   {
    "duration": 164,
    "start_time": "2023-08-10T19:37:41.591Z"
   },
   {
    "duration": 1354,
    "start_time": "2023-08-10T19:38:37.170Z"
   },
   {
    "duration": 59,
    "start_time": "2023-08-10T19:38:38.526Z"
   },
   {
    "duration": 12,
    "start_time": "2023-08-10T19:38:38.587Z"
   },
   {
    "duration": 24,
    "start_time": "2023-08-10T19:38:38.601Z"
   },
   {
    "duration": 20,
    "start_time": "2023-08-10T19:38:38.628Z"
   },
   {
    "duration": 40,
    "start_time": "2023-08-10T19:38:38.650Z"
   },
   {
    "duration": 13,
    "start_time": "2023-08-10T19:38:38.692Z"
   },
   {
    "duration": 3,
    "start_time": "2023-08-10T19:38:38.707Z"
   },
   {
    "duration": 28,
    "start_time": "2023-08-10T19:38:38.712Z"
   },
   {
    "duration": 44,
    "start_time": "2023-08-10T19:38:38.742Z"
   },
   {
    "duration": 11,
    "start_time": "2023-08-10T19:38:38.788Z"
   },
   {
    "duration": 8,
    "start_time": "2023-08-10T19:38:38.800Z"
   },
   {
    "duration": 10,
    "start_time": "2023-08-10T19:38:38.809Z"
   },
   {
    "duration": 17,
    "start_time": "2023-08-10T19:38:38.823Z"
   },
   {
    "duration": 26,
    "start_time": "2023-08-10T19:38:38.842Z"
   },
   {
    "duration": 13,
    "start_time": "2023-08-10T19:38:38.869Z"
   },
   {
    "duration": 29,
    "start_time": "2023-08-10T19:38:38.884Z"
   },
   {
    "duration": 19,
    "start_time": "2023-08-10T19:38:38.915Z"
   },
   {
    "duration": 7,
    "start_time": "2023-08-10T19:38:38.936Z"
   },
   {
    "duration": 10,
    "start_time": "2023-08-10T19:38:38.944Z"
   },
   {
    "duration": 200,
    "start_time": "2023-08-10T19:38:38.956Z"
   },
   {
    "duration": 10,
    "start_time": "2023-08-10T19:38:39.157Z"
   },
   {
    "duration": 157,
    "start_time": "2023-08-10T19:38:39.169Z"
   },
   {
    "duration": 10,
    "start_time": "2023-08-10T19:38:39.327Z"
   },
   {
    "duration": 8,
    "start_time": "2023-08-10T19:38:39.338Z"
   },
   {
    "duration": 136,
    "start_time": "2023-08-10T19:38:39.348Z"
   },
   {
    "duration": 164,
    "start_time": "2023-08-10T19:38:39.486Z"
   },
   {
    "duration": 8,
    "start_time": "2023-08-10T19:38:39.652Z"
   },
   {
    "duration": 13,
    "start_time": "2023-08-10T19:38:39.667Z"
   },
   {
    "duration": 8,
    "start_time": "2023-08-10T19:38:39.683Z"
   },
   {
    "duration": 16,
    "start_time": "2023-08-10T19:38:39.693Z"
   },
   {
    "duration": 218,
    "start_time": "2023-08-10T19:38:39.711Z"
   },
   {
    "duration": 1007,
    "start_time": "2023-08-10T19:38:39.932Z"
   },
   {
    "duration": 155,
    "start_time": "2023-08-10T19:38:40.941Z"
   },
   {
    "duration": 6,
    "start_time": "2023-08-10T19:38:41.098Z"
   },
   {
    "duration": 97,
    "start_time": "2023-08-10T19:38:41.105Z"
   },
   {
    "duration": 1254,
    "start_time": "2023-08-10T19:38:41.204Z"
   },
   {
    "duration": 1293,
    "start_time": "2023-08-10T19:38:42.460Z"
   },
   {
    "duration": 39,
    "start_time": "2023-08-10T19:38:43.755Z"
   },
   {
    "duration": 22,
    "start_time": "2023-08-10T19:38:43.796Z"
   },
   {
    "duration": 23,
    "start_time": "2023-08-10T19:38:43.822Z"
   },
   {
    "duration": 394,
    "start_time": "2023-08-10T19:38:43.866Z"
   },
   {
    "duration": 424,
    "start_time": "2023-08-10T19:38:44.267Z"
   },
   {
    "duration": 1049,
    "start_time": "2023-08-10T19:38:44.693Z"
   },
   {
    "duration": 33,
    "start_time": "2023-08-10T19:38:45.744Z"
   },
   {
    "duration": 16,
    "start_time": "2023-08-10T19:38:45.778Z"
   },
   {
    "duration": 20,
    "start_time": "2023-08-10T19:38:45.796Z"
   },
   {
    "duration": 31,
    "start_time": "2023-08-10T19:38:45.818Z"
   },
   {
    "duration": 19,
    "start_time": "2023-08-10T19:38:45.851Z"
   },
   {
    "duration": 26,
    "start_time": "2023-08-10T19:38:45.871Z"
   },
   {
    "duration": 9,
    "start_time": "2023-08-10T19:39:44.780Z"
   },
   {
    "duration": 1202,
    "start_time": "2023-08-10T19:40:58.529Z"
   },
   {
    "duration": 159,
    "start_time": "2023-08-10T19:41:27.430Z"
   },
   {
    "duration": 1131,
    "start_time": "2023-08-10T19:41:33.781Z"
   },
   {
    "duration": 1199,
    "start_time": "2023-08-10T19:42:03.269Z"
   },
   {
    "duration": 163,
    "start_time": "2023-08-10T19:42:07.871Z"
   },
   {
    "duration": 1103,
    "start_time": "2023-08-10T19:42:46.269Z"
   },
   {
    "duration": 163,
    "start_time": "2023-08-10T19:42:49.465Z"
   },
   {
    "duration": 158,
    "start_time": "2023-08-10T19:43:26.914Z"
   },
   {
    "duration": 1215,
    "start_time": "2023-08-10T19:44:29.708Z"
   },
   {
    "duration": 43,
    "start_time": "2023-08-10T19:44:30.926Z"
   },
   {
    "duration": 11,
    "start_time": "2023-08-10T19:44:30.971Z"
   },
   {
    "duration": 31,
    "start_time": "2023-08-10T19:44:30.984Z"
   },
   {
    "duration": 29,
    "start_time": "2023-08-10T19:44:31.018Z"
   },
   {
    "duration": 71,
    "start_time": "2023-08-10T19:44:31.049Z"
   },
   {
    "duration": 12,
    "start_time": "2023-08-10T19:44:31.122Z"
   },
   {
    "duration": 39,
    "start_time": "2023-08-10T19:44:31.136Z"
   },
   {
    "duration": 68,
    "start_time": "2023-08-10T19:44:31.177Z"
   },
   {
    "duration": 22,
    "start_time": "2023-08-10T19:44:31.248Z"
   },
   {
    "duration": 28,
    "start_time": "2023-08-10T19:44:31.272Z"
   },
   {
    "duration": 41,
    "start_time": "2023-08-10T19:44:31.302Z"
   },
   {
    "duration": 40,
    "start_time": "2023-08-10T19:44:31.345Z"
   },
   {
    "duration": 46,
    "start_time": "2023-08-10T19:44:31.390Z"
   },
   {
    "duration": 32,
    "start_time": "2023-08-10T19:44:31.438Z"
   },
   {
    "duration": 44,
    "start_time": "2023-08-10T19:44:31.473Z"
   },
   {
    "duration": 28,
    "start_time": "2023-08-10T19:44:31.519Z"
   },
   {
    "duration": 62,
    "start_time": "2023-08-10T19:44:31.549Z"
   },
   {
    "duration": 43,
    "start_time": "2023-08-10T19:44:31.612Z"
   },
   {
    "duration": 48,
    "start_time": "2023-08-10T19:44:31.657Z"
   },
   {
    "duration": 222,
    "start_time": "2023-08-10T19:44:31.707Z"
   },
   {
    "duration": 7,
    "start_time": "2023-08-10T19:44:31.931Z"
   },
   {
    "duration": 183,
    "start_time": "2023-08-10T19:44:31.940Z"
   },
   {
    "duration": 10,
    "start_time": "2023-08-10T19:44:32.125Z"
   },
   {
    "duration": 20,
    "start_time": "2023-08-10T19:44:32.137Z"
   },
   {
    "duration": 156,
    "start_time": "2023-08-10T19:44:32.159Z"
   },
   {
    "duration": 188,
    "start_time": "2023-08-10T19:44:32.317Z"
   },
   {
    "duration": 7,
    "start_time": "2023-08-10T19:44:32.507Z"
   },
   {
    "duration": 24,
    "start_time": "2023-08-10T19:44:32.516Z"
   },
   {
    "duration": 8,
    "start_time": "2023-08-10T19:44:32.542Z"
   },
   {
    "duration": 18,
    "start_time": "2023-08-10T19:44:32.551Z"
   },
   {
    "duration": 186,
    "start_time": "2023-08-10T19:44:32.571Z"
   },
   {
    "duration": 1052,
    "start_time": "2023-08-10T19:44:32.759Z"
   },
   {
    "duration": 190,
    "start_time": "2023-08-10T19:44:33.813Z"
   },
   {
    "duration": 7,
    "start_time": "2023-08-10T19:44:34.005Z"
   },
   {
    "duration": 117,
    "start_time": "2023-08-10T19:44:34.014Z"
   },
   {
    "duration": 1098,
    "start_time": "2023-08-10T19:44:34.133Z"
   },
   {
    "duration": 166,
    "start_time": "2023-08-10T19:44:35.233Z"
   },
   {
    "duration": 1095,
    "start_time": "2023-08-10T19:44:35.402Z"
   },
   {
    "duration": 170,
    "start_time": "2023-08-10T19:44:36.499Z"
   },
   {
    "duration": 33,
    "start_time": "2023-08-10T19:44:36.673Z"
   },
   {
    "duration": 24,
    "start_time": "2023-08-10T19:44:36.708Z"
   },
   {
    "duration": 47,
    "start_time": "2023-08-10T19:44:36.733Z"
   },
   {
    "duration": 396,
    "start_time": "2023-08-10T19:44:36.781Z"
   },
   {
    "duration": 267,
    "start_time": "2023-08-10T19:44:37.178Z"
   },
   {
    "duration": 937,
    "start_time": "2023-08-10T19:44:37.446Z"
   },
   {
    "duration": 22,
    "start_time": "2023-08-10T19:44:38.385Z"
   },
   {
    "duration": 16,
    "start_time": "2023-08-10T19:44:38.409Z"
   },
   {
    "duration": 41,
    "start_time": "2023-08-10T19:44:38.426Z"
   },
   {
    "duration": 7,
    "start_time": "2023-08-10T19:44:38.469Z"
   },
   {
    "duration": 13,
    "start_time": "2023-08-10T19:44:38.477Z"
   },
   {
    "duration": 14,
    "start_time": "2023-08-10T19:44:38.493Z"
   },
   {
    "duration": 1311,
    "start_time": "2023-08-11T05:48:42.108Z"
   },
   {
    "duration": 85,
    "start_time": "2023-08-11T05:48:43.421Z"
   },
   {
    "duration": 11,
    "start_time": "2023-08-11T05:48:43.507Z"
   },
   {
    "duration": 14,
    "start_time": "2023-08-11T05:48:43.519Z"
   },
   {
    "duration": 9,
    "start_time": "2023-08-11T05:48:43.535Z"
   },
   {
    "duration": 78,
    "start_time": "2023-08-11T05:48:43.546Z"
   },
   {
    "duration": 10,
    "start_time": "2023-08-11T05:48:43.626Z"
   },
   {
    "duration": 14,
    "start_time": "2023-08-11T05:48:43.637Z"
   },
   {
    "duration": 23,
    "start_time": "2023-08-11T05:48:43.652Z"
   },
   {
    "duration": 55,
    "start_time": "2023-08-11T05:48:43.677Z"
   },
   {
    "duration": 9,
    "start_time": "2023-08-11T05:48:43.734Z"
   },
   {
    "duration": 11,
    "start_time": "2023-08-11T05:48:43.744Z"
   },
   {
    "duration": 10,
    "start_time": "2023-08-11T05:48:43.756Z"
   },
   {
    "duration": 19,
    "start_time": "2023-08-11T05:48:43.767Z"
   },
   {
    "duration": 16,
    "start_time": "2023-08-11T05:48:43.788Z"
   },
   {
    "duration": 8,
    "start_time": "2023-08-11T05:48:43.807Z"
   },
   {
    "duration": 4,
    "start_time": "2023-08-11T05:48:43.817Z"
   },
   {
    "duration": 15,
    "start_time": "2023-08-11T05:48:43.823Z"
   },
   {
    "duration": 5,
    "start_time": "2023-08-11T05:48:43.840Z"
   },
   {
    "duration": 17,
    "start_time": "2023-08-11T05:48:43.847Z"
   },
   {
    "duration": 158,
    "start_time": "2023-08-11T05:48:43.866Z"
   },
   {
    "duration": 11,
    "start_time": "2023-08-11T05:48:44.026Z"
   },
   {
    "duration": 134,
    "start_time": "2023-08-11T05:48:44.039Z"
   },
   {
    "duration": 7,
    "start_time": "2023-08-11T05:48:44.175Z"
   },
   {
    "duration": 8,
    "start_time": "2023-08-11T05:48:44.184Z"
   },
   {
    "duration": 109,
    "start_time": "2023-08-11T05:48:44.193Z"
   },
   {
    "duration": 156,
    "start_time": "2023-08-11T05:48:44.304Z"
   },
   {
    "duration": 9,
    "start_time": "2023-08-11T05:48:44.464Z"
   },
   {
    "duration": 40,
    "start_time": "2023-08-11T05:48:44.474Z"
   },
   {
    "duration": 12,
    "start_time": "2023-08-11T05:48:44.516Z"
   },
   {
    "duration": 17,
    "start_time": "2023-08-11T05:48:44.530Z"
   },
   {
    "duration": 147,
    "start_time": "2023-08-11T05:48:44.550Z"
   },
   {
    "duration": 679,
    "start_time": "2023-08-11T05:48:44.699Z"
   },
   {
    "duration": 124,
    "start_time": "2023-08-11T05:48:45.379Z"
   },
   {
    "duration": 5,
    "start_time": "2023-08-11T05:48:45.505Z"
   },
   {
    "duration": 81,
    "start_time": "2023-08-11T05:48:45.511Z"
   },
   {
    "duration": 853,
    "start_time": "2023-08-11T05:48:45.593Z"
   },
   {
    "duration": 138,
    "start_time": "2023-08-11T05:48:46.447Z"
   },
   {
    "duration": 843,
    "start_time": "2023-08-11T05:48:46.587Z"
   },
   {
    "duration": 153,
    "start_time": "2023-08-11T05:48:47.431Z"
   },
   {
    "duration": 30,
    "start_time": "2023-08-11T05:48:47.586Z"
   },
   {
    "duration": 35,
    "start_time": "2023-08-11T05:48:47.618Z"
   },
   {
    "duration": 17,
    "start_time": "2023-08-11T05:48:47.654Z"
   },
   {
    "duration": 472,
    "start_time": "2023-08-11T05:48:47.672Z"
   },
   {
    "duration": 421,
    "start_time": "2023-08-11T05:48:48.146Z"
   },
   {
    "duration": 1503,
    "start_time": "2023-08-11T05:48:48.569Z"
   },
   {
    "duration": 18,
    "start_time": "2023-08-11T05:48:50.073Z"
   },
   {
    "duration": 25,
    "start_time": "2023-08-11T05:48:50.092Z"
   },
   {
    "duration": 12,
    "start_time": "2023-08-11T05:48:50.118Z"
   },
   {
    "duration": 5,
    "start_time": "2023-08-11T05:48:50.138Z"
   },
   {
    "duration": 11,
    "start_time": "2023-08-11T05:48:50.145Z"
   },
   {
    "duration": 12,
    "start_time": "2023-08-11T05:48:50.158Z"
   },
   {
    "duration": 5,
    "start_time": "2023-08-11T05:50:47.620Z"
   },
   {
    "duration": 4,
    "start_time": "2023-08-11T05:51:11.649Z"
   },
   {
    "duration": 164,
    "start_time": "2023-08-11T05:55:55.257Z"
   },
   {
    "duration": 137,
    "start_time": "2023-08-11T05:57:25.549Z"
   },
   {
    "duration": 136,
    "start_time": "2023-08-11T05:57:34.729Z"
   },
   {
    "duration": 142,
    "start_time": "2023-08-11T05:58:07.799Z"
   },
   {
    "duration": 221,
    "start_time": "2023-08-11T05:59:33.450Z"
   },
   {
    "duration": 7,
    "start_time": "2023-08-11T06:02:59.719Z"
   },
   {
    "duration": 5,
    "start_time": "2023-08-11T06:03:28.579Z"
   },
   {
    "duration": 6,
    "start_time": "2023-08-11T06:03:35.707Z"
   },
   {
    "duration": 53,
    "start_time": "2023-08-11T10:51:30.721Z"
   },
   {
    "duration": 1499,
    "start_time": "2023-08-11T10:51:38.119Z"
   },
   {
    "duration": 102,
    "start_time": "2023-08-11T10:51:39.621Z"
   },
   {
    "duration": 14,
    "start_time": "2023-08-11T10:51:39.724Z"
   },
   {
    "duration": 5,
    "start_time": "2023-08-11T10:51:39.739Z"
   },
   {
    "duration": 6,
    "start_time": "2023-08-11T10:51:39.746Z"
   },
   {
    "duration": 170,
    "start_time": "2023-08-11T10:51:39.753Z"
   },
   {
    "duration": 11,
    "start_time": "2023-08-11T10:51:39.925Z"
   },
   {
    "duration": 4,
    "start_time": "2023-08-11T10:51:39.938Z"
   },
   {
    "duration": 22,
    "start_time": "2023-08-11T10:51:39.944Z"
   },
   {
    "duration": 68,
    "start_time": "2023-08-11T10:51:39.968Z"
   },
   {
    "duration": 11,
    "start_time": "2023-08-11T10:51:40.037Z"
   },
   {
    "duration": 24,
    "start_time": "2023-08-11T10:51:40.049Z"
   },
   {
    "duration": 36,
    "start_time": "2023-08-11T10:51:40.074Z"
   },
   {
    "duration": 46,
    "start_time": "2023-08-11T10:51:40.113Z"
   },
   {
    "duration": 23,
    "start_time": "2023-08-11T10:51:40.160Z"
   },
   {
    "duration": 7,
    "start_time": "2023-08-11T10:51:40.185Z"
   },
   {
    "duration": 14,
    "start_time": "2023-08-11T10:51:40.194Z"
   },
   {
    "duration": 12,
    "start_time": "2023-08-11T10:51:40.209Z"
   },
   {
    "duration": 15,
    "start_time": "2023-08-11T10:51:40.222Z"
   },
   {
    "duration": 19,
    "start_time": "2023-08-11T10:51:40.239Z"
   },
   {
    "duration": 10,
    "start_time": "2023-08-11T10:51:40.259Z"
   },
   {
    "duration": 191,
    "start_time": "2023-08-11T10:51:40.270Z"
   },
   {
    "duration": 206,
    "start_time": "2023-08-11T10:51:40.466Z"
   },
   {
    "duration": 6,
    "start_time": "2023-08-11T10:51:40.674Z"
   },
   {
    "duration": 168,
    "start_time": "2023-08-11T10:51:40.681Z"
   },
   {
    "duration": 178,
    "start_time": "2023-08-11T10:51:40.851Z"
   },
   {
    "duration": 9,
    "start_time": "2023-08-11T10:51:41.031Z"
   },
   {
    "duration": 8,
    "start_time": "2023-08-11T10:51:41.041Z"
   },
   {
    "duration": 120,
    "start_time": "2023-08-11T10:51:41.067Z"
   },
   {
    "duration": 161,
    "start_time": "2023-08-11T10:51:41.189Z"
   },
   {
    "duration": 280,
    "start_time": "2023-08-11T10:51:41.352Z"
   },
   {
    "duration": 8,
    "start_time": "2023-08-11T10:51:41.635Z"
   },
   {
    "duration": 27,
    "start_time": "2023-08-11T10:51:41.645Z"
   },
   {
    "duration": 9,
    "start_time": "2023-08-11T10:51:41.674Z"
   },
   {
    "duration": 31,
    "start_time": "2023-08-11T10:51:41.685Z"
   },
   {
    "duration": 259,
    "start_time": "2023-08-11T10:51:41.718Z"
   },
   {
    "duration": 923,
    "start_time": "2023-08-11T10:51:41.979Z"
   },
   {
    "duration": 167,
    "start_time": "2023-08-11T10:51:42.904Z"
   },
   {
    "duration": 6,
    "start_time": "2023-08-11T10:51:43.072Z"
   },
   {
    "duration": 283,
    "start_time": "2023-08-11T10:51:43.080Z"
   },
   {
    "duration": 1138,
    "start_time": "2023-08-11T10:51:43.368Z"
   },
   {
    "duration": 173,
    "start_time": "2023-08-11T10:51:44.508Z"
   },
   {
    "duration": 1187,
    "start_time": "2023-08-11T10:51:44.683Z"
   },
   {
    "duration": 174,
    "start_time": "2023-08-11T10:51:45.872Z"
   },
   {
    "duration": 39,
    "start_time": "2023-08-11T10:51:46.048Z"
   },
   {
    "duration": 22,
    "start_time": "2023-08-11T10:51:46.089Z"
   },
   {
    "duration": 22,
    "start_time": "2023-08-11T10:51:46.113Z"
   },
   {
    "duration": 303,
    "start_time": "2023-08-11T10:51:46.137Z"
   },
   {
    "duration": 266,
    "start_time": "2023-08-11T10:51:46.442Z"
   },
   {
    "duration": 933,
    "start_time": "2023-08-11T10:51:46.710Z"
   },
   {
    "duration": 28,
    "start_time": "2023-08-11T10:51:47.644Z"
   },
   {
    "duration": 16,
    "start_time": "2023-08-11T10:51:47.674Z"
   },
   {
    "duration": 7,
    "start_time": "2023-08-11T10:51:47.691Z"
   },
   {
    "duration": 17,
    "start_time": "2023-08-11T10:51:47.700Z"
   },
   {
    "duration": 7,
    "start_time": "2023-08-11T10:51:47.719Z"
   },
   {
    "duration": 42,
    "start_time": "2023-08-11T10:51:47.727Z"
   },
   {
    "duration": 13,
    "start_time": "2023-08-11T10:51:47.771Z"
   },
   {
    "duration": 211,
    "start_time": "2023-08-11T10:52:18.267Z"
   },
   {
    "duration": 217,
    "start_time": "2023-08-11T10:52:28.563Z"
   },
   {
    "duration": 235,
    "start_time": "2023-08-11T10:52:37.765Z"
   },
   {
    "duration": 356,
    "start_time": "2023-08-11T10:52:43.208Z"
   },
   {
    "duration": 210,
    "start_time": "2023-08-11T10:53:32.851Z"
   },
   {
    "duration": 108,
    "start_time": "2023-08-11T10:53:57.311Z"
   },
   {
    "duration": 219,
    "start_time": "2023-08-11T10:55:30.728Z"
   },
   {
    "duration": 252,
    "start_time": "2023-08-11T10:56:11.409Z"
   },
   {
    "duration": 21,
    "start_time": "2023-08-11T11:17:28.310Z"
   },
   {
    "duration": 29,
    "start_time": "2023-08-11T11:17:42.470Z"
   },
   {
    "duration": 28,
    "start_time": "2023-08-11T11:17:50.580Z"
   },
   {
    "duration": 1257,
    "start_time": "2023-08-11T11:20:06.224Z"
   },
   {
    "duration": 44,
    "start_time": "2023-08-11T11:20:07.483Z"
   },
   {
    "duration": 11,
    "start_time": "2023-08-11T11:20:07.529Z"
   },
   {
    "duration": 12,
    "start_time": "2023-08-11T11:20:07.542Z"
   },
   {
    "duration": 19,
    "start_time": "2023-08-11T11:20:07.556Z"
   },
   {
    "duration": 55,
    "start_time": "2023-08-11T11:20:07.577Z"
   },
   {
    "duration": 13,
    "start_time": "2023-08-11T11:20:07.634Z"
   },
   {
    "duration": 8,
    "start_time": "2023-08-11T11:20:07.649Z"
   },
   {
    "duration": 41,
    "start_time": "2023-08-11T11:20:07.659Z"
   },
   {
    "duration": 20,
    "start_time": "2023-08-11T11:20:07.703Z"
   },
   {
    "duration": 11,
    "start_time": "2023-08-11T11:20:07.724Z"
   },
   {
    "duration": 4,
    "start_time": "2023-08-11T11:20:07.737Z"
   },
   {
    "duration": 8,
    "start_time": "2023-08-11T11:20:07.742Z"
   },
   {
    "duration": 19,
    "start_time": "2023-08-11T11:20:07.751Z"
   },
   {
    "duration": 11,
    "start_time": "2023-08-11T11:20:07.771Z"
   },
   {
    "duration": 24,
    "start_time": "2023-08-11T11:20:07.783Z"
   },
   {
    "duration": 11,
    "start_time": "2023-08-11T11:20:07.809Z"
   },
   {
    "duration": 35,
    "start_time": "2023-08-11T11:20:07.822Z"
   },
   {
    "duration": 45,
    "start_time": "2023-08-11T11:20:07.859Z"
   },
   {
    "duration": 33,
    "start_time": "2023-08-11T11:20:07.906Z"
   },
   {
    "duration": 8,
    "start_time": "2023-08-11T11:20:07.941Z"
   },
   {
    "duration": 237,
    "start_time": "2023-08-11T11:20:07.951Z"
   },
   {
    "duration": 220,
    "start_time": "2023-08-11T11:20:08.190Z"
   },
   {
    "duration": 6,
    "start_time": "2023-08-11T11:20:08.412Z"
   },
   {
    "duration": 178,
    "start_time": "2023-08-11T11:20:08.420Z"
   },
   {
    "duration": 175,
    "start_time": "2023-08-11T11:20:08.600Z"
   },
   {
    "duration": 9,
    "start_time": "2023-08-11T11:20:08.777Z"
   },
   {
    "duration": 9,
    "start_time": "2023-08-11T11:20:08.789Z"
   },
   {
    "duration": 161,
    "start_time": "2023-08-11T11:20:08.800Z"
   },
   {
    "duration": 289,
    "start_time": "2023-08-11T11:20:08.962Z"
   },
   {
    "duration": 358,
    "start_time": "2023-08-11T11:20:09.252Z"
   },
   {
    "duration": 8,
    "start_time": "2023-08-11T11:20:09.612Z"
   },
   {
    "duration": 12,
    "start_time": "2023-08-11T11:20:09.622Z"
   },
   {
    "duration": 11,
    "start_time": "2023-08-11T11:20:09.635Z"
   },
   {
    "duration": 26,
    "start_time": "2023-08-11T11:20:09.647Z"
   },
   {
    "duration": 187,
    "start_time": "2023-08-11T11:20:09.675Z"
   },
   {
    "duration": 884,
    "start_time": "2023-08-11T11:20:09.864Z"
   },
   {
    "duration": 170,
    "start_time": "2023-08-11T11:20:10.750Z"
   },
   {
    "duration": 6,
    "start_time": "2023-08-11T11:20:10.922Z"
   },
   {
    "duration": 110,
    "start_time": "2023-08-11T11:20:10.930Z"
   },
   {
    "duration": 1186,
    "start_time": "2023-08-11T11:20:11.042Z"
   },
   {
    "duration": 171,
    "start_time": "2023-08-11T11:20:12.230Z"
   },
   {
    "duration": 1265,
    "start_time": "2023-08-11T11:20:12.403Z"
   },
   {
    "duration": 199,
    "start_time": "2023-08-11T11:20:13.670Z"
   },
   {
    "duration": 40,
    "start_time": "2023-08-11T11:20:13.871Z"
   },
   {
    "duration": 123,
    "start_time": "2023-08-11T11:20:13.914Z"
   },
   {
    "duration": 49,
    "start_time": "2023-08-11T11:20:14.039Z"
   },
   {
    "duration": 465,
    "start_time": "2023-08-11T11:20:14.092Z"
   },
   {
    "duration": 314,
    "start_time": "2023-08-11T11:20:14.559Z"
   },
   {
    "duration": 1076,
    "start_time": "2023-08-11T11:20:14.875Z"
   },
   {
    "duration": 30,
    "start_time": "2023-08-11T11:20:15.954Z"
   },
   {
    "duration": 39,
    "start_time": "2023-08-11T11:20:15.986Z"
   },
   {
    "duration": 8,
    "start_time": "2023-08-11T11:20:16.027Z"
   },
   {
    "duration": 65,
    "start_time": "2023-08-11T11:20:16.037Z"
   },
   {
    "duration": 7,
    "start_time": "2023-08-11T11:20:16.104Z"
   },
   {
    "duration": 23,
    "start_time": "2023-08-11T11:20:16.112Z"
   },
   {
    "duration": 50,
    "start_time": "2023-08-11T11:20:16.137Z"
   },
   {
    "duration": 5,
    "start_time": "2023-08-11T11:24:03.453Z"
   },
   {
    "duration": 5,
    "start_time": "2023-08-11T11:24:12.685Z"
   },
   {
    "duration": 5,
    "start_time": "2023-08-11T11:24:22.868Z"
   },
   {
    "duration": 14,
    "start_time": "2023-08-11T11:25:37.861Z"
   },
   {
    "duration": 1344,
    "start_time": "2023-08-11T12:20:53.140Z"
   },
   {
    "duration": 42,
    "start_time": "2023-08-11T12:20:54.486Z"
   },
   {
    "duration": 12,
    "start_time": "2023-08-11T12:20:54.530Z"
   },
   {
    "duration": 6,
    "start_time": "2023-08-11T12:20:54.544Z"
   },
   {
    "duration": 5,
    "start_time": "2023-08-11T12:20:54.552Z"
   },
   {
    "duration": 49,
    "start_time": "2023-08-11T12:20:54.559Z"
   },
   {
    "duration": 12,
    "start_time": "2023-08-11T12:20:54.609Z"
   },
   {
    "duration": 20,
    "start_time": "2023-08-11T12:20:54.623Z"
   },
   {
    "duration": 56,
    "start_time": "2023-08-11T12:20:54.645Z"
   },
   {
    "duration": 102,
    "start_time": "2023-08-11T12:20:54.704Z"
   },
   {
    "duration": 80,
    "start_time": "2023-08-11T12:20:54.808Z"
   },
   {
    "duration": 95,
    "start_time": "2023-08-11T12:20:54.890Z"
   },
   {
    "duration": 38,
    "start_time": "2023-08-11T12:20:54.987Z"
   },
   {
    "duration": 28,
    "start_time": "2023-08-11T12:20:55.028Z"
   },
   {
    "duration": 24,
    "start_time": "2023-08-11T12:20:55.058Z"
   },
   {
    "duration": 20,
    "start_time": "2023-08-11T12:20:55.084Z"
   },
   {
    "duration": 7,
    "start_time": "2023-08-11T12:20:55.106Z"
   },
   {
    "duration": 17,
    "start_time": "2023-08-11T12:20:55.114Z"
   },
   {
    "duration": 4,
    "start_time": "2023-08-11T12:20:55.133Z"
   },
   {
    "duration": 16,
    "start_time": "2023-08-11T12:20:55.139Z"
   },
   {
    "duration": 18,
    "start_time": "2023-08-11T12:20:55.156Z"
   },
   {
    "duration": 234,
    "start_time": "2023-08-11T12:20:55.175Z"
   },
   {
    "duration": 215,
    "start_time": "2023-08-11T12:20:55.411Z"
   },
   {
    "duration": 5,
    "start_time": "2023-08-11T12:20:55.628Z"
   },
   {
    "duration": 172,
    "start_time": "2023-08-11T12:20:55.635Z"
   },
   {
    "duration": 189,
    "start_time": "2023-08-11T12:20:55.809Z"
   },
   {
    "duration": 11,
    "start_time": "2023-08-11T12:20:56.000Z"
   },
   {
    "duration": 11,
    "start_time": "2023-08-11T12:20:56.015Z"
   },
   {
    "duration": 148,
    "start_time": "2023-08-11T12:20:56.028Z"
   },
   {
    "duration": 279,
    "start_time": "2023-08-11T12:20:56.178Z"
   },
   {
    "duration": 360,
    "start_time": "2023-08-11T12:20:56.459Z"
   },
   {
    "duration": 9,
    "start_time": "2023-08-11T12:20:56.820Z"
   },
   {
    "duration": 25,
    "start_time": "2023-08-11T12:20:56.830Z"
   },
   {
    "duration": 15,
    "start_time": "2023-08-11T12:20:56.857Z"
   },
   {
    "duration": 15,
    "start_time": "2023-08-11T12:20:56.875Z"
   },
   {
    "duration": 188,
    "start_time": "2023-08-11T12:20:56.892Z"
   },
   {
    "duration": 925,
    "start_time": "2023-08-11T12:20:57.083Z"
   },
   {
    "duration": 166,
    "start_time": "2023-08-11T12:20:58.010Z"
   },
   {
    "duration": 7,
    "start_time": "2023-08-11T12:20:58.178Z"
   },
   {
    "duration": 103,
    "start_time": "2023-08-11T12:20:58.186Z"
   },
   {
    "duration": 1279,
    "start_time": "2023-08-11T12:20:58.291Z"
   },
   {
    "duration": 310,
    "start_time": "2023-08-11T12:20:59.572Z"
   },
   {
    "duration": 2063,
    "start_time": "2023-08-11T12:20:59.884Z"
   },
   {
    "duration": 185,
    "start_time": "2023-08-11T12:21:01.949Z"
   },
   {
    "duration": 94,
    "start_time": "2023-08-11T12:21:02.137Z"
   },
   {
    "duration": 72,
    "start_time": "2023-08-11T12:21:02.233Z"
   },
   {
    "duration": 49,
    "start_time": "2023-08-11T12:21:02.307Z"
   },
   {
    "duration": 387,
    "start_time": "2023-08-11T12:21:02.358Z"
   },
   {
    "duration": 313,
    "start_time": "2023-08-11T12:21:02.747Z"
   },
   {
    "duration": 1180,
    "start_time": "2023-08-11T12:21:03.066Z"
   },
   {
    "duration": 51,
    "start_time": "2023-08-11T12:21:04.248Z"
   },
   {
    "duration": 23,
    "start_time": "2023-08-11T12:21:04.302Z"
   },
   {
    "duration": 7,
    "start_time": "2023-08-11T12:21:04.327Z"
   },
   {
    "duration": 32,
    "start_time": "2023-08-11T12:21:04.336Z"
   },
   {
    "duration": 7,
    "start_time": "2023-08-11T12:21:04.371Z"
   },
   {
    "duration": 7,
    "start_time": "2023-08-11T12:21:04.380Z"
   },
   {
    "duration": 17,
    "start_time": "2023-08-11T12:21:04.390Z"
   },
   {
    "duration": 169,
    "start_time": "2023-08-11T12:28:29.931Z"
   },
   {
    "duration": 7,
    "start_time": "2023-08-11T12:41:47.226Z"
   },
   {
    "duration": 93,
    "start_time": "2023-08-11T12:41:47.236Z"
   },
   {
    "duration": 1275,
    "start_time": "2023-08-11T12:41:47.331Z"
   },
   {
    "duration": 165,
    "start_time": "2023-08-11T12:41:48.608Z"
   },
   {
    "duration": 1125,
    "start_time": "2023-08-11T12:41:48.776Z"
   },
   {
    "duration": 187,
    "start_time": "2023-08-11T12:41:49.903Z"
   },
   {
    "duration": 1222,
    "start_time": "2023-08-11T12:42:19.164Z"
   },
   {
    "duration": 258,
    "start_time": "2023-08-11T12:46:48.584Z"
   },
   {
    "duration": 966,
    "start_time": "2023-08-11T12:47:30.757Z"
   },
   {
    "duration": 7,
    "start_time": "2023-08-11T12:48:28.859Z"
   },
   {
    "duration": 2014,
    "start_time": "2023-08-11T12:54:16.805Z"
   },
   {
    "duration": 1271,
    "start_time": "2023-08-11T12:54:39.975Z"
   },
   {
    "duration": 41,
    "start_time": "2023-08-11T12:54:41.248Z"
   },
   {
    "duration": 12,
    "start_time": "2023-08-11T12:54:41.291Z"
   },
   {
    "duration": 5,
    "start_time": "2023-08-11T12:54:41.305Z"
   },
   {
    "duration": 5,
    "start_time": "2023-08-11T12:54:41.311Z"
   },
   {
    "duration": 39,
    "start_time": "2023-08-11T12:54:41.318Z"
   },
   {
    "duration": 11,
    "start_time": "2023-08-11T12:54:41.359Z"
   },
   {
    "duration": 2,
    "start_time": "2023-08-11T12:54:41.372Z"
   },
   {
    "duration": 25,
    "start_time": "2023-08-11T12:54:41.376Z"
   },
   {
    "duration": 50,
    "start_time": "2023-08-11T12:54:41.403Z"
   },
   {
    "duration": 11,
    "start_time": "2023-08-11T12:54:41.454Z"
   },
   {
    "duration": 20,
    "start_time": "2023-08-11T12:54:41.466Z"
   },
   {
    "duration": 15,
    "start_time": "2023-08-11T12:54:41.488Z"
   },
   {
    "duration": 20,
    "start_time": "2023-08-11T12:54:41.504Z"
   },
   {
    "duration": 10,
    "start_time": "2023-08-11T12:54:41.526Z"
   },
   {
    "duration": 11,
    "start_time": "2023-08-11T12:54:41.537Z"
   },
   {
    "duration": 10,
    "start_time": "2023-08-11T12:54:41.549Z"
   },
   {
    "duration": 7,
    "start_time": "2023-08-11T12:54:41.561Z"
   },
   {
    "duration": 5,
    "start_time": "2023-08-11T12:54:41.569Z"
   },
   {
    "duration": 11,
    "start_time": "2023-08-11T12:54:41.575Z"
   },
   {
    "duration": 190,
    "start_time": "2023-08-11T12:54:41.588Z"
   },
   {
    "duration": 6,
    "start_time": "2023-08-11T12:54:41.781Z"
   },
   {
    "duration": 109,
    "start_time": "2023-08-11T12:54:41.789Z"
   },
   {
    "duration": 1141,
    "start_time": "2023-08-11T12:54:41.900Z"
   },
   {
    "duration": 172,
    "start_time": "2023-08-11T12:54:43.043Z"
   },
   {
    "duration": 1200,
    "start_time": "2023-08-11T12:54:43.217Z"
   },
   {
    "duration": 183,
    "start_time": "2023-08-11T12:54:44.419Z"
   },
   {
    "duration": 7,
    "start_time": "2023-08-11T12:54:44.606Z"
   },
   {
    "duration": 11,
    "start_time": "2023-08-11T12:54:44.615Z"
   },
   {
    "duration": 228,
    "start_time": "2023-08-11T12:54:44.628Z"
   },
   {
    "duration": 221,
    "start_time": "2023-08-11T12:54:44.858Z"
   },
   {
    "duration": 11,
    "start_time": "2023-08-11T12:54:45.081Z"
   },
   {
    "duration": 62,
    "start_time": "2023-08-11T12:54:45.094Z"
   },
   {
    "duration": 124,
    "start_time": "2023-08-11T12:54:45.158Z"
   },
   {
    "duration": 285,
    "start_time": "2023-08-11T12:54:45.284Z"
   },
   {
    "duration": 8,
    "start_time": "2023-08-11T12:54:45.571Z"
   },
   {
    "duration": 15,
    "start_time": "2023-08-11T12:54:45.580Z"
   },
   {
    "duration": 7,
    "start_time": "2023-08-11T12:54:45.597Z"
   },
   {
    "duration": 25,
    "start_time": "2023-08-11T12:54:45.606Z"
   },
   {
    "duration": 184,
    "start_time": "2023-08-11T12:54:45.633Z"
   },
   {
    "duration": 1007,
    "start_time": "2023-08-11T12:54:45.819Z"
   },
   {
    "duration": 182,
    "start_time": "2023-08-11T12:54:46.828Z"
   },
   {
    "duration": 32,
    "start_time": "2023-08-11T12:54:47.012Z"
   },
   {
    "duration": 33,
    "start_time": "2023-08-11T12:54:47.045Z"
   },
   {
    "duration": 21,
    "start_time": "2023-08-11T12:54:47.080Z"
   },
   {
    "duration": 302,
    "start_time": "2023-08-11T12:54:47.102Z"
   },
   {
    "duration": 271,
    "start_time": "2023-08-11T12:54:47.406Z"
   },
   {
    "duration": 925,
    "start_time": "2023-08-11T12:54:47.679Z"
   },
   {
    "duration": 21,
    "start_time": "2023-08-11T12:54:48.606Z"
   },
   {
    "duration": 30,
    "start_time": "2023-08-11T12:54:48.629Z"
   },
   {
    "duration": 9,
    "start_time": "2023-08-11T12:54:48.660Z"
   },
   {
    "duration": 30,
    "start_time": "2023-08-11T12:54:48.671Z"
   },
   {
    "duration": 5,
    "start_time": "2023-08-11T12:54:48.703Z"
   },
   {
    "duration": 15,
    "start_time": "2023-08-11T12:54:48.710Z"
   },
   {
    "duration": 22,
    "start_time": "2023-08-11T12:54:48.726Z"
   },
   {
    "duration": 237,
    "start_time": "2023-08-11T13:13:07.510Z"
   },
   {
    "duration": 216,
    "start_time": "2023-08-11T13:13:42.109Z"
   },
   {
    "duration": 11,
    "start_time": "2023-08-11T13:13:52.664Z"
   },
   {
    "duration": 48,
    "start_time": "2023-08-12T10:23:31.997Z"
   },
   {
    "duration": 1468,
    "start_time": "2023-08-12T10:23:40.375Z"
   },
   {
    "duration": 104,
    "start_time": "2023-08-12T10:23:41.845Z"
   },
   {
    "duration": 22,
    "start_time": "2023-08-12T10:23:41.950Z"
   },
   {
    "duration": 3,
    "start_time": "2023-08-12T10:23:41.975Z"
   },
   {
    "duration": 29,
    "start_time": "2023-08-12T10:23:41.979Z"
   },
   {
    "duration": 187,
    "start_time": "2023-08-12T10:23:42.010Z"
   },
   {
    "duration": 13,
    "start_time": "2023-08-12T10:23:42.198Z"
   },
   {
    "duration": 124,
    "start_time": "2023-08-12T10:23:42.214Z"
   },
   {
    "duration": 54,
    "start_time": "2023-08-12T10:23:42.340Z"
   },
   {
    "duration": 66,
    "start_time": "2023-08-12T10:23:42.397Z"
   },
   {
    "duration": 13,
    "start_time": "2023-08-12T10:23:42.466Z"
   },
   {
    "duration": 11,
    "start_time": "2023-08-12T10:23:42.482Z"
   },
   {
    "duration": 25,
    "start_time": "2023-08-12T10:23:42.494Z"
   },
   {
    "duration": 43,
    "start_time": "2023-08-12T10:23:42.521Z"
   },
   {
    "duration": 12,
    "start_time": "2023-08-12T10:23:42.569Z"
   },
   {
    "duration": 9,
    "start_time": "2023-08-12T10:23:42.582Z"
   },
   {
    "duration": 6,
    "start_time": "2023-08-12T10:23:42.593Z"
   },
   {
    "duration": 13,
    "start_time": "2023-08-12T10:23:42.600Z"
   },
   {
    "duration": 4,
    "start_time": "2023-08-12T10:23:42.615Z"
   },
   {
    "duration": 10,
    "start_time": "2023-08-12T10:23:42.621Z"
   },
   {
    "duration": 199,
    "start_time": "2023-08-12T10:23:42.632Z"
   },
   {
    "duration": 6,
    "start_time": "2023-08-12T10:23:42.833Z"
   },
   {
    "duration": 100,
    "start_time": "2023-08-12T10:23:42.840Z"
   },
   {
    "duration": 1164,
    "start_time": "2023-08-12T10:23:42.942Z"
   },
   {
    "duration": 211,
    "start_time": "2023-08-12T10:23:44.109Z"
   },
   {
    "duration": 1298,
    "start_time": "2023-08-12T10:23:44.322Z"
   },
   {
    "duration": 207,
    "start_time": "2023-08-12T10:23:45.621Z"
   },
   {
    "duration": 6,
    "start_time": "2023-08-12T10:23:45.832Z"
   },
   {
    "duration": 37,
    "start_time": "2023-08-12T10:23:45.839Z"
   },
   {
    "duration": 213,
    "start_time": "2023-08-12T10:23:45.878Z"
   },
   {
    "duration": 211,
    "start_time": "2023-08-12T10:23:46.093Z"
   },
   {
    "duration": 9,
    "start_time": "2023-08-12T10:23:46.306Z"
   },
   {
    "duration": 7,
    "start_time": "2023-08-12T10:23:46.317Z"
   },
   {
    "duration": 157,
    "start_time": "2023-08-12T10:23:46.325Z"
   },
   {
    "duration": 303,
    "start_time": "2023-08-12T10:23:46.484Z"
   },
   {
    "duration": 8,
    "start_time": "2023-08-12T10:23:46.789Z"
   },
   {
    "duration": 14,
    "start_time": "2023-08-12T10:23:46.798Z"
   },
   {
    "duration": 40,
    "start_time": "2023-08-12T10:23:46.814Z"
   },
   {
    "duration": 19,
    "start_time": "2023-08-12T10:23:46.856Z"
   },
   {
    "duration": 171,
    "start_time": "2023-08-12T10:23:46.877Z"
   },
   {
    "duration": 996,
    "start_time": "2023-08-12T10:23:47.050Z"
   },
   {
    "duration": 179,
    "start_time": "2023-08-12T10:23:48.048Z"
   },
   {
    "duration": 46,
    "start_time": "2023-08-12T10:23:48.229Z"
   },
   {
    "duration": 22,
    "start_time": "2023-08-12T10:23:48.277Z"
   },
   {
    "duration": 20,
    "start_time": "2023-08-12T10:23:48.301Z"
   },
   {
    "duration": 297,
    "start_time": "2023-08-12T10:23:48.323Z"
   },
   {
    "duration": 265,
    "start_time": "2023-08-12T10:23:48.622Z"
   },
   {
    "duration": 942,
    "start_time": "2023-08-12T10:23:48.889Z"
   },
   {
    "duration": 43,
    "start_time": "2023-08-12T10:23:49.833Z"
   },
   {
    "duration": 17,
    "start_time": "2023-08-12T10:23:49.878Z"
   },
   {
    "duration": 7,
    "start_time": "2023-08-12T10:23:49.897Z"
   },
   {
    "duration": 16,
    "start_time": "2023-08-12T10:23:49.906Z"
   },
   {
    "duration": 7,
    "start_time": "2023-08-12T10:23:49.924Z"
   },
   {
    "duration": 10,
    "start_time": "2023-08-12T10:23:49.964Z"
   },
   {
    "duration": 22,
    "start_time": "2023-08-12T10:23:49.976Z"
   }
  ],
  "kernelspec": {
   "display_name": "Python 3 (ipykernel)",
   "language": "python",
   "name": "python3"
  },
  "language_info": {
   "codemirror_mode": {
    "name": "ipython",
    "version": 3
   },
   "file_extension": ".py",
   "mimetype": "text/x-python",
   "name": "python",
   "nbconvert_exporter": "python",
   "pygments_lexer": "ipython3",
   "version": "3.9.5"
  },
  "toc": {
   "base_numbering": 1,
   "nav_menu": {},
   "number_sections": true,
   "sideBar": true,
   "skip_h1_title": true,
   "title_cell": "Table of Contents",
   "title_sidebar": "Contents",
   "toc_cell": false,
   "toc_position": {},
   "toc_section_display": true,
   "toc_window_display": true
  }
 },
 "nbformat": 4,
 "nbformat_minor": 5
}
